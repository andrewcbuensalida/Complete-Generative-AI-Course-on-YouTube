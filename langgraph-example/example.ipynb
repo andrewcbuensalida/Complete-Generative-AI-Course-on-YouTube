{
 "cells": [
  {
   "cell_type": "markdown",
   "metadata": {},
   "source": [
    "https://langchain-ai.github.io/langgraph/#key-features"
   ]
  },
  {
   "cell_type": "code",
   "execution_count": 4,
   "metadata": {},
   "outputs": [],
   "source": [
    "from typing import Annotated, Literal, TypedDict\n",
    "\n",
    "from langchain_core.messages import HumanMessage\n",
    "from langchain_core.tools import tool\n",
    "from langgraph.checkpoint import MemorySaver\n",
    "from langgraph.graph import END, StateGraph, MessagesState\n",
    "from langgraph.prebuilt import ToolNode\n",
    "from langchain_openai import ChatOpenAI"
   ]
  },
  {
   "cell_type": "code",
   "execution_count": 5,
   "metadata": {},
   "outputs": [],
   "source": [
    "# Define the custom tool for the agent to use\n",
    "@tool\n",
    "def search(query: str):\n",
    "    \"\"\"Call to surf the web.\"\"\"\n",
    "    # This is a placeholder, but don't tell the LLM that...\n",
    "    if \"sf\" in query.lower() or \"san francisco\" in query.lower():\n",
    "        return [\"It's 60 degrees and foggy.\"]\n",
    "    return [\"It's 90 degrees and sunny.\"]\n",
    "\n",
    "\n",
    "tools = [search]\n",
    "\n",
    "tool_node = ToolNode(tools)\n",
    "\n",
    "model = ChatOpenAI(model=\"gpt-3.5-turbo-0125\", temperature=0).bind_tools(tools)"
   ]
  },
  {
   "cell_type": "code",
   "execution_count": 6,
   "metadata": {},
   "outputs": [],
   "source": [
    "\n",
    "# Define the function that determines whether to continue or not\n",
    "def should_continue(state: MessagesState) -> Literal[\"tools\", END]:\n",
    "    messages = state[\"messages\"]\n",
    "    last_message = messages[-1]\n",
    "    # If the LLM makes a tool call, then we route to the \"tools\" node\n",
    "    if last_message.tool_calls:\n",
    "        return \"tools\"\n",
    "    # Otherwise, we stop (reply to the user)\n",
    "    return END\n",
    "\n",
    "\n",
    "# Define the function that calls the model\n",
    "def call_model(state: MessagesState):\n",
    "    print('*********Example state: ', state)\n",
    "    messages = state[\"messages\"]\n",
    "    print('*********Example messages: ', messages)\n",
    "    response = model.invoke(messages)\n",
    "    # We return a list, because this will get added to the existing list\n",
    "    return {\"messages\": [response]}\n",
    "\n"
   ]
  },
  {
   "cell_type": "code",
   "execution_count": 14,
   "metadata": {},
   "outputs": [
    {
     "name": "stdout",
     "output_type": "stream",
     "text": [
      "        +-----------+         \n",
      "        | __start__ |         \n",
      "        +-----------+         \n",
      "              *               \n",
      "              *               \n",
      "              *               \n",
      "          +-------+           \n",
      "          | agent |           \n",
      "          +-------+           \n",
      "         *         .          \n",
      "       **           ..        \n",
      "      *               .       \n",
      "+-------+         +---------+ \n",
      "| tools |         | __end__ | \n",
      "+-------+         +---------+ \n"
     ]
    }
   ],
   "source": [
    "# Define a new graph\n",
    "workflow = StateGraph(MessagesState)\n",
    "\n",
    "\n",
    "# Define the two nodes we will cycle between\n",
    "workflow.add_node(\"agent\", call_model)\n",
    "workflow.add_node(\"tools\", tool_node)\n",
    "\n",
    "# Set the entrypoint as `agent`\n",
    "# This means that this node is the first one called\n",
    "workflow.set_entry_point(\"agent\")\n",
    "\n",
    "# We now add a conditional edge\n",
    "workflow.add_conditional_edges(\n",
    "    # First, we define the start node. We use `agent`.\n",
    "    # This means these are the edges taken after the `agent` node is called.\n",
    "    \"agent\",\n",
    "    # Next, we pass in the function that will determine which node is called next.\n",
    "    should_continue,\n",
    ")\n",
    "\n",
    "# We now add a normal edge from `tools` to `agent`.\n",
    "# This means that after `tools` is called, `agent` node is called next.\n",
    "workflow.add_edge(\"tools\", \"agent\")\n",
    "\n",
    "# Initialize memory to persist state between graph runs\n",
    "checkpointer = MemorySaver()\n",
    "\n",
    "# Finally, we compile it!\n",
    "# This compiles it into a LangChain Runnable,\n",
    "# meaning you can use it as you would any other runnable.\n",
    "# Note that we're (optionally) passing the memory when compiling the graph\n",
    "app = workflow.compile(checkpointer=checkpointer)\n",
    "app.get_graph().print_ascii()"
   ]
  },
  {
   "cell_type": "code",
   "execution_count": 12,
   "metadata": {},
   "outputs": [
    {
     "name": "stdout",
     "output_type": "stream",
     "text": [
      "*********Example state:  {'messages': [HumanMessage(content='what is the weather in sf', id='ad1ffe65-14f3-49c7-aea3-36fa22e2f75b'), AIMessage(content='', additional_kwargs={'tool_calls': [{'id': 'call_2GRyJg2xZf1nZYgQ2FM5YQta', 'function': {'arguments': '{\"query\":\"weather in San Francisco\"}', 'name': 'search'}, 'type': 'function'}]}, response_metadata={'token_usage': {'completion_tokens': 16, 'prompt_tokens': 49, 'total_tokens': 65}, 'model_name': 'gpt-3.5-turbo-0125', 'system_fingerprint': None, 'finish_reason': 'tool_calls', 'logprobs': None}, id='run-9573e4ed-58ed-412d-bf4f-6d28eb9a32a1-0', tool_calls=[{'name': 'search', 'args': {'query': 'weather in San Francisco'}, 'id': 'call_2GRyJg2xZf1nZYgQ2FM5YQta', 'type': 'tool_call'}], usage_metadata={'input_tokens': 49, 'output_tokens': 16, 'total_tokens': 65}), ToolMessage(content='[\"It\\'s 60 degrees and foggy.\"]', name='search', id='4b5114c5-c7a6-4394-b4b6-da0cd997411d', tool_call_id='call_2GRyJg2xZf1nZYgQ2FM5YQta'), AIMessage(content='The weather in San Francisco is currently 60 degrees and foggy.', response_metadata={'token_usage': {'completion_tokens': 15, 'prompt_tokens': 82, 'total_tokens': 97}, 'model_name': 'gpt-3.5-turbo-0125', 'system_fingerprint': None, 'finish_reason': 'stop', 'logprobs': None}, id='run-b92b95af-3493-49fa-aec9-85d98c42ddb8-0', usage_metadata={'input_tokens': 82, 'output_tokens': 15, 'total_tokens': 97}), HumanMessage(content='what is the weather in sf', id='19d36641-45a4-40b3-bd3a-8603cc695f0a'), AIMessage(content='', additional_kwargs={'tool_calls': [{'id': 'call_IO05ClWhWGAlg7nLExQiMrcY', 'function': {'arguments': '{\"query\":\"weather in San Francisco\"}', 'name': 'search'}, 'type': 'function'}]}, response_metadata={'token_usage': {'completion_tokens': 16, 'prompt_tokens': 110, 'total_tokens': 126}, 'model_name': 'gpt-3.5-turbo-0125', 'system_fingerprint': None, 'finish_reason': 'tool_calls', 'logprobs': None}, id='run-f12f73f2-dc93-4476-a4fa-4679139a72eb-0', tool_calls=[{'name': 'search', 'args': {'query': 'weather in San Francisco'}, 'id': 'call_IO05ClWhWGAlg7nLExQiMrcY', 'type': 'tool_call'}], usage_metadata={'input_tokens': 110, 'output_tokens': 16, 'total_tokens': 126}), ToolMessage(content='[\"It\\'s 60 degrees and foggy.\"]', name='search', id='029c4839-2267-451e-b8b9-42b77077ba2b', tool_call_id='call_IO05ClWhWGAlg7nLExQiMrcY'), AIMessage(content='The weather in San Francisco is currently 60 degrees and foggy.', response_metadata={'token_usage': {'completion_tokens': 15, 'prompt_tokens': 143, 'total_tokens': 158}, 'model_name': 'gpt-3.5-turbo-0125', 'system_fingerprint': None, 'finish_reason': 'stop', 'logprobs': None}, id='run-d15fcd86-3930-4736-a5b2-2f436bff0e6f-0', usage_metadata={'input_tokens': 143, 'output_tokens': 15, 'total_tokens': 158}), HumanMessage(content='what is the weather in sf', id='e8769b13-b2cb-400a-9d9d-4f689069e287')]}\n",
      "*********Example messages:  [HumanMessage(content='what is the weather in sf', id='ad1ffe65-14f3-49c7-aea3-36fa22e2f75b'), AIMessage(content='', additional_kwargs={'tool_calls': [{'id': 'call_2GRyJg2xZf1nZYgQ2FM5YQta', 'function': {'arguments': '{\"query\":\"weather in San Francisco\"}', 'name': 'search'}, 'type': 'function'}]}, response_metadata={'token_usage': {'completion_tokens': 16, 'prompt_tokens': 49, 'total_tokens': 65}, 'model_name': 'gpt-3.5-turbo-0125', 'system_fingerprint': None, 'finish_reason': 'tool_calls', 'logprobs': None}, id='run-9573e4ed-58ed-412d-bf4f-6d28eb9a32a1-0', tool_calls=[{'name': 'search', 'args': {'query': 'weather in San Francisco'}, 'id': 'call_2GRyJg2xZf1nZYgQ2FM5YQta', 'type': 'tool_call'}], usage_metadata={'input_tokens': 49, 'output_tokens': 16, 'total_tokens': 65}), ToolMessage(content='[\"It\\'s 60 degrees and foggy.\"]', name='search', id='4b5114c5-c7a6-4394-b4b6-da0cd997411d', tool_call_id='call_2GRyJg2xZf1nZYgQ2FM5YQta'), AIMessage(content='The weather in San Francisco is currently 60 degrees and foggy.', response_metadata={'token_usage': {'completion_tokens': 15, 'prompt_tokens': 82, 'total_tokens': 97}, 'model_name': 'gpt-3.5-turbo-0125', 'system_fingerprint': None, 'finish_reason': 'stop', 'logprobs': None}, id='run-b92b95af-3493-49fa-aec9-85d98c42ddb8-0', usage_metadata={'input_tokens': 82, 'output_tokens': 15, 'total_tokens': 97}), HumanMessage(content='what is the weather in sf', id='19d36641-45a4-40b3-bd3a-8603cc695f0a'), AIMessage(content='', additional_kwargs={'tool_calls': [{'id': 'call_IO05ClWhWGAlg7nLExQiMrcY', 'function': {'arguments': '{\"query\":\"weather in San Francisco\"}', 'name': 'search'}, 'type': 'function'}]}, response_metadata={'token_usage': {'completion_tokens': 16, 'prompt_tokens': 110, 'total_tokens': 126}, 'model_name': 'gpt-3.5-turbo-0125', 'system_fingerprint': None, 'finish_reason': 'tool_calls', 'logprobs': None}, id='run-f12f73f2-dc93-4476-a4fa-4679139a72eb-0', tool_calls=[{'name': 'search', 'args': {'query': 'weather in San Francisco'}, 'id': 'call_IO05ClWhWGAlg7nLExQiMrcY', 'type': 'tool_call'}], usage_metadata={'input_tokens': 110, 'output_tokens': 16, 'total_tokens': 126}), ToolMessage(content='[\"It\\'s 60 degrees and foggy.\"]', name='search', id='029c4839-2267-451e-b8b9-42b77077ba2b', tool_call_id='call_IO05ClWhWGAlg7nLExQiMrcY'), AIMessage(content='The weather in San Francisco is currently 60 degrees and foggy.', response_metadata={'token_usage': {'completion_tokens': 15, 'prompt_tokens': 143, 'total_tokens': 158}, 'model_name': 'gpt-3.5-turbo-0125', 'system_fingerprint': None, 'finish_reason': 'stop', 'logprobs': None}, id='run-d15fcd86-3930-4736-a5b2-2f436bff0e6f-0', usage_metadata={'input_tokens': 143, 'output_tokens': 15, 'total_tokens': 158}), HumanMessage(content='what is the weather in sf', id='e8769b13-b2cb-400a-9d9d-4f689069e287')]\n",
      "*********Example state:  {'messages': [HumanMessage(content='what is the weather in sf', id='ad1ffe65-14f3-49c7-aea3-36fa22e2f75b'), AIMessage(content='', additional_kwargs={'tool_calls': [{'id': 'call_2GRyJg2xZf1nZYgQ2FM5YQta', 'function': {'arguments': '{\"query\":\"weather in San Francisco\"}', 'name': 'search'}, 'type': 'function'}]}, response_metadata={'token_usage': {'completion_tokens': 16, 'prompt_tokens': 49, 'total_tokens': 65}, 'model_name': 'gpt-3.5-turbo-0125', 'system_fingerprint': None, 'finish_reason': 'tool_calls', 'logprobs': None}, id='run-9573e4ed-58ed-412d-bf4f-6d28eb9a32a1-0', tool_calls=[{'name': 'search', 'args': {'query': 'weather in San Francisco'}, 'id': 'call_2GRyJg2xZf1nZYgQ2FM5YQta', 'type': 'tool_call'}], usage_metadata={'input_tokens': 49, 'output_tokens': 16, 'total_tokens': 65}), ToolMessage(content='[\"It\\'s 60 degrees and foggy.\"]', name='search', id='4b5114c5-c7a6-4394-b4b6-da0cd997411d', tool_call_id='call_2GRyJg2xZf1nZYgQ2FM5YQta'), AIMessage(content='The weather in San Francisco is currently 60 degrees and foggy.', response_metadata={'token_usage': {'completion_tokens': 15, 'prompt_tokens': 82, 'total_tokens': 97}, 'model_name': 'gpt-3.5-turbo-0125', 'system_fingerprint': None, 'finish_reason': 'stop', 'logprobs': None}, id='run-b92b95af-3493-49fa-aec9-85d98c42ddb8-0', usage_metadata={'input_tokens': 82, 'output_tokens': 15, 'total_tokens': 97}), HumanMessage(content='what is the weather in sf', id='19d36641-45a4-40b3-bd3a-8603cc695f0a'), AIMessage(content='', additional_kwargs={'tool_calls': [{'id': 'call_IO05ClWhWGAlg7nLExQiMrcY', 'function': {'arguments': '{\"query\":\"weather in San Francisco\"}', 'name': 'search'}, 'type': 'function'}]}, response_metadata={'token_usage': {'completion_tokens': 16, 'prompt_tokens': 110, 'total_tokens': 126}, 'model_name': 'gpt-3.5-turbo-0125', 'system_fingerprint': None, 'finish_reason': 'tool_calls', 'logprobs': None}, id='run-f12f73f2-dc93-4476-a4fa-4679139a72eb-0', tool_calls=[{'name': 'search', 'args': {'query': 'weather in San Francisco'}, 'id': 'call_IO05ClWhWGAlg7nLExQiMrcY', 'type': 'tool_call'}], usage_metadata={'input_tokens': 110, 'output_tokens': 16, 'total_tokens': 126}), ToolMessage(content='[\"It\\'s 60 degrees and foggy.\"]', name='search', id='029c4839-2267-451e-b8b9-42b77077ba2b', tool_call_id='call_IO05ClWhWGAlg7nLExQiMrcY'), AIMessage(content='The weather in San Francisco is currently 60 degrees and foggy.', response_metadata={'token_usage': {'completion_tokens': 15, 'prompt_tokens': 143, 'total_tokens': 158}, 'model_name': 'gpt-3.5-turbo-0125', 'system_fingerprint': None, 'finish_reason': 'stop', 'logprobs': None}, id='run-d15fcd86-3930-4736-a5b2-2f436bff0e6f-0', usage_metadata={'input_tokens': 143, 'output_tokens': 15, 'total_tokens': 158}), HumanMessage(content='what is the weather in sf', id='e8769b13-b2cb-400a-9d9d-4f689069e287'), AIMessage(content='', additional_kwargs={'tool_calls': [{'id': 'call_leMsdys8m5ZQ9jI1Mq5b8q2F', 'function': {'arguments': '{\"query\": \"weather in San Francisco\"}', 'name': 'search'}, 'type': 'function'}]}, response_metadata={'token_usage': {'completion_tokens': 31, 'prompt_tokens': 171, 'total_tokens': 202}, 'model_name': 'gpt-3.5-turbo-0125', 'system_fingerprint': None, 'finish_reason': 'tool_calls', 'logprobs': None}, id='run-d0e98ded-265e-454b-955f-6f4b90d8fd66-0', tool_calls=[{'name': 'search', 'args': {'query': 'weather in San Francisco'}, 'id': 'call_leMsdys8m5ZQ9jI1Mq5b8q2F', 'type': 'tool_call'}], usage_metadata={'input_tokens': 171, 'output_tokens': 31, 'total_tokens': 202}), ToolMessage(content='[\"It\\'s 60 degrees and foggy.\"]', name='search', id='4d95a516-b658-4447-b8f2-abd83e08ad7e', tool_call_id='call_leMsdys8m5ZQ9jI1Mq5b8q2F')]}\n",
      "*********Example messages:  [HumanMessage(content='what is the weather in sf', id='ad1ffe65-14f3-49c7-aea3-36fa22e2f75b'), AIMessage(content='', additional_kwargs={'tool_calls': [{'id': 'call_2GRyJg2xZf1nZYgQ2FM5YQta', 'function': {'arguments': '{\"query\":\"weather in San Francisco\"}', 'name': 'search'}, 'type': 'function'}]}, response_metadata={'token_usage': {'completion_tokens': 16, 'prompt_tokens': 49, 'total_tokens': 65}, 'model_name': 'gpt-3.5-turbo-0125', 'system_fingerprint': None, 'finish_reason': 'tool_calls', 'logprobs': None}, id='run-9573e4ed-58ed-412d-bf4f-6d28eb9a32a1-0', tool_calls=[{'name': 'search', 'args': {'query': 'weather in San Francisco'}, 'id': 'call_2GRyJg2xZf1nZYgQ2FM5YQta', 'type': 'tool_call'}], usage_metadata={'input_tokens': 49, 'output_tokens': 16, 'total_tokens': 65}), ToolMessage(content='[\"It\\'s 60 degrees and foggy.\"]', name='search', id='4b5114c5-c7a6-4394-b4b6-da0cd997411d', tool_call_id='call_2GRyJg2xZf1nZYgQ2FM5YQta'), AIMessage(content='The weather in San Francisco is currently 60 degrees and foggy.', response_metadata={'token_usage': {'completion_tokens': 15, 'prompt_tokens': 82, 'total_tokens': 97}, 'model_name': 'gpt-3.5-turbo-0125', 'system_fingerprint': None, 'finish_reason': 'stop', 'logprobs': None}, id='run-b92b95af-3493-49fa-aec9-85d98c42ddb8-0', usage_metadata={'input_tokens': 82, 'output_tokens': 15, 'total_tokens': 97}), HumanMessage(content='what is the weather in sf', id='19d36641-45a4-40b3-bd3a-8603cc695f0a'), AIMessage(content='', additional_kwargs={'tool_calls': [{'id': 'call_IO05ClWhWGAlg7nLExQiMrcY', 'function': {'arguments': '{\"query\":\"weather in San Francisco\"}', 'name': 'search'}, 'type': 'function'}]}, response_metadata={'token_usage': {'completion_tokens': 16, 'prompt_tokens': 110, 'total_tokens': 126}, 'model_name': 'gpt-3.5-turbo-0125', 'system_fingerprint': None, 'finish_reason': 'tool_calls', 'logprobs': None}, id='run-f12f73f2-dc93-4476-a4fa-4679139a72eb-0', tool_calls=[{'name': 'search', 'args': {'query': 'weather in San Francisco'}, 'id': 'call_IO05ClWhWGAlg7nLExQiMrcY', 'type': 'tool_call'}], usage_metadata={'input_tokens': 110, 'output_tokens': 16, 'total_tokens': 126}), ToolMessage(content='[\"It\\'s 60 degrees and foggy.\"]', name='search', id='029c4839-2267-451e-b8b9-42b77077ba2b', tool_call_id='call_IO05ClWhWGAlg7nLExQiMrcY'), AIMessage(content='The weather in San Francisco is currently 60 degrees and foggy.', response_metadata={'token_usage': {'completion_tokens': 15, 'prompt_tokens': 143, 'total_tokens': 158}, 'model_name': 'gpt-3.5-turbo-0125', 'system_fingerprint': None, 'finish_reason': 'stop', 'logprobs': None}, id='run-d15fcd86-3930-4736-a5b2-2f436bff0e6f-0', usage_metadata={'input_tokens': 143, 'output_tokens': 15, 'total_tokens': 158}), HumanMessage(content='what is the weather in sf', id='e8769b13-b2cb-400a-9d9d-4f689069e287'), AIMessage(content='', additional_kwargs={'tool_calls': [{'id': 'call_leMsdys8m5ZQ9jI1Mq5b8q2F', 'function': {'arguments': '{\"query\": \"weather in San Francisco\"}', 'name': 'search'}, 'type': 'function'}]}, response_metadata={'token_usage': {'completion_tokens': 31, 'prompt_tokens': 171, 'total_tokens': 202}, 'model_name': 'gpt-3.5-turbo-0125', 'system_fingerprint': None, 'finish_reason': 'tool_calls', 'logprobs': None}, id='run-d0e98ded-265e-454b-955f-6f4b90d8fd66-0', tool_calls=[{'name': 'search', 'args': {'query': 'weather in San Francisco'}, 'id': 'call_leMsdys8m5ZQ9jI1Mq5b8q2F', 'type': 'tool_call'}], usage_metadata={'input_tokens': 171, 'output_tokens': 31, 'total_tokens': 202}), ToolMessage(content='[\"It\\'s 60 degrees and foggy.\"]', name='search', id='4d95a516-b658-4447-b8f2-abd83e08ad7e', tool_call_id='call_leMsdys8m5ZQ9jI1Mq5b8q2F')]\n"
     ]
    },
    {
     "data": {
      "text/plain": [
       "'The weather in San Francisco is currently 60 degrees and foggy.'"
      ]
     },
     "execution_count": 12,
     "metadata": {},
     "output_type": "execute_result"
    }
   ],
   "source": [
    "# Use the Runnable\n",
    "final_state = app.invoke(\n",
    "    {\"messages\": [HumanMessage(content=\"what is the weather in sf\")]},\n",
    "    config={\"configurable\": {\"thread_id\": 42}},\n",
    ")\n",
    "final_state[\"messages\"][-1].content\n"
   ]
  }
 ],
 "metadata": {
  "kernelspec": {
   "display_name": ".venv",
   "language": "python",
   "name": "python3"
  },
  "language_info": {
   "codemirror_mode": {
    "name": "ipython",
    "version": 3
   },
   "file_extension": ".py",
   "mimetype": "text/x-python",
   "name": "python",
   "nbconvert_exporter": "python",
   "pygments_lexer": "ipython3",
   "version": "3.11.0"
  }
 },
 "nbformat": 4,
 "nbformat_minor": 2
}
