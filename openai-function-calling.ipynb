{
 "cells": [
  {
   "cell_type": "markdown",
   "metadata": {},
   "source": [
    "## Function (aka Tool) that LLM can decide to use"
   ]
  },
  {
   "cell_type": "code",
   "execution_count": 37,
   "metadata": {},
   "outputs": [],
   "source": [
    "# This is the function that we want the model to be able to call\n",
    "import datetime\n",
    "\n",
    "def get_delivery_date(order_id: str) -> datetime:\n",
    "    print(\"get_delivery_date function called with order_id: \", order_id)\n",
    "    return datetime.datetime.strptime(\"2023-12-31\", \"%Y-%m-%d\")"
   ]
  },
  {
   "cell_type": "markdown",
   "metadata": {},
   "source": [
    "## Defining LLM and tools and chat history"
   ]
  },
  {
   "cell_type": "code",
   "execution_count": 38,
   "metadata": {},
   "outputs": [],
   "source": [
    "import openai\n",
    "client = openai.Client()\n",
    "tools = [\n",
    "    {\n",
    "        \"type\": \"function\",\n",
    "        \"function\": {\n",
    "            \"name\": \"get_delivery_date\",\n",
    "            \"description\": \"Get the delivery date for a customer's order. Call this whenever you need to know the delivery date, for example when a customer asks 'Where is my package'\",\n",
    "            \"parameters\": {\n",
    "                \"type\": \"object\",\n",
    "                \"properties\": {\n",
    "                    \"order_id\": {\n",
    "                        \"type\": \"string\",\n",
    "                        \"description\": \"The customer's order ID.\",\n",
    "                    }\n",
    "                },\n",
    "                \"required\": [\"order_id\"],\n",
    "                \"additionalProperties\": False,\n",
    "            },\n",
    "        },\n",
    "    }\n",
    "]\n",
    "\n",
    "messages = []\n",
    "messages.append({\"role\": \"system\", \"content\": \"You are a helpful customer support assistant. Use the supplied tools to assist the user.\"})\n",
    "messages.append({\"role\": \"user\", \"content\": \"Hi, can you tell me the delivery date for my order?\"})\n",
    "messages.append({\"role\": \"assistant\", \"content\": \"Hi there! I can help with that. Can you please provide your order ID?\"})\n",
    "messages.append({\"role\": \"user\", \"content\": \"i think it is order_12345\"})\n"
   ]
  },
  {
   "cell_type": "markdown",
   "metadata": {},
   "source": [
    "## Querying the LLM given the chat history and tools"
   ]
  },
  {
   "cell_type": "code",
   "execution_count": 39,
   "metadata": {},
   "outputs": [
    {
     "data": {
      "text/plain": [
       "ChatCompletion(id='chatcmpl-AB4b0hiSepMtTGarEAgun3sUPuUiB', choices=[Choice(finish_reason='tool_calls', index=0, logprobs=None, message=ChatCompletionMessage(content=None, refusal=None, role='assistant', function_call=None, tool_calls=[ChatCompletionMessageToolCall(id='call_kxEN0rC3Sasw7EcxodtT80Gt', function=Function(arguments='{\"order_id\":\"order_12345\"}', name='get_delivery_date'), type='function')]))], created=1727202638, model='gpt-4o-2024-05-13', object='chat.completion', service_tier=None, system_fingerprint='fp_e375328146', usage=CompletionUsage(completion_tokens=19, prompt_tokens=140, total_tokens=159, completion_tokens_details=CompletionTokensDetails(reasoning_tokens=0)))"
      ]
     },
     "execution_count": 39,
     "metadata": {},
     "output_type": "execute_result"
    }
   ],
   "source": [
    "response = client.chat.completions.create(\n",
    "    model=\"gpt-4o\", messages=messages, tools=tools\n",
    ")\n",
    "response"
   ]
  },
  {
   "cell_type": "markdown",
   "metadata": {},
   "source": [
    "If the model decided that a function should be called, response.choices[0] should be like:\n",
    "\n",
    "```python\n",
    "Choice(\n",
    "    finish_reason='tool_calls', \n",
    "    index=0, \n",
    "    logprobs=None, \n",
    "    message=chat.completionsMessage(\n",
    "        content=None, \n",
    "        role='assistant', \n",
    "        function_call=None, \n",
    "        tool_calls=[\n",
    "            chat.completionsMessageToolCall(\n",
    "                id='call_62136354', \n",
    "                function=Function(\n",
    "                    arguments='{\"order_id\":\"order_12345\"}', \n",
    "                    name='get_delivery_date'), \n",
    "                type='function')\n",
    "        ])\n",
    ")\n",
    "```"
   ]
  },
  {
   "cell_type": "markdown",
   "metadata": {},
   "source": [
    "## If LLM decided to use get_delivery_date tool, call it"
   ]
  },
  {
   "cell_type": "code",
   "execution_count": 40,
   "metadata": {},
   "outputs": [
    {
     "name": "stdout",
     "output_type": "stream",
     "text": [
      "*********Example tool_call:\n",
      " ChatCompletionMessageToolCall(id='call_kxEN0rC3Sasw7EcxodtT80Gt', function=Function(arguments='{\"order_id\":\"order_12345\"}', name='get_delivery_date'), type='function')\n",
      "*********Example tool_call.function.arguments:\n",
      " {\"order_id\":\"order_12345\"}\n",
      "*********Example order_id:\n",
      " order_12345\n",
      "get_delivery_date function called with order_id:  order_12345\n",
      "*********Example delivery_date:\n",
      " 2023-12-31 00:00:00\n"
     ]
    }
   ],
   "source": [
    "# Extract the arguments for get_delivery_date\n",
    "# Note this code assumes we have already determined that the model generated a function call. See below for a more production ready example that shows how to check if the model generated a function call\n",
    "import json\n",
    "\n",
    "\n",
    "tool_call = response.choices[0].message.tool_calls[0]\n",
    "print('''*********Example tool_call:\\n''', tool_call)\n",
    "print('''*********Example tool_call.function.arguments:\\n''', tool_call.function.arguments)\n",
    "arguments = json.loads(tool_call.function.arguments)\n",
    "order_id = arguments.get(\"order_id\")\n",
    "print('''*********Example order_id:\\n''', order_id)\n",
    "\n",
    "# Call the get_delivery_date function with the extracted order_id\n",
    "if tool_call.function.name == \"get_delivery_date\":\n",
    "    delivery_date = get_delivery_date(order_id)\n",
    "print('''*********Example delivery_date:\\n''', delivery_date)"
   ]
  },
  {
   "cell_type": "markdown",
   "metadata": {},
   "source": [
    "## Send the function call result to LLM so it can paraphrase"
   ]
  },
  {
   "cell_type": "code",
   "execution_count": 41,
   "metadata": {},
   "outputs": [
    {
     "name": "stdout",
     "output_type": "stream",
     "text": [
      "Your order (ID: order_12345) is scheduled to be delivered on December 31, 2023. If you have any other questions or need further assistance, feel free to ask!\n"
     ]
    }
   ],
   "source": [
    "# Create a message containing the result of the function call\n",
    "function_call_result_message = {\n",
    "    \"role\": \"tool\",\n",
    "    \"content\": json.dumps(\n",
    "        {\n",
    "            \"order_id\": order_id,\n",
    "            \"delivery_date\": delivery_date.strftime(\"%Y-%m-%d %H:%M:%S\"),\n",
    "        }\n",
    "    ),\n",
    "    \"tool_call_id\": response.choices[0].message.tool_calls[0].id,\n",
    "}\n",
    "\n",
    "# Prepare the chat completion call payload\n",
    "messages_with_function_call = json.loads(json.dumps(messages))\n",
    "messages_with_function_call.append(response.choices[0].message)\n",
    "messages_with_function_call.append(function_call_result_message)\n",
    "completion_payload = {\n",
    "    \"model\": \"gpt-4o\",\n",
    "    \"messages\": messages_with_function_call,\n",
    "}\n",
    "\n",
    "# Call the OpenAI API's chat completions endpoint to send the tool call result back to the model\n",
    "response_with_function_call = openai.chat.completions.create(\n",
    "    model=completion_payload[\"model\"], messages=completion_payload[\"messages\"]\n",
    ")\n",
    "\n",
    "# Print the response from the API. In this case it will typically contain a message such as \"The delivery date for your order #12345 is xyz. Is there anything else I can help you with?\"\n",
    "print(response_with_function_call.choices[0].message.content)"
   ]
  }
 ],
 "metadata": {
  "kernelspec": {
   "display_name": ".venv",
   "language": "python",
   "name": "python3"
  },
  "language_info": {
   "codemirror_mode": {
    "name": "ipython",
    "version": 3
   },
   "file_extension": ".py",
   "mimetype": "text/x-python",
   "name": "python",
   "nbconvert_exporter": "python",
   "pygments_lexer": "ipython3",
   "version": "3.12.4"
  }
 },
 "nbformat": 4,
 "nbformat_minor": 2
}
