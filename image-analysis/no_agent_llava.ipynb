{
 "cells": [
  {
   "cell_type": "markdown",
   "metadata": {},
   "source": [
    "## Set the LLM"
   ]
  },
  {
   "cell_type": "code",
   "execution_count": 1,
   "metadata": {},
   "outputs": [],
   "source": [
    "from langchain_ollama import ChatOllama\n",
    "\n",
    "llm = ChatOllama(\n",
    "    # model=\"llama3-groq-tool-use\",\n",
    "    # model=\"tinyllama\", # Does not support tools\n",
    "    # model=\"llava-phi3\",\n",
    "    model=\"llava\",  # This works\n",
    "    # model=\"llama3.1\", # doesn't see an image.\n",
    "    temperature=0,\n",
    ")"
   ]
  },
  {
   "cell_type": "markdown",
   "metadata": {},
   "source": [
    "## Create the prompt"
   ]
  },
  {
   "cell_type": "code",
   "execution_count": 2,
   "metadata": {},
   "outputs": [
    {
     "data": {
      "text/plain": [
       "ChatPromptTemplate(input_variables=['image_data', 'text_data'], optional_variables=['agent_scratchpad', 'chat_history'], input_types={'chat_history': typing.List[typing.Union[langchain_core.messages.ai.AIMessage, langchain_core.messages.human.HumanMessage, langchain_core.messages.chat.ChatMessage, langchain_core.messages.system.SystemMessage, langchain_core.messages.function.FunctionMessage, langchain_core.messages.tool.ToolMessage]], 'agent_scratchpad': typing.List[typing.Union[langchain_core.messages.ai.AIMessage, langchain_core.messages.human.HumanMessage, langchain_core.messages.chat.ChatMessage, langchain_core.messages.system.SystemMessage, langchain_core.messages.function.FunctionMessage, langchain_core.messages.tool.ToolMessage]]}, partial_variables={'chat_history': [], 'agent_scratchpad': []}, messages=[SystemMessagePromptTemplate(prompt=PromptTemplate(input_variables=[], template='You are a helpful assistant')), MessagesPlaceholder(variable_name='chat_history', optional=True), HumanMessagePromptTemplate(prompt=[ImagePromptTemplate(input_variables=['image_data'], template={'url': '{image_data}'}), PromptTemplate(input_variables=['text_data'], template='{text_data}')]), MessagesPlaceholder(variable_name='agent_scratchpad', optional=True)])"
      ]
     },
     "execution_count": 2,
     "metadata": {},
     "output_type": "execute_result"
    }
   ],
   "source": [
    "from langchain_core.prompts import ChatPromptTemplate\n",
    "prompt = ChatPromptTemplate.from_messages(\n",
    "    [\n",
    "        (\"system\", \"You are a helpful assistant\"),\n",
    "        (\"placeholder\", \"{chat_history}\"),\n",
    "        (\n",
    "            \"human\",\n",
    "            [\n",
    "                {\n",
    "                    \"type\": \"image_url\",\n",
    "                    \"image_url\": {\n",
    "                        \"url\": \"{image_data}\"\n",
    "                    },\n",
    "                },  # TODO couldn't find a way to make this optional, even putting it in placeholder\n",
    "                {\n",
    "                    \"type\": \"text\",\n",
    "                    \"text\": \"{text_data}\",\n",
    "                },\n",
    "            ],\n",
    "        ),\n",
    "        (\"placeholder\", \"{agent_scratchpad}\"),\n",
    "    ]\n",
    ")\n",
    "prompt"
   ]
  },
  {
   "cell_type": "markdown",
   "metadata": {},
   "source": [
    "## Load smiley so tokens not so big"
   ]
  },
  {
   "cell_type": "code",
   "execution_count": 3,
   "metadata": {},
   "outputs": [
    {
     "name": "stdout",
     "output_type": "stream",
     "text": [
      "*********Example binary_fc:\n",
      " b'\\x89PNG\\r\\n\\x1a\\n\\x00\\x00\\x00\\rIHDR\\x00\\x00\\x01h\\x00\\x00\\x01h\\x04\\x03\\x00\\x00\\x00\\x88\\xcb|\\xe6\\x00\\x00\\x00\\x18PLTE\\xff\\xd9\\x00\\xef\\xef\\xef\\x01\\x01\\x00\\xff\\xff\\xff\\xff\\xe8\\x0f\\xfb\\xea\\x86cT\\x00\\xb5\\x9a\\x00\\x96c\\x9a\\xe4\\x00\\x00\\x0e+IDATx\\xda\\xec\\x9d\\xcdo\\xa3:\\x10\\xc0\\x9d\\xae\\xfdz\\r\"\\xb9Wh\\x95^7\\xa2\\xb9;/ds\\x05\\xd1\\xdcWQ\\xb5\\xbdVU\\xd5\\xfc\\xfb/@\\xd2\\xf0e\\x98\\x19\\x7f@\\x9f2\\x97\\x15\\xbbK\\xfcc<3\\xf6\\x18\\xe3aa!K\\xaf\\x10\\xed\\xcb\\xe5|\\xbf\\x8f\"V\\x08\\x8f\\xb6\\xfb}b\\xe8\\x97\\xaf\\x97\\xcc$\\xf4\\t8\\x92\\xac)\\xd1~?V\\xe8\\xfd3\\xeb\\x90\\xed\\xde\\x1f\\x1d\\xf4\\xbc\\x93\\xb8\\xb0\\x95m2*\\xe8}\\xc4@\\x12%\\xa3\\x81\\x9eK\\x06\\x16\\xbe\\x1f\\x05\\xf4<b(\\xe1\\xc9\\xe0\\xd0\\xabg\\x86\\x16\\x91\\x0c\\x0b\\xbdg$\\xd9\\x0f\\x08MQ\\xf3E\\xd9CA\\xef\\x99\\x86\\xec\\x87\\x81~fZ\\xb2\\xf5\\xddCc\\xe2\\x9c\"\\x8c\\xa4\\xae\\xa1\\xe7\\xcc\\x80$n\\xa1\\x9f\\x99\\x11\\xd9\\x12\\xa1\\xcf\\x7f\\xfa\\xe7\\xbf\\x87]\\x1ab\\xbe\\x186\\xb8\\xdd\\xf3%\\t\\xda\\x18\\xf3)\\xf6\\xf9\\x8e\\xa0c\\xc6\\x8cS\\xdb\\x866\\xca|\\xa1\\xb6\\x0cm\\x98\\xf9Lm\\x17\\xda8sAm\\x15\\xda\\x02\\xf3\\x89\\xda.\\xf43\\xb3\"[\\x9b\\xd0\\x96\\x98O\\xd4\\xf6\\xa0\\xe7\\xcc\\x9a$\\xb6\\xa0W\\x8c\\xd9\\xa66\\x0e\\xbd\\x926\\xa1\\x8b\\xd4\\xd14\\xf42fVE\\xd8\\x80\\xb6\\xcc\\\\P\\x1b\\x86\\x9e1\\xeb\\xb2\\x06C\\x03\\'\\xb2s\\xe6@R\\xc3I\\x80t\\x01\\xcd}\\xa3\\xd01s\"\\xc2$\\xf4\\x8a9\\x92\\xc4\\x1c\\xf4R2\\xc7\\xd4\\x06\\xa0cg\\xccE\\xb46\\x01\\xfd\\xc4\\x1cJb\\x06\\xda\\xa1q|\\r\\xe7\\xda\\xd01s*\\xc2\\x04\\xf4\\x8a9\\x96\\xc4\\x00\\xb4t\\r\\xcd\\xf5\\xa1g\\xcc\\xb9lu\\xa1Wl\\x00I4\\xa1\\xe3!\\xa0\\x85\\x1e\\xf4 \\x8a\\xce\\xd7\\x805VM\\xe3a\\xa0\\x85N\\x12\\xf0\\xc4\\x06\\x925\\x1dz)\\x87\\x82\\xe6t\\xe8\\x19\\x1bL&T\\xe8\\xe1\\x14}\\x12*\\xf4\\x80\\x8a>\\xab\\x1a\\x0f\\xbdd\\x83\\n\\rz6,\\xb4\\xa0@\\x0fj\\xd1gU\\xa3\\xa1\\xa7\\x033gV\\x8d\\x85\\x1e\\\\\\xd1\\x99\\xaa\\xb1\\xd0\\xb3\\xc1\\x99O\\xaaFB\\x8f@\\xd1\\'U#\\xa1\\x9fF\\xc0\\xcc\\xd6H\\xe81(\\x9aq\\xdc\\xaa\\xe9\\x8a\\x8dB\\x12T\\x12\\x10\\x8f\\x03Z`\\xa0G\\xa2h\\xd5\\xd2\\x1e\\x1bz\\xf1\\x8e\\xb2\\xb4\\xd7\\n\\xbdd\\xa3\\x118\\xf4\\xd3x\\xa0\\'`h9\\x1eh\\x0e\\x85^\\xb1\\x11I\\x02\\x84\\x8e\\xc7\\x04-`\\xd0K6*\\x81A?\\x8d\\x0bz\\x02\\x82\\x8e\\xc7\\x05\\xcd!\\xd0+62I\\x00\\xd0\\xd3\\xb1A\\x0b\\x00\\xb4\\x1c\\x1b4\\xef_5\\x9d\\xb3\\xd1I\\xda\\x9b\\x04\\xc4\\xe3\\x83\\x16\\xbd\\xd0l\\x84\\xe2\\xf7@\\xcf\\xc6\\x08\\xbd\\xe9\\x81\\x8e\\xc7\\x08-\\xba\\xa1\\x97l\\x94\\xd2\\r\\xfd4N\\xe8u\\'t<Nh\\xd1\\t\\xcd\\xd8\\x98\\xed\\xa3\\x1dz5V\\xe8\\xa4\\x03:\\x1e+\\xb4\\xe8\\x80\\xc6\\xcd;\\xb8\\x0e\\x06\\xb2)54\\xca:x$yD$\\xce\\xef\\x95h\\xfbh\\x85\\xc6\\xccJ\\xb9\\xfc\\x0c\\x16\\xafDe\\xcb\\xcf\\xc3\\xe9^\\x0c\\xf5D\\t\\x1dc\\x98\\x0f\\xc1I\\x1eI\\xba\\x8e\\xde\\xb3{\\x17\\x18j\\xaeZ5\\xc5\\xccJe\\xden\\x10\\xfc!L\\xbf\\xf9?\\xc5\\xbd\\x0bL?\\xa5\\x8a$`\\x86o7\\x08>\\xf0\\xcc\\xbb\\xcb\\xbd\\x98\\'\\xde(\\xa0\\x11\\xd6Q\\x18Gn hU\\xf3\\xf7\\xcb\\xbd\\x18U\\x0b\\x05\\xb4$(\\x9a\\xa0\\xea\\xdd\\xf5^\\x84\\xaay;4\\xc2\\xa4\\xf9\\xe1\\xda\\xf0\\x03R\\xd5\\xfc\\xeez\\xefB\\xa2\\x8c\\xba\\x05zJR\\x16\\xce\\x9d*\\x96\\x85\\xeb\\xa6I+tLR\\x16\\xda>\\xca\\x0f\\x8c\\xe9&\\xd1\\nM\\xb3\\x0e\\xac}T\\x1f\\x18c\\x1f~\\x0b\\xf4\\x9c\\xa8,T\\xc3\\xf5\\x07\\xc6tS\\xda\\x02\\x8d0\\xe9\\xdfA@\\xb7\\x8f\\xea\\xbd/\\x18\\xa3nB\\xc7\\x84@\\x8bn\\xb8\\xf1\\xc0\\x8f\\x18\\xa3nB\\x93{\\x18e\\xd4U\\x93F\\x1au\\x03\\x1aa\\xd22\\xa07\\\\\\x7f\\xe0\\x00\\x110\\xd3\\x06\\xf4\\x94\\xea\\x87\\'\\xc1\\xf8a\\xfd^L\\xa4n@\\xc7d\\xb3D5\\xdcx\\xe0\\x9f\\x88\\xe9Gc\\xd5\\x14\\xd1\\xc5w\\xf5\\x86_4\\x1e\\xf8\\x01\\x15\\xa9\\xabI\\x00f\\xe2\\xf1N\\xd7\\x16\\xff\\xb7~/f\\x96\\x98\\xd6\\xa0g\\x1a\\xbe\\x84i\\xb8\\xd1K\\x18/\\xde\\xd4\\xa0cz\\xf0\\xc0@7{)@\\xce\\xa9\\x89\\xd0\\r_Bh\\xab\\xd9K\\x18/\\xaeC3\\x1d\\xe8\\x00\\x0c-\\xb5\\xa0/\\x9e\\xc8\\xd0~\\xd8\\x0c\\x00\\x98.n\\xde\\x8b\\x99\\x04\\xa4\\x15\\xe8\\xa9\\x1e\\xf4\\x87F/a\\xa0\\x7fT\\xa01+\\x1ewf\\xa11\\x81ZT\\xa0\\xa5\\x1e\\xf4\\x8b#h^\\x81\\xc6L.u\\xa0[L\\x0b\\xb5\\x06\\xe1\\x97\\xa01~\\xd8\\x12j\\xddA\\xa7%\\xe8\\x99&\\xf4OW\\xd0\\x9b\\x12t\\xec\\n\\xfa_Mh\\xf1\\x8d\\xa1\\xd1\\xef\\x87LC\\xe3\\x92\\xf9k\\x12\\x80{\\x03ph\\t[\\xae4]\\xbc\\x110\\x04-]i\\xfa\\n\\xfd\\x8b}\\x17\\x9b.^c0\\xf4\\x9b\\xb8a\\xa1\\x859hg\\x83K\\t\\x9a}\\x1fhv\\x81^~\\'\\xe8\\xe4\\x0c\\x8d{#\\xce\\rO\\x98\\x1eh\\xd0\\xc8M\\x1e\\x03\\xce\\xa7\\xcf\\xe1\\x83\\x85\\xe8\\xed\\x83\\x863\\x97\\x9f\\x8c\\x04\\x1dkC\\x83sD\\xa9\\x97n\\x9d\\xc3\\x07\\xc3oL\\xdf\\r\\x97\\xd8\\xb2\\xe2}\\xb3\\x11hW\\xeb\\x1e\\x97\\x98\\xc7\\xf0;\\xc4\\xa4\\x0e\\xb4\\xd6\\n\\xd3%|0\\xc2a\\xb0\\x07\\xa3\\xcbb\\xc8~\\xce2.\\x86\\xcb\\xb5\\xda\\xbb\\x18\\x1e\\xb5\\xf8\\x9d\\xde$\\xaf\\xc8\\xb8\\x18n\\xa1\\xa6][:\\xeb\\xd3\\xe8\\r\\x01?h\\xd0w&\\xdf\\x04`_\\xadg\\xaf\\x9b\\x19\\xe1\\x00\\xcd\\xdf\\x1a\\xbe$5#^\\x9e&2\\x0f\\x7f\\xd6\\xd9\\xce\\xe4\\xdb-\\xf4\\xce\\x0bN\\x83\\xae\\xaf\\xd7b\\xcc\\xb2\\xee\\x10\\x0bN\\x83fL\\xd3\\x131\\xbbz\\xf8oM?\\xcc\\x96\\xc6\\x18\\xe1#\\x80\\xba\\'~h\\xd8\\xd6\\x03\\x1e:%A\\xd7\\x1bF\\xb5K\\xdf\\x85P\\x86&l\\xa8\\xaf\\x1a5\\xae\\x87k\\xb6E\\xd8\\x8d\\xb89AO\\x99\\xa6Q\\xbfh\\x04L\\x82I\\x9fF\\x17\\x1a\\xf4o\\reI\\xad(\\x9d\\x8f.\\x8c\\xf4aK\\xd9>\\xb0\\xca\\xaat\\x13e\\xaf\\xaa B\\x97\\xf3\\xc4\\x17\\r7&\\xc4\\x8e\\x1c\\x9a\\xb6\\xd1\\xfb\\xda\\xf0\\x02\\xbfE\\xf6\\xa0\\x13;\\xb2\\x84\\x8b\\xd1>0\\x8b\\xbe\\xfa\\xf8E\\xd2=\\xe2\\x91\\xd46?A3\\x92\\\\\\xac\\x9a\\xb2\\x17\\xf9\\xf2\\xc4\\x0b\\xe2\\xeek\\x8f\\x11?\\xc7\\xe1\\xf7E\\xbb\\x1f\\x1aO\\xfcGR\\xa1\\xa9\\x1f\\\\\\xf0\\xfbC\\xc6L\\xeb\\xe0]v\\xef\\x1bus~B\\x86f\\\\\\x1e\\xdf8QW\\x91\\xbc?\\x92?(\\xd0\\x81f<\\x8a\\xe8\\xf7\\xf2H\\xb2!\\xa0\\x07\\x93\\x84=}?\\xe8\\xf5\\r\\xda\\x91L\\xd8\\xf4\\x06\\xedD\\x04\\x8bo\\xd07\\xe8\\x1b\\xf4\\xf0\\xd0\\xf2\\xfbA\\xf3\\x1b\\xf4\\r\\xba\\x0b\\xfa&7\\xb9\\xc9Mnr\\x93\\x9b\\xdc\\xe4&7\\x19\\x89\\xc8\\x1b\\xf4-s\\xf9\\x9fA\\xc77h\\'r[\\x16\\xbbA\\xff\\xff\\xa0\\xa7]\\xff\\x1cE\\x1a/8\\xc9\\xd2\\xd7j\\xf7;\\x97\\xe8\\xfe\\xf3xt\\x1e\\xc8\\xf9\\xf1\\xf3\\xb5\\xf3\\xbdy\\'tq\\xae\\xd5\\x87k\\xe8]\\xdf\\x0e\\x85\\x1fL\\xbd\\xc3\\xed|p\\xd9\\x8bk\\xe8b\\x0f\\xcb\\x87\\x9az\\xd3\\x05\\xfdN\\xdfg\\xa4c\\x1dw}\\xbb_6L\\xb9\\x01\\xf2\\xb2k\\xc75\\xf4eS\\x97\\xba\\x87\\xd3\\x0e\\xe8\\x83\\xceF#\\rM\\xbf\\xf7mp\\xee\\x80\\xde\\x05\\xc3B\\xab#\\x80\\x1a\\xfa\\xeb\\xde\\xc7al\\xba\\xa3\\xe1\\x94\\xa9\\xb6OK\\xad\\r\\x7f\\x06lZ\\xbd=\\xd2WB\\xff\\x1e\\x1eZ\\xe5\\x8a!S\\xec\\xae\\xbf\\xee\\x08}p\\x1d\\xa7\\xff\\xed\\xd9k\\xc8\\x95{M\\xa5\\xd6\\xc6[\\x03\\x83\\x8b\\xda>\\xd4{Mwc\\x80n\\x8f\\x1f\\xd9^\\xd3X=\\xed\\x18\\x1a\\xfaA\\t=\\xed\\x8c;\\xe8/3\\x8dB\\xb7\\x1a\\xf5\\xe4\\x04\\xfd\\xd4\\xed\\x87C\\xcd=\\xd4\\x9e\\xa8\\x86>\\x04\\xc1\\xd0#\\xa2j$_\\x9f\\xa0W=\\xd0\\x0b\\xd7\\xd0}M\\'\\x00\\xe8\\xc0\\xf1\\xfbs\\x19\\x00\\xa0\\x97=}\\xe4:u\\xd9\\xf5}#\\x91\\x7fc+\\xbb\\xbd!\\xf8)\\x07\\xf2CE\\x0cPB\\x97?\\xa1q\\xeb\\x89\\xe5>n\\x1d\"x\\x0e\\xdd:\\xba\\xe4;\\xe0\\x1f\\xdf\\x8e\\x07\\xd7F\\x9d\\x99\\xf4\\xe2x|W~3 r\\xe8\\xf6|\\xfc4$>\\xf2(\\xda\\xb9\\x1e\\x13\\xb3\\x06?\\xa2(\\xfb\\xd8\\xa1=#/\\xa0\\x7f\\xb5?\\xf1g~P{tp;\\xbcd&\\x9d}:\\xc3\\xe5Aq4\\xfe$\\x87VlF\\x8e2\\xe6|\\x12\\xe22Rg\\xb16\\xd70\\x97\\x8at|\\x9dC\\xafzm\\xec\\xc3\\xadut\\xfb\\x10\\xe4\\x0b\\xfd\\xac\\xbf\\xdc\\xd9\\x07\\xa0\\xb5\\xe2\\x0b}\\xaf\\xdf\\x9d\\x9d\\xc5\\x8f,h\\xf54v>[L\\xf6\\x06\\xce\\x17W\\xaa\\xfe\\xdd;,\\xf03t\\xdckf\\xae\\\\1SP\\x8f\\x03\\x893\\xf4T\\xfb\\x97\\x0c\\xbaa\\x9f~&g\\xe8\\x9eO\\x83\\xb3\\xa8\\xe7f(\\xe7\\xef\\xfd_\\xa1m\\xce\\xd0s}\\xef07\\x84\\xf75\\x94\\x02\\xa1]E=P;\\x17h\\x0fbj\\x0eT\\x9d\\xf5h\\xaf\\xf3|\\x1d\\xa7\\x18\\x1b\\xb05\\x03\\x8a\\x86\\xf8\\x8e\\x00Cg\\xe1sa\\xfd5W6\\xedx\\x81CO!\\x1dg{\\x80\\xc9\\xde<\\xf4\\x1b\\xe1\\x8f/\\xe8\\xfe3\\x1c\\xee\\xec\\xab\\x1a6\\t\\xde \\xa0w\\xf6\\xe7z\\xb0&\\xd2\\xeb\\xb9\\xa6\\xa0\\xb0ow\\x80\\x01\\xb6P:\\xd74\\x86x\\xb6UUsX^\\'J\\xc5\\rz\\xa1sW\\xb4\\xa9\\xeaL\\xd1\\x80\\xb1\\xa0\\x0c\\xdd\\xff\\xf9g\\xbe\\x1c\\xf1aW\\xd1\\x80Qw]\\x82^\\xc1\\xfc\\xe41\\xb2\\xa9h\\x88N\\x92\\x12\\xf4\\x12\\xf8\\xb3\\xb6bu\\xaeh\\x88\\xf5\\xa5\\xe5\\x82\\x1d\\xfd\\xff?\\x7f\\xebl+Vg1\\x1a\\xb2\\xbc\\xc2+UF\\xfa=\\xb1Xs\\xb2\\xa3\\xeaB!\\x80)\\x99\\xa8@\\xff\\x82M\\x1c-M\\xf6r}@&\\xbf\\x93\\n4\\xe4p\\x01\\xa9s\\xbcE\\xef \\x00J3\\x92\\n\\xf4\\x12\\xea\\xe16T],vB\\xb4Q\\xab\\x9c\\x03\\xb9eg\\xe7\\xbdQ\\xb1\"\\r\\x19\\x03x\\r:\\x86\\xfa\\xb8\\xf1\\x11\\xa6\\xd8u\\x04Z\\xa4\\x105\\xe8\\'\\xa8\\x93\\x1b\\x1f\\xcc\\x8bUtPXZ\\xd7\\xa0W`\\xe3\\xeb\\xda\\x12EW4\\xc8U\\x92z5(\\xb8\\x9b\\x9b\\xf5\\xc5B\\x110OiT\\x83\\x8aAM\\x04\\xa6\\xc3\\xde\\xf9%<H\\x0f\\xa2Q\\x12v\\n\\xb7?\\x93\\xbe\\xb8C\\xbc\\x8b\\x9a4\\xa0Wp\\x0348\\xdb\\x8b0ZH\\x1a\\xd0K\\x84\\xab\\x1b3\\x90\\xf3\\xde?`@j\\xa9\\x18\\x1c#\\xba\\xd3\\x94/\\x9e\\x8f\\xbe\\x82)Z\\xb4@O1\\xfdi\\xc6@\\xce?\\x06\\\\\\xfd\\x9e\\xb4@\\x03\\x0fd:\\xbf\\xca5\\x11\\xac/\\xa5\\x83\\x81\\xf3\\xdd\\xa4\\x05\\x1ax2Z1\\x96\\x1b1\\x90\\xb3q@3\\x8b\\xd6*\\xd80\\xa3\\xbe\\xecn\\xd27\\x90\\x08W\\x93Z\\xb4BOQ\\xfa\\xd1\\x8e \\xd8Z\\xd8\\x93V\\xe8\\x15\\xb21=\\xb3\\xce\\x8f\\x9f\\xc3<|\\xd2^$]\\xe2T\\xfd\\xc8M\\x18\\x07\\xd89\\x14\\x95\\xddc\\x9c\\xaa\\x83W\\r\\xb3\\x8e>\\x91\\xa7\\x13\\x0b\\x05\\xf4\\x13\\xce\\xebu\\xcc\\xfa\\xeb\\xc1\\xc1\\x8a^+\\xa0W\\xe8\\x16\\xa9f\\xfde\\xd0\\xf0\\xe7N\\xca\\xd0\\xa5\"\\xe9\\xc0\\xe9iI\\xd5\\xf9\\x96\\x10\\x02s\\xe9\\x07\\x80\\xb7\\x88PQ\\xd9\\xdd\\x9bbUM\\x8c\\xd6\\xd7SQ\\xc1\\x8a\\x9e(\\xa1\\xc1GQG_\\xdb\\xf6(\\xce\\xf8\\xe5\\x84\\x88q5UB\\x83\\x8fW/\\x1d\\x8b\\xfc\\x07M\\x1d\\xfd\\x83?\\xd8\\x9c\\x87j\\xe8\\x18l\\x95\\x072u\\x89\\x19\\xbe\\x9e):\\xa0\\xe7p\\xf7\\x0f\\x88\\xd4\\xd1}io\\xa5DY\\x87\\x02\\x1a~\\x92}y\\xcf\\x1f\\xe6(\\xd823b\\x05\\xc5\\xef\\x82\\x8e)\\xaaFP\\x97\\x99\\x11\\xf9\\xb1\\x08\\xbb\\xa0\\xe1\\xa7\\xc2W\\xce\\xdd\\x87ZH\\xc9\\x9eQ\\xab\\x82\\x9bNhD\\xa5\\x83\\xca\\x11\\xf6\\xaf\\x11\\x80\\x80_c\\x1d2\\x8d\\xf0\\xbb\\xa1c\\xb8\\xaa\\xcbZ\\x0b^\\xfb\\xc7F.?\\x89u\\x1cD\\xd8\\r\\x8d8\\x9b5\\xaaT\\x0bX|\\xf4\\x98HT\\xad.\\x80y}\\xb3\\xee\\x81F\\x9c\\xa1\\xcd\\xab\\x85\\x19\\x16o]&\\xc2\\xa3\\xfbZ)\\x06\\xc4\\xac\\xc5\\xeb\\x81\\xc6\\x9c\\x0b_\\xaf\\x81\\xf1\\xaa>R:\\xaa\\x9a\\x06n\\xc1X\\xf4Bc\\x8ev\\xae\\xd7HY\\x9c\\xb0e\\x9b\\x96\\xe5\\xf1\\xa0Q\\x11%i@\\x97\\xe6\\xd3\\x99\\xe0*\\x1e\\xdf7\\xca$\\xbd5\\x8e\\xd2\\x8e\"y\\xdf(\\xc5\\xf4\\x82h\\x85eT\\x15\\xc8&4\\xc2>Js\\xcc\\x92\\xb6\\xdf\\xa2\\x13g\\x0e\\xc5y\\xf6\\xd9\\xfag\\xb3@\\x18jF;\\x01@\\xa3J\\xa5\\xb4\\x14=\\x0f\\x82\\xbf\\xaf\\xc7\\xcbg\\xf6\\xf7\\x9f\\x7f[\\xfe\\x03n\\xa5\\'\\x05@\\xe3*\\xf1\\xb6\\x14\\x96;\\xcba\\xa1\\xfc\\'T\\x96\\xc6C\\x084\\xaa\\xc0\\x0b\\xff\\x0c\\xd0\\xf2\\x8a\\xca\\xd1\\xd6 hT\\xd1\"\\xdej \\x9d\\x82\\\\\\x06\\xf4a\\xd01\\x8az\\x87\\xa4F\\xa6\\xf0\"\\x84A\\xe3\\xaa\\x16U\\xe7 \\xfd\\x82\\\\,I\\x81\\xd0\\xc8J\\\\\\x11\\xca\\xac\\x91\\x990\\x0f\\xa1\\xd0S\\xdc\\xef\\xb6Dk\\xa5`\\xd7\\x1c\\xd6`hl\\xfd0\\xb83\\xa2\\xd7\\xe2}8t\\x8c\\xfbep\\x08A\\xafH\\x89\\x10\\x0e\\x8d. \\x06\\x0b!\\xf8\\xb5\\xbf\\x14\\x01\\x8d\\xae\\xb6\\x14A\\xa8\\xf1\\xcc\"\\xc4@\\xa3U\\r\\x08\\xd7\\x845\\xd6\\x8d\\x02\\xba>\\x9f>_J\\xe3\\xd4\\x04f^\\xa7R%\\x01\\xe7K|\\x85\\xb9\\xa8\\xdb\\x1b)\\xab\\xc2\\x1b$4\\xbejb=\\xdb\\xae\\xa7bxf\\xeec\\xa1\\t\\xc5\\xfc\\xaak1\\xd5\\xb1;\\xc23\\x9ff\\xffXh\\x82\\xaa\\x95A\\x84X\\xf8\\xc9\\xc7COI\\xd4\\xd1\\xf1\\xd0\\x967R~k\\x12\\xe2\\xa1\\xe7\\x94\\x86\\x9a\\x99\\xf7\\x82\\\\\\xab\\xca\\'@\\xfb1\\xa3b\\x7fe\\x86\\x7f\\xb3,\\x97\\xf8\\x06l\\x1b\\x12\\xa0iV]`g9\\xed\\xf1-\\xcfn\\xa9?\\x92O\\x95\\x08\\xd0SF\\x97l\\xf5@\\xabt\\xc2$\\xa4A{l8\\xe1>\\x15z6\\x1c\\xf4:\\xa4B{rXE\\xd3\\xa0\\x07S\\xf5&\\xa4C{\\xf10\\xcc\\xa2\\x9bJ1\\x9f\\xbe\\\\\\xce\\x87\\x81N\\xbb\\xa9z\\xa0\\x87Q\\xb5\\x08\\xf5\\xa0\\x07Qu\\xaa\\t=\\x84/\\xaeC]h\\xf7a/\\x0bw\\xba\\xd0s\\xf7\\xc6\\xa1\\x0f\\xed\\xda\\x17Eh\\x02\\xda\\xad\\x81\\x14c\\xa1>\\xf4\\xcc\\xb1\\x17\\x1a\\x81vi \"4\\x05=wf <5\\x06\\xed\\xcf]F\\x0eC\\xd0\\xe4|\\x11m\\x1c\\xbeI\\xe8\\xa5\\x13\\x03\\xe1\\x9eQ\\xe8\\xd0I\\t\\xe7\\x04\\n\\xdd=s\\xbd^\\xce\\x9cD\\xbb^\\x0cH\\x12P\\xba\\x8c]D;\\xd3\\xd0\\xb6\\x07F\\xe1\\xdb\\x80\\xb6\\x1b\\xady\\x1a\\xda\\x80\\xb6\\x1b\\xad\\xd3\\xd0\\n\\xb4Ug\\\\\\x87\\xb6\\xa0\\xbdg[\\xcc\\xdb\\xd0\\x1a\\xb4\\x1fZ\\xa2\\x16\\x9e=h/\\x0cc;\\xccv\\xa1\\x97\\xb1\\x15f\\xbb\\xd0\\x16\\xa8\\x85g\\x1d\\xda8\\xb5\\xf0\\x1c@\\x1b\\xa6\\x16\\x9e\\x13h\\xa3\\xd4\\xc2s\\x04\\x1d.\\x8dE\\xbe\\xed\\x92\\x04\\r\\x9cO\\xd7.\\rQo\\xb1\\xed\\xe2\\x92\\x80\\xfa\\xa5\\x91yH\\xe2\\xb9\\x85\\x0eW\\xdas>\\x9ex\\xae\\xa1\\xb5\\r{KlW\\x0b:\\x0c\\xf7:\\xcc{o\\x18\\xe8\\x90\\x9e\\x16\\x88\\xd4\\x1b\\n\\x9a<W\\xdd\\xfb\\xe1\\x80\\xd0\\xde\\x9c\\x80\\xbdM\\t\\r\\x99\\x84\\xc6\\xa7\\x8e<!6d\\x12\\xda\\xf3\\xf6\\x08l\\xbe\\xd7h\\xc8$\\xb4\\x1f\\xce\\xa1\\x1f\\x9c\\xed5\\x1b\\xfao\\xd4t4\\xb0 !\"m\\xbb\\x06R\\xc1\"j:\\x1aX\\xd9\\x84\\xe2u\\xb7k(\\xb5,\\xa2\\xa6\\xa3A\\xdc\\xd0\\x10\\x17\\xec\\xa9\\x82\\xc22\\x8e\\xa6\\x8e\\x06\\x97&\\xa1@\\xa7\\xc3\\xb2\\xa6\\x0b\\xd0\\xbd\\x81\\xc2T2\\x19\\xce\\x05\\x00\\x8d\\x86\\x93=\\n\\x0b\\xc59\\x00\\x00\\x00\\x00IEND\\xaeB`\\x82'\n",
      "*********Example dataurl:\n",
      " data:image/png;base64,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\n"
     ]
    },
    {
     "data": {
      "image/png": "[encoded data removed]",
      "text/plain": [
       "<IPython.core.display.Image object>"
      ]
     },
     "execution_count": 3,
     "metadata": {},
     "output_type": "execute_result"
    }
   ],
   "source": [
    "import base64\n",
    "# To display image in notebook\n",
    "from IPython.display import Image\n",
    "filepath = \"image2.png\"\n",
    "binary_fc = open(filepath, \"rb\").read()  # fc aka file_content\n",
    "print(\"\"\"*********Example binary_fc:\\n\"\"\", binary_fc)\n",
    "base64_utf8_str = base64.b64encode(binary_fc).decode(\"utf-8\")\n",
    "\n",
    "ext = filepath.split(\".\")[-1]\n",
    "dataurl = f\"data:image/{ext};base64,{base64_utf8_str}\"\n",
    "print(\"\"\"*********Example dataurl:\\n\"\"\", dataurl)\n",
    "\n",
    "Image(filepath)"
   ]
  },
  {
   "cell_type": "markdown",
   "metadata": {},
   "source": [
    "## Using llm.invoke method. Putting messages directly in invoke"
   ]
  },
  {
   "cell_type": "code",
   "execution_count": 8,
   "metadata": {},
   "outputs": [
    {
     "data": {
      "text/plain": [
       "AIMessage(content=' Cancer is the second leading cause of death worldwide. ', response_metadata={'model': 'llava', 'created_at': '2024-09-01T06:01:34.2492122Z', 'message': {'role': 'assistant', 'content': ''}, 'done_reason': 'stop', 'done': True, 'total_duration': 10319633300, 'load_duration': 9428004600, 'prompt_eval_count': 24, 'prompt_eval_duration': 375558000, 'eval_count': 12, 'eval_duration': 511474000}, id='run-0e7f487e-8bb6-4229-b828-043d440ebbae-0', usage_metadata={'input_tokens': 24, 'output_tokens': 12, 'total_tokens': 36})"
      ]
     },
     "execution_count": 8,
     "metadata": {},
     "output_type": "execute_result"
    }
   ],
   "source": [
    "llm.invoke(\n",
    "    f\"Tell me a fact about cancer. Answer in less than 10 words.\"\n",
    ")"
   ]
  },
  {
   "cell_type": "code",
   "execution_count": 15,
   "metadata": {},
   "outputs": [
    {
     "data": {
      "text/plain": [
       "AIMessage(content=' This is a base64 encoded string. It appears to be an image file, as indicated by the \"image/jpeg\" MIME type in the Content-Type header. The actual content of the image is not visible here, as it has been encoded using Base64 encoding. ', response_metadata={'model': 'llava', 'created_at': '2024-09-01T15:18:19.7875127Z', 'message': {'role': 'assistant', 'content': ''}, 'done_reason': 'stop', 'done': True, 'total_duration': 172937997600, 'load_duration': 8202467800, 'prompt_eval_count': 1026, 'prompt_eval_duration': 3582961000, 'eval_count': 61, 'eval_duration': 161150591000}, id='run-d2d7c6af-28c8-4825-af0f-128a0d8644be-0', usage_metadata={'input_tokens': 1026, 'output_tokens': 61, 'total_tokens': 1087})"
      ]
     },
     "execution_count": 15,
     "metadata": {},
     "output_type": "execute_result"
    }
   ],
   "source": [
    "# llava. just says it's a base64. The format of the prompt is wrong. It should have image_url\n",
    "llm.invoke(\n",
    "    f\"Describe this image in less than 10 words: {dataurl}\"\n",
    ")"
   ]
  },
  {
   "cell_type": "code",
   "execution_count": 17,
   "metadata": {},
   "outputs": [
    {
     "data": {
      "text/plain": [
       "AIMessage(content=' Smiley face with yellow background. ', response_metadata={'model': 'llava', 'created_at': '2024-09-01T15:22:19.4315101Z', 'message': {'role': 'assistant', 'content': ''}, 'done_reason': 'stop', 'done': True, 'total_duration': 27938159200, 'load_duration': 12416500, 'prompt_eval_count': 1, 'prompt_eval_duration': 9798021000, 'eval_count': 9, 'eval_duration': 18123630000}, id='run-020de3b9-f246-4dd6-8b3b-8594b458a253-0', usage_metadata={'input_tokens': 1, 'output_tokens': 9, 'total_tokens': 10})"
      ]
     },
     "execution_count": 17,
     "metadata": {},
     "output_type": "execute_result"
    }
   ],
   "source": [
    "# llava this works but takes around 30 seconds on an nvidia geforce rtx 3060 17gb, 24gb ram, 14 core i7. This is probably the best way, since we can dynamically append if there's an image or not at runtime.\n",
    "llm.invoke(\n",
    "    [\n",
    "        (\"system\", \"You are a helpful assistant\"),\n",
    "        # (\"placeholder\", \"{chat_history}\"),\n",
    "        (\n",
    "            \"human\",\n",
    "            [\n",
    "                {\n",
    "                    \"type\": \"image_url\",\n",
    "                    \"image_url\": {\"url\": dataurl},\n",
    "                },\n",
    "                {\n",
    "                    \"type\": \"text\",\n",
    "                    \"text\": \"Describe this image in less than 10 words:\",\n",
    "                },\n",
    "            ],\n",
    "        ),\n",
    "    ]\n",
    ")"
   ]
  },
  {
   "cell_type": "markdown",
   "metadata": {},
   "source": [
    "### Playing around with chaining. Not related to image analysis"
   ]
  },
  {
   "cell_type": "code",
   "execution_count": 57,
   "metadata": {},
   "outputs": [
    {
     "name": "stdout",
     "output_type": "stream",
     "text": [
      "This is x: Whats my name?\n"
     ]
    },
    {
     "data": {
      "text/plain": [
       "AIMessage(content=' Your name is Andrew. ', response_metadata={'model': 'llava', 'created_at': '2024-09-01T16:11:32.1852002Z', 'message': {'role': 'assistant', 'content': ''}, 'done_reason': 'stop', 'done': True, 'total_duration': 4257436800, 'load_duration': 3876949400, 'prompt_eval_count': 83, 'prompt_eval_duration': 123229000, 'eval_count': 7, 'eval_duration': 253891000}, id='run-44b2fffc-567d-455d-a2c6-5858bed6d708-0', usage_metadata={'input_tokens': 83, 'output_tokens': 7, 'total_tokens': 90})"
      ]
     },
     "execution_count": 57,
     "metadata": {},
     "output_type": "execute_result"
    }
   ],
   "source": [
    "# # playing around with chaining\n",
    "# from langchain import hub\n",
    "# from langchain_core.runnables import RunnablePassthrough\n",
    "\n",
    "# prompt = hub.pull(\"rlm/rag-prompt\")\n",
    "\n",
    "# def context(x):\n",
    "#     print('This is x:', x)\n",
    "#     return 'My name is Andrew'\n",
    "# # try chaining with prompt\n",
    "# chain: RunnablePassthrough = (\n",
    "#     {\n",
    "#         \"context\": context,\n",
    "#         \"question\": RunnablePassthrough(),  # passes through the input question unchanged.\n",
    "#     }\n",
    "#     | prompt\n",
    "#     | llm\n",
    "# )\n",
    "# chain.invoke('Whats my name?',{\n",
    "#     'metadata':{\n",
    "#         'mykey':'myvalue' # This doesn't appear in the response\n",
    "#     }\n",
    "# })"
   ]
  },
  {
   "cell_type": "markdown",
   "metadata": {},
   "source": [
    "## Another way. Chaining"
   ]
  },
  {
   "cell_type": "code",
   "execution_count": 66,
   "metadata": {},
   "outputs": [
    {
     "name": "stdout",
     "output_type": "stream",
     "text": [
      "This is input in extract_dataurl: data:image/png;base64,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<end_of_image>Describe this image in less than 10 words\n",
      "This is input in extract_text_data: data:image/png;base64,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<end_of_image>Describe this image in less than 10 words\n"
     ]
    },
    {
     "data": {
      "text/plain": [
       "AIMessage(content=' Smiley face with yellow background. ', response_metadata={'model': 'llava', 'created_at': '2024-09-01T16:35:50.9334271Z', 'message': {'role': 'assistant', 'content': ''}, 'done_reason': 'stop', 'done': True, 'total_duration': 27272854900, 'load_duration': 15872800, 'prompt_eval_count': 1, 'prompt_eval_duration': 7635137000, 'eval_count': 9, 'eval_duration': 19613406000}, id='run-8ce91b01-e7bb-447a-a54e-deae31adbe02-0', usage_metadata={'input_tokens': 1, 'output_tokens': 9, 'total_tokens': 10})"
      ]
     },
     "execution_count": 66,
     "metadata": {},
     "output_type": "execute_result"
    }
   ],
   "source": [
    "# use chaining with image analysis\n",
    "from langchain_core.runnables import RunnablePassthrough\n",
    "\n",
    "def extract_dataurl(input: str):\n",
    "    print(\"This is input in extract_dataurl:\", input)\n",
    "    dataurl = input.split(\"<end_of_image>\")[0]\n",
    "    return dataurl\n",
    "\n",
    "def extract_text_data(input: str):\n",
    "    print(\"This is input in extract_text_data:\", input)\n",
    "    text_data = input.split(\"<end_of_image>\")[1]\n",
    "    return text_data\n",
    "\n",
    "# try chaining with prompt\n",
    "chain: RunnablePassthrough = (\n",
    "    {\n",
    "        \"image_data\": extract_dataurl,\n",
    "        \"text_data\": extract_text_data\n",
    "    }\n",
    "    | prompt\n",
    "    | llm\n",
    ")\n",
    "chain.invoke(\n",
    "    f\"{dataurl}<end_of_image>Describe this image in less than 10 words\",\n",
    ")"
   ]
  },
  {
   "cell_type": "markdown",
   "metadata": {},
   "source": [
    "## Or you could just separate the dataurl from the question with a List"
   ]
  },
  {
   "cell_type": "code",
   "execution_count": 7,
   "metadata": {},
   "outputs": [
    {
     "name": "stdout",
     "output_type": "stream",
     "text": [
      "This is input in extract_dataurl:This is input in extract_text_data: ['data:image/png;base64,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', 'Describe this image in less than 10 words']\n",
      " ['data:image/png;base64,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', 'Describe this image in less than 10 words']\n"
     ]
    },
    {
     "data": {
      "text/plain": [
       "AIMessage(content=' Smiley face with yellow background. ', response_metadata={'model': 'llava', 'created_at': '2024-09-01T17:05:14.8915323Z', 'message': {'role': 'assistant', 'content': ''}, 'done_reason': 'stop', 'done': True, 'total_duration': 1934177300, 'load_duration': 6963300, 'prompt_eval_count': 1, 'prompt_eval_duration': 1554160000, 'eval_count': 9, 'eval_duration': 370415000}, id='run-6e7a3956-1730-430d-9d1c-7435a64d898e-0', usage_metadata={'input_tokens': 1, 'output_tokens': 9, 'total_tokens': 10})"
      ]
     },
     "execution_count": 7,
     "metadata": {},
     "output_type": "execute_result"
    }
   ],
   "source": [
    "# use chaining with image analysis\n",
    "from langchain_core.runnables import RunnablePassthrough\n",
    "\n",
    "def extract_dataurl(input):\n",
    "    print(\"This is input in extract_dataurl:\", input)\n",
    "    dataurl = input[0]\n",
    "    return dataurl\n",
    "\n",
    "\n",
    "def extract_text_data(input):\n",
    "    print(\"This is input in extract_text_data:\", input)\n",
    "    text_data = input[1]\n",
    "    return text_data\n",
    "\n",
    "\n",
    "# try chaining with prompt\n",
    "chain: RunnablePassthrough = (\n",
    "    {\n",
    "        \"image_data\": extract_dataurl, \n",
    "        \"text_data\": extract_text_data\n",
    "    } \n",
    "    | prompt \n",
    "    | llm\n",
    ")\n",
    "# Instead of putting the dataurl and question in a string, we can put them in a list\n",
    "chain.invoke(\n",
    "    [\n",
    "        dataurl,\n",
    "        \"Describe this image in less than 10 words\"\n",
    "    ]\n",
    ")"
   ]
  },
  {
   "cell_type": "markdown",
   "metadata": {},
   "source": [
    "## Another method. Class"
   ]
  },
  {
   "cell_type": "code",
   "execution_count": 6,
   "metadata": {},
   "outputs": [
    {
     "data": {
      "text/plain": [
       "AIMessage(content=' Smiley face with yellow background. ', response_metadata={'model': 'llava', 'created_at': '2024-09-01T17:04:57.3321382Z', 'message': {'role': 'assistant', 'content': ''}, 'done_reason': 'stop', 'done': True, 'total_duration': 1908148900, 'load_duration': 8298900, 'prompt_eval_count': 1, 'prompt_eval_duration': 1526724000, 'eval_count': 9, 'eval_duration': 369741000}, id='run-c6cac045-8ad7-4fd2-b719-c8bd56a50d2c-0', usage_metadata={'input_tokens': 1, 'output_tokens': 9, 'total_tokens': 10})"
      ]
     },
     "execution_count": 6,
     "metadata": {},
     "output_type": "execute_result"
    }
   ],
   "source": [
    "from langchain_core.retrievers import BaseRetriever\n",
    "from langsmith import (\n",
    "    traceable,\n",
    ")  # Automatically looks at .env from os.environ to connect to langsmith\n",
    "\n",
    "\n",
    "class RagBot:\n",
    "\n",
    "    def __init__(self):\n",
    "        self._client = llm\n",
    "\n",
    "    @traceable()\n",
    "    def invoke_llm(self, question, dataurl):\n",
    "        response = self._client.invoke(\n",
    "            [\n",
    "                (\"system\", \"You are a helpful assistant\"),\n",
    "                # (\"placeholder\", \"{chat_history}\"),\n",
    "                (\n",
    "                    \"human\",\n",
    "                    [\n",
    "                        {\n",
    "                            \"type\": \"image_url\",\n",
    "                            \"image_url\": {\"url\": dataurl},\n",
    "                        },\n",
    "                        {\n",
    "                            \"type\": \"text\",\n",
    "                            \"text\": question,\n",
    "                        },\n",
    "                    ],\n",
    "                ),\n",
    "            ]\n",
    "        )\n",
    "        return response\n",
    "\n",
    "    @traceable()\n",
    "    def get_answer(self, question: str, dataurl: str):\n",
    "        return self.invoke_llm(question, dataurl)\n",
    "\n",
    "\n",
    "rag_bot = RagBot()\n",
    "\n",
    "response = rag_bot.get_answer(\"Describe this image in less than 10 words\", dataurl)\n",
    "response"
   ]
  },
  {
   "cell_type": "markdown",
   "metadata": {},
   "source": [
    "## llama3.1 doesn't recognize image_url"
   ]
  },
  {
   "cell_type": "code",
   "execution_count": 68,
   "metadata": {},
   "outputs": [
    {
     "data": {
      "text/plain": [
       "AIMessage(content=\"I don't see an image. Can you describe it to me?\", response_metadata={'model': 'llama3.1', 'created_at': '2024-09-01T16:37:49.1330472Z', 'message': {'role': 'assistant', 'content': ''}, 'done_reason': 'stop', 'done': True, 'total_duration': 21665621000, 'load_duration': 8315049300, 'prompt_eval_count': 36, 'prompt_eval_duration': 122664000, 'eval_count': 15, 'eval_duration': 13221118000}, id='run-00092418-8c90-46fe-85ac-f7df7a63c809-0', usage_metadata={'input_tokens': 36, 'output_tokens': 15, 'total_tokens': 51})"
      ]
     },
     "execution_count": 68,
     "metadata": {},
     "output_type": "execute_result"
    }
   ],
   "source": [
    "# llama3.1 doesn't work. Doesn't see an image. Might have to use a different version, qresearch/llama-3.1-8B-vision-378\n",
    "llm.invoke(\n",
    "    [\n",
    "        (\"system\", \"You are a helpful assistant\"),\n",
    "        # (\"placeholder\", \"{chat_history}\"),\n",
    "        (\n",
    "            \"human\",\n",
    "            [\n",
    "                {\n",
    "                    \"type\": \"image_url\",\n",
    "                    \"image_url\": {\"url\": dataurl},\n",
    "                },\n",
    "                {\n",
    "                    \"type\": \"text\",\n",
    "                    \"text\": \"Describe this image in less than 10 words:\",\n",
    "                },\n",
    "            ],\n",
    "        ),\n",
    "    ]\n",
    ")"
   ]
  }
 ],
 "metadata": {
  "kernelspec": {
   "display_name": ".venv",
   "language": "python",
   "name": "python3"
  },
  "language_info": {
   "codemirror_mode": {
    "name": "ipython",
    "version": 3
   },
   "file_extension": ".py",
   "mimetype": "text/x-python",
   "name": "python",
   "nbconvert_exporter": "python",
   "pygments_lexer": "ipython3",
   "version": "3.11.0"
  }
 },
 "nbformat": 4,
 "nbformat_minor": 2
}
