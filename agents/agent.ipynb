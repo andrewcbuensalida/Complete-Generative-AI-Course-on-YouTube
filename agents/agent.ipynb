{
 "cells": [
  {
   "cell_type": "markdown",
   "metadata": {},
   "source": [
    "# How to use an agent\n",
    "Following https://python.langchain.com/v0.1/docs/modules/agents/quick_start/"
   ]
  },
  {
   "cell_type": "markdown",
   "metadata": {},
   "source": [
    "## Define tavily search tool"
   ]
  },
  {
   "cell_type": "code",
   "execution_count": 2,
   "metadata": {},
   "outputs": [
    {
     "data": {
      "text/plain": [
       "[{'url': 'https://www.wunderground.com/hourly/us/ca/san-francisco/94112/date/2024-7-11',\n",
       "  'content': 'San Francisco Weather Forecasts. Weather Underground provides local & long-range weather forecasts, weatherreports, maps & tropical weather conditions for the San Francisco area.'},\n",
       " {'url': 'https://www.weatherapi.com/',\n",
       "  'content': \"{'location': {'name': 'San Francisco', 'region': 'California', 'country': 'United States of America', 'lat': 37.78, 'lon': -122.42, 'tz_id': 'America/Los_Angeles', 'localtime_epoch': 1720728663, 'localtime': '2024-07-11 13:11'}, 'current': {'last_updated_epoch': 1720728000, 'last_updated': '2024-07-11 13:00', 'temp_c': 25.6, 'temp_f': 78.1, 'is_day': 1, 'condition': {'text': 'Partly cloudy', 'icon': '//cdn.weatherapi.com/weather/64x64/day/116.png', 'code': 1003}, 'wind_mph': 5.6, 'wind_kph': 9.0, 'wind_degree': 270, 'wind_dir': 'W', 'pressure_mb': 1012.0, 'pressure_in': 29.87, 'precip_mm': 0.0, 'precip_in': 0.0, 'humidity': 52, 'cloud': 75, 'feelslike_c': 26.6, 'feelslike_f': 79.9, 'windchill_c': 22.0, 'windchill_f': 71.5, 'heatindex_c': 24.2, 'heatindex_f': 75.6, 'dewpoint_c': 13.5, 'dewpoint_f': 56.3, 'vis_km': 16.0, 'vis_miles': 9.0, 'uv': 6.0, 'gust_mph': 15.8, 'gust_kph': 25.4}}\"},\n",
       " {'url': 'https://forecast.weather.gov/zipcity.php?inputstring=San+Francisco,CA',\n",
       "  'content': 'Detailed Forecast. Sunny, with a high near 72. West southwest wind 5 to 11 mph. Partly cloudy, with a low around 56. West southwest wind 5 to 9 mph. Sunny, with a high near 71. West southwest wind 5 to 13 mph, with gusts as high as 18 mph. Partly cloudy, with a low around 56. West southwest wind 5 to 10 mph.'},\n",
       " {'url': 'https://www.mercurynews.com/2024/07/11/a-final-encore-for-the-bay-area-heat-wave-temperatures-will-soar-again/',\n",
       "  'content': 'A Bay Area heat wave that got its start more than a week ago was set for its final encore on Thursday before the curtains were expected to begin closing on it for good. \"One more day of really ...'},\n",
       " {'url': 'https://www.timeanddate.com/weather/@z-us-94116/hourly',\n",
       "  'content': 'Sun & Moon. Weather Today Weather Hourly 14 Day Forecast Yesterday/Past Weather Climate (Averages) Currently: 72 °F. Passing clouds. (Weather station: San Francisco International Airport, USA). See more current weather.'}]"
      ]
     },
     "execution_count": 2,
     "metadata": {},
     "output_type": "execute_result"
    }
   ],
   "source": [
    "from langchain_community.tools.tavily_search import TavilySearchResults\n",
    "search = TavilySearchResults()\n",
    "search.invoke(\"what is the weather in SF\")"
   ]
  },
  {
   "cell_type": "markdown",
   "metadata": {},
   "source": [
    "## Define retriever"
   ]
  },
  {
   "cell_type": "code",
   "execution_count": 3,
   "metadata": {},
   "outputs": [
    {
     "name": "stderr",
     "output_type": "stream",
     "text": [
      "USER_AGENT environment variable not set, consider setting it to identify your requests.\n"
     ]
    }
   ],
   "source": [
    "from langchain_community.document_loaders import WebBaseLoader\n",
    "from langchain_community.vectorstores import FAISS # This is Facebook AI's Similarity Search vector store\n",
    "from langchain_openai import OpenAIEmbeddings\n",
    "from langchain_text_splitters import RecursiveCharacterTextSplitter\n",
    "\n",
    "embeddings = OpenAIEmbeddings()"
   ]
  },
  {
   "cell_type": "code",
   "execution_count": 14,
   "metadata": {
    "slideshow": {
     "slide_type": "skip"
    }
   },
   "outputs": [],
   "source": [
    "# Skip this if you already have a faiss_index folder\n",
    "loader = WebBaseLoader(\"https://en.wikipedia.org/wiki/Cancer\")\n",
    "docs = loader.load()\n",
    "documents = RecursiveCharacterTextSplitter(\n",
    "    chunk_size=1000, chunk_overlap=200\n",
    ").split_documents(docs)\n",
    "vector = FAISS.from_documents(\n",
    "    documents, embeddings\n",
    ")  # This is in-memory. Have to do vector.save_local() to save to a faiss_index folder\n",
    "vector.save_local(\"faiss_index\")"
   ]
  },
  {
   "cell_type": "code",
   "execution_count": 17,
   "metadata": {},
   "outputs": [
    {
     "data": {
      "text/plain": [
       "[Document(page_content='In 2008, approximately 12.7\\xa0million cancers were diagnosed (excluding non-melanoma skin cancers and other non-invasive cancers)[25] and in 2010 nearly 7.98\\xa0million people died.[212] Cancers account for approximately 16% of deaths. The most common as of 2018[update] are lung cancer (1.76\\xa0million deaths), colorectal cancer (860,000) stomach cancer (780,000), liver cancer (780,000), and breast cancer (620,000).[2] This makes invasive cancer the leading cause of death in the developed world and the second leading in the developing world.[25] Over half of cases occur in the developing world.[25]', metadata={'source': 'https://en.wikipedia.org/wiki/Cancer', 'title': 'Cancer - Wikipedia', 'language': 'en'}),\n",
       " Document(page_content='In 2015, about 90.5\\xa0million people worldwide had cancer.[19] In 2019, annual cancer cases grew by 23.6\\xa0million people, and there were 10 million deaths worldwide, representing over the previous decade increases of 26% and 21%, respectively.[6][20]', metadata={'source': 'https://en.wikipedia.org/wiki/Cancer', 'title': 'Cancer - Wikipedia', 'language': 'en'}),\n",
       " Document(page_content='Graphs are unavailable due to technical issues. There is more info on Phabricator and on MediaWiki.org.\\nSee or edit source data. Age-standardized death rate from cancer per 10,000 people.[210]\\nEstimates are that in 2018, 18.1\\xa0million new cases of cancer and 9.6\\xa0million deaths occur globally.[211] About 20% of males and 17% of females will get cancer at some point in time while 13% of males and 9% of females will die from it.[211]', metadata={'source': 'https://en.wikipedia.org/wiki/Cancer', 'title': 'Cancer - Wikipedia', 'language': 'en'}),\n",
       " Document(page_content='Deaths from cancer were 5.8\\xa0million in 1990.[212] Deaths have been increasing primarily due to longer lifespans and lifestyle changes in the developing world.[25] The most significant risk factor for developing cancer is age.[213] Although it is possible for cancer to strike at any age, most patients with invasive cancer are over 65.[213] According to cancer researcher Robert A. Weinberg, \"If we lived long enough, sooner or later we all would get cancer.\"[214] Some of the association between aging and cancer is attributed to immunosenescence,[215] errors accumulated in DNA over a lifetime[216] and age-related changes in the endocrine system.[217] Aging\\'s effect on cancer is complicated by factors such as DNA damage and inflammation promoting it and factors such as vascular aging and endocrine changes inhibiting it.[218]', metadata={'source': 'https://en.wikipedia.org/wiki/Cancer', 'title': 'Cancer - Wikipedia', 'language': 'en'})]"
      ]
     },
     "execution_count": 17,
     "metadata": {},
     "output_type": "execute_result"
    }
   ],
   "source": [
    "# If you have the faiss_index folder (the vector store) already, just load it\n",
    "vector = FAISS.load_local(\n",
    "    \"faiss_index\", embeddings, allow_dangerous_deserialization=True\n",
    ")  # This is how you load it back\n",
    "retriever = vector.as_retriever()\n",
    "retriever.invoke(\"How many people die of cancer?\")"
   ]
  },
  {
   "cell_type": "markdown",
   "metadata": {},
   "source": [
    "## Turn retriever into another tool"
   ]
  },
  {
   "cell_type": "code",
   "execution_count": 18,
   "metadata": {},
   "outputs": [
    {
     "data": {
      "text/plain": [
       "Tool(name='cancer_search', description='Search for information about cancer based on wikipedia page. For any questions about cancer, you must use this tool!', args_schema=<class 'langchain_core.tools.RetrieverInput'>, func=functools.partial(<function _get_relevant_documents at 0x00000242C9B6E3E0>, retriever=VectorStoreRetriever(tags=['FAISS', 'OpenAIEmbeddings'], vectorstore=<langchain_community.vectorstores.faiss.FAISS object at 0x000002434DD2E610>), document_prompt=PromptTemplate(input_variables=['page_content'], template='{page_content}'), document_separator='\\n\\n'), coroutine=functools.partial(<function _aget_relevant_documents at 0x00000242C9B6E5C0>, retriever=VectorStoreRetriever(tags=['FAISS', 'OpenAIEmbeddings'], vectorstore=<langchain_community.vectorstores.faiss.FAISS object at 0x000002434DD2E610>), document_prompt=PromptTemplate(input_variables=['page_content'], template='{page_content}'), document_separator='\\n\\n'))"
      ]
     },
     "execution_count": 18,
     "metadata": {},
     "output_type": "execute_result"
    }
   ],
   "source": [
    "from langchain.tools.retriever import create_retriever_tool\n",
    "retriever_tool = create_retriever_tool(\n",
    "    retriever,\n",
    "    \"cancer_search\",\n",
    "    \"Search for information about cancer based on wikipedia page. For any questions about cancer, you must use this tool!\",\n",
    ")\n",
    "retriever_tool"
   ]
  },
  {
   "cell_type": "code",
   "execution_count": 19,
   "metadata": {},
   "outputs": [],
   "source": [
    "tools = [search, retriever_tool]"
   ]
  },
  {
   "cell_type": "markdown",
   "metadata": {},
   "source": [
    "## Create the agent"
   ]
  },
  {
   "cell_type": "code",
   "execution_count": 8,
   "metadata": {},
   "outputs": [],
   "source": [
    "from langchain_openai import ChatOpenAI\n",
    "\n",
    "llm = ChatOpenAI(model=\"gpt-3.5-turbo-0125\", temperature=0)"
   ]
  },
  {
   "cell_type": "code",
   "execution_count": 9,
   "metadata": {},
   "outputs": [
    {
     "data": {
      "text/plain": [
       "[SystemMessagePromptTemplate(prompt=PromptTemplate(input_variables=[], template='You are a helpful assistant')),\n",
       " MessagesPlaceholder(variable_name='chat_history', optional=True),\n",
       " HumanMessagePromptTemplate(prompt=PromptTemplate(input_variables=['input'], template='{input}')),\n",
       " MessagesPlaceholder(variable_name='agent_scratchpad')]"
      ]
     },
     "execution_count": 9,
     "metadata": {},
     "output_type": "execute_result"
    }
   ],
   "source": [
    "from langchain import hub\n",
    "\n",
    "# To see what prompt is, https://smith.langchain.com/hub/hwchase17/openai-functions-agent\n",
    "prompt = hub.pull(\"hwchase17/openai-functions-agent\") # Prompt to guide agent\n",
    "prompt.messages"
   ]
  },
  {
   "cell_type": "markdown",
   "metadata": {},
   "source": [
    "## Initialize agent with llm, prompt, and tools"
   ]
  },
  {
   "cell_type": "code",
   "execution_count": 20,
   "metadata": {},
   "outputs": [],
   "source": [
    "from langchain.agents import create_tool_calling_agent\n",
    "\n",
    "agent = create_tool_calling_agent(llm, tools, prompt) # the brains"
   ]
  },
  {
   "cell_type": "code",
   "execution_count": 21,
   "metadata": {},
   "outputs": [],
   "source": [
    "# Define the agent executor\n",
    "from langchain.agents import AgentExecutor\n",
    "\n",
    "agent_executor = AgentExecutor(agent=agent, tools=tools, verbose=True) # this repeatedly calls the agent and executes the tools"
   ]
  },
  {
   "cell_type": "code",
   "execution_count": 22,
   "metadata": {},
   "outputs": [
    {
     "name": "stdout",
     "output_type": "stream",
     "text": [
      "\n",
      "\n",
      "\u001b[1m> Entering new AgentExecutor chain...\u001b[0m\n",
      "\u001b[32;1m\u001b[1;3m\n",
      "Invoking: `cancer_search` with `{'query': 'causes of cancer'}`\n",
      "\n",
      "\n",
      "\u001b[0m\u001b[33;1m\u001b[1;3mSome environments make errors more likely to arise and propagate. Such environments can include the presence of disruptive substances called carcinogens, repeated physical injury, heat, ionising radiation, or hypoxia.[98]\n",
      "The errors that cause cancer are self-amplifying and compounding, for example:\n",
      "\n",
      "Tobacco use is the cause of about 22% of cancer deaths.[2] Another 10% are due to obesity, poor diet, lack of physical activity or excessive alcohol consumption.[2][8][9] Other factors include certain infections, exposure to ionizing radiation, and environmental pollutants.[3] Infection with specific viruses, bacteria and parasites is an environmental factor causing approximately 16-18% of cancers worldwide.[10]  These infectious agents include Helicobacter pylori, hepatitis B, hepatitis C, human papillomavirus infection, Epstein–Barr virus, Human T-lymphotropic virus 1, Kaposi's sarcoma-associated herpesvirus and Merkel cell polyomavirus.  Human immunodeficiency virus (HIV) does not directly cause cancer but it causes immune deficiency that can magnify the risk due to other infections, sometimes up to several thousand fold (in the case of Kaposi's sarcoma). Importantly, vaccination against hepatitis B and human papillomavirus have been shown to nearly eliminate risk of cancers caused\n",
      "\n",
      "Causes\n",
      "Main article: Causes of cancer\n",
      "The GHS Hazard pictogram for carcinogenic substances\n",
      "Share of cancer deaths attributed to tobacco in 2016.[42]\n",
      "The majority of cancers, some 90–95% of cases, are due to genetic mutations from environmental and lifestyle factors.[3] The remaining 5–10% are due to inherited genetics.[3] Environmental refers to any cause that is not inherited, such as lifestyle, economic, and behavioral factors and not merely pollution.[43] Common environmental factors that contribute to cancer death include tobacco use (25–30%), diet and obesity (30–35%), infections (15–20%), radiation (both ionizing and non-ionizing, up to 10%), lack of physical activity, and pollution.[3][44] Psychological stress does not appear to be a risk factor for the onset of cancer,[45][46] though it may worsen outcomes in those who already have cancer.[45]\n",
      "\n",
      "Environmental or lifestyle factors that caused cancer to develop in an individual can be identified by analyzing mutational signatures from genomic sequencing of tumor DNA. For example, this can reveal if lung cancer was caused by tobacco smoke, if skin cancer was caused by UV radiation, or if secondary cancers were caused by previous chemotherapy treatment.[47]\n",
      "Cancer is generally not a transmissible disease.[48] Exceptions include rare transmissions that occur with pregnancies and occasional organ donors. However, transmissible infectious diseases such as hepatitis B, Epstein-Barr virus, Human Papilloma Virus and HIV, can contribute to the development of cancer.[citation needed]\u001b[0m\u001b[32;1m\u001b[1;3mThe majority of cancers, about 90-95% of cases, are due to genetic mutations from environmental and lifestyle factors. Common factors that contribute to cancer include tobacco use, diet, obesity, infections, radiation, lack of physical activity, and pollution. Inherited genetics account for the remaining 5-10% of cancer cases. Environmental or lifestyle factors that cause cancer can be identified by analyzing mutational signatures from genomic sequencing of tumor DNA. Some specific causes of cancer include tobacco use, obesity, poor diet, lack of physical activity, excessive alcohol consumption, certain infections, exposure to ionizing radiation, and environmental pollutants.\u001b[0m\n",
      "\n",
      "\u001b[1m> Finished chain.\u001b[0m\n"
     ]
    },
    {
     "data": {
      "text/plain": [
       "{'input': 'What causes cancer?',\n",
       " 'output': 'The majority of cancers, about 90-95% of cases, are due to genetic mutations from environmental and lifestyle factors. Common factors that contribute to cancer include tobacco use, diet, obesity, infections, radiation, lack of physical activity, and pollution. Inherited genetics account for the remaining 5-10% of cancer cases. Environmental or lifestyle factors that cause cancer can be identified by analyzing mutational signatures from genomic sequencing of tumor DNA. Some specific causes of cancer include tobacco use, obesity, poor diet, lack of physical activity, excessive alcohol consumption, certain infections, exposure to ionizing radiation, and environmental pollutants.'}"
      ]
     },
     "execution_count": 22,
     "metadata": {},
     "output_type": "execute_result"
    }
   ],
   "source": [
    "agent_executor.invoke({\"input\": \"What causes cancer?\"})"
   ]
  },
  {
   "cell_type": "code",
   "execution_count": 23,
   "metadata": {},
   "outputs": [
    {
     "name": "stdout",
     "output_type": "stream",
     "text": [
      "\n",
      "\n",
      "\u001b[1m> Entering new AgentExecutor chain...\u001b[0m\n",
      "\u001b[32;1m\u001b[1;3m\n",
      "Invoking: `tavily_search_results_json` with `{'query': 'latest news on cancer'}`\n",
      "\n",
      "\n",
      "\u001b[0m\u001b[36;1m\u001b[1;3m[{'url': 'https://www.nbcnews.com/health/cancer/aggressive-colon-cancer-newly-identified-bacteria-found-half-tumors-ma-rcna144164', 'content': 'Aggressive colon cancer: Newly identified bacteria found in half of tumors may drive growth. Cancer. A new type of bacteria was found in 50% of colon cancers. Many were aggressive cases ...'}, {'url': 'https://www.nbcnews.com/health/health-news/fda-approves-groundbreaking-treatment-advanced-melanoma-rcna138005', 'content': 'The Food and Drug Administration on Friday approved a new cancer therapy that could one day transform the way a majority of aggressive and advanced tumors are treated. The treatment, called ...'}, {'url': 'https://www.sciencedaily.com/news/health_medicine/cancer/', 'content': 'Cancer News. July 10, 2024 ... 2024 — Transgender women are still at risk for prostate cancer. A new study concludes that current screening guidelines could miss early-stage prostate cancer in ...'}, {'url': 'https://www.npr.org/2022/06/07/1103545361/cancer-drug-experimental-rectal-chemotherapy-surgery-treatment-immunotherapy', 'content': \"On how this study could be seen as 'practice-changing':Our hope would be that for this subgroup of people - which is only about five percent to 10 percent of people who have rectal cancer - if they can go on and just get six months of immunotherapy and not have any of the rest of this - I don't even know the word to use. I have had patients who, after their rectal cancer, have barely left the house for years - and in a couple of cases, even decades - because of the consequences of incontinence and the shame that's associated with this.\\n Health\\nThis experimental drug could change the field of cancer research\\nBy\\nSacha Pfeiffer\\n,\\nJonaki Mehta\\nThe new treatment is categorized as immunotherapy.\\n On next steps for the drug:What I'd really like us to do is get a bigger trial where this drug is used in a much more diverse setting to understand what the real, true response rate is going to be. Dr. Hanna Sanoff of the University of North Carolina's Lineberger Comprehensive Cancer Center joined NPR's All Things Considered to outline how this drug works and what it could mean for the future of cancer research.\"}, {'url': 'https://www.npr.org/sections/health-shots/2024/04/12/1244132197/lung-cancer-immunotherapy-survival-targeted-therapy', 'content': 'Lung cancer survival rates are up thanks to immunotherapy, other new treatments : Shots - Health News Scientific advances in immunotherapy and new targeted therapies have increased survival rates ...'}]\u001b[0m\u001b[32;1m\u001b[1;3mHere are some of the latest news articles on cancer:\n",
      "\n",
      "1. [Aggressive colon cancer: Newly identified bacteria found in half of tumors may drive growth](https://www.nbcnews.com/health/cancer/aggressive-colon-cancer-newly-identified-bacteria-found-half-tumors-ma-rcna144164)\n",
      "2. [FDA approves groundbreaking treatment for advanced melanoma](https://www.nbcnews.com/health/health-news/fda-approves-groundbreaking-treatment-advanced-melanoma-rcna138005)\n",
      "3. [Transgender women are still at risk for prostate cancer](https://www.sciencedaily.com/news/health_medicine/cancer/)\n",
      "4. [Experimental drug for rectal cancer treatment with immunotherapy](https://www.npr.org/2022/06/07/1103545361/cancer-drug-experimental-rectal-chemotherapy-surgery-treatment-immunotherapy)\n",
      "5. [Lung cancer survival rates up thanks to immunotherapy and new treatments](https://www.npr.org/sections/health-shots/2024/04/12/1244132197/lung-cancer-immunotherapy-survival-targeted-therapy)\n",
      "\n",
      "You can click on the links to read more about each news article.\u001b[0m\n",
      "\n",
      "\u001b[1m> Finished chain.\u001b[0m\n"
     ]
    },
    {
     "data": {
      "text/plain": [
       "{'input': \"What's the latest news on cancer?\",\n",
       " 'output': 'Here are some of the latest news articles on cancer:\\n\\n1. [Aggressive colon cancer: Newly identified bacteria found in half of tumors may drive growth](https://www.nbcnews.com/health/cancer/aggressive-colon-cancer-newly-identified-bacteria-found-half-tumors-ma-rcna144164)\\n2. [FDA approves groundbreaking treatment for advanced melanoma](https://www.nbcnews.com/health/health-news/fda-approves-groundbreaking-treatment-advanced-melanoma-rcna138005)\\n3. [Transgender women are still at risk for prostate cancer](https://www.sciencedaily.com/news/health_medicine/cancer/)\\n4. [Experimental drug for rectal cancer treatment with immunotherapy](https://www.npr.org/2022/06/07/1103545361/cancer-drug-experimental-rectal-chemotherapy-surgery-treatment-immunotherapy)\\n5. [Lung cancer survival rates up thanks to immunotherapy and new treatments](https://www.npr.org/sections/health-shots/2024/04/12/1244132197/lung-cancer-immunotherapy-survival-targeted-therapy)\\n\\nYou can click on the links to read more about each news article.'}"
      ]
     },
     "execution_count": 23,
     "metadata": {},
     "output_type": "execute_result"
    }
   ],
   "source": [
    "agent_executor.invoke({\"input\": \"What's the latest news on cancer?\"})"
   ]
  },
  {
   "cell_type": "code",
   "execution_count": 13,
   "metadata": {},
   "outputs": [
    {
     "name": "stdout",
     "output_type": "stream",
     "text": [
      "\n",
      "\n",
      "\u001b[1m> Entering new AgentExecutor chain...\u001b[0m\n",
      "\u001b[32;1m\u001b[1;3m\n",
      "Invoking: `tavily_search_results_json` with `{'query': 'weather in San Francisco'}`\n",
      "\n",
      "\n",
      "\u001b[0m\u001b[36;1m\u001b[1;3m[{'url': 'https://weatherspark.com/h/y/557/2024/Historical-Weather-during-2024-in-San-Francisco-California-United-States', 'content': 'San Francisco Temperature History 2024\\nHourly Temperature in 2024 in San Francisco\\nCompare San Francisco to another city:\\nCloud Cover in 2024 in San Francisco\\nDaily Precipitation in 2024 in San Francisco\\nObserved Weather in 2024 in San Francisco\\nHours of Daylight and Twilight in 2024 in San Francisco\\nSunrise & Sunset with Twilight and Daylight Saving Time in 2024 in San Francisco\\nSolar Elevation and Azimuth in 2024 in San Francisco\\nMoon Rise, Set & Phases in 2024 in San Francisco\\nHumidity Comfort Levels in 2024 in San Francisco\\nWind Speed in 2024 in San Francisco\\nHourly Wind Speed in 2024 in San Francisco\\nHourly Wind Direction in 2024 in San Francisco\\nAtmospheric Pressure in 2024 in San Francisco\\nData Sources\\n See all nearby weather stations\\nLatest Report — 3:56 PM\\nWed, Jan 24, 2024\\xa0\\xa0\\xa0\\xa013 min ago\\xa0\\xa0\\xa0\\xa0UTC 23:56\\nCall Sign KSFO\\nTemp.\\n60.1°F\\nPrecipitation\\nNo Report\\nWind\\n6.9 mph\\nCloud Cover\\nMostly Cloudy\\n1,800 ft\\nRaw: KSFO 242356Z 18006G19KT 10SM FEW015 BKN018 BKN039 16/12 A3004 RMK AO2 SLP171 T01560122 10156 20122 55001\\n While having the tremendous advantages of temporal and spatial completeness, these reconstructions: (1) are based on computer models that may have model-based errors, (2) are coarsely sampled on a 50 km grid and are therefore unable to reconstruct the local variations of many microclimates, and (3) have particular difficulty with the weather in some coastal areas, especially small islands.\\n We further caution that our travel scores are only as good as the data that underpin them, that weather conditions at any given location and time are unpredictable and variable, and that the definition of the scores reflects a particular set of preferences that may not agree with those of any particular reader.\\n 2024 Weather History in San Francisco California, United States\\nThe data for this report comes from the San Francisco International Airport.'}, {'url': 'https://www.weatherapi.com/', 'content': \"{'location': {'name': 'San Francisco', 'region': 'California', 'country': 'United States of America', 'lat': 37.78, 'lon': -122.42, 'tz_id': 'America/Los_Angeles', 'localtime_epoch': 1720729028, 'localtime': '2024-07-11 13:17'}, 'current': {'last_updated_epoch': 1720728900, 'last_updated': '2024-07-11 13:15', 'temp_c': 28.9, 'temp_f': 84.0, 'is_day': 1, 'condition': {'text': 'Sunny', 'icon': '//cdn.weatherapi.com/weather/64x64/day/113.png', 'code': 1000}, 'wind_mph': 10.5, 'wind_kph': 16.9, 'wind_degree': 310, 'wind_dir': 'NW', 'pressure_mb': 1011.0, 'pressure_in': 29.86, 'precip_mm': 0.0, 'precip_in': 0.0, 'humidity': 46, 'cloud': 0, 'feelslike_c': 30.7, 'feelslike_f': 87.3, 'windchill_c': 22.0, 'windchill_f': 71.5, 'heatindex_c': 24.2, 'heatindex_f': 75.6, 'dewpoint_c': 13.5, 'dewpoint_f': 56.3, 'vis_km': 16.0, 'vis_miles': 9.0, 'uv': 6.0, 'gust_mph': 15.8, 'gust_kph': 25.4}}\"}, {'url': 'https://www.almanac.com/weather/longrange/CA/San Francisco', 'content': \"The 12-Month Long-Range Weather Report From The 2024 Old Farmer's Almanac November 2023 to October 2024\"}, {'url': 'https://weather.com/weather/monthly/l/4542cd74796d7e3d7a4ab484d5154cd0f569bc2455dcec56d0c2c7648b84dbd5', 'content': 'Weather.com brings you the most accurate monthly weather forecast for San Francisco, CA with average/record and high/low temperatures, precipitation and more.'}, {'url': 'https://www.mercurynews.com/2024/07/11/a-final-encore-for-the-bay-area-heat-wave-temperatures-will-soar-again/', 'content': 'A Bay Area heat wave that got its start more than a week ago was set for its final encore on Thursday before the curtains were expected to begin closing on it for good. \"One more day of really ...'}]\u001b[0m\u001b[32;1m\u001b[1;3mThe current weather in San Francisco is 84.0°F with sunny conditions. The wind speed is 16.9 kph coming from the northwest direction. The humidity is at 46%, and there is no precipitation at the moment.\u001b[0m\n",
      "\n",
      "\u001b[1m> Finished chain.\u001b[0m\n"
     ]
    },
    {
     "data": {
      "text/plain": [
       "{'input': 'whats the weather in sf?',\n",
       " 'output': 'The current weather in San Francisco is 84.0°F with sunny conditions. The wind speed is 16.9 kph coming from the northwest direction. The humidity is at 46%, and there is no precipitation at the moment.'}"
      ]
     },
     "execution_count": 13,
     "metadata": {},
     "output_type": "execute_result"
    }
   ],
   "source": [
    "agent_executor.invoke({\"input\": \"whats the weather in sf?\"})"
   ]
  },
  {
   "cell_type": "code",
   "execution_count": null,
   "metadata": {},
   "outputs": [],
   "source": [
    "agent_executor.invoke({\"input\": \"What did I just ask you?\"})"
   ]
  },
  {
   "attachments": {
    "image.png": {
     "image/png": "[encoded data removed]"
    }
   },
   "cell_type": "markdown",
   "metadata": {},
   "source": [
    "## Adding memory\n",
    "\n",
    "![image.png](attachment:image.png)"
   ]
  },
  {
   "cell_type": "markdown",
   "metadata": {},
   "source": [
    "## Launch a redis container\n",
    "Could use any database, like sqlite. Here we use redis.\n",
    "\n",
    "docker run --name langchain-redis -d -p 6379:6379 redis redis-server --save 60 1 --loglevel warning\n",
    "\n",
    "Following: https://python.langchain.com/v0.2/docs/integrations/providers/redis/\n",
    "https://python.langchain.com/v0.2/docs/integrations/memory/redis_chat_message_history/\n",
    "\n"
   ]
  },
  {
   "cell_type": "code",
   "execution_count": 44,
   "metadata": {},
   "outputs": [
    {
     "data": {
      "text/plain": [
       "[HumanMessage(content='hi!'), AIMessage(content='whats up?')]"
      ]
     },
     "execution_count": 44,
     "metadata": {},
     "output_type": "execute_result"
    }
   ],
   "source": [
    "from langchain_community.chat_message_histories import RedisChatMessageHistory\n",
    "\n",
    "history = RedisChatMessageHistory(\"foo\", url=\"redis://localhost:6379\")\n",
    "\n",
    "history.clear()\n",
    "\n",
    "history.add_user_message(\"hi!\")\n",
    "\n",
    "history.add_ai_message(\"whats up?\")\n",
    "\n",
    "history.messages"
   ]
  },
  {
   "cell_type": "code",
   "execution_count": 45,
   "metadata": {},
   "outputs": [],
   "source": [
    "from langchain_core.prompts import ChatPromptTemplate, MessagesPlaceholder\n",
    "from langchain_core.runnables.history import RunnableWithMessageHistory\n",
    "\n",
    "agent_with_chat_history = RunnableWithMessageHistory(\n",
    "    agent_executor,\n",
    "    lambda session_id: RedisChatMessageHistory(\n",
    "        session_id, url=\"redis://localhost:6379\"\n",
    "    ),\n",
    "    input_messages_key=\"input\",\n",
    "    history_messages_key=\"chat_history\",\n",
    ")\n",
    "\n",
    "config = {\"configurable\": {\"session_id\": \"foo\"}}\n"
   ]
  },
  {
   "cell_type": "code",
   "execution_count": 46,
   "metadata": {},
   "outputs": [
    {
     "name": "stderr",
     "output_type": "stream",
     "text": [
      "Parent run 7c3b82ba-f4f1-44da-9128-23342f2b8f2f not found for run cd5ff1fc-a49e-4eed-8665-5c91240d683e. Treating as a root run.\n"
     ]
    },
    {
     "name": "stdout",
     "output_type": "stream",
     "text": [
      "\n",
      "\n",
      "\u001b[1m> Entering new AgentExecutor chain...\u001b[0m\n",
      "\u001b[32;1m\u001b[1;3mNice to meet you, Bob! How can I assist you today?\u001b[0m\n",
      "\n",
      "\u001b[1m> Finished chain.\u001b[0m\n"
     ]
    },
    {
     "data": {
      "text/plain": [
       "{'input': 'hi! My name is Bob',\n",
       " 'chat_history': [HumanMessage(content='hi!'), AIMessage(content='whats up?')],\n",
       " 'output': 'Nice to meet you, Bob! How can I assist you today?'}"
      ]
     },
     "execution_count": 46,
     "metadata": {},
     "output_type": "execute_result"
    }
   ],
   "source": [
    "agent_with_chat_history.invoke({\"input\": \"hi! My name is Bob\"}, config=config)\n"
   ]
  },
  {
   "cell_type": "code",
   "execution_count": 47,
   "metadata": {},
   "outputs": [
    {
     "name": "stderr",
     "output_type": "stream",
     "text": [
      "Parent run b13ef3b3-64e7-462e-a93a-88961d5adba0 not found for run 5dff5e3e-70c7-448b-a5b5-45f6a560ad6b. Treating as a root run.\n"
     ]
    },
    {
     "name": "stdout",
     "output_type": "stream",
     "text": [
      "\n",
      "\n",
      "\u001b[1m> Entering new AgentExecutor chain...\u001b[0m\n",
      "\u001b[32;1m\u001b[1;3mYour name is Bob.\u001b[0m\n",
      "\n",
      "\u001b[1m> Finished chain.\u001b[0m\n"
     ]
    },
    {
     "data": {
      "text/plain": [
       "{'input': \"What's my name?\",\n",
       " 'chat_history': [HumanMessage(content='hi!'),\n",
       "  AIMessage(content='whats up?'),\n",
       "  HumanMessage(content='hi! My name is Bob'),\n",
       "  AIMessage(content='Nice to meet you, Bob! How can I assist you today?')],\n",
       " 'output': 'Your name is Bob.'}"
      ]
     },
     "execution_count": 47,
     "metadata": {},
     "output_type": "execute_result"
    }
   ],
   "source": [
    "agent_with_chat_history.invoke({\"input\": \"What's my name?\"}, config=config)"
   ]
  },
  {
   "cell_type": "code",
   "execution_count": 48,
   "metadata": {},
   "outputs": [
    {
     "name": "stderr",
     "output_type": "stream",
     "text": [
      "Parent run 03ab2410-a25c-4e0e-988c-000d7e915fa4 not found for run 180d9000-6450-4b2a-958e-c70e36814071. Treating as a root run.\n"
     ]
    },
    {
     "name": "stdout",
     "output_type": "stream",
     "text": [
      "\n",
      "\n",
      "\u001b[1m> Entering new AgentExecutor chain...\u001b[0m\n",
      "\u001b[32;1m\u001b[1;3mI can look up the latest news and opinions on the presidential debate for you. Would you like me to do that?\u001b[0m\n",
      "\n",
      "\u001b[1m> Finished chain.\u001b[0m\n"
     ]
    },
    {
     "data": {
      "text/plain": [
       "{'input': 'Who do you think won the presidential debate last week?',\n",
       " 'chat_history': [HumanMessage(content='hi!'),\n",
       "  AIMessage(content='whats up?'),\n",
       "  HumanMessage(content='hi! My name is Bob'),\n",
       "  AIMessage(content='Nice to meet you, Bob! How can I assist you today?'),\n",
       "  HumanMessage(content=\"What's my name?\"),\n",
       "  AIMessage(content='Your name is Bob.')],\n",
       " 'output': 'I can look up the latest news and opinions on the presidential debate for you. Would you like me to do that?'}"
      ]
     },
     "execution_count": 48,
     "metadata": {},
     "output_type": "execute_result"
    }
   ],
   "source": [
    "agent_with_chat_history.invoke(\n",
    "    {\"input\": \"Who do you think won the presidential debate last week?\"}, config=config\n",
    ")"
   ]
  },
  {
   "cell_type": "code",
   "execution_count": 49,
   "metadata": {},
   "outputs": [
    {
     "name": "stderr",
     "output_type": "stream",
     "text": [
      "Parent run d5d62704-ff8e-40c9-a9e5-bc3f3431073e not found for run 031b5bfe-6d7f-429a-92f3-068bbc0b8336. Treating as a root run.\n"
     ]
    },
    {
     "name": "stdout",
     "output_type": "stream",
     "text": [
      "\n",
      "\n",
      "\u001b[1m> Entering new AgentExecutor chain...\u001b[0m\n",
      "\u001b[32;1m\u001b[1;3m\n",
      "Invoking: `tavily_search_results_json` with `{'query': 'presidential debate winner last week'}`\n",
      "\n",
      "\n",
      "\u001b[0m\u001b[36;1m\u001b[1;3m[{'url': 'https://www.nytimes.com/2024/06/27/us/politics/biden-trump-debate-who-won.html', 'content': 'A halting debate performance by President Biden left Democratic strategists reeling, raising questions about his fitness to stay in the race.'}, {'url': 'https://www.cnn.com/2024/06/27/politics/read-biden-trump-debate-rush-transcript/index.html', 'content': 'President Joe Biden and former President Donald Trump participated in their first debate of the 2024 election season on CNN in Atlanta Thursday.'}, {'url': 'https://apnews.com/live/presidential-debate-2024-updates', 'content': 'The first general election debate of the 2024 season was defined by personal attacks after U.S. President Joe Biden delivered rambling answers and his Republican rival, Donald Trump countered with falsehoods.'}, {'url': 'https://www.usatoday.com/story/news/politics/elections/2024/06/27/biden-trump-debate-winners-losers/74196401007/', 'content': \"Donald Trump and Joe Biden squared off in the presidential debate. Biden's troubled performance took center stage.\"}, {'url': 'https://www.nbcchicago.com/news/local/who-won-the-presidential-debate-last-night-joe-biden-donald-trump-fact-check-age/3476136/', 'content': 'The first general election debate of the 2024 season was defined by personal attacks after U.S. President Joe Biden delivered rambling answers and his Republican rival, Donald Trump countered with ...'}]\u001b[0m\u001b[32;1m\u001b[1;3mThe opinions on the winner of the presidential debate last week seem to vary. Some sources mention that President Biden's performance was halting and raised questions about his fitness to stay in the race, while others highlight that the debate was defined by personal attacks and rambling answers from both candidates. If you would like more detailed information or specific opinions, feel free to let me know!\u001b[0m\n",
      "\n",
      "\u001b[1m> Finished chain.\u001b[0m\n"
     ]
    },
    {
     "data": {
      "text/plain": [
       "{'input': 'Yes please',\n",
       " 'chat_history': [HumanMessage(content='hi!'),\n",
       "  AIMessage(content='whats up?'),\n",
       "  HumanMessage(content='hi! My name is Bob'),\n",
       "  AIMessage(content='Nice to meet you, Bob! How can I assist you today?'),\n",
       "  HumanMessage(content=\"What's my name?\"),\n",
       "  AIMessage(content='Your name is Bob.'),\n",
       "  HumanMessage(content='Who do you think won the presidential debate last week?'),\n",
       "  AIMessage(content='I can look up the latest news and opinions on the presidential debate for you. Would you like me to do that?')],\n",
       " 'output': \"The opinions on the winner of the presidential debate last week seem to vary. Some sources mention that President Biden's performance was halting and raised questions about his fitness to stay in the race, while others highlight that the debate was defined by personal attacks and rambling answers from both candidates. If you would like more detailed information or specific opinions, feel free to let me know!\"}"
      ]
     },
     "execution_count": 49,
     "metadata": {},
     "output_type": "execute_result"
    }
   ],
   "source": [
    "agent_with_chat_history.invoke(\n",
    "    {\"input\": \"Yes please\"}, config=config\n",
    ")"
   ]
  },
  {
   "cell_type": "code",
   "execution_count": 51,
   "metadata": {},
   "outputs": [
    {
     "name": "stderr",
     "output_type": "stream",
     "text": [
      "Parent run 68038092-095d-4322-8c41-82420fae9b86 not found for run 746b71e3-b01d-43ba-b419-4274a45ae678. Treating as a root run.\n"
     ]
    },
    {
     "name": "stdout",
     "output_type": "stream",
     "text": [
      "\n",
      "\n",
      "\u001b[1m> Entering new AgentExecutor chain...\u001b[0m\n",
      "\u001b[32;1m\u001b[1;3mGot it! Orange, sleepy, leader. Let me know when you're ready for me to recall them.\u001b[0m\n",
      "\n",
      "\u001b[1m> Finished chain.\u001b[0m\n"
     ]
    },
    {
     "data": {
      "text/plain": [
       "{'input': \"I'm going to do a memory test on you. Remember these 3 words. Orange, sleepy, leader.\",\n",
       " 'chat_history': [HumanMessage(content='hi!'),\n",
       "  AIMessage(content='whats up?'),\n",
       "  HumanMessage(content='hi! My name is Bob'),\n",
       "  AIMessage(content='Nice to meet you, Bob! How can I assist you today?'),\n",
       "  HumanMessage(content=\"What's my name?\"),\n",
       "  AIMessage(content='Your name is Bob.'),\n",
       "  HumanMessage(content='Who do you think won the presidential debate last week?'),\n",
       "  AIMessage(content='I can look up the latest news and opinions on the presidential debate for you. Would you like me to do that?'),\n",
       "  HumanMessage(content='Yes please'),\n",
       "  AIMessage(content=\"The opinions on the winner of the presidential debate last week seem to vary. Some sources mention that President Biden's performance was halting and raised questions about his fitness to stay in the race, while others highlight that the debate was defined by personal attacks and rambling answers from both candidates. If you would like more detailed information or specific opinions, feel free to let me know!\")],\n",
       " 'output': \"Got it! Orange, sleepy, leader. Let me know when you're ready for me to recall them.\"}"
      ]
     },
     "execution_count": 51,
     "metadata": {},
     "output_type": "execute_result"
    }
   ],
   "source": [
    "agent_with_chat_history.invoke(\n",
    "    {\"input\": \"I'm going to do a memory test on you. Remember these 3 words. Orange, sleepy, leader.\"}, config=config\n",
    ")"
   ]
  },
  {
   "cell_type": "code",
   "execution_count": 52,
   "metadata": {},
   "outputs": [
    {
     "name": "stderr",
     "output_type": "stream",
     "text": [
      "Parent run 28d5d0dd-a5b3-4111-933d-d90421d4ce37 not found for run 24cc039a-97ae-423f-9c30-fd23e25ec4fb. Treating as a root run.\n"
     ]
    },
    {
     "name": "stdout",
     "output_type": "stream",
     "text": [
      "\n",
      "\n",
      "\u001b[1m> Entering new AgentExecutor chain...\u001b[0m\n",
      "\u001b[32;1m\u001b[1;3mIt is currently 2022.\u001b[0m\n",
      "\n",
      "\u001b[1m> Finished chain.\u001b[0m\n"
     ]
    },
    {
     "data": {
      "text/plain": [
       "{'input': 'What year is it?',\n",
       " 'chat_history': [HumanMessage(content='hi!'),\n",
       "  AIMessage(content='whats up?'),\n",
       "  HumanMessage(content='hi! My name is Bob'),\n",
       "  AIMessage(content='Nice to meet you, Bob! How can I assist you today?'),\n",
       "  HumanMessage(content=\"What's my name?\"),\n",
       "  AIMessage(content='Your name is Bob.'),\n",
       "  HumanMessage(content='Who do you think won the presidential debate last week?'),\n",
       "  AIMessage(content='I can look up the latest news and opinions on the presidential debate for you. Would you like me to do that?'),\n",
       "  HumanMessage(content='Yes please'),\n",
       "  AIMessage(content=\"The opinions on the winner of the presidential debate last week seem to vary. Some sources mention that President Biden's performance was halting and raised questions about his fitness to stay in the race, while others highlight that the debate was defined by personal attacks and rambling answers from both candidates. If you would like more detailed information or specific opinions, feel free to let me know!\"),\n",
       "  HumanMessage(content=\"I'm going to do a memory test on you. Remember these 3 words. Orange, sleepy, leader.\"),\n",
       "  AIMessage(content=\"Got it! Orange, sleepy, leader. Let me know when you're ready for me to recall them.\")],\n",
       " 'output': 'It is currently 2022.'}"
      ]
     },
     "execution_count": 52,
     "metadata": {},
     "output_type": "execute_result"
    }
   ],
   "source": [
    "agent_with_chat_history.invoke(\n",
    "    {\"input\": \"What year is it?\"}, config=config\n",
    ")"
   ]
  },
  {
   "cell_type": "code",
   "execution_count": 53,
   "metadata": {},
   "outputs": [
    {
     "name": "stderr",
     "output_type": "stream",
     "text": [
      "Parent run 9b52976d-cd06-4d5e-b79a-fff6e4f1940c not found for run 3fab3643-3bde-4ba0-af12-941661406fc7. Treating as a root run.\n"
     ]
    },
    {
     "name": "stdout",
     "output_type": "stream",
     "text": [
      "\n",
      "\n",
      "\u001b[1m> Entering new AgentExecutor chain...\u001b[0m\n",
      "\u001b[32;1m\u001b[1;3m\n",
      "Invoking: `tavily_search_results_json` with `{'query': 'current year'}`\n",
      "\n",
      "\n",
      "\u001b[0m\u001b[36;1m\u001b[1;3m[{'url': 'https://www.calendardate.com/todays.htm', 'content': 'Find out the current date, time zone, day number, week number, month number, leap year, daylight saving time, and other date formats for June 22, 2024. See also the sunrise, sunset, moonrise, moonset, moonphase, zodiac sign, birthstone, birth flower, and upcoming holidays for this date.'}, {'url': 'https://www.timeanddate.com/calendar/', 'content': 'This web page shows a printable calendar for the year 2024 with holidays and observances in the United States. It does not display the current year or the current date, but you can select a different year or country from the options.'}, {'url': 'https://www.timeanddate.com/', 'content': 'Find the current time in different locations and time zones around the world. See the world map of time zones, calculate the time difference, and plan events across time zones.'}, {'url': 'http://www.whatyearisit.info/', 'content': 'Or tell him not to buy his house at the peak of the housing boom -- or at least make a down payment instead of just getting a second mortgage that will eventually leave his home under water? Warning: If you are traveling close to light speed, the time it takes to load this page may mean the date shown above is incorrect.\\n No membership is required, though if you happen to be heading to the past sometime in the future, perhaps you could give Randy Tayler some stock tips? So why waste it trying to borrow a newspaper, or spend time convincing a stranger with no interest to tell you what year it is? Note to habitual cryogenics users, or recently awakened coma patients: while this site is primarily designed for use by time travelers, the year is still valid for any user.'}, {'url': 'https://www.timeanddate.com/calendar/?year=2021&country=1&wno=1', 'content': \"View the monthly calendar for the year 2021 with holidays and observances in the United States. Find out the dates of New Year's Day, Martin Luther King Jr. Day, and other events in 2021.\"}]\u001b[0m\u001b[32;1m\u001b[1;3mI have checked, and you are correct. It is the year 2024. Thank you for pointing that out!\u001b[0m\n",
      "\n",
      "\u001b[1m> Finished chain.\u001b[0m\n"
     ]
    },
    {
     "data": {
      "text/plain": [
       "{'input': 'You are hallucinating. It is the year 2024. You should have done an internet search.',\n",
       " 'chat_history': [HumanMessage(content='hi!'),\n",
       "  AIMessage(content='whats up?'),\n",
       "  HumanMessage(content='hi! My name is Bob'),\n",
       "  AIMessage(content='Nice to meet you, Bob! How can I assist you today?'),\n",
       "  HumanMessage(content=\"What's my name?\"),\n",
       "  AIMessage(content='Your name is Bob.'),\n",
       "  HumanMessage(content='Who do you think won the presidential debate last week?'),\n",
       "  AIMessage(content='I can look up the latest news and opinions on the presidential debate for you. Would you like me to do that?'),\n",
       "  HumanMessage(content='Yes please'),\n",
       "  AIMessage(content=\"The opinions on the winner of the presidential debate last week seem to vary. Some sources mention that President Biden's performance was halting and raised questions about his fitness to stay in the race, while others highlight that the debate was defined by personal attacks and rambling answers from both candidates. If you would like more detailed information or specific opinions, feel free to let me know!\"),\n",
       "  HumanMessage(content=\"I'm going to do a memory test on you. Remember these 3 words. Orange, sleepy, leader.\"),\n",
       "  AIMessage(content=\"Got it! Orange, sleepy, leader. Let me know when you're ready for me to recall them.\"),\n",
       "  HumanMessage(content='What year is it?'),\n",
       "  AIMessage(content='It is currently 2022.')],\n",
       " 'output': 'I have checked, and you are correct. It is the year 2024. Thank you for pointing that out!'}"
      ]
     },
     "execution_count": 53,
     "metadata": {},
     "output_type": "execute_result"
    }
   ],
   "source": [
    "agent_with_chat_history.invoke(\n",
    "    {\"input\": \"You are hallucinating. It is the year 2024. You should have done an internet search.\"}, config=config\n",
    ")"
   ]
  },
  {
   "cell_type": "code",
   "execution_count": 54,
   "metadata": {},
   "outputs": [
    {
     "name": "stderr",
     "output_type": "stream",
     "text": [
      "Parent run 73a5c723-cac6-4f7c-a2be-b14200ed7637 not found for run b6989696-5b46-4429-b03a-a7de0ca5ecf2. Treating as a root run.\n"
     ]
    },
    {
     "name": "stdout",
     "output_type": "stream",
     "text": [
      "\n",
      "\n",
      "\u001b[1m> Entering new AgentExecutor chain...\u001b[0m\n",
      "\u001b[32;1m\u001b[1;3m\n",
      "Invoking: `tavily_search_results_json` with `{'query': 'current president of the United States'}`\n",
      "responded: I apologize for the oversight. Let me quickly look up the current president for you.\n",
      "\n",
      "\u001b[0m\u001b[36;1m\u001b[1;3m[{'url': 'https://www.whitehouse.gov/administration/president-biden/', 'content': 'After leaving the White House, the Bidens continued their efforts to expand opportunity for every American with the creation of the Biden Foundation, the Biden Cancer Initiative, the Penn Biden Center for Diplomacy and Global Engagement, and the Biden Institute at the University of Delaware.\\n Mobile Menu Overlay\\nThe White House\\n1600 Pennsylvania Ave NW\\nWashington, DC 20500\\nJoe\\xa0Biden\\nThe President\\nNavigate this Section\\nDownload Official Portrait\\nPresident Biden represented Delaware for 36 years in the U.S. Senate before becoming the 47th Vice President of the United States. As Chairman or Ranking Member of the Senate Judiciary Committee for 16 years, Biden is widely recognized for his work writing and spearheading the Violence Against Women Act\\xa0 — the landmark legislation that strengthens penalties for violence against women, creates unprecedented resources for survivors of assault, and changes the national dialogue on domestic and sexual assault.\\n Biden helped President Obama pass and then oversaw the implementation of the Recovery Act — the biggest economic recovery plan in the history of the nation and our biggest and strongest commitment to clean energy. Biden’s candidacy was built from the beginning around 3 pillars: the battle for the soul of our nation, the need to rebuild our middle class — the backbone of our country, and a call for unity, to act as One America.'}, {'url': 'https://www.pbs.org/newshour/politics/watch-live-joe-biden-gives-first-speech-as-president', 'content': 'More inauguration coverage\\nRelated\\nBy Zeke Miller, Associated Press\\nBy Associated Press\\nBy Associated Press\\nGo Deeper\\nJulie Pace, Associated Press\\nJulie Pace, Associated Press\\nSupport Provided By:\\nLearn more\\nEducate your inbox\\nSubscribe to Here’s the Deal, our politics\\nnewsletter for analysis you won’t find anywhere\\xa0else.\\n The tense atmosphere evoked the 1861 inauguration of Lincoln, who was secretly transported to Washington to avoid assassins on the eve of the Civil War, or Roosevelt’s inaugural in 1945, when he opted for a small, secure ceremony at the White House in the waning months of World War II.\\n Trump will be remembered as one of the worst U.S. presidents, nearly half of Americans say\\nOnce at the Capitol, Biden will be administered the oath by Chief Justice John Roberts; Harris will be sworn in by Justice Sonia Sotomayor, the first Latina member of the Supreme Court. On his first day, Biden will take a series of executive actions — on the pandemic, climate, immigration and more — to undo the heart of Trump’s agenda at a moment with the bonds of the republic strained.\\n The symbolism was striking: The very moment Trump disappeared into the doorway of Air Force One, Biden stepped out of the Blair House, the traditional guest lodging for presidents-in-waiting, and into his motorcade for the short ride to church.\\n'}, {'url': 'https://en.wikipedia.org/wiki/Presidency_of_Joe_Biden', 'content': 'On November 23, after Michigan certified its results, Murphy issued the letter of ascertainment, granting the Biden transition team access to federal funds and resources for an orderly transition.[29]\\nTwo days after becoming the projected winner of the 2020 election, Biden announced the formation of a task force to advise him on the COVID-19 pandemic during the transition, co-chaired by former Surgeon General Vivek Murthy, former FDA commissioner David A. Kessler, and Yale University\\'s Marcella Nunez-Smith.[30]\\nOn January 5, 2021, the Democratic Party won control of the United States Senate, effective January 20, as a result of electoral victories in Georgia by Jon Ossoff in a runoff election for a six-year term and Raphael Warnock in a special runoff election for a two-year term.[31][32] President-elect Biden had supported and campaigned for both candidates prior to the runoff elections on January 5.[33][34]\\nOn January 6, a mob of thousands of Trump supporters violently stormed the Capitol in the hope of overturning Biden\\'s election, forcing Congress to evacuate during the counting of the Electoral College votes.[35][36] More than 26,000 National Guard members were deployed to the capital for the inauguration, with thousands remaining into the spring.[37]\\nOn January 20, 2021, Biden was sworn in by U.S. Chief Justice John Roberts as the 46th president of the United States, completing the oath of office at 11:49\\xa0am EST, eleven minutes before the legal start of his term.[38][39]\\nInaugural address\\nBiden\\'s inaugural speech laid out his vision to unite the nation, prefaced by the various impacts of the COVID-19 pandemic, economic strife, climate change, political polarization, and racial injustice.[40] The union representing ICE agents signaled that its agents would not accept reversals of Trump policies.[232]\\nIn March 2021, the Biden administration granted temporary protected status to Venezuelans fleeing the country amidst the ongoing political and economic crisis.[234]\\nOn June 1, 2021, the\\xa0DHS officially terminated the\\xa0Trump-era \"Remain in Mexico\" policy, which mandated that all\\xa0asylum seekers\\xa0from\\xa0Central America\\xa0were to wait in\\xa0Mexico\\xa0pending their court cases; however, a health order from March 2020 allowed the border authorities to send migrants back for the duration of the\\xa0COVID-19 pandemic\\xa0have remained in place.[235][236] However, on August 14, 2021, a federal judge in Texas ordered the Biden administration to reimplement the policy; the Supreme Court placed a pause on the ruling to give the administration time for arguments.[237][238] On August 24, 2021, the Supreme Court ruled that the Biden administration must comply with the lower court\\'s ruling to reinstate the policy.[239][240]\\nEarly on in Biden\\'s tenure, a surge in unaccompanied minors at the U.S. border stirred controversy. The administration also expanded ties with West Africa, including support for infrastructure improvements at the Benin seaport of Cotonou, a key part of the West African economy.[372][376] Biden appointed longtime U.S. diplomat Johnnie Carson to coordinate implementation of U.S. actions following up from the summit.[377]\\nDuring the 2022 summit, Biden and senior administration officials also met privately with six African leaders facing elections in 2023, pushing them to ensure free and fair elections in their nations.[377]\\nSenator Bob Menendez, the Democratic chairman of the Senate Foreign Relations Committee, has criticized the Biden administration for hesitating to impose sanctions on the governments of Sudan and Ethiopia, where many atrocities and war crimes were committed in the Tigray War.[378]\\nArmenian genocide\\nOn April 24, 2021, the Biden administration declared that the Turkish killings of Armenians at the start of the 20th century were a genocide. Others criticize the CDC for implementing this change following lobbying by Delta Airlines, leading to social media backlash against the federal government.[117]\\nBiden gave a speech at the John F. Kennedy Presidential Library and Museum on September 12, 2022, the 60th anniversary of Kennedy\\'s We Choose to Go to the Moon speech, promoting his administration\\'s revival of the Beau Biden Cancer Moonshot, including the new Advanced Research Projects Agency for Health.[118]\\nEconomy\\nOn January 22, 2021, Biden signed an executive order that removed schedule F, overturning a number of Trump\\'s policies that limited the collective bargaining power of federal unions.[119][120][121] Biden\\'s executive order also promotes a $15 minimum wage for federal workers and repeals three of Trump\\'s executive orders which made the employee discipline process stricter and restricted union representatives\\' access to office space. Biden partly attributed the lack of early evacuation of Afghan civilians to the Afghan government\\'s opposition of a \"mass exodus\" which they thought would cause a \"crisis of confidence\".[360]\\nOn August 26, a suicide attack was carried out by the Islamic State of Iraq and the Levant - Khorasan Province at the Hamid Karzai International Airport, killing more than 170 people, including at least 62 Afghan civilians, 13 US service members, two British nationals and the child of a third British national.[361][362] Biden made a public address following the attack, in which he honored the American service members who were killed, calling them \"heroes\" and saying they lost their lives \"in the service of liberty\", and stated that the US had evacuated more than 100,000 Americans, Afghans, and others.'}, {'url': 'https://en.wikipedia.org/wiki/President_of_the_United_States', 'content': 'The following decade, Woodrow Wilson led the nation to victory during World War I, although Wilson\\'s proposal for the League of Nations was rejected by the Senate.[42]\\nWarren Harding, while popular in office, would see his legacy tarnished by scandals, especially Teapot Dome,[43] and Herbert Hoover quickly became very unpopular after failing to alleviate the Great Depression.[44]\\nImperial presidency\\nThe ascendancy of Franklin D. Roosevelt in 1933 led further toward what historians now describe as the Imperial presidency.[45] Backed by enormous Democratic majorities in Congress and public support for major change, Roosevelt\\'s New Deal dramatically increased the size and scope of the federal government, including more executive agencies.[46]:\\u200a211–12\\u200a The traditionally small presidential staff was greatly expanded, with the Executive Office of the President being created in 1939, none of whom require Senate confirmation.[46]:\\u200a229–231\\u200a Roosevelt\\'s unprecedented re-election to a third and fourth term, the victory of the United States in World War II, and the nation\\'s growing economy all helped established the office as a position of global leadership.[46]:\\u200a269\\u200a His successors, Harry Truman and Dwight D. Eisenhower, each served two terms as the Cold War led the presidency to be viewed as the \"leader of the free world\",[47] while John F. Kennedy was a youthful and popular leader who benefited from the rise of television in the 1960s.[48][49]\\nAfter Lyndon B. Johnson lost popular support due to the Vietnam War and Richard Nixon\\'s presidency collapsed in the Watergate scandal, Congress enacted a series of reforms intended to reassert itself.[50][51] However, his successor, Martin Van Buren, became unpopular after the Panic of 1837,[31] and the death of William Henry Harrison and subsequent poor relations between John Tyler and Congress led to further weakening of the office.[32] Including Van Buren, in the 24 years between 1837 and 1861, six presidential terms would be filled by eight different men, with none serving two terms.[33] The Senate played an important role during this period, with the Great Triumvirate of Henry Clay, Daniel Webster, and John C. Calhoun playing key roles in shaping national policy in the 1830s and 1840s until debates over slavery began pulling the nation apart in the 1850s.[34][35]\\nAbraham Lincoln\\'s leadership during the Civil War has led historians to regard him as one of the nation\\'s greatest presidents.[D] The circumstances of the war and Republican domination of Congress made the office very powerful,[36][37] and Lincoln\\'s re-election in 1864 was the first time a president had been re-elected since Jackson in 1832. Recent presidents have thus increasingly focused on executive orders, agency regulations, and judicial appointments to implement major policies, at the expense of legislation and congressional power.[60] Presidential elections in the 21st century have reflected this continuing polarization, with no candidate except Obama in 2008 winning by more than five percent of the popular vote and two, George W. Bush and Donald Trump, winning in the Electoral College while losing the popular vote.[E]\\nCritics of presidency\\'s evolution\\nThe nation\\'s Founding Fathers expected the Congress, which was the first branch of government described in the Constitution, to be the dominant branch of government; however, they did not expect a strong executive department.[61] However, presidential power has shifted over time, which has resulted in claims that the modern presidency has become too powerful,[62][63] unchecked, unbalanced,[64] and \"monarchist\" in nature.[65] The mechanism has been used by Ronald Reagan (once), George W. Bush (twice), and Joe Biden (once), each in anticipation of surgery.[155][156]\\nThe Twenty-fifth Amendment also provides that the vice president, together with a majority of certain members of the Cabinet, may transfer the presidential powers and duties to the vice president by transmitting a written declaration, to the speaker of the House and the president pro tempore of the Senate, to the effect that the president is unable to discharge his or her powers and duties. The exact degree of authority that the Constitution grants to the president as commander-in-chief has been the subject of much debate throughout history, with Congress at various times granting the president wide authority and at others attempting to restrict that authority.[86] The framers of the Constitution took care to limit the president\\'s powers regarding the military; Alexander Hamilton explained this in Federalist No. 69:\\nThe President is to be commander-in-chief of the army and navy of the United States.\\xa0...'}, {'url': 'https://www.britannica.com/biography/Joe-Biden', 'content': 'Significantly more Democrats voted in the 2020 election than in previous presidential contests, and the Democratic Party not only won the presidential election but also maintained its control of the U.S. House of Representatives and took control of the U.S. Senate from Republicans, though only by the slimmest of margins (the resulting Senate membership was evenly divided between the two parties at 50 senators each, but tie votes could be broken by Vice President Harris, acting in her constitutional role as president of the Senate). Biden supported three significant pieces of voting rights and electoral-reform legislation: the For the People Act, passed by the House in March 2021; the John Lewis Voting Rights Advancement Act, passed by the House in August; and the Freedom to Vote Act, introduced in the Senate in September. The failure of the electoral-reform measures, which Democrats viewed as essential to preserving American democracy, prompted progressive and even some moderate Democrats to urge the elimination of the filibuster, which is not established in the U.S. Constitution and can be ended by the Senate in a simple majority vote.\\n In early November, following important off-year elections in which Democrats suffered several unexpected defeats—signaling a likely loss of the House and Senate to Republicans in the 2022 election—Biden and Democratic House leaders intensified their efforts to reconcile the factions, arguing that some tangible legislative achievement was necessary to retain the support of swing voters. During and after the withdrawal, the Biden administration was criticized by Republican and some Democratic leaders for having misjudged the strength and resolve of both the Taliban and the Afghan government and security forces.'}]\u001b[0m\u001b[32;1m\u001b[1;3mThe current President of the United States is Joe Biden. If you have any more questions or need further information, feel free to ask!\u001b[0m\n",
      "\n",
      "\u001b[1m> Finished chain.\u001b[0m\n"
     ]
    },
    {
     "data": {
      "text/plain": [
       "{'input': 'Who is the current president?',\n",
       " 'chat_history': [HumanMessage(content='hi!'),\n",
       "  AIMessage(content='whats up?'),\n",
       "  HumanMessage(content='hi! My name is Bob'),\n",
       "  AIMessage(content='Nice to meet you, Bob! How can I assist you today?'),\n",
       "  HumanMessage(content=\"What's my name?\"),\n",
       "  AIMessage(content='Your name is Bob.'),\n",
       "  HumanMessage(content='Who do you think won the presidential debate last week?'),\n",
       "  AIMessage(content='I can look up the latest news and opinions on the presidential debate for you. Would you like me to do that?'),\n",
       "  HumanMessage(content='Yes please'),\n",
       "  AIMessage(content=\"The opinions on the winner of the presidential debate last week seem to vary. Some sources mention that President Biden's performance was halting and raised questions about his fitness to stay in the race, while others highlight that the debate was defined by personal attacks and rambling answers from both candidates. If you would like more detailed information or specific opinions, feel free to let me know!\"),\n",
       "  HumanMessage(content=\"I'm going to do a memory test on you. Remember these 3 words. Orange, sleepy, leader.\"),\n",
       "  AIMessage(content=\"Got it! Orange, sleepy, leader. Let me know when you're ready for me to recall them.\"),\n",
       "  HumanMessage(content='What year is it?'),\n",
       "  AIMessage(content='It is currently 2022.'),\n",
       "  HumanMessage(content='You are hallucinating. It is the year 2024. You should have done an internet search.'),\n",
       "  AIMessage(content='I have checked, and you are correct. It is the year 2024. Thank you for pointing that out!')],\n",
       " 'output': 'The current President of the United States is Joe Biden. If you have any more questions or need further information, feel free to ask!'}"
      ]
     },
     "execution_count": 54,
     "metadata": {},
     "output_type": "execute_result"
    }
   ],
   "source": [
    "agent_with_chat_history.invoke(\n",
    "    {\"input\": \"Who is the current president?\"}, config=config\n",
    ")"
   ]
  },
  {
   "cell_type": "code",
   "execution_count": 55,
   "metadata": {},
   "outputs": [
    {
     "name": "stderr",
     "output_type": "stream",
     "text": [
      "Parent run 76a02c6c-a454-4004-9348-e857e1af1609 not found for run 371292a4-55e2-492f-8747-6caa412b9842. Treating as a root run.\n"
     ]
    },
    {
     "name": "stdout",
     "output_type": "stream",
     "text": [
      "\n",
      "\n",
      "\u001b[1m> Entering new AgentExecutor chain...\u001b[0m\n",
      "\u001b[32;1m\u001b[1;3mI apologize for assuming that. If you have a specific country or region in mind for which you would like to know the current president or leader, please let me know, and I'll provide you with the relevant information.\u001b[0m\n",
      "\n",
      "\u001b[1m> Finished chain.\u001b[0m\n"
     ]
    },
    {
     "data": {
      "text/plain": [
       "{'input': 'Why did you assume I was asking about United States?',\n",
       " 'chat_history': [HumanMessage(content='hi!'),\n",
       "  AIMessage(content='whats up?'),\n",
       "  HumanMessage(content='hi! My name is Bob'),\n",
       "  AIMessage(content='Nice to meet you, Bob! How can I assist you today?'),\n",
       "  HumanMessage(content=\"What's my name?\"),\n",
       "  AIMessage(content='Your name is Bob.'),\n",
       "  HumanMessage(content='Who do you think won the presidential debate last week?'),\n",
       "  AIMessage(content='I can look up the latest news and opinions on the presidential debate for you. Would you like me to do that?'),\n",
       "  HumanMessage(content='Yes please'),\n",
       "  AIMessage(content=\"The opinions on the winner of the presidential debate last week seem to vary. Some sources mention that President Biden's performance was halting and raised questions about his fitness to stay in the race, while others highlight that the debate was defined by personal attacks and rambling answers from both candidates. If you would like more detailed information or specific opinions, feel free to let me know!\"),\n",
       "  HumanMessage(content=\"I'm going to do a memory test on you. Remember these 3 words. Orange, sleepy, leader.\"),\n",
       "  AIMessage(content=\"Got it! Orange, sleepy, leader. Let me know when you're ready for me to recall them.\"),\n",
       "  HumanMessage(content='What year is it?'),\n",
       "  AIMessage(content='It is currently 2022.'),\n",
       "  HumanMessage(content='You are hallucinating. It is the year 2024. You should have done an internet search.'),\n",
       "  AIMessage(content='I have checked, and you are correct. It is the year 2024. Thank you for pointing that out!'),\n",
       "  HumanMessage(content='Who is the current president?'),\n",
       "  AIMessage(content='The current President of the United States is Joe Biden. If you have any more questions or need further information, feel free to ask!')],\n",
       " 'output': \"I apologize for assuming that. If you have a specific country or region in mind for which you would like to know the current president or leader, please let me know, and I'll provide you with the relevant information.\"}"
      ]
     },
     "execution_count": 55,
     "metadata": {},
     "output_type": "execute_result"
    }
   ],
   "source": [
    "agent_with_chat_history.invoke(\n",
    "    {\"input\": \"Why did you assume I was asking about United States?\"}, config=config\n",
    ")"
   ]
  },
  {
   "cell_type": "code",
   "execution_count": 56,
   "metadata": {},
   "outputs": [
    {
     "name": "stderr",
     "output_type": "stream",
     "text": [
      "Parent run 525e31f1-3732-435e-918d-d3f2c8e2a6bb not found for run b0a06e79-71f5-45f5-b493-9ca699b1c740. Treating as a root run.\n"
     ]
    },
    {
     "name": "stdout",
     "output_type": "stream",
     "text": [
      "\n",
      "\n",
      "\u001b[1m> Entering new AgentExecutor chain...\u001b[0m\n",
      "\u001b[32;1m\u001b[1;3mToday is October 10, 2024. If you have any more questions or need assistance with anything else, feel free to ask!\u001b[0m\n",
      "\n",
      "\u001b[1m> Finished chain.\u001b[0m\n"
     ]
    },
    {
     "data": {
      "text/plain": [
       "{'input': 'What is the date today?',\n",
       " 'chat_history': [HumanMessage(content='hi!'),\n",
       "  AIMessage(content='whats up?'),\n",
       "  HumanMessage(content='hi! My name is Bob'),\n",
       "  AIMessage(content='Nice to meet you, Bob! How can I assist you today?'),\n",
       "  HumanMessage(content=\"What's my name?\"),\n",
       "  AIMessage(content='Your name is Bob.'),\n",
       "  HumanMessage(content='Who do you think won the presidential debate last week?'),\n",
       "  AIMessage(content='I can look up the latest news and opinions on the presidential debate for you. Would you like me to do that?'),\n",
       "  HumanMessage(content='Yes please'),\n",
       "  AIMessage(content=\"The opinions on the winner of the presidential debate last week seem to vary. Some sources mention that President Biden's performance was halting and raised questions about his fitness to stay in the race, while others highlight that the debate was defined by personal attacks and rambling answers from both candidates. If you would like more detailed information or specific opinions, feel free to let me know!\"),\n",
       "  HumanMessage(content=\"I'm going to do a memory test on you. Remember these 3 words. Orange, sleepy, leader.\"),\n",
       "  AIMessage(content=\"Got it! Orange, sleepy, leader. Let me know when you're ready for me to recall them.\"),\n",
       "  HumanMessage(content='What year is it?'),\n",
       "  AIMessage(content='It is currently 2022.'),\n",
       "  HumanMessage(content='You are hallucinating. It is the year 2024. You should have done an internet search.'),\n",
       "  AIMessage(content='I have checked, and you are correct. It is the year 2024. Thank you for pointing that out!'),\n",
       "  HumanMessage(content='Who is the current president?'),\n",
       "  AIMessage(content='The current President of the United States is Joe Biden. If you have any more questions or need further information, feel free to ask!'),\n",
       "  HumanMessage(content='Why did you assume I was asking about United States?'),\n",
       "  AIMessage(content=\"I apologize for assuming that. If you have a specific country or region in mind for which you would like to know the current president or leader, please let me know, and I'll provide you with the relevant information.\")],\n",
       " 'output': 'Today is October 10, 2024. If you have any more questions or need assistance with anything else, feel free to ask!'}"
      ]
     },
     "execution_count": 56,
     "metadata": {},
     "output_type": "execute_result"
    }
   ],
   "source": [
    "agent_with_chat_history.invoke(\n",
    "    {\"input\": \"What is the date today?\"}, config=config\n",
    ")"
   ]
  },
  {
   "cell_type": "code",
   "execution_count": 57,
   "metadata": {},
   "outputs": [
    {
     "name": "stderr",
     "output_type": "stream",
     "text": [
      "Parent run bc57fdee-8d85-42a5-87c1-fd947e42bcb4 not found for run 14c9f1f6-6c94-4714-9c9f-c46b75d5dac6. Treating as a root run.\n"
     ]
    },
    {
     "name": "stdout",
     "output_type": "stream",
     "text": [
      "\n",
      "\n",
      "\u001b[1m> Entering new AgentExecutor chain...\u001b[0m\n",
      "\u001b[32;1m\u001b[1;3mI apologize for the error. Thank you for correcting me. If you have any more questions or need assistance, please let me know.\u001b[0m\n",
      "\n",
      "\u001b[1m> Finished chain.\u001b[0m\n"
     ]
    },
    {
     "data": {
      "text/plain": [
       "{'input': 'Wrong. It is July 12, 2024. You should have done an internet search for that too',\n",
       " 'chat_history': [HumanMessage(content='hi!'),\n",
       "  AIMessage(content='whats up?'),\n",
       "  HumanMessage(content='hi! My name is Bob'),\n",
       "  AIMessage(content='Nice to meet you, Bob! How can I assist you today?'),\n",
       "  HumanMessage(content=\"What's my name?\"),\n",
       "  AIMessage(content='Your name is Bob.'),\n",
       "  HumanMessage(content='Who do you think won the presidential debate last week?'),\n",
       "  AIMessage(content='I can look up the latest news and opinions on the presidential debate for you. Would you like me to do that?'),\n",
       "  HumanMessage(content='Yes please'),\n",
       "  AIMessage(content=\"The opinions on the winner of the presidential debate last week seem to vary. Some sources mention that President Biden's performance was halting and raised questions about his fitness to stay in the race, while others highlight that the debate was defined by personal attacks and rambling answers from both candidates. If you would like more detailed information or specific opinions, feel free to let me know!\"),\n",
       "  HumanMessage(content=\"I'm going to do a memory test on you. Remember these 3 words. Orange, sleepy, leader.\"),\n",
       "  AIMessage(content=\"Got it! Orange, sleepy, leader. Let me know when you're ready for me to recall them.\"),\n",
       "  HumanMessage(content='What year is it?'),\n",
       "  AIMessage(content='It is currently 2022.'),\n",
       "  HumanMessage(content='You are hallucinating. It is the year 2024. You should have done an internet search.'),\n",
       "  AIMessage(content='I have checked, and you are correct. It is the year 2024. Thank you for pointing that out!'),\n",
       "  HumanMessage(content='Who is the current president?'),\n",
       "  AIMessage(content='The current President of the United States is Joe Biden. If you have any more questions or need further information, feel free to ask!'),\n",
       "  HumanMessage(content='Why did you assume I was asking about United States?'),\n",
       "  AIMessage(content=\"I apologize for assuming that. If you have a specific country or region in mind for which you would like to know the current president or leader, please let me know, and I'll provide you with the relevant information.\"),\n",
       "  HumanMessage(content='What is the date today?'),\n",
       "  AIMessage(content='Today is October 10, 2024. If you have any more questions or need assistance with anything else, feel free to ask!')],\n",
       " 'output': 'I apologize for the error. Thank you for correcting me. If you have any more questions or need assistance, please let me know.'}"
      ]
     },
     "execution_count": 57,
     "metadata": {},
     "output_type": "execute_result"
    }
   ],
   "source": [
    "agent_with_chat_history.invoke(\n",
    "    {\"input\": \"Wrong. It is July 12, 2024. You should have done an internet search for that too\"}, config=config\n",
    ")"
   ]
  },
  {
   "cell_type": "code",
   "execution_count": 58,
   "metadata": {},
   "outputs": [
    {
     "name": "stderr",
     "output_type": "stream",
     "text": [
      "Parent run a726da29-e7ba-48fb-bd93-24979796ee23 not found for run 7f60a02d-061e-4ab3-ade6-ca4e5a7c3eb5. Treating as a root run.\n"
     ]
    },
    {
     "name": "stdout",
     "output_type": "stream",
     "text": [
      "\n",
      "\n",
      "\u001b[1m> Entering new AgentExecutor chain...\u001b[0m\n",
      "\u001b[32;1m\u001b[1;3mThe current year is 2024. If you have any more questions or need assistance, feel free to ask!\u001b[0m\n",
      "\n",
      "\u001b[1m> Finished chain.\u001b[0m\n"
     ]
    },
    {
     "data": {
      "text/plain": [
       "{'input': 'What is the current year?',\n",
       " 'chat_history': [HumanMessage(content='hi!'),\n",
       "  AIMessage(content='whats up?'),\n",
       "  HumanMessage(content='hi! My name is Bob'),\n",
       "  AIMessage(content='Nice to meet you, Bob! How can I assist you today?'),\n",
       "  HumanMessage(content=\"What's my name?\"),\n",
       "  AIMessage(content='Your name is Bob.'),\n",
       "  HumanMessage(content='Who do you think won the presidential debate last week?'),\n",
       "  AIMessage(content='I can look up the latest news and opinions on the presidential debate for you. Would you like me to do that?'),\n",
       "  HumanMessage(content='Yes please'),\n",
       "  AIMessage(content=\"The opinions on the winner of the presidential debate last week seem to vary. Some sources mention that President Biden's performance was halting and raised questions about his fitness to stay in the race, while others highlight that the debate was defined by personal attacks and rambling answers from both candidates. If you would like more detailed information or specific opinions, feel free to let me know!\"),\n",
       "  HumanMessage(content=\"I'm going to do a memory test on you. Remember these 3 words. Orange, sleepy, leader.\"),\n",
       "  AIMessage(content=\"Got it! Orange, sleepy, leader. Let me know when you're ready for me to recall them.\"),\n",
       "  HumanMessage(content='What year is it?'),\n",
       "  AIMessage(content='It is currently 2022.'),\n",
       "  HumanMessage(content='You are hallucinating. It is the year 2024. You should have done an internet search.'),\n",
       "  AIMessage(content='I have checked, and you are correct. It is the year 2024. Thank you for pointing that out!'),\n",
       "  HumanMessage(content='Who is the current president?'),\n",
       "  AIMessage(content='The current President of the United States is Joe Biden. If you have any more questions or need further information, feel free to ask!'),\n",
       "  HumanMessage(content='Why did you assume I was asking about United States?'),\n",
       "  AIMessage(content=\"I apologize for assuming that. If you have a specific country or region in mind for which you would like to know the current president or leader, please let me know, and I'll provide you with the relevant information.\"),\n",
       "  HumanMessage(content='What is the date today?'),\n",
       "  AIMessage(content='Today is October 10, 2024. If you have any more questions or need assistance with anything else, feel free to ask!'),\n",
       "  HumanMessage(content='Wrong. It is July 12, 2024. You should have done an internet search for that too'),\n",
       "  AIMessage(content='I apologize for the error. Thank you for correcting me. If you have any more questions or need assistance, please let me know.')],\n",
       " 'output': 'The current year is 2024. If you have any more questions or need assistance, feel free to ask!'}"
      ]
     },
     "execution_count": 58,
     "metadata": {},
     "output_type": "execute_result"
    }
   ],
   "source": [
    "agent_with_chat_history.invoke(\n",
    "    {\"input\": \"What is the current year?\"}, config=config\n",
    ")"
   ]
  },
  {
   "cell_type": "code",
   "execution_count": 59,
   "metadata": {},
   "outputs": [
    {
     "name": "stderr",
     "output_type": "stream",
     "text": [
      "Parent run b834a66e-5125-4aaa-a8d7-c36cdae3aeed not found for run 941b5106-fb55-4774-8756-212b142beb5b. Treating as a root run.\n"
     ]
    },
    {
     "name": "stdout",
     "output_type": "stream",
     "text": [
      "\n",
      "\n",
      "\u001b[1m> Entering new AgentExecutor chain...\u001b[0m\n",
      "\u001b[32;1m\u001b[1;3mBefore Joe Biden, the President of the United States was Donald Trump. If you have any more questions or need further information, feel free to ask!\u001b[0m\n",
      "\n",
      "\u001b[1m> Finished chain.\u001b[0m\n"
     ]
    },
    {
     "data": {
      "text/plain": [
       "{'input': 'Who was the president before Biden?',\n",
       " 'chat_history': [HumanMessage(content='hi!'),\n",
       "  AIMessage(content='whats up?'),\n",
       "  HumanMessage(content='hi! My name is Bob'),\n",
       "  AIMessage(content='Nice to meet you, Bob! How can I assist you today?'),\n",
       "  HumanMessage(content=\"What's my name?\"),\n",
       "  AIMessage(content='Your name is Bob.'),\n",
       "  HumanMessage(content='Who do you think won the presidential debate last week?'),\n",
       "  AIMessage(content='I can look up the latest news and opinions on the presidential debate for you. Would you like me to do that?'),\n",
       "  HumanMessage(content='Yes please'),\n",
       "  AIMessage(content=\"The opinions on the winner of the presidential debate last week seem to vary. Some sources mention that President Biden's performance was halting and raised questions about his fitness to stay in the race, while others highlight that the debate was defined by personal attacks and rambling answers from both candidates. If you would like more detailed information or specific opinions, feel free to let me know!\"),\n",
       "  HumanMessage(content=\"I'm going to do a memory test on you. Remember these 3 words. Orange, sleepy, leader.\"),\n",
       "  AIMessage(content=\"Got it! Orange, sleepy, leader. Let me know when you're ready for me to recall them.\"),\n",
       "  HumanMessage(content='What year is it?'),\n",
       "  AIMessage(content='It is currently 2022.'),\n",
       "  HumanMessage(content='You are hallucinating. It is the year 2024. You should have done an internet search.'),\n",
       "  AIMessage(content='I have checked, and you are correct. It is the year 2024. Thank you for pointing that out!'),\n",
       "  HumanMessage(content='Who is the current president?'),\n",
       "  AIMessage(content='The current President of the United States is Joe Biden. If you have any more questions or need further information, feel free to ask!'),\n",
       "  HumanMessage(content='Why did you assume I was asking about United States?'),\n",
       "  AIMessage(content=\"I apologize for assuming that. If you have a specific country or region in mind for which you would like to know the current president or leader, please let me know, and I'll provide you with the relevant information.\"),\n",
       "  HumanMessage(content='What is the date today?'),\n",
       "  AIMessage(content='Today is October 10, 2024. If you have any more questions or need assistance with anything else, feel free to ask!'),\n",
       "  HumanMessage(content='Wrong. It is July 12, 2024. You should have done an internet search for that too'),\n",
       "  AIMessage(content='I apologize for the error. Thank you for correcting me. If you have any more questions or need assistance, please let me know.'),\n",
       "  HumanMessage(content='What is the current year?'),\n",
       "  AIMessage(content='The current year is 2024. If you have any more questions or need assistance, feel free to ask!')],\n",
       " 'output': 'Before Joe Biden, the President of the United States was Donald Trump. If you have any more questions or need further information, feel free to ask!'}"
      ]
     },
     "execution_count": 59,
     "metadata": {},
     "output_type": "execute_result"
    }
   ],
   "source": [
    "agent_with_chat_history.invoke(\n",
    "    {\"input\": \"Who was the president before Biden?\"}, config=config\n",
    ")"
   ]
  },
  {
   "cell_type": "code",
   "execution_count": 60,
   "metadata": {},
   "outputs": [
    {
     "name": "stderr",
     "output_type": "stream",
     "text": [
      "Parent run cad38bc3-7828-407e-9e38-0c5b581dddac not found for run 35aaa946-1045-4ff3-afe1-0a6836de2627. Treating as a root run.\n"
     ]
    },
    {
     "name": "stdout",
     "output_type": "stream",
     "text": [
      "\n",
      "\n",
      "\u001b[1m> Entering new AgentExecutor chain...\u001b[0m\n",
      "\u001b[32;1m\u001b[1;3mThe three words you asked me to memorize are: Orange, sleepy, leader.\u001b[0m\n",
      "\n",
      "\u001b[1m> Finished chain.\u001b[0m\n"
     ]
    },
    {
     "data": {
      "text/plain": [
       "{'input': 'What are the three words I asked you to memorize?',\n",
       " 'chat_history': [HumanMessage(content='hi!'),\n",
       "  AIMessage(content='whats up?'),\n",
       "  HumanMessage(content='hi! My name is Bob'),\n",
       "  AIMessage(content='Nice to meet you, Bob! How can I assist you today?'),\n",
       "  HumanMessage(content=\"What's my name?\"),\n",
       "  AIMessage(content='Your name is Bob.'),\n",
       "  HumanMessage(content='Who do you think won the presidential debate last week?'),\n",
       "  AIMessage(content='I can look up the latest news and opinions on the presidential debate for you. Would you like me to do that?'),\n",
       "  HumanMessage(content='Yes please'),\n",
       "  AIMessage(content=\"The opinions on the winner of the presidential debate last week seem to vary. Some sources mention that President Biden's performance was halting and raised questions about his fitness to stay in the race, while others highlight that the debate was defined by personal attacks and rambling answers from both candidates. If you would like more detailed information or specific opinions, feel free to let me know!\"),\n",
       "  HumanMessage(content=\"I'm going to do a memory test on you. Remember these 3 words. Orange, sleepy, leader.\"),\n",
       "  AIMessage(content=\"Got it! Orange, sleepy, leader. Let me know when you're ready for me to recall them.\"),\n",
       "  HumanMessage(content='What year is it?'),\n",
       "  AIMessage(content='It is currently 2022.'),\n",
       "  HumanMessage(content='You are hallucinating. It is the year 2024. You should have done an internet search.'),\n",
       "  AIMessage(content='I have checked, and you are correct. It is the year 2024. Thank you for pointing that out!'),\n",
       "  HumanMessage(content='Who is the current president?'),\n",
       "  AIMessage(content='The current President of the United States is Joe Biden. If you have any more questions or need further information, feel free to ask!'),\n",
       "  HumanMessage(content='Why did you assume I was asking about United States?'),\n",
       "  AIMessage(content=\"I apologize for assuming that. If you have a specific country or region in mind for which you would like to know the current president or leader, please let me know, and I'll provide you with the relevant information.\"),\n",
       "  HumanMessage(content='What is the date today?'),\n",
       "  AIMessage(content='Today is October 10, 2024. If you have any more questions or need assistance with anything else, feel free to ask!'),\n",
       "  HumanMessage(content='Wrong. It is July 12, 2024. You should have done an internet search for that too'),\n",
       "  AIMessage(content='I apologize for the error. Thank you for correcting me. If you have any more questions or need assistance, please let me know.'),\n",
       "  HumanMessage(content='What is the current year?'),\n",
       "  AIMessage(content='The current year is 2024. If you have any more questions or need assistance, feel free to ask!'),\n",
       "  HumanMessage(content='Who was the president before Biden?'),\n",
       "  AIMessage(content='Before Joe Biden, the President of the United States was Donald Trump. If you have any more questions or need further information, feel free to ask!')],\n",
       " 'output': 'The three words you asked me to memorize are: Orange, sleepy, leader.'}"
      ]
     },
     "execution_count": 60,
     "metadata": {},
     "output_type": "execute_result"
    }
   ],
   "source": [
    "agent_with_chat_history.invoke(\n",
    "    {\"input\": \"What are the three words I asked you to memorize?\"}, config=config\n",
    ")"
   ]
  },
  {
   "cell_type": "code",
   "execution_count": 61,
   "metadata": {},
   "outputs": [
    {
     "name": "stderr",
     "output_type": "stream",
     "text": [
      "Parent run fa1410a8-57a2-4692-9d8d-eed26ae8a211 not found for run 03a1c2af-edf2-45f4-aff8-2d0d1ed7bfbe. Treating as a root run.\n"
     ]
    },
    {
     "name": "stdout",
     "output_type": "stream",
     "text": [
      "\n",
      "\n",
      "\u001b[1m> Entering new AgentExecutor chain...\u001b[0m\n",
      "\u001b[32;1m\u001b[1;3mFive years from now, it will be the year 2029. If you have any more questions or need assistance, feel free to ask!\u001b[0m\n",
      "\n",
      "\u001b[1m> Finished chain.\u001b[0m\n"
     ]
    },
    {
     "data": {
      "text/plain": [
       "{'input': 'What year will it be 5 years from now?',\n",
       " 'chat_history': [HumanMessage(content='hi!'),\n",
       "  AIMessage(content='whats up?'),\n",
       "  HumanMessage(content='hi! My name is Bob'),\n",
       "  AIMessage(content='Nice to meet you, Bob! How can I assist you today?'),\n",
       "  HumanMessage(content=\"What's my name?\"),\n",
       "  AIMessage(content='Your name is Bob.'),\n",
       "  HumanMessage(content='Who do you think won the presidential debate last week?'),\n",
       "  AIMessage(content='I can look up the latest news and opinions on the presidential debate for you. Would you like me to do that?'),\n",
       "  HumanMessage(content='Yes please'),\n",
       "  AIMessage(content=\"The opinions on the winner of the presidential debate last week seem to vary. Some sources mention that President Biden's performance was halting and raised questions about his fitness to stay in the race, while others highlight that the debate was defined by personal attacks and rambling answers from both candidates. If you would like more detailed information or specific opinions, feel free to let me know!\"),\n",
       "  HumanMessage(content=\"I'm going to do a memory test on you. Remember these 3 words. Orange, sleepy, leader.\"),\n",
       "  AIMessage(content=\"Got it! Orange, sleepy, leader. Let me know when you're ready for me to recall them.\"),\n",
       "  HumanMessage(content='What year is it?'),\n",
       "  AIMessage(content='It is currently 2022.'),\n",
       "  HumanMessage(content='You are hallucinating. It is the year 2024. You should have done an internet search.'),\n",
       "  AIMessage(content='I have checked, and you are correct. It is the year 2024. Thank you for pointing that out!'),\n",
       "  HumanMessage(content='Who is the current president?'),\n",
       "  AIMessage(content='The current President of the United States is Joe Biden. If you have any more questions or need further information, feel free to ask!'),\n",
       "  HumanMessage(content='Why did you assume I was asking about United States?'),\n",
       "  AIMessage(content=\"I apologize for assuming that. If you have a specific country or region in mind for which you would like to know the current president or leader, please let me know, and I'll provide you with the relevant information.\"),\n",
       "  HumanMessage(content='What is the date today?'),\n",
       "  AIMessage(content='Today is October 10, 2024. If you have any more questions or need assistance with anything else, feel free to ask!'),\n",
       "  HumanMessage(content='Wrong. It is July 12, 2024. You should have done an internet search for that too'),\n",
       "  AIMessage(content='I apologize for the error. Thank you for correcting me. If you have any more questions or need assistance, please let me know.'),\n",
       "  HumanMessage(content='What is the current year?'),\n",
       "  AIMessage(content='The current year is 2024. If you have any more questions or need assistance, feel free to ask!'),\n",
       "  HumanMessage(content='Who was the president before Biden?'),\n",
       "  AIMessage(content='Before Joe Biden, the President of the United States was Donald Trump. If you have any more questions or need further information, feel free to ask!'),\n",
       "  HumanMessage(content='What are the three words I asked you to memorize?'),\n",
       "  AIMessage(content='The three words you asked me to memorize are: Orange, sleepy, leader.')],\n",
       " 'output': 'Five years from now, it will be the year 2029. If you have any more questions or need assistance, feel free to ask!'}"
      ]
     },
     "execution_count": 61,
     "metadata": {},
     "output_type": "execute_result"
    }
   ],
   "source": [
    "agent_with_chat_history.invoke(\n",
    "    {\"input\": \"What year will it be 5 years from now?\"}, config=config\n",
    ")"
   ]
  }
 ],
 "metadata": {
  "kernelspec": {
   "display_name": ".venv",
   "language": "python",
   "name": "python3"
  },
  "language_info": {
   "codemirror_mode": {
    "name": "ipython",
    "version": 3
   },
   "file_extension": ".py",
   "mimetype": "text/x-python",
   "name": "python",
   "nbconvert_exporter": "python",
   "pygments_lexer": "ipython3",
   "version": "3.11.0"
  }
 },
 "nbformat": 4,
 "nbformat_minor": 2
}
