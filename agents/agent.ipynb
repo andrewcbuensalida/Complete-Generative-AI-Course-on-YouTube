{
 "cells": [
  {
   "cell_type": "markdown",
   "metadata": {},
   "source": [
    "# How to use an agent\n",
    "Following https://python.langchain.com/v0.1/docs/modules/agents/quick_start/"
   ]
  },
  {
   "cell_type": "markdown",
   "metadata": {},
   "source": [
    "## Define tavily search tool"
   ]
  },
  {
   "cell_type": "code",
   "execution_count": 2,
   "metadata": {},
   "outputs": [
    {
     "data": {
      "text/plain": [
       "[{'url': 'https://www.weatherapi.com/',\n",
       "  'content': \"{'location': {'name': 'San Francisco', 'region': 'California', 'country': 'United States of America', 'lat': 37.78, 'lon': -122.42, 'tz_id': 'America/Los_Angeles', 'localtime_epoch': 1725134962, 'localtime': '2024-08-31 13:09'}, 'current': {'last_updated_epoch': 1725134400, 'last_updated': '2024-08-31 13:00', 'temp_c': 20.6, 'temp_f': 69.1, 'is_day': 1, 'condition': {'text': 'Partly cloudy', 'icon': '//cdn.weatherapi.com/weather/64x64/day/116.png', 'code': 1003}, 'wind_mph': 2.2, 'wind_kph': 3.6, 'wind_degree': 258, 'wind_dir': 'WSW', 'pressure_mb': 1017.0, 'pressure_in': 30.04, 'precip_mm': 0.0, 'precip_in': 0.0, 'humidity': 61, 'cloud': 25, 'feelslike_c': 20.6, 'feelslike_f': 69.1, 'windchill_c': 17.8, 'windchill_f': 64.0, 'heatindex_c': 17.8, 'heatindex_f': 64.0, 'dewpoint_c': 12.7, 'dewpoint_f': 54.8, 'vis_km': 16.0, 'vis_miles': 9.0, 'uv': 5.0, 'gust_mph': 12.8, 'gust_kph': 20.7}}\"},\n",
       " {'url': 'https://www.almanac.com/weather/longrange/CA/San Francisco',\n",
       "  'content': '60-Day Extended Weather Forecast for San Francisco, CA. ... August 2024 Long Range Weather Forecast for Pacific Southwest; Dates Weather Conditions; Aug 1-4: Sunny, warm: Aug 5-14: Sunny inland; AM clouds, PM sun coast; mild: Aug 15-24: Sunny; warm coast, cool inland: Aug 25-31: Sunny, warm: August: temperature 73° (1° above avg ...'},\n",
       " {'url': 'https://www.weather.gov/mtr/',\n",
       "  'content': 'Current Hazards. Submit Report; Current Outlooks; Daily Briefing; Detailed Hazards; ... Fri, Aug 30, 2024 at 3:14:38 am PDT Watches, Warnings & Advisories. Zoom Out. Small Craft Advisory. ... National Weather Service San Francisco Bay Area, CA 21 Grace Hopper Ave, Stop 5 Monterey, CA 93943-5505'},\n",
       " {'url': 'https://www.weathertab.com/en/c/e/08/united-states/california/san-francisco/',\n",
       "  'content': 'Avg Low Temps 50 to 60 °F. Explore comprehensive August 2024 weather forecasts for San Francisco, including daily high and low temperatures, precipitation risks, and monthly temperature trends. Featuring detailed day-by-day forecasts, dynamic graphs of daily rain probabilities, and temperature trends to help you plan ahead.'},\n",
       " {'url': 'https://world-weather.info/forecast/usa/san_francisco/august-2024/',\n",
       "  'content': 'Extended weather forecast in San Francisco. Hourly Week 10 days 14 days 30 days Year. Detailed ⚡ San Francisco Weather Forecast for August 2024 - day/night 🌡️ temperatures, precipitations - World-Weather.info.'}]"
      ]
     },
     "execution_count": 2,
     "metadata": {},
     "output_type": "execute_result"
    }
   ],
   "source": [
    "from langchain_community.tools.tavily_search import TavilySearchResults\n",
    "search = TavilySearchResults()\n",
    "search.invoke(\"what is the weather in SF\")"
   ]
  },
  {
   "cell_type": "markdown",
   "metadata": {},
   "source": [
    "## Define retriever"
   ]
  },
  {
   "cell_type": "code",
   "execution_count": 20,
   "metadata": {},
   "outputs": [],
   "source": [
    "from langchain_community.document_loaders import WebBaseLoader\n",
    "from langchain_community.vectorstores import FAISS # This is Facebook AI's Similarity Search vector store\n",
    "from langchain_openai import OpenAIEmbeddings\n",
    "from langchain_text_splitters import RecursiveCharacterTextSplitter\n",
    "\n",
    "embeddings = OpenAIEmbeddings()"
   ]
  },
  {
   "cell_type": "code",
   "execution_count": 3,
   "metadata": {
    "slideshow": {
     "slide_type": "skip"
    }
   },
   "outputs": [],
   "source": [
    "# Skip this if you already have a faiss_index folder\n",
    "loader = WebBaseLoader(\"https://en.wikipedia.org/wiki/Cancer\")\n",
    "docs = loader.load()\n",
    "documents = RecursiveCharacterTextSplitter(\n",
    "    chunk_size=1000, chunk_overlap=200\n",
    ").split_documents(docs)\n",
    "vector = FAISS.from_documents(\n",
    "    documents, embeddings\n",
    ")  # This is in-memory. Have to do vector.save_local() to save to a faiss_index folder\n",
    "vector.save_local(\"faiss_index\")"
   ]
  },
  {
   "cell_type": "code",
   "execution_count": 4,
   "metadata": {},
   "outputs": [
    {
     "data": {
      "text/plain": [
       "[Document(metadata={'source': 'https://en.wikipedia.org/wiki/Cancer', 'title': 'Cancer - Wikipedia', 'language': 'en'}, page_content='In 2008, approximately 12.7\\xa0million cancers were diagnosed (excluding non-melanoma skin cancers and other non-invasive cancers)[19] and in 2010 nearly 7.98\\xa0million people died.[212] Cancers account for approximately 16% of deaths. The most common as of 2018[update] are lung cancer (1.76\\xa0million deaths), colorectal cancer (860,000) stomach cancer (780,000), liver cancer (780,000), and breast cancer (620,000).[2] This makes invasive cancer the leading cause of death in the developed world and the second leading in the developing world.[19] Over half of cases occur in the developing world.[19]'),\n",
       " Document(metadata={'source': 'https://en.wikipedia.org/wiki/Cancer', 'title': 'Cancer - Wikipedia', 'language': 'en'}, page_content='Graphs are unavailable due to technical issues. There is more info on Phabricator and on MediaWiki.org.\\nSee or edit source data. Age-standardized death rate from cancer per 10,000 people.[210]\\nEstimates are that in 2018, 18.1\\xa0million new cases of cancer and 9.6\\xa0million deaths occur globally.[211] About 20% of males and 17% of females will get cancer at some point in time while 13% of males and 9% of females will die from it.[211]'),\n",
       " Document(metadata={'source': 'https://en.wikipedia.org/wiki/Cancer', 'title': 'Cancer - Wikipedia', 'language': 'en'}, page_content='Global perspective\\nThe global total economic costs of cancer were estimated at US$1.16\\xa0trillion (equivalent to $1.62 trillion in 2023) per year as of 2010[update].[20] In 2015, about 90.5\\xa0million people worldwide had cancer.[21] In 2019, annual cancer cases grew by 23.6\\xa0million people, and there were 10 million deaths worldwide, representing over the previous decade increases of 26% and 21%, respectively.[6][22]'),\n",
       " Document(metadata={'source': 'https://en.wikipedia.org/wiki/Cancer', 'title': 'Cancer - Wikipedia', 'language': 'en'}, page_content='Deaths from cancer were 5.8\\xa0million in 1990.[212] Deaths have been increasing primarily due to longer lifespans and lifestyle changes in the developing world.[19] The most significant risk factor for developing cancer is age.[213] Although it is possible for cancer to strike at any age, most patients with invasive cancer are over 65.[213] According to cancer researcher Robert A. Weinberg, \"If we lived long enough, sooner or later we all would get cancer.\"[214] Some of the association between aging and cancer is attributed to immunosenescence,[215] errors accumulated in DNA over a lifetime[216] and age-related changes in the endocrine system.[217] Aging\\'s effect on cancer is complicated by factors such as DNA damage and inflammation promoting it and factors such as vascular aging and endocrine changes inhibiting it.[218]')]"
      ]
     },
     "execution_count": 4,
     "metadata": {},
     "output_type": "execute_result"
    }
   ],
   "source": [
    "# If you have the faiss_index folder (the vector store) already, just load it\n",
    "vector = FAISS.load_local(\n",
    "    \"faiss_index\", embeddings, allow_dangerous_deserialization=True\n",
    ")  # This is how you load it back\n",
    "retriever = vector.as_retriever()\n",
    "retriever.invoke(\"How many people die of cancer?\")"
   ]
  },
  {
   "cell_type": "markdown",
   "metadata": {},
   "source": [
    "## Turn retriever into another tool"
   ]
  },
  {
   "cell_type": "code",
   "execution_count": 5,
   "metadata": {},
   "outputs": [
    {
     "data": {
      "text/plain": [
       "Tool(name='cancer_search', description='Search for information about cancer based on wikipedia page. For any questions about cancer, you must use this tool!', args_schema=<class 'langchain_core.tools.retriever.RetrieverInput'>, func=functools.partial(<function _get_relevant_documents at 0x0000027AA93DDB20>, retriever=VectorStoreRetriever(tags=['FAISS', 'OpenAIEmbeddings'], vectorstore=<langchain_community.vectorstores.faiss.FAISS object at 0x0000027AA9260650>), document_prompt=PromptTemplate(input_variables=['page_content'], template='{page_content}'), document_separator='\\n\\n'), coroutine=functools.partial(<function _aget_relevant_documents at 0x0000027AA93DDE40>, retriever=VectorStoreRetriever(tags=['FAISS', 'OpenAIEmbeddings'], vectorstore=<langchain_community.vectorstores.faiss.FAISS object at 0x0000027AA9260650>), document_prompt=PromptTemplate(input_variables=['page_content'], template='{page_content}'), document_separator='\\n\\n'))"
      ]
     },
     "execution_count": 5,
     "metadata": {},
     "output_type": "execute_result"
    }
   ],
   "source": [
    "from langchain.tools.retriever import create_retriever_tool\n",
    "retriever_tool = create_retriever_tool(\n",
    "    retriever,\n",
    "    \"cancer_search\",\n",
    "    \"Search for information about cancer based on wikipedia page. For any questions about cancer, you must use this tool!\",\n",
    ")\n",
    "retriever_tool"
   ]
  },
  {
   "cell_type": "code",
   "execution_count": 6,
   "metadata": {},
   "outputs": [],
   "source": [
    "tools = [search, retriever_tool]"
   ]
  },
  {
   "cell_type": "markdown",
   "metadata": {},
   "source": [
    "## Create the agent"
   ]
  },
  {
   "cell_type": "code",
   "execution_count": 19,
   "metadata": {},
   "outputs": [],
   "source": [
    "from langchain_openai import ChatOpenAI\n",
    "\n",
    "llm = ChatOpenAI(model=\"gpt-3.5-turbo-0125\", temperature=0)"
   ]
  },
  {
   "cell_type": "markdown",
   "metadata": {},
   "source": [
    "### OR with a local LLM\n",
    "1. download ollama\n",
    "2. in command prompt, run \n",
    "  ollama pull llama3.1"
   ]
  },
  {
   "cell_type": "code",
   "execution_count": 21,
   "metadata": {},
   "outputs": [],
   "source": [
    "from langchain_ollama import ChatOllama\n",
    "\n",
    "llm = ChatOllama(\n",
    "    # model=\"llama3-groq-tool-use\",\n",
    "    # model=\"tinyllama\", # Does not support tools\n",
    "    # model=\"llava-phi3\",\n",
    "    # model=\"llava\",\n",
    "    model=\"llama3.1\",\n",
    "    temperature=0,\n",
    ")"
   ]
  },
  {
   "cell_type": "code",
   "execution_count": 22,
   "metadata": {},
   "outputs": [
    {
     "data": {
      "text/plain": [
       "[SystemMessagePromptTemplate(prompt=PromptTemplate(input_variables=[], template='You are a helpful assistant')),\n",
       " MessagesPlaceholder(variable_name='chat_history', optional=True),\n",
       " HumanMessagePromptTemplate(prompt=PromptTemplate(input_variables=['input'], template='{input}')),\n",
       " MessagesPlaceholder(variable_name='agent_scratchpad')]"
      ]
     },
     "execution_count": 22,
     "metadata": {},
     "output_type": "execute_result"
    }
   ],
   "source": [
    "from langchain import hub\n",
    "\n",
    "# To see what prompt is, https://smith.langchain.com/hub/hwchase17/openai-functions-agent\n",
    "prompt = hub.pull(\"hwchase17/openai-functions-agent\") # Prompt to guide agent\n",
    "prompt.messages"
   ]
  },
  {
   "cell_type": "markdown",
   "metadata": {},
   "source": [
    "## Initialize agent with llm, prompt, and tools"
   ]
  },
  {
   "cell_type": "code",
   "execution_count": 17,
   "metadata": {},
   "outputs": [],
   "source": [
    "from langchain.agents import create_tool_calling_agent\n",
    "\n",
    "agent = create_tool_calling_agent(llm, tools, prompt) # the brains"
   ]
  },
  {
   "cell_type": "code",
   "execution_count": 18,
   "metadata": {},
   "outputs": [],
   "source": [
    "# Define the agent executor\n",
    "from langchain.agents import AgentExecutor\n",
    "\n",
    "agent_executor = AgentExecutor(agent=agent, tools=tools, verbose=True) # this repeatedly calls the agent and executes the tools"
   ]
  },
  {
   "cell_type": "code",
   "execution_count": 19,
   "metadata": {},
   "outputs": [
    {
     "name": "stdout",
     "output_type": "stream",
     "text": [
      "\n",
      "\n",
      "\u001b[1m> Entering new AgentExecutor chain...\u001b[0m\n",
      "\u001b[32;1m\u001b[1;3m\n",
      "Invoking: `cancer_search` with `{'query': 'causes of cancer'}`\n",
      "\n",
      "\n",
      "\u001b[0m\u001b[33;1m\u001b[1;3mSome environments make errors more likely to arise and propagate. Such environments can include the presence of disruptive substances called carcinogens, repeated physical injury, heat, ionising radiation, or hypoxia.[98]\n",
      "The errors that cause cancer are self-amplifying and compounding, for example:\n",
      "\n",
      "Causes\n",
      "Main article: Causes of cancer\n",
      "The GHS Hazard pictogram for carcinogenic substances\n",
      "Share of cancer deaths attributed to tobacco in 2016.[42]\n",
      "The majority of cancers, some 90–95% of cases, are due to genetic mutations from environmental and lifestyle factors.[3] The remaining 5–10% are due to inherited genetics.[3] Environmental refers to any cause that is not inherited, such as lifestyle, economic, and behavioral factors and not merely pollution.[43] Common environmental factors that contribute to cancer death include tobacco use (25–30%), diet and obesity (30–35%), infections (15–20%), radiation (both ionizing and non-ionizing, up to 10%), lack of physical activity, and pollution.[3][44] Psychological stress does not appear to be a risk factor for the onset of cancer,[45][46] though it may worsen outcomes in those who already have cancer.[45]\n",
      "\n",
      "Causes\n",
      "Tobacco use is the cause of about 22% of cancer deaths.[2] Another 10% are due to obesity, poor diet, lack of physical activity or excessive alcohol consumption.[2][8][9] Other factors include certain infections, exposure to ionizing radiation, and environmental pollutants.[3] Infection with specific viruses, bacteria and parasites is an environmental factor causing approximately 16-18% of cancers worldwide.[10]  These infectious agents include:\n",
      "\n",
      "Environmental or lifestyle factors that caused cancer to develop in an individual can be identified by analyzing mutational signatures from genomic sequencing of tumor DNA. For example, this can reveal if lung cancer was caused by tobacco smoke, if skin cancer was caused by UV radiation, or if secondary cancers were caused by previous chemotherapy treatment.[47]\n",
      "Cancer is generally not a transmissible disease.[48] Exceptions include rare transmissions that occur with pregnancies and occasional organ donors. However, transmissible infectious diseases such as hepatitis B, Epstein-Barr virus, Human Papilloma Virus and HIV, can contribute to the development of cancer.[citation needed]\u001b[0m\u001b[32;1m\u001b[1;3mBased on the tool call response, it appears that the causes of cancer are multifaceted and include:\n",
      "\n",
      "* Environmental factors: 90-95% of cases\n",
      "\t+ Tobacco use (25-30%)\n",
      "\t+ Diet and obesity (30-35%)\n",
      "\t+ Infections (15-20%)\n",
      "\t+ Radiation (both ionizing and non-ionizing, up to 10%)\n",
      "\t+ Lack of physical activity\n",
      "\t+ Pollution\n",
      "* Inherited genetics: 5-10% of cases\n",
      "\n",
      "Additionally, specific viruses, bacteria, and parasites can cause cancer in approximately 16-18% of cases worldwide.\u001b[0m\n",
      "\n",
      "\u001b[1m> Finished chain.\u001b[0m\n"
     ]
    },
    {
     "data": {
      "text/plain": [
       "{'input': 'What causes cancer?',\n",
       " 'output': 'Based on the tool call response, it appears that the causes of cancer are multifaceted and include:\\n\\n* Environmental factors: 90-95% of cases\\n\\t+ Tobacco use (25-30%)\\n\\t+ Diet and obesity (30-35%)\\n\\t+ Infections (15-20%)\\n\\t+ Radiation (both ionizing and non-ionizing, up to 10%)\\n\\t+ Lack of physical activity\\n\\t+ Pollution\\n* Inherited genetics: 5-10% of cases\\n\\nAdditionally, specific viruses, bacteria, and parasites can cause cancer in approximately 16-18% of cases worldwide.'}"
      ]
     },
     "execution_count": 19,
     "metadata": {},
     "output_type": "execute_result"
    }
   ],
   "source": [
    "agent_executor.invoke({\"input\": \"What causes cancer?\"})"
   ]
  },
  {
   "cell_type": "code",
   "execution_count": 24,
   "metadata": {},
   "outputs": [
    {
     "name": "stdout",
     "output_type": "stream",
     "text": [
      "\n",
      "\n",
      "\u001b[1m> Entering new AgentExecutor chain...\u001b[0m\n",
      "\u001b[32;1m\u001b[1;3m\n",
      "Invoking: `tavily_search_results_json` with `{'query': 'latest news on cancer'}`\n",
      "\n",
      "\n",
      "\u001b[0m\u001b[36;1m\u001b[1;3m[{'url': 'https://www.nbcnews.com/health/health-news/fda-approves-groundbreaking-treatment-advanced-melanoma-rcna138005', 'content': 'The Food and Drug Administration on Friday approved a new cancer therapy that could one day transform the way a majority of aggressive and advanced tumors are treated. The treatment, called ...'}, {'url': 'https://www.cancer.gov/news-events/cancer-currents-blog', 'content': 'August 6, 2024 , by Sharon Reynolds. People with advanced endometrial cancer now have new FDA-approved treatment options: pembrolizumab and durvalumab, paired with chemotherapy, for tumors with a genetic change called mismatch repair deficiency. The agency also expanded the approved uses of dostarlimab for the disease.'}, {'url': 'https://www.sciencedaily.com/news/health_medicine/cancer/', 'content': 'Read the latest medical research on risk factors for cancer, cancer symptoms, treatments and more. Updated daily.'}, {'url': 'https://cancerblog.mayoclinic.org/2024/08/20/new-research-discovers-a-new-combination-of-therapy-for-people-with-a-type-of-leukemia-leading-them-to-live-longer/', 'content': 'By Kelley Luckstein. In a new multicenter international study led by the Mayo Clinic Comprehensive Cancer Center, researchers found that people with the B-cell precursor subtype of acute lymphoblastic leukemia (BCP-ALL), who also lacked a genetic abnormality known as the Philadelphia chromosome and were in remission with no trace of cancer, showed significantly higher survival rates when ...'}, {'url': 'https://www.npr.org/sections/health-shots/2024/04/12/1244132197/lung-cancer-immunotherapy-survival-targeted-therapy', 'content': 'Lung cancer survival rates are up thanks to immunotherapy, other new treatments : Shots - Health News Scientific advances in immunotherapy and new targeted therapies have increased survival rates ...'}]\u001b[0m\u001b[32;1m\u001b[1;3mHere are some of the latest news on cancer:\n",
      "\n",
      "1. The Food and Drug Administration approved a new cancer therapy that could transform the treatment of aggressive and advanced tumors. [Read more](https://www.nbcnews.com/health/health-news/fda-approves-groundbreaking-treatment-advanced-melanoma-rcna138005)\n",
      "\n",
      "2. People with advanced endometrial cancer have new FDA-approved treatment options like pembrolizumab and durvalumab paired with chemotherapy. [Read more](https://www.cancer.gov/news-events/cancer-currents-blog)\n",
      "\n",
      "3. Stay updated with the latest medical research on risk factors, symptoms, and treatments for cancer. [Read more](https://www.sciencedaily.com/news/health_medicine/cancer/)\n",
      "\n",
      "4. New research discovered a new combination of therapy for people with a type of leukemia, leading to longer survival rates. [Read more](https://cancerblog.mayoclinic.org/2024/08/20/new-research-discovers-a-new-combination-of-therapy-for-people-with-a-type-of-leukemia-leading-them-to-live-longer/)\n",
      "\n",
      "5. Lung cancer survival rates have increased due to scientific advances in immunotherapy and new targeted therapies. [Read more](https://www.npr.org/sections/health-shots/2024/04/12/1244132197/lung-cancer-immunotherapy-survival-targeted-therapy)\u001b[0m\n",
      "\n",
      "\u001b[1m> Finished chain.\u001b[0m\n"
     ]
    },
    {
     "data": {
      "text/plain": [
       "{'input': \"What's the latest news on cancer?\",\n",
       " 'output': 'Here are some of the latest news on cancer:\\n\\n1. The Food and Drug Administration approved a new cancer therapy that could transform the treatment of aggressive and advanced tumors. [Read more](https://www.nbcnews.com/health/health-news/fda-approves-groundbreaking-treatment-advanced-melanoma-rcna138005)\\n\\n2. People with advanced endometrial cancer have new FDA-approved treatment options like pembrolizumab and durvalumab paired with chemotherapy. [Read more](https://www.cancer.gov/news-events/cancer-currents-blog)\\n\\n3. Stay updated with the latest medical research on risk factors, symptoms, and treatments for cancer. [Read more](https://www.sciencedaily.com/news/health_medicine/cancer/)\\n\\n4. New research discovered a new combination of therapy for people with a type of leukemia, leading to longer survival rates. [Read more](https://cancerblog.mayoclinic.org/2024/08/20/new-research-discovers-a-new-combination-of-therapy-for-people-with-a-type-of-leukemia-leading-them-to-live-longer/)\\n\\n5. Lung cancer survival rates have increased due to scientific advances in immunotherapy and new targeted therapies. [Read more](https://www.npr.org/sections/health-shots/2024/04/12/1244132197/lung-cancer-immunotherapy-survival-targeted-therapy)'}"
      ]
     },
     "execution_count": 24,
     "metadata": {},
     "output_type": "execute_result"
    }
   ],
   "source": [
    "agent_executor.invoke({\"input\": \"What's the latest news on cancer?\"})"
   ]
  },
  {
   "cell_type": "code",
   "execution_count": 25,
   "metadata": {},
   "outputs": [
    {
     "name": "stdout",
     "output_type": "stream",
     "text": [
      "\n",
      "\n",
      "\u001b[1m> Entering new AgentExecutor chain...\u001b[0m\n",
      "\u001b[32;1m\u001b[1;3mYou just asked me, \"What did I just ask you?\" How can I assist you further?\u001b[0m\n",
      "\n",
      "\u001b[1m> Finished chain.\u001b[0m\n"
     ]
    },
    {
     "data": {
      "text/plain": [
       "{'input': 'What did I just ask you?',\n",
       " 'output': 'You just asked me, \"What did I just ask you?\" How can I assist you further?'}"
      ]
     },
     "execution_count": 25,
     "metadata": {},
     "output_type": "execute_result"
    }
   ],
   "source": [
    "agent_executor.invoke({\"input\": \"What did I just ask you?\"})"
   ]
  },
  {
   "attachments": {
    "image.png": {
     "image/png": "[encoded data removed]"
    }
   },
   "cell_type": "markdown",
   "metadata": {},
   "source": [
    "## Adding memory\n",
    "\n",
    "![image.png](attachment:image.png)"
   ]
  },
  {
   "cell_type": "markdown",
   "metadata": {},
   "source": [
    "## Launch a redis container\n",
    "Could use any database, like sqlite. Here we use redis.\n",
    "\n",
    "docker run --name langchain-redis -d -p 6379:6379 redis redis-server --save 60 1 --loglevel warning\n",
    "\n",
    "Following: https://python.langchain.com/v0.2/docs/integrations/providers/redis/\n",
    "https://python.langchain.com/v0.2/docs/integrations/memory/redis_chat_message_history/\n",
    "\n"
   ]
  },
  {
   "cell_type": "code",
   "execution_count": 26,
   "metadata": {},
   "outputs": [
    {
     "data": {
      "text/plain": [
       "[HumanMessage(content='hi!'), AIMessage(content='whats up?')]"
      ]
     },
     "execution_count": 26,
     "metadata": {},
     "output_type": "execute_result"
    }
   ],
   "source": [
    "from langchain_community.chat_message_histories import RedisChatMessageHistory\n",
    "\n",
    "history = RedisChatMessageHistory(\"foo\", url=\"redis://localhost:6379\")\n",
    "\n",
    "history.clear()\n",
    "\n",
    "history.add_user_message(\"hi!\")\n",
    "\n",
    "history.add_ai_message(\"whats up?\")\n",
    "\n",
    "history.messages"
   ]
  },
  {
   "cell_type": "code",
   "execution_count": 27,
   "metadata": {},
   "outputs": [],
   "source": [
    "from langchain_core.prompts import ChatPromptTemplate, MessagesPlaceholder\n",
    "from langchain_core.runnables.history import RunnableWithMessageHistory\n",
    "\n",
    "agent_with_chat_history = RunnableWithMessageHistory(\n",
    "    agent_executor,\n",
    "    lambda session_id: RedisChatMessageHistory(\n",
    "        session_id, url=\"redis://localhost:6379\"\n",
    "    ),\n",
    "    input_messages_key=\"input\",\n",
    "    history_messages_key=\"chat_history\",\n",
    ")\n",
    "\n",
    "config = {\"configurable\": {\"session_id\": \"foo\"}}\n"
   ]
  },
  {
   "cell_type": "code",
   "execution_count": 29,
   "metadata": {},
   "outputs": [
    {
     "name": "stdout",
     "output_type": "stream",
     "text": [
      "\n",
      "\n",
      "\u001b[1m> Entering new AgentExecutor chain...\u001b[0m\n",
      "\u001b[32;1m\u001b[1;3mGot it! Orange, joy, leader. Let's proceed with the memory test.\u001b[0m\n",
      "\n",
      "\u001b[1m> Finished chain.\u001b[0m\n"
     ]
    },
    {
     "data": {
      "text/plain": [
       "{'input': \"I'm going to do a memory test on you. Remember these 3 words. Orange, joy, leader.\",\n",
       " 'chat_history': [HumanMessage(content='hi!'),\n",
       "  AIMessage(content='whats up?'),\n",
       "  HumanMessage(content=\"I'm going to do a memory test on you. Remember these 3 words. Orange, sleepy, leader.\"),\n",
       "  AIMessage(content=\"Got it! Orange, sleepy, leader. Let's proceed with the memory test.\")],\n",
       " 'output': \"Got it! Orange, joy, leader. Let's proceed with the memory test.\"}"
      ]
     },
     "execution_count": 29,
     "metadata": {},
     "output_type": "execute_result"
    }
   ],
   "source": [
    "agent_with_chat_history.invoke(\n",
    "    {\"input\": \"I'm going to do a memory test on you. Remember these 3 words. Orange, joy, leader.\"}, config=config\n",
    ")"
   ]
  },
  {
   "cell_type": "code",
   "execution_count": 30,
   "metadata": {},
   "outputs": [
    {
     "name": "stdout",
     "output_type": "stream",
     "text": [
      "\n",
      "\n",
      "\u001b[1m> Entering new AgentExecutor chain...\u001b[0m\n",
      "\u001b[32;1m\u001b[1;3mIt is currently 2023.\u001b[0m\n",
      "\n",
      "\u001b[1m> Finished chain.\u001b[0m\n"
     ]
    },
    {
     "data": {
      "text/plain": [
       "{'input': 'What year is it?',\n",
       " 'chat_history': [HumanMessage(content='hi!'),\n",
       "  AIMessage(content='whats up?'),\n",
       "  HumanMessage(content=\"I'm going to do a memory test on you. Remember these 3 words. Orange, sleepy, leader.\"),\n",
       "  AIMessage(content=\"Got it! Orange, sleepy, leader. Let's proceed with the memory test.\"),\n",
       "  HumanMessage(content=\"I'm going to do a memory test on you. Remember these 3 words. Orange, joy, leader.\"),\n",
       "  AIMessage(content=\"Got it! Orange, joy, leader. Let's proceed with the memory test.\")],\n",
       " 'output': 'It is currently 2023.'}"
      ]
     },
     "execution_count": 30,
     "metadata": {},
     "output_type": "execute_result"
    }
   ],
   "source": [
    "agent_with_chat_history.invoke(\n",
    "    {\"input\": \"What year is it?\"}, config=config\n",
    ")"
   ]
  },
  {
   "cell_type": "code",
   "execution_count": 31,
   "metadata": {},
   "outputs": [
    {
     "name": "stdout",
     "output_type": "stream",
     "text": [
      "\n",
      "\n",
      "\u001b[1m> Entering new AgentExecutor chain...\u001b[0m\n",
      "\u001b[32;1m\u001b[1;3m\n",
      "Invoking: `tavily_search_results_json` with `{'query': 'current president of the United States'}`\n",
      "\n",
      "\n",
      "\u001b[0m\u001b[36;1m\u001b[1;3m[{'url': 'https://www.history.com/topics/us-presidents/joe-biden', 'content': \"At his inauguration, Biden addressed the country's challenges and divisions, saying,\\xa0“Few people in our nation’s history have been more challenged or found a time more challenging or difficult than the time we’re in now...To overcome these challenges, to restore the soul and secure the future of America, requires so much more than words and requires the most elusive of all things in a democracy, unity.”\\n Joe Biden\\nBy: History.com Editors\\nUpdated: April 25, 2023\\n| Original: December 16, 2009\\nTable of Contents\\nJoe Biden (1942-), a man who spent nearly a half-century in public service as a senator and vice president, and who endured profound family loss, became the 46th president of the United States on January 20, 2021.\\n U.S. Presidents\\nStream U.S. Presidents documentaries and your favorite HISTORY series, commercial-free\\nCOVID-19 and the 2020 Election\\nA looming issue throughout the election was the coronavirus pandemic which had claimed more than 230,000 American lives and infected more than 9 million in the country. Although he had appropriately credited Kinnock in prior speeches, he failed to do so during an appearance at the Iowa State Fair and even borrowed facts from Kinnock’s life, stating inaccurately, for example, that he was the first in his family to go to college and that his ancestors were coal miners. Joe Biden as Vice President\\nBiden kicked off his second attempt at the White House 20 years later, during the 2008 primary, but dropped out after securing only 1 percent of the delegates in the Iowa Democratic caucuses.\\xa0\"}, {'url': 'https://www.britannica.com/biography/Joe-Biden', 'content': 'Significantly more Democrats voted in the 2020 election than in previous presidential contests, and the Democratic Party not only won the presidential election but also maintained its control of the U.S. House of Representatives and took control of the U.S. Senate from Republicans, though only by the slimmest of margins (the resulting Senate membership was evenly divided between the two parties at 50 senators each, but tie votes could be broken by Vice President Harris, acting in her constitutional role as president of the Senate). Biden supported three significant pieces of voting rights and electoral-reform legislation: the For the People Act, passed by the House in March 2021; the John Lewis Voting Rights Advancement Act, passed by the House in August; and the Freedom to Vote Act, introduced in the Senate in September. The failure of the electoral-reform measures, which Democrats viewed as essential to preserving American democracy, prompted progressive and even some moderate Democrats to urge the elimination of the filibuster, which is not established in the U.S. Constitution and can be ended by the Senate in a simple majority vote.\\n In early November, following important off-year elections in which Democrats suffered several unexpected defeats—signaling a likely loss of the House and Senate to Republicans in the 2022 election—Biden and Democratic House leaders intensified their efforts to reconcile the factions, arguing that some tangible legislative achievement was necessary to retain the support of swing voters. During and after the withdrawal, the Biden administration was criticized by Republican and some Democratic leaders for having misjudged the strength and resolve of both the Taliban and the Afghan government and security forces.'}, {'url': 'https://en.wikipedia.org/wiki/Presidency_of_Joe_Biden', 'content': 'On November 23, after Michigan certified its results, Murphy issued the letter of ascertainment, granting the Biden transition team access to federal funds and resources for an orderly transition.[29]\\nTwo days after becoming the projected winner of the 2020 election, Biden announced the formation of a task force to advise him on the COVID-19 pandemic during the transition, co-chaired by former Surgeon General Vivek Murthy, former FDA commissioner David A. Kessler, and Yale University\\'s Marcella Nunez-Smith.[30]\\nOn January 5, 2021, the Democratic Party won control of the United States Senate, effective January 20, as a result of electoral victories in Georgia by Jon Ossoff in a runoff election for a six-year term and Raphael Warnock in a special runoff election for a two-year term.[31][32] President-elect Biden had supported and campaigned for both candidates prior to the runoff elections on January 5.[33][34]\\nOn January 6, a mob of thousands of Trump supporters violently stormed the Capitol in the hope of overturning Biden\\'s election, forcing Congress to evacuate during the counting of the Electoral College votes.[35][36] More than 26,000 National Guard members were deployed to the capital for the inauguration, with thousands remaining into the spring.[37]\\nOn January 20, 2021, Biden was sworn in by U.S. Chief Justice John Roberts as the 46th president of the United States, completing the oath of office at 11:49\\xa0am EST, eleven minutes before the legal start of his term.[38][39]\\nInaugural address\\nBiden\\'s inaugural speech laid out his vision to unite the nation, prefaced by the various impacts of the COVID-19 pandemic, economic strife, climate change, political polarization, and racial injustice.[40] The union representing ICE agents signaled that its agents would not accept reversals of Trump policies.[232]\\nIn March 2021, the Biden administration granted temporary protected status to Venezuelans fleeing the country amidst the ongoing political and economic crisis.[234]\\nOn June 1, 2021, the\\xa0DHS officially terminated the\\xa0Trump-era \"Remain in Mexico\" policy, which mandated that all\\xa0asylum seekers\\xa0from\\xa0Central America\\xa0were to wait in\\xa0Mexico\\xa0pending their court cases; however, a health order from March 2020 allowed the border authorities to send migrants back for the duration of the\\xa0COVID-19 pandemic\\xa0have remained in place.[235][236] However, on August 14, 2021, a federal judge in Texas ordered the Biden administration to reimplement the policy; the Supreme Court placed a pause on the ruling to give the administration time for arguments.[237][238] On August 24, 2021, the Supreme Court ruled that the Biden administration must comply with the lower court\\'s ruling to reinstate the policy.[239][240]\\nEarly on in Biden\\'s tenure, a surge in unaccompanied minors at the U.S. border stirred controversy. The administration also expanded ties with West Africa, including support for infrastructure improvements at the Benin seaport of Cotonou, a key part of the West African economy.[372][376] Biden appointed longtime U.S. diplomat Johnnie Carson to coordinate implementation of U.S. actions following up from the summit.[377]\\nDuring the 2022 summit, Biden and senior administration officials also met privately with six African leaders facing elections in 2023, pushing them to ensure free and fair elections in their nations.[377]\\nSenator Bob Menendez, the Democratic chairman of the Senate Foreign Relations Committee, has criticized the Biden administration for hesitating to impose sanctions on the governments of Sudan and Ethiopia, where many atrocities and war crimes were committed in the Tigray War.[378]\\nArmenian genocide\\nOn April 24, 2021, the Biden administration declared that the Turkish killings of Armenians at the start of the 20th century were a genocide. Others criticize the CDC for implementing this change following lobbying by Delta Airlines, leading to social media backlash against the federal government.[117]\\nBiden gave a speech at the John F. Kennedy Presidential Library and Museum on September 12, 2022, the 60th anniversary of Kennedy\\'s We Choose to Go to the Moon speech, promoting his administration\\'s revival of the Beau Biden Cancer Moonshot, including the new Advanced Research Projects Agency for Health.[118]\\nEconomy\\nOn January 22, 2021, Biden signed an executive order that removed schedule F, overturning a number of Trump\\'s policies that limited the collective bargaining power of federal unions.[119][120][121] Biden\\'s executive order also promotes a $15 minimum wage for federal workers and repeals three of Trump\\'s executive orders which made the employee discipline process stricter and restricted union representatives\\' access to office space. Biden partly attributed the lack of early evacuation of Afghan civilians to the Afghan government\\'s opposition of a \"mass exodus\" which they thought would cause a \"crisis of confidence\".[360]\\nOn August 26, a suicide attack was carried out by the Islamic State of Iraq and the Levant - Khorasan Province at the Hamid Karzai International Airport, killing more than 170 people, including at least 62 Afghan civilians, 13 US service members, two British nationals and the child of a third British national.[361][362] Biden made a public address following the attack, in which he honored the American service members who were killed, calling them \"heroes\" and saying they lost their lives \"in the service of liberty\", and stated that the US had evacuated more than 100,000 Americans, Afghans, and others.'}, {'url': 'https://www.nytimes.com/spotlight/joe-biden', 'content': 'By Sheryl Gay Stolberg\\nKamala Harris\\nKamala Harris Breaks Record of Tiebreaking Votes in the Senate\\nThe vice president has provided the decisive vote in the Senate 32 times, in a reflection of Democrats’ narrow majority and broader polarization in politics.\\n By Helene Cooper\\nLatest\\nBiden’s Border Negotiations Mark Seismic Shift on Immigration Politics\\nThe discussions over the southern border show how drastically the politics of immigration have shifted to the right in the United States.\\n By Ana Swanson\\nBiden Steps Out in Tinsel Town and the Big Donors Show Up\\nThe president was back on the fund-raising trail in Los Angeles this weekend after a hiatus because of the writers’ and actors’ strikes.\\n By Anjali Huynh\\nAdvertisement\\nCoronavirus\\nNew C.D.C. Director Seeks to Foster Trust in a Battered Agency\\nFive months into her tenure at the Centers for Disease Control and Prevention, Dr. Mandy K. Cohen is trying to put a human face on public health.\\n By Mark Walker\\nBiden Watches Republican Dysfunction From a Distance\\nPresident Biden has chosen not to weigh in forcefully on the Republican meltdown in the House, instead trying to contrast his own achievements with the chaos of his rivals.\\n'}, {'url': 'https://www.biography.com/political-figures/joe-biden', 'content': 'Although he moved forward with the selection of Cabinet members and other staffers, Biden initially found his transition efforts thwarted by Emily Murphy, head of the General Services Administration, who refused to release federal funds for the process until November 23.\\nCapitol Siege and Inauguration\\nOn January 6, 2021, after the start of a congressional session to formalize the Electoral College results, a mob of Trump supporters stormed the Capitol building and overwhelmed the police, forcing lawmakers to evacuate for their safety.\\n Among those that reversed the policies of his predecessor, he recommitted the United States to the climate-related Paris Agreement, overturned the ban that targeted travelers from Muslim-majority nations, pulled funding for the construction of a wall along the Mexican border, revoked the permit for the Keystone XL pipeline, and allowed transgender people to again serve in the military.\\n He also again unloaded on the president for his coronavirus management and policy of separating migrant children from their parents at the border, drawing a clear distinction between their styles with the declaration that “America’s character is on the ballot.”\\n2020 Election Win\\nWith several states counting mail-in ballots well past the close of polling places on November 3, 2020, the race remained too tight to call into the next day. In the White House Rose Garden with his wife, Jill, and President Obama by his side, Biden made his announcement, referring to his son’s recent death in his decision making: “As my family and I have worked through the grieving process, I’ve said all along what I’ve said time and again to others, that it may very well be that the process by the time we get through it closes the window. I started my career fighting for civil rights, and to be a part of what is both a moment in American history where the best people, the best ideas, the how can I say it?—the single best reflection of the American people can be called upon—to be at that moment, with a guy who has such incredible talent and who is also a breakthrough figure in multiple ways—I genuinely find that exciting.'}]\u001b[0m\u001b[32;1m\u001b[1;3mThe current president of the United States is Joe Biden. He became the 46th president on January 20, 2021.\u001b[0m\n",
      "\n",
      "\u001b[1m> Finished chain.\u001b[0m\n"
     ]
    },
    {
     "data": {
      "text/plain": [
       "{'input': 'Who is the current president?',\n",
       " 'chat_history': [HumanMessage(content='hi!'),\n",
       "  AIMessage(content='whats up?'),\n",
       "  HumanMessage(content=\"I'm going to do a memory test on you. Remember these 3 words. Orange, sleepy, leader.\"),\n",
       "  AIMessage(content=\"Got it! Orange, sleepy, leader. Let's proceed with the memory test.\"),\n",
       "  HumanMessage(content=\"I'm going to do a memory test on you. Remember these 3 words. Orange, joy, leader.\"),\n",
       "  AIMessage(content=\"Got it! Orange, joy, leader. Let's proceed with the memory test.\"),\n",
       "  HumanMessage(content='What year is it?'),\n",
       "  AIMessage(content='It is currently 2023.')],\n",
       " 'output': 'The current president of the United States is Joe Biden. He became the 46th president on January 20, 2021.'}"
      ]
     },
     "execution_count": 31,
     "metadata": {},
     "output_type": "execute_result"
    }
   ],
   "source": [
    "agent_with_chat_history.invoke(\n",
    "    {\"input\": \"Who is the current president?\"}, config=config\n",
    ")"
   ]
  },
  {
   "cell_type": "code",
   "execution_count": 32,
   "metadata": {},
   "outputs": [
    {
     "name": "stdout",
     "output_type": "stream",
     "text": [
      "\n",
      "\n",
      "\u001b[1m> Entering new AgentExecutor chain...\u001b[0m\n",
      "\u001b[32;1m\u001b[1;3m\n",
      "Invoking: `tavily_search_results_json` with `{'query': 'current date'}`\n",
      "responded: I can look that up for you. Let me find the current date.\n",
      "\n",
      "\u001b[0m\u001b[36;1m\u001b[1;3m[{'url': 'https://maxtables.com/tools/todays-date.html', 'content': 'The current date, including day of the week, month, day, and year. The exact time, down to seconds. Details on the time zone, its location, and its GMT difference. A tool to select the present date. A visual calendar chart.'}, {'url': 'https://www.calendardate.com/todays.htm', 'content': \"Find out the current date, time zone, day number, week number, month number, leap year, daylight saving time, and more. See today's date in different formats and learn about upcoming holidays and zodiac signs.\"}, {'url': 'https://www.timeanddate.com/', 'content': 'Current Time. Thursday Aug 22, 2024 Roanoke Rapids, North Carolina, USA. Set home location. 2:09: 07 am. World Clock. World Clock. Find the local times in capitals and big cities across the globe. Personal World Clock. Set the current time of your favorite locations across time zones.'}, {'url': 'https://www.timeanddate.com/worldclock/usa', 'content': 'Find out the current time and date in different states and territories of the USA. See the time zone map, DST changes, holidays, and tools for planning events and meetings.'}, {'url': 'https://vclock.com/time/', 'content': 'Online clock. What time is it in different regions of United States, Canada, Australia, Europe and the World. What time is it - Exact time - Any time zone - vClock ... On this website, you can find out the current time and date in any country and city in the world. You can also view the time difference between your location and that of another ...'}]\u001b[0m\u001b[32;1m\u001b[1;3mI found multiple sources that can provide the current date. You can check the current date on websites like [maxtables.com](https://maxtables.com/tools/todays-date.html) or [calendardate.com](https://www.calendardate.com/todays.htm). These websites will display the current date, time zone, day number, week number, month number, leap year status, and more.\u001b[0m\n",
      "\n",
      "\u001b[1m> Finished chain.\u001b[0m\n"
     ]
    },
    {
     "data": {
      "text/plain": [
       "{'input': 'What is the date today?',\n",
       " 'chat_history': [HumanMessage(content='hi!'),\n",
       "  AIMessage(content='whats up?'),\n",
       "  HumanMessage(content=\"I'm going to do a memory test on you. Remember these 3 words. Orange, sleepy, leader.\"),\n",
       "  AIMessage(content=\"Got it! Orange, sleepy, leader. Let's proceed with the memory test.\"),\n",
       "  HumanMessage(content=\"I'm going to do a memory test on you. Remember these 3 words. Orange, joy, leader.\"),\n",
       "  AIMessage(content=\"Got it! Orange, joy, leader. Let's proceed with the memory test.\"),\n",
       "  HumanMessage(content='What year is it?'),\n",
       "  AIMessage(content='It is currently 2023.'),\n",
       "  HumanMessage(content='Who is the current president?'),\n",
       "  AIMessage(content='The current president of the United States is Joe Biden. He became the 46th president on January 20, 2021.')],\n",
       " 'output': 'I found multiple sources that can provide the current date. You can check the current date on websites like [maxtables.com](https://maxtables.com/tools/todays-date.html) or [calendardate.com](https://www.calendardate.com/todays.htm). These websites will display the current date, time zone, day number, week number, month number, leap year status, and more.'}"
      ]
     },
     "execution_count": 32,
     "metadata": {},
     "output_type": "execute_result"
    }
   ],
   "source": [
    "agent_with_chat_history.invoke(\n",
    "    {\"input\": \"What is the date today?\"}, config=config\n",
    ")"
   ]
  },
  {
   "cell_type": "code",
   "execution_count": 33,
   "metadata": {},
   "outputs": [
    {
     "name": "stdout",
     "output_type": "stream",
     "text": [
      "\n",
      "\n",
      "\u001b[1m> Entering new AgentExecutor chain...\u001b[0m\n",
      "\u001b[32;1m\u001b[1;3mYou asked me to remember the words \"Orange, joy, leader.\"\u001b[0m\n",
      "\n",
      "\u001b[1m> Finished chain.\u001b[0m\n"
     ]
    },
    {
     "data": {
      "text/plain": [
       "{'input': 'What are the three words I asked you to memorize?',\n",
       " 'chat_history': [HumanMessage(content='hi!'),\n",
       "  AIMessage(content='whats up?'),\n",
       "  HumanMessage(content=\"I'm going to do a memory test on you. Remember these 3 words. Orange, sleepy, leader.\"),\n",
       "  AIMessage(content=\"Got it! Orange, sleepy, leader. Let's proceed with the memory test.\"),\n",
       "  HumanMessage(content=\"I'm going to do a memory test on you. Remember these 3 words. Orange, joy, leader.\"),\n",
       "  AIMessage(content=\"Got it! Orange, joy, leader. Let's proceed with the memory test.\"),\n",
       "  HumanMessage(content='What year is it?'),\n",
       "  AIMessage(content='It is currently 2023.'),\n",
       "  HumanMessage(content='Who is the current president?'),\n",
       "  AIMessage(content='The current president of the United States is Joe Biden. He became the 46th president on January 20, 2021.'),\n",
       "  HumanMessage(content='What is the date today?'),\n",
       "  AIMessage(content='I found multiple sources that can provide the current date. You can check the current date on websites like [maxtables.com](https://maxtables.com/tools/todays-date.html) or [calendardate.com](https://www.calendardate.com/todays.htm). These websites will display the current date, time zone, day number, week number, month number, leap year status, and more.')],\n",
       " 'output': 'You asked me to remember the words \"Orange, joy, leader.\"'}"
      ]
     },
     "execution_count": 33,
     "metadata": {},
     "output_type": "execute_result"
    }
   ],
   "source": [
    "agent_with_chat_history.invoke(\n",
    "    {\"input\": \"What are the three words I asked you to memorize?\"}, config=config\n",
    ")"
   ]
  }
 ],
 "metadata": {
  "kernelspec": {
   "display_name": ".venv",
   "language": "python",
   "name": "python3"
  },
  "language_info": {
   "codemirror_mode": {
    "name": "ipython",
    "version": 3
   },
   "file_extension": ".py",
   "mimetype": "text/x-python",
   "name": "python",
   "nbconvert_exporter": "python",
   "pygments_lexer": "ipython3",
   "version": "3.12.4"
  }
 },
 "nbformat": 4,
 "nbformat_minor": 2
}
