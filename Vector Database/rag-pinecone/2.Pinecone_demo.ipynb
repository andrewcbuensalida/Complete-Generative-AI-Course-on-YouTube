{
  "cells": [
    {
      "cell_type": "markdown",
      "metadata": {
        "id": "DVI3tJKR4naq"
      },
      "source": [
        "## Install All the Required Packages"
      ]
    },
    {
      "cell_type": "code",
      "execution_count": 1,
      "metadata": {
        "colab": {
          "base_uri": "https://localhost:8080/"
        },
        "id": "3APQ7Sdk2H2A",
        "outputId": "d20a61cf-919f-4dc8-cf95-ec4838de2279"
      },
      "outputs": [
        {
          "name": "stdout",
          "output_type": "stream",
          "text": [
            "Requirement already satisfied: langchain in c:\\swe\\code\\complete-generative-ai-course-on-youtube\\.venv\\lib\\site-packages (0.2.5)\n",
            "Requirement already satisfied: PyYAML>=5.3 in c:\\swe\\code\\complete-generative-ai-course-on-youtube\\.venv\\lib\\site-packages (from langchain) (6.0.1)\n",
            "Requirement already satisfied: SQLAlchemy<3,>=1.4 in c:\\swe\\code\\complete-generative-ai-course-on-youtube\\.venv\\lib\\site-packages (from langchain) (2.0.31)\n",
            "Requirement already satisfied: aiohttp<4.0.0,>=3.8.3 in c:\\swe\\code\\complete-generative-ai-course-on-youtube\\.venv\\lib\\site-packages (from langchain) (3.9.5)\n",
            "Requirement already satisfied: langchain-core<0.3.0,>=0.2.7 in c:\\swe\\code\\complete-generative-ai-course-on-youtube\\.venv\\lib\\site-packages (from langchain) (0.2.9)\n",
            "Requirement already satisfied: langchain-text-splitters<0.3.0,>=0.2.0 in c:\\swe\\code\\complete-generative-ai-course-on-youtube\\.venv\\lib\\site-packages (from langchain) (0.2.1)\n",
            "Requirement already satisfied: langsmith<0.2.0,>=0.1.17 in c:\\swe\\code\\complete-generative-ai-course-on-youtube\\.venv\\lib\\site-packages (from langchain) (0.1.81)\n",
            "Requirement already satisfied: numpy<2,>=1 in c:\\swe\\code\\complete-generative-ai-course-on-youtube\\.venv\\lib\\site-packages (from langchain) (1.26.4)\n",
            "Requirement already satisfied: pydantic<3,>=1 in c:\\swe\\code\\complete-generative-ai-course-on-youtube\\.venv\\lib\\site-packages (from langchain) (2.7.4)\n",
            "Requirement already satisfied: requests<3,>=2 in c:\\swe\\code\\complete-generative-ai-course-on-youtube\\.venv\\lib\\site-packages (from langchain) (2.32.3)\n",
            "Requirement already satisfied: tenacity<9.0.0,>=8.1.0 in c:\\swe\\code\\complete-generative-ai-course-on-youtube\\.venv\\lib\\site-packages (from langchain) (8.4.1)\n",
            "Requirement already satisfied: aiosignal>=1.1.2 in c:\\swe\\code\\complete-generative-ai-course-on-youtube\\.venv\\lib\\site-packages (from aiohttp<4.0.0,>=3.8.3->langchain) (1.3.1)\n",
            "Requirement already satisfied: attrs>=17.3.0 in c:\\swe\\code\\complete-generative-ai-course-on-youtube\\.venv\\lib\\site-packages (from aiohttp<4.0.0,>=3.8.3->langchain) (23.2.0)\n",
            "Requirement already satisfied: frozenlist>=1.1.1 in c:\\swe\\code\\complete-generative-ai-course-on-youtube\\.venv\\lib\\site-packages (from aiohttp<4.0.0,>=3.8.3->langchain) (1.4.1)\n",
            "Requirement already satisfied: multidict<7.0,>=4.5 in c:\\swe\\code\\complete-generative-ai-course-on-youtube\\.venv\\lib\\site-packages (from aiohttp<4.0.0,>=3.8.3->langchain) (6.0.5)\n",
            "Requirement already satisfied: yarl<2.0,>=1.0 in c:\\swe\\code\\complete-generative-ai-course-on-youtube\\.venv\\lib\\site-packages (from aiohttp<4.0.0,>=3.8.3->langchain) (1.9.4)\n",
            "Requirement already satisfied: jsonpatch<2.0,>=1.33 in c:\\swe\\code\\complete-generative-ai-course-on-youtube\\.venv\\lib\\site-packages (from langchain-core<0.3.0,>=0.2.7->langchain) (1.33)\n",
            "Requirement already satisfied: packaging<25,>=23.2 in c:\\swe\\code\\complete-generative-ai-course-on-youtube\\.venv\\lib\\site-packages (from langchain-core<0.3.0,>=0.2.7->langchain) (24.1)\n",
            "Requirement already satisfied: orjson<4.0.0,>=3.9.14 in c:\\swe\\code\\complete-generative-ai-course-on-youtube\\.venv\\lib\\site-packages (from langsmith<0.2.0,>=0.1.17->langchain) (3.10.5)\n",
            "Requirement already satisfied: annotated-types>=0.4.0 in c:\\swe\\code\\complete-generative-ai-course-on-youtube\\.venv\\lib\\site-packages (from pydantic<3,>=1->langchain) (0.7.0)\n",
            "Requirement already satisfied: pydantic-core==2.18.4 in c:\\swe\\code\\complete-generative-ai-course-on-youtube\\.venv\\lib\\site-packages (from pydantic<3,>=1->langchain) (2.18.4)\n",
            "Requirement already satisfied: typing-extensions>=4.6.1 in c:\\swe\\code\\complete-generative-ai-course-on-youtube\\.venv\\lib\\site-packages (from pydantic<3,>=1->langchain) (4.12.2)\n",
            "Requirement already satisfied: charset-normalizer<4,>=2 in c:\\swe\\code\\complete-generative-ai-course-on-youtube\\.venv\\lib\\site-packages (from requests<3,>=2->langchain) (3.3.2)\n",
            "Requirement already satisfied: idna<4,>=2.5 in c:\\swe\\code\\complete-generative-ai-course-on-youtube\\.venv\\lib\\site-packages (from requests<3,>=2->langchain) (3.7)\n",
            "Requirement already satisfied: urllib3<3,>=1.21.1 in c:\\swe\\code\\complete-generative-ai-course-on-youtube\\.venv\\lib\\site-packages (from requests<3,>=2->langchain) (2.2.2)\n",
            "Requirement already satisfied: certifi>=2017.4.17 in c:\\swe\\code\\complete-generative-ai-course-on-youtube\\.venv\\lib\\site-packages (from requests<3,>=2->langchain) (2024.6.2)\n",
            "Requirement already satisfied: greenlet!=0.4.17 in c:\\swe\\code\\complete-generative-ai-course-on-youtube\\.venv\\lib\\site-packages (from SQLAlchemy<3,>=1.4->langchain) (3.0.3)\n",
            "Requirement already satisfied: jsonpointer>=1.9 in c:\\swe\\code\\complete-generative-ai-course-on-youtube\\.venv\\lib\\site-packages (from jsonpatch<2.0,>=1.33->langchain-core<0.3.0,>=0.2.7->langchain) (3.0.0)\n"
          ]
        },
        {
          "name": "stderr",
          "output_type": "stream",
          "text": [
            "WARNING: There was an error checking the latest version of pip.\n"
          ]
        },
        {
          "name": "stdout",
          "output_type": "stream",
          "text": [
            "Requirement already satisfied: pinecone-client in c:\\swe\\code\\complete-generative-ai-course-on-youtube\\.venv\\lib\\site-packages (4.1.1)\n",
            "Requirement already satisfied: certifi>=2019.11.17 in c:\\swe\\code\\complete-generative-ai-course-on-youtube\\.venv\\lib\\site-packages (from pinecone-client) (2024.6.2)\n",
            "Requirement already satisfied: pinecone-plugin-interface<0.0.8,>=0.0.7 in c:\\swe\\code\\complete-generative-ai-course-on-youtube\\.venv\\lib\\site-packages (from pinecone-client) (0.0.7)\n",
            "Requirement already satisfied: tqdm>=4.64.1 in c:\\swe\\code\\complete-generative-ai-course-on-youtube\\.venv\\lib\\site-packages (from pinecone-client) (4.66.4)\n",
            "Requirement already satisfied: typing-extensions>=3.7.4 in c:\\swe\\code\\complete-generative-ai-course-on-youtube\\.venv\\lib\\site-packages (from pinecone-client) (4.12.2)\n",
            "Requirement already satisfied: urllib3>=1.26.0 in c:\\swe\\code\\complete-generative-ai-course-on-youtube\\.venv\\lib\\site-packages (from pinecone-client) (2.2.2)\n",
            "Requirement already satisfied: colorama in c:\\swe\\code\\complete-generative-ai-course-on-youtube\\.venv\\lib\\site-packages (from tqdm>=4.64.1->pinecone-client) (0.4.6)\n"
          ]
        },
        {
          "name": "stderr",
          "output_type": "stream",
          "text": [
            "WARNING: There was an error checking the latest version of pip.\n"
          ]
        },
        {
          "name": "stdout",
          "output_type": "stream",
          "text": [
            "Requirement already satisfied: pypdf in c:\\swe\\code\\complete-generative-ai-course-on-youtube\\.venv\\lib\\site-packages (4.2.0)\n"
          ]
        },
        {
          "name": "stderr",
          "output_type": "stream",
          "text": [
            "WARNING: There was an error checking the latest version of pip.\n"
          ]
        }
      ],
      "source": [
        "# installing modules this way is not recommended because it installs it globally. Better to use requirements.txt\n",
        "!pip install langchain\n",
        "!pip install pinecone-client\n",
        "!pip install pypdf"
      ]
    },
    {
      "cell_type": "code",
      "execution_count": 2,
      "metadata": {
        "colab": {
          "base_uri": "https://localhost:8080/"
        },
        "id": "_P_QHai95FgW",
        "outputId": "986fc9d3-eebf-49ed-98c5-b161bd532f41"
      },
      "outputs": [
        {
          "name": "stdout",
          "output_type": "stream",
          "text": [
            "Requirement already satisfied: openai in c:\\swe\\code\\complete-generative-ai-course-on-youtube\\.venv\\lib\\site-packages (1.35.3)\n",
            "Requirement already satisfied: anyio<5,>=3.5.0 in c:\\swe\\code\\complete-generative-ai-course-on-youtube\\.venv\\lib\\site-packages (from openai) (4.4.0)\n",
            "Requirement already satisfied: distro<2,>=1.7.0 in c:\\swe\\code\\complete-generative-ai-course-on-youtube\\.venv\\lib\\site-packages (from openai) (1.9.0)\n",
            "Requirement already satisfied: httpx<1,>=0.23.0 in c:\\swe\\code\\complete-generative-ai-course-on-youtube\\.venv\\lib\\site-packages (from openai) (0.27.0)\n",
            "Requirement already satisfied: pydantic<3,>=1.9.0 in c:\\swe\\code\\complete-generative-ai-course-on-youtube\\.venv\\lib\\site-packages (from openai) (2.7.4)\n",
            "Requirement already satisfied: sniffio in c:\\swe\\code\\complete-generative-ai-course-on-youtube\\.venv\\lib\\site-packages (from openai) (1.3.1)\n",
            "Requirement already satisfied: tqdm>4 in c:\\swe\\code\\complete-generative-ai-course-on-youtube\\.venv\\lib\\site-packages (from openai) (4.66.4)\n",
            "Requirement already satisfied: typing-extensions<5,>=4.7 in c:\\swe\\code\\complete-generative-ai-course-on-youtube\\.venv\\lib\\site-packages (from openai) (4.12.2)\n",
            "Requirement already satisfied: idna>=2.8 in c:\\swe\\code\\complete-generative-ai-course-on-youtube\\.venv\\lib\\site-packages (from anyio<5,>=3.5.0->openai) (3.7)\n",
            "Requirement already satisfied: certifi in c:\\swe\\code\\complete-generative-ai-course-on-youtube\\.venv\\lib\\site-packages (from httpx<1,>=0.23.0->openai) (2024.6.2)\n",
            "Requirement already satisfied: httpcore==1.* in c:\\swe\\code\\complete-generative-ai-course-on-youtube\\.venv\\lib\\site-packages (from httpx<1,>=0.23.0->openai) (1.0.5)\n",
            "Requirement already satisfied: h11<0.15,>=0.13 in c:\\swe\\code\\complete-generative-ai-course-on-youtube\\.venv\\lib\\site-packages (from httpcore==1.*->httpx<1,>=0.23.0->openai) (0.14.0)\n",
            "Requirement already satisfied: annotated-types>=0.4.0 in c:\\swe\\code\\complete-generative-ai-course-on-youtube\\.venv\\lib\\site-packages (from pydantic<3,>=1.9.0->openai) (0.7.0)\n",
            "Requirement already satisfied: pydantic-core==2.18.4 in c:\\swe\\code\\complete-generative-ai-course-on-youtube\\.venv\\lib\\site-packages (from pydantic<3,>=1.9.0->openai) (2.18.4)\n",
            "Requirement already satisfied: colorama in c:\\swe\\code\\complete-generative-ai-course-on-youtube\\.venv\\lib\\site-packages (from tqdm>4->openai) (0.4.6)\n"
          ]
        },
        {
          "name": "stderr",
          "output_type": "stream",
          "text": [
            "WARNING: There was an error checking the latest version of pip.\n"
          ]
        },
        {
          "name": "stdout",
          "output_type": "stream",
          "text": [
            "Requirement already satisfied: tiktoken in c:\\swe\\code\\complete-generative-ai-course-on-youtube\\.venv\\lib\\site-packages (0.7.0)\n",
            "Requirement already satisfied: regex>=2022.1.18 in c:\\swe\\code\\complete-generative-ai-course-on-youtube\\.venv\\lib\\site-packages (from tiktoken) (2024.5.15)\n",
            "Requirement already satisfied: requests>=2.26.0 in c:\\swe\\code\\complete-generative-ai-course-on-youtube\\.venv\\lib\\site-packages (from tiktoken) (2.32.3)\n",
            "Requirement already satisfied: charset-normalizer<4,>=2 in c:\\swe\\code\\complete-generative-ai-course-on-youtube\\.venv\\lib\\site-packages (from requests>=2.26.0->tiktoken) (3.3.2)\n",
            "Requirement already satisfied: idna<4,>=2.5 in c:\\swe\\code\\complete-generative-ai-course-on-youtube\\.venv\\lib\\site-packages (from requests>=2.26.0->tiktoken) (3.7)\n",
            "Requirement already satisfied: urllib3<3,>=1.21.1 in c:\\swe\\code\\complete-generative-ai-course-on-youtube\\.venv\\lib\\site-packages (from requests>=2.26.0->tiktoken) (2.2.2)\n",
            "Requirement already satisfied: certifi>=2017.4.17 in c:\\swe\\code\\complete-generative-ai-course-on-youtube\\.venv\\lib\\site-packages (from requests>=2.26.0->tiktoken) (2024.6.2)\n"
          ]
        },
        {
          "name": "stderr",
          "output_type": "stream",
          "text": [
            "WARNING: There was an error checking the latest version of pip.\n"
          ]
        }
      ],
      "source": [
        "!pip install openai\n",
        "!pip install tiktoken"
      ]
    },
    {
      "cell_type": "markdown",
      "metadata": {
        "id": "3WNrsq005Oa5"
      },
      "source": [
        "## Import All the Required Libraries"
      ]
    },
    {
      "cell_type": "code",
      "execution_count": 43,
      "metadata": {
        "id": "QadipyWC5FeA"
      },
      "outputs": [],
      "source": [
        "from langchain.document_loaders import PyPDFDirectoryLoader\n",
        "from langchain.text_splitter import RecursiveCharacterTextSplitter\n",
        "from langchain_openai import OpenAIEmbeddings, OpenAI\n",
        "from langchain.vectorstores import Pinecone\n",
        "from langchain.chains import RetrievalQA\n",
        "from langchain.prompts import PromptTemplate\n",
        "import os"
      ]
    },
    {
      "cell_type": "markdown",
      "metadata": {
        "id": "Jt3yEYqk5l1G"
      },
      "source": [
        "## Load the PDF Files"
      ]
    },
    {
      "cell_type": "code",
      "execution_count": 4,
      "metadata": {
        "id": "5aPGq0qI5Fbc"
      },
      "outputs": [
        {
          "name": "stderr",
          "output_type": "stream",
          "text": [
            "A subdirectory or file pdfs already exists.\n"
          ]
        }
      ],
      "source": [
        "!mkdir pdfs"
      ]
    },
    {
      "cell_type": "code",
      "execution_count": 5,
      "metadata": {
        "colab": {
          "base_uri": "https://localhost:8080/"
        },
        "id": "717PStbq5FZN",
        "outputId": "77cf9446-0113-4532-abee-25a4fb03f506"
      },
      "outputs": [
        {
          "name": "stderr",
          "output_type": "stream",
          "text": [
            "'wget' is not recognized as an internal or external command,\n",
            "operable program or batch file.\n",
            "Traceback (most recent call last):\n",
            "  File \"c:\\swe\\code\\Complete-Generative-AI-Course-on-YouTube\\.venv\\Scripts\\gdown-script.py\", line 33, in <module>\n",
            "    sys.exit(load_entry_point('gdown==2.3.1', 'console_scripts', 'gdown')())\n",
            "             ^^^^^^^^^^^^^^^^^^^^^^^^^^^^^^^^^^^^^^^^^^^^^^^^^^^^^^^^^^^^^^\n",
            "  File \"C:\\swe\\code\\Complete-Generative-AI-Course-on-YouTube\\.venv\\Lib\\site-packages\\gdown\\__init__.py\", line 72, in main\n",
            "    while (count < max_trial) and (os.stat(filename).st_size < 100000):\n",
            "                                   ^^^^^^^^^^^^^^^^^\n",
            "FileNotFoundError: [WinError 2] The system cannot find the file specified: 'pdfs/yolov7paper.pdf'\n",
            "'wget' is not recognized as an internal or external command,\n",
            "operable program or batch file.\n",
            "Traceback (most recent call last):\n",
            "  File \"c:\\swe\\code\\Complete-Generative-AI-Course-on-YouTube\\.venv\\Scripts\\gdown-script.py\", line 33, in <module>\n",
            "    sys.exit(load_entry_point('gdown==2.3.1', 'console_scripts', 'gdown')())\n",
            "             ^^^^^^^^^^^^^^^^^^^^^^^^^^^^^^^^^^^^^^^^^^^^^^^^^^^^^^^^^^^^^^\n",
            "  File \"C:\\swe\\code\\Complete-Generative-AI-Course-on-YouTube\\.venv\\Lib\\site-packages\\gdown\\__init__.py\", line 72, in main\n",
            "    while (count < max_trial) and (os.stat(filename).st_size < 100000):\n",
            "                                   ^^^^^^^^^^^^^^^^^\n",
            "FileNotFoundError: [WinError 2] The system cannot find the file specified: 'pdfs/rachelgreecv.pdf'\n"
          ]
        }
      ],
      "source": [
        "# Have to pip install gdown before this\n",
        "!gdown 1hPQlXrX8FbaYaLypxTmeVOFNitbBMlEE -O pdfs/yolov7paper.pdf\n",
        "!gdown 1vILwiv6nS2wI3chxNabMgry3qnV67TxM -O pdfs/rachelgreecv.pdf\n",
        "# It errors with 'wget' is not recognized as an internal or external command, operable program or batch file. It might work on linux/mac. If windows, see below.\n"
      ]
    },
    {
      "cell_type": "markdown",
      "metadata": {},
      "source": [
        "In Windows, in WSL\n",
        "cd into /mnt/c/swe/code/Complete-Generative-AI-Course-on-YouTube\n",
        "then\n",
        "\n",
        ".venv/Scripts/gdown.exe 1hPQlXrX8FbaYaLypxTmeVOFNitbBMlEE -O pdfs/yolov7paper.pdf\n",
        "\n",
        "But it errors with \n",
        "\n",
        "FileNotFoundError: [WinError 3] The system cannot find the path specified: 'pdfs/yolov7paper.pdf'\n",
        "\n",
        "Maybe the pdfs are only available to the tutor, so just use your own pdf, like a resume or something, and put it in the pdfs folder."
      ]
    },
    {
      "cell_type": "markdown",
      "metadata": {
        "id": "l9G_3VNU523F"
      },
      "source": [
        "## Extract the Text from the PDF's"
      ]
    },
    {
      "cell_type": "code",
      "execution_count": 6,
      "metadata": {
        "id": "bLAl0c4o51Et"
      },
      "outputs": [],
      "source": [
        "loader = PyPDFDirectoryLoader(\"pdfs\")\n",
        "data = loader.load()"
      ]
    },
    {
      "cell_type": "code",
      "execution_count": 7,
      "metadata": {
        "colab": {
          "base_uri": "https://localhost:8080/"
        },
        "id": "EULIR0lq58_l",
        "outputId": "3a30fbb4-2eeb-4e6a-f1d6-33a9058ca3c5"
      },
      "outputs": [
        {
          "data": {
            "text/plain": [
              "[Document(page_content='A n d r e w\\nB u e n s a l i d a\\nPortfolio:\\nwww .anhonestobserver .com\\n●\\n661-964-9268\\n●\\nSan\\nDiego,\\nCA \\nandrewcbuensalida@gmail.com\\n●\\nlinkedin.com/in/andrewcbuensalida\\n●\\ngithub.com/andrewcbuensalida\\nSummary\\nFormer\\nDepartment\\nof\\nHomeland\\nSecurity\\nLead,\\nCurrent\\nHigh-producing,\\nCertified\\nFull-Stack\\nDevOps,\\nReact, \\nNodeJs,\\nA WS\\nSolutions\\nArchitect,\\nand\\nDatabase\\nSoftware\\nEngineer\\nwith\\nover\\n100+\\nproduction\\ngrade\\napps\\nand\\nover \\n4\\nyears\\nof\\nexperience\\nT echnical\\nSkills\\nAmazon\\nW eb\\nServices,\\nAndroid,\\nApache\\nAirflow ,\\nA ws\\nAmplify ,\\nA ws\\nApi\\nGateway ,\\nA ws\\nAurora,\\nA ws\\nCertificate\\nManager , \\nA ws\\nCloudfront,\\nA ws\\nCode\\nPipeline,\\nA ws\\nDynamodb,\\nA ws\\nEc2,\\nA ws\\nEcr ,\\nA ws\\nEcs,\\nA ws\\nEks,\\nA ws\\nElastic\\nBeanstalk,\\nA ws \\nLambda,\\nA ws\\nLoad-balancer ,\\nA ws\\nRoute\\n53,\\nA ws\\nS3,\\nA ws\\nSam,\\nA ws\\nSns,\\nA ws\\nVpc,\\nAxios,\\nBeautiful\\nSoup,\\nBootstrap, \\nChakra-ui,\\nCi/cd,\\nCryptojs,\\nD3,\\nDbeaver ,\\nDjango,\\nDocker ,\\nEjs,\\nElectronjs,\\nEnzyme,\\nExpress,\\nFirebase,\\nFlask,\\nFormik,\\nGit, \\nGithub\\nActions,\\nGoogle\\nAds,\\nGoogle\\nAssistant,\\nGoogle\\nCloud\\nPlatform,\\nGraphql,\\nHandlebars,\\nHeroku,\\nHostgator ,\\nHtml/css, \\nJava,\\nJavascript,\\nJenkins,\\nJest,\\nJquery ,\\nJwt,\\nKubernetes,\\nLinux,\\nLucid\\nChart,\\nLucidchart,\\nMaterial\\nUi,\\nMaven,\\nMinio, \\nMongodb,\\nMongoose,\\nMs\\nSql\\nServer ,\\nMvc,\\nMysql,\\nNeo4j,\\nNestJs,\\nNginx,\\nNgrok,\\nNodejs,\\nNodemailer ,\\nOracle\\nDb,\\nPdf-lib, \\nPhp,\\nPostgres,\\nPuppeteer ,\\nPython,\\nRabbitmq,\\nReact\\nFinancial\\nCharts,\\nReact\\nHook\\nForm,\\nReact\\nNative,\\nReact\\nNavigation, \\nReact\\nRouter ,\\nReact\\nT able,\\nReact\\nT esting\\nLibrary ,\\nReact,\\nRedis,\\nRedux,\\nResponsive,\\nScss,\\nSelenium,\\nSequelize,\\nServerless \\nFramework,\\nSinon,\\nSocket.io,\\nSpring\\nBoot,\\nSqlite,\\nSsl,\\nStripe,\\nSwagger ,\\nT ailwind,\\nT wilio,\\nT ypeorm,\\nT ypescript,\\nUser \\nAuthentication,\\nV isio,\\nV ue,\\nW eb\\nScraping,\\nW ebsockets,\\nW ordpress,\\nY up,\\nand\\nmore…\\nProfessional\\nExperience\\nPersonal\\nProjects\\n–\\nSoftware\\nEngineer .\\nSan\\nDiego,\\nCA\\n5/23-Present \\n●\\nT ook\\ninitiative\\nin\\nbuilding\\nand\\ndeploying\\nmultiple\\napps\\nwith\\na\\nvariety\\nof\\ntech\\nstacks,\\nsuch\\nas: \\n○\\nCoding\\ncurriculum\\nmanagement.\\nA\\nwebsite\\nthat\\nmanages\\nstudents,\\ncoding\\ncourses,\\nand\\nlessons.\\nStack: \\nD3\\ndata\\nvisualization,\\nNeo4j,\\nJava,\\nMaven,\\nSpring\\nBoot,\\nNodeJs,\\nExpress,\\nReact \\n○\\nNestJs\\nT ask\\nT racker\\nand\\nUser\\nAuthorization.\\nStack:\\nNestJs,\\nT ypescript,\\nA WS\\nElastic\\nBeanstalk,\\nMySQL \\n○\\nAirflow\\ntask\\nautomation\\nStack:\\nA WS\\ns3,\\nPostgreSQL,\\nPython,\\nDocker ,\\nMinio \\n○\\nT witter\\nClone\\nStack:\\nSequelize,\\nNodeJs,\\nPostgres,\\nDocker \\n○\\nPython\\nAutomation\\nW eb\\nScraping\\nEmail,\\nT ed\\nT alk\\nV ideo\\ndownloader .\\nStack:\\nA WS\\nCloudfront\\nCDN \\n○\\nProduct\\nLiker\\n.\\nStack:\\nRabbitmq,\\nNode.js,\\nT ypeorm,\\nMySQL,\\nMongoDB. \\n○\\nMessenger .\\nStack:\\nRedis,\\nReact,\\nchakra-ui,\\nFormik,\\nSocket.io,\\nNodeJS,\\nPostgres,\\nJWT \\n○\\nLightfeather\\nsupervisor\\nnotification.\\nStack:\\nReact,\\nA WS\\nECS/ECR,\\nEKS\\nKubernetes,\\nNodeJs,\\nExpress\\nHarmonia\\nHoldings/Department\\nof\\nHomeland\\nSecurity\\n–\\nSoftware\\nEngineer\\n.Blacksburg,\\nV A\\n6/22-5/23 \\n●\\nRanked\\nwithin\\nthe\\ntop\\n3\\nproducers\\nweek\\nafter\\nweek.\\nRanking\\nis\\nbased\\non\\nGithub\\ncontributions\\nsuch\\nas\\ncode \\nreviews,\\ncommits,\\nand\\nnumber\\nof\\nJira\\ntickets\\nresolved. \\n●\\nLed\\nthe\\n“Dream\\nteam”\\nto\\nits\\nfirst\\nsuccessful\\nproduction\\nrelease.\\nFeatures\\ninclude\\nemail\\nnotifications,\\npolling\\nfor \\nauto\\nrefresh,\\nconstructing\\nAPI\\nendpoints,\\nReact\\ntables,\\narchitecture\\ndiagrams,\\nuploading\\nand\\ndownloading\\nlarge \\nfiles,\\nPDF\\nrendering,\\nsignature\\ncapture,\\nand\\nmore. \\n●\\nStack\\n:\\nReact,\\nT ypescript,\\nReact\\nHook\\nForm,\\nReact\\nT able,\\nA WS,\\nLambda,\\nNode,\\nDynamoDB,\\nSNS,\\nOracle\\nPL/SQL, \\nS3,\\nSASS,\\nBootstrap,\\nRedux,\\nServerless\\nFramework,\\nPDF-lib,\\nNode\\nmailer ,\\nJest,\\nSinon,\\nJenkins/Cloudbees, \\nGithub,\\nJira,\\nLucid\\nchart,\\nV isio,\\nElectronJs,\\nand\\nmore. \\n●\\nT aught\\njunior\\ndevelopers\\nbest\\npractices\\nsuch\\nas\\nDR Y ,\\nnaming\\nconventions,\\nDevOps\\nbranching\\nstrategies, \\ndebugging,\\ndocumentation,\\nsystem\\ndesign\\ndiagrams\\netc\\nto\\nachieve\\nthe\\nhighest\\ncoding\\nstandard', metadata={'source': 'pdfs\\\\Andrew_Buensalida_Resume.pdf', 'page': 0}),\n",
              " Document(page_content='●\\nShowcased\\ngreat\\nwork\\nethic\\nby\\nworking\\nextra\\nhours\\nover\\nthe\\nweekend,\\nnever\\nbeing\\nlate\\nto\\nmeetings,\\nresponding \\nquickly\\nto\\nemails\\nand\\nchat\\nmessages,\\nbeing\\ndetail\\noriented\\ndoing\\nadministrative\\nduties\\nwith\\nJira\\ntickets,\\netc. \\n●\\nCut\\nCI/CD\\ntime\\nto\\na\\nthird\\nby\\noptimizing\\nJenkins\\nconfigurations \\n●\\nAchieved\\n100%\\ntest\\ncoverage\\nwith\\nJest/React\\nT esting\\nLibrary \\n●\\nSet-up\\nSNS\\nemail\\nalerts\\nto\\nreduce\\nA WS\\nlambda\\noutage\\ndowntime \\n●\\nAnalyzed\\nA WS\\nCloudW atch\\nlogs\\nto\\ndebug\\nserver-side\\nissues\\nquickly \\n●\\nStreamlined\\ndummy\\ndata\\ncreation\\nwith\\nOracle\\nSQL\\nscripts\\nand\\nDBeaver \\n●\\nAcquired\\ncertification\\nin\\ngovernment\\ncyber\\nsecurity\\nbest\\npractices\\nAutoscribe\\n–\\nSoftware\\nEngineer\\n.\\nSan\\nJose,\\nCA\\n4/20-6/22 \\n●\\nBuilt\\nand\\ndeployed\\nover\\n30+\\napps\\nwith\\na\\nvariety\\nof\\ntech\\nstacks \\n●\\nDecreased\\ndevelopment\\ntime\\nby\\n75%\\nby\\nmigrating\\nFirebase\\nfunctions\\nto\\na\\nNode/Express\\nserver \\n●\\nImplemented\\nconversation\\nworkflow\\nto\\nsave\\nmedical\\nand\\nemployee\\nactivities\\nto\\na\\nFirestore\\nnoSQL\\ndatabase \\n●\\nEnsured\\napp\\nfunctionality\\nmet\\nthe\\nstandards\\nof\\nGoogle\\nAction\\nprivacy\\npolicies \\n●\\nStack:\\nReact,\\nRedux,\\nT ypescript,\\nNode,\\nExpress,\\nA WS,\\nGoogle\\nCloud\\nPlatform\\n(GCP),\\nLambda,\\nMongoDB, \\nFirestore,\\nDynamoDB,\\nPostgreSQL,\\nT wilio,\\nAmplify ,\\nCognito,\\nReact\\nNative,\\nGraphQL,\\nNginx,\\nEC2,\\nCode\\nPipeline, \\nGithub,\\nHeroku,\\nT ailwind,\\nBootstrap,\\nMaterialUI,\\nJest,\\nGraphQL,\\nCrypto\\nCoin\\nAPIs,\\nReact\\nfinancial\\ncharts,\\nElastic \\nBeanstalk,\\nFormik,\\nY up,\\nEJS,\\nElectronJS,\\nLinux,\\nPuppeteer ,\\nSelenium,\\nStripe,\\nand\\nmore.\\nV arious\\nstart-ups\\n–\\nFounder\\n.\\nInternational\\n1/09-6/17 \\n●\\nV entured\\ninto\\nmultiple\\nbusinesses\\nsuch\\nas\\nEscape\\nRooms,\\nRestaurants,\\nOnline\\nsales,\\nT ennis,\\nMusic\\nProduction\\nEducation\\nMIT\\n(Massachusetts\\nInstitute\\nof\\nT echnology)\\nData\\nEngineering,\\nBoston,\\nMA\\n03/2024 \\nA WS\\nSolutions\\nArchitect\\nAssociate\\nhttps://www .credly .com/badges/ca03d53d-ebf3-4b3c-8d46-9aafbca87f5a/public_url \\nFront-end\\nDevelopment\\nCertificate\\nW3\\nSchools\\nhttps://verify .w3schools.com/1OC1C530WR \\nReact\\nCertificate\\nW3\\nSchools\\nhttps://verify .w3schools.com/1OBZNTHS9T \\nJavascript\\nCertificate\\nW3\\nSchools\\nhttps://verify .w3schools.com/1OC1C4T186 \\nCSS\\nCertificate\\nW3\\nSchools\\nhttps://verify .w3schools.com/1OBZV76UO7 \\nHTML\\nCertificate\\nW3\\nSchools\\nhttps://verify .w3schools.com/1OC0N6KOL7 \\nT ypescript\\nCertificate\\nW3\\nSchools\\nhttps://verify .w3schools.com/1OC16XQBHI \\nSQL\\nCertificate\\nW3\\nSchools\\nhttps://verify .w3schools.com/1OC9607E00 \\nPython\\nCertificate\\nW3\\nSchools\\nhttps://verify .w3schools.com/1OC9A13HFM \\nUS\\ngovernment\\ncyber\\nsecurity\\ncertifications\\n6/22 \\nOnline\\nJob\\nBoard\\nAssessments\\nSan\\nJose,\\nCA\\n4/22 \\n●\\nScored\\ntop\\n7%\\nin\\nAngelList\\nfront-end\\nweb\\nassessment,\\ntop\\n1 1%\\nin\\nback-end,\\nand\\ntop\\n15%\\nin\\nfull-stack \\n●\\nScored\\ntop\\n5-30%\\nin\\nLinkedIn\\n12+\\nLinkedIn\\nskills\\nincluding\\nJavascript,\\nReact,\\nA WS,\\nGit,\\netc. \\nScrimba\\nReact\\nBootcamp\\nRemote\\n2021 \\nSpokane\\nCommunity\\nCollege\\nSpokane,\\nW A\\n6/19-4/21 \\n●\\n3.9/4.0\\nscience\\nGP A \\nSan\\nDiego\\nCommunity\\nColleges\\nSan\\nDiego,\\nCA\\n6/17-4/19 \\n●\\n4.0/4.0\\nscience\\nGP A \\n●\\nDean’ s\\nList \\nUniversity\\nof\\nCalifornia,\\nSanta\\nBarbara\\nSanta\\nBarbara,\\nCA\\n9/07-1/09 \\nDe\\nLaSalle\\nUniversity ,\\nComputer\\nScience\\nManila,\\nPH\\n6/04-1/05', metadata={'source': 'pdfs\\\\Andrew_Buensalida_Resume.pdf', 'page': 1}),\n",
              " Document(page_content=' \\n \\n \\nBlue Rose Technologies LLC, 7950 NW 53rd Street, Suite 337,  \\nMiami FL, 33166, USA  www.bluerose -tech.com  \\n Blue Rose Technologies LLC   \\n7950 NW 53rd Street, Suite 337,  \\nMiami FL, 33166, USA  \\nwww.bluerose -tech.com  \\n \\nCONSULTANT RIGHT TO REPRESENT AGREEMENT  \\n \\nThis agreement is made  by and between Blue  Rose Technologies LLC (BLUEROSE)  with its primary business \\nlocation at 7950 NW 53rd Street, Suite 337 Miami, FL 33166  and Applicant (henceforth, referred to  as \\n\"Consultant”).  \\n \\nObjective:  This agreement bestows BlueRose  with the Right to Represent the Consultant to promote and blend \\nmeasures to discover career placement prospects. This authorization shall initiate immediately on the date of \\nsubmission of this BlueRose  application.  \\n \\nBlueRose consents to the below -mentioned terms:  \\n \\nServices:  BlueRose conforms to employ its soundest measures to furnish a designation that best fulfils the \\nConsultant\\'s requirements. BlueRose  list of services will comprise screening, solicitation, and analysis of career \\npossibilities. BlueRose  will engage its most promising endeavors  to acquire detailed attributes on all \\nconsidered/available placements that, in the view of BlueRose , will best suit the Consultant’s skills.  \\n \\nConsultant agrees to the subsequent terms:  \\n \\n1. Authorization : The Consultant authorizes BlueRose  to advance their resume and represent their \\ncandidature for all jobs for which the Consultant is qualified. BlueRose  clients incorporate the general \\ncontractor as well as the ultimate site for which the Consultant will operate.  \\n \\n2. Permissions : By endowing approval to BlueRose  to present the Consultant for a specific position, the \\nConsultant thus proclaims that they have not consciously been presented nor have they granted consent \\nfor submission of their resume to the hiring institution via any different parties, nor endowed pe rmission \\nto any other agent, whosoever it might be, to submit them for the exact same position . Also, the candidate \\nwill not permit or authorize any other representative to submit him/her as a candidate for this  position after \\nsuch time Consultant has approved submission through BlueRose . \\n \\n3. Understandings : The consultant understands that this agreement in no way does form an offer or a contract \\nof employment. If an offer of employment is to be extended, the same will be done in a separate series of \\ndocumentation by an authorized representative of BlueRose . \\n \\n4. BlueRose will assist the consultant with various services cited above, which will finally lead to employment \\nfor them to work at our client/prime vendors’ W2.  \\n \\na. Direct Hire Positions: Incase, the consultant has got to work on prime vendor/client’s W2, then the \\nConsultant agrees to pay _10_% of the annual gross salary in recurring Auto Debit Method . \\n \\nb. For Full Time/W2 roles, Candidate needs to pay $1 500 upfront to BlueRose once he receives an \\nOffer Letter & $5000 after successfully joining the Full Time position  with the client . \\n \\nc. Contract/Corp -to-Corp /1099  Positions : The Consultant will be paid Flat 80% on 1099 or a Flat 80%  \\nto their corporation . \\n \\nd. If Consultant needs any additional support, there will be a base fee of $ 600 & will be charged in \\nthe first installment.  \\n \\n5. BlueRose  will be charging the payment as per the pay calendar of the consultant.  \\n \\n ', metadata={'source': 'pdfs\\\\BlueRose_Referral Contract.pdf', 'page': 0}),\n",
              " Document(page_content=\" \\n \\n \\nBlue Rose Technologies LLC, 7950 NW 53rd Street, Suite 337,  \\nMiami FL, 33166, USA  www.bluerose -tech.com  \\n Blue Rose Technologies LLC   \\n7950 NW 53rd Street, Suite 337,  \\nMiami FL, 33166, USA  \\nwww.bluerose -tech.com  \\n6. Covenant to Non -Compete / Non -Interference:  It is agreed that Consultant, during BlueRose  placement \\nefforts, may come to develop certain relationships with BlueRose  clients and/or vendors which may lead to \\nan awareness of other services desired by BLUEROSE  clients and/or vendors. Consultant admits that without \\nBLUEROSE 's exposure, he or she would not be aware of the services represented.  Therefore, during the \\nperiod in which Consultant is being marketed for job opportunities by BLUEROSE  and for twelve  (12) months \\nthereafter, Consultant agrees not to approach, communicate or engage BLUEROSE  clients directly or \\nindirectly to provide like services. If BLUEROSE  finds a project and the consultant is unable to join the project \\nfor any reason, BLUEROSE  has the right to approach arbitrator to resolve the issue.  Consultant agrees, \\nacknowledges, and understands that BlueRose will expend considerable resources and goodwill in procuring \\nthe job placement for the Consultant. The Consultant further agrees, acknowledges, and understands that \\nonce the Consultant has procured the job placement if he/she fails to join the Project, the Consultant will \\nbe fully liable for damages to BlueRose . \\n \\n7. Covenant Not to Solicit:  While the Consultant is obtaining marketing advantages from BlueRose  for 12 \\nmonths immediately thereupon, Consultant consents to pay BlueRose  liquidated damages and not as a \\npenalty, if they directly or indirectly request or propose any services to BlueRose  clients. The word “Client” \\nhere refers to the direct or indirect client/vendors/companies involved in the business transaction wherein \\nthe Consultant has been introduced via BlueRose . \\n \\n8. Acceptance:  BlueRose  and Consultant hereby acknowledge  receipt of a copy of this agreement. By deciding \\nto join the BlueRose  Network and signing up for the same, the Consultant thus accepts the terms of this \\nagreement. The consultant also owns that this agreement does not vest any obligation owed to the \\nConsultant by BlueRose  and is in no manner a guarantee of employment.  \\n \\n9. BlueRose  shall market the resume furnished by the Consultant, or BlueRose  shall formulate resume, as per \\ndiscussion with the consultant, and the consultant takes full accountability for the contents of the resume. \\nThe consultant further agrees that they are eligible to lawfully work in the United States and conform to \\nprovide a ppropriate documents upon request.  Once Job placement is procured, the Consultant will sign and \\nbe bound by the attached Exhibit “A” - General Contract for Services from BlueRose  or its subsidiaries for \\nthe initial Twelve  months , which constitutes a portion  of this agreement, and which is payable by recurring \\nauto -debit method and shall be signed by the Consultant no later than the date of commencement of the \\nproject.  \\n \\n10. Arbitration:  In case of violation of the above -mentioned agreed -upon covenants, all assertions and disputes \\nemerging under or relating to this agreement are to be resolved by binding arbitration in the state of New \\nFlorida . \\n \\nI agree and confirm to use the services of BlueRose , which is assisting me in finding a project, and that I am \\ngiving my approval and complete access to marketing email / Gmail account and Google voice phone \\nnumber for the same purposes. An RTR agreement once signed by the consultant, cannot be revoked.  \\n \\n \\nSourcing Manager Name   :  ________________________  \\n \\nConsultant  Full Name   :  ________________________  \\n \\nConsultant Mobile Number  :  ________________________   \\n \\nLast 4 Digits of Consultant’s SSN  :  ________________________  \\n \\nConsultant Resident ial Address  :  ________________________  \\n \\n \\nSignature of the Consultant : ________________________   Date : _______________________ _ \\n    \", metadata={'source': 'pdfs\\\\BlueRose_Referral Contract.pdf', 'page': 1}),\n",
              " Document(page_content='\\xa0 \\xa0\\nContact\\n4565 Terrace Dr, San Diego, CA\\n92116\\n9095184216  (Mobile)\\nmatthew@borgerstudio.com\\nwww.linkedin.com/in/mborger\\n(LinkedIn)\\nTop Skills\\nMicroservices\\nInfrastructure Security\\nDjangoMatthew Borger\\nSenior Software Engineer with expertise in Software Infrastructure\\nand Genomic Analysis\\nSan Diego, California, United States\\nSummary\\nExperienced Software Engineer with a demonstrated history of\\nworking in the biotechnology industry. Skilled in Python, Java, C+\\n+ and Hibernate. Strong engineering professional graduated from\\nUniversity of California, San Diego. \\nExperience\\nAgena Bioscience\\nSenior Software Engineer\\nJuly 2015\\xa0-\\xa0March 2024\\xa0 (8 years 9 months)\\nSan Diego, CA\\nDeveloped genomic analysis software and instrumentation controls conforming\\nto FDA In-vitro diagnostic, CE-IVD (European Union) and NMPA (China’s\\nFDA) guidelines.\\n• Designed and built new software stack to meet regulatory guidelines allowing\\nthe company to acquire new customers, enabled the sale of our product in\\nChina, creating several partnership deals worth $100m\\n• Worked closely with scientists to analyze their procedures and optimize their\\nexperimental scripting code in Perl to a unified platform suitable for outside\\ncustomer interaction\\n• Experience mentoring and managing direct reports to prioritize tickets and\\nmaintain company roadmap. Coached junior engineers with code reviews and\\nregular training which increased development velocity\\n• Coordinated work with remote team in Romania and local contractors to keep\\nproject deliverables and utilize specialist resources not available within the\\ncompany\\n• Used Java, Spring Boot, Hibernate, React, Azure, C++\\n• Promoted from Engineer II to III in 2017\\n• Promoted from Engineer III to Senior in 2019\\n• Received Value Recognition Award in 2020 for delivering and supporting our\\nfirst Chinese customer through their regulatory approval of our software and\\ninstrumentation\\n\\xa0 Page 1 of 3', metadata={'source': 'pdfs\\\\matthew_borger_resume.pdf', 'page': 0}),\n",
              " Document(page_content='\\xa0 \\xa0\\n• Received Value Recognition Award in 2021 for ensuring a smooth migration\\nof our online applications to a new customer support portal\\n• Received Value Recognition Award in 2022 for modernizing an out of support\\ncomputation cluster and migrating it to the cloud\\nAmazon\\nSoftware Development Engineer\\nSeptember 2013\\xa0-\\xa0July 2015\\xa0 (1 year 11 months)\\nIrvine, CA\\nWork on developer services to support the Amazon Appstore.\\nPast projects:\\nMobile Analytics - Built a REST api for managing your AWS Mobile Analytics\\naccount. Team size of 16 including one test engineer.\\n- Used Java, Spring, Hibernate, REST, RPC, SOA\\nLive App Testing - Built a system to publish Android applications through\\nAmazon’s production system while restricting access to\\nonly the people the developer had invited to test. Team size of 6 including one\\nQA engineer. Worked with remote teams in Seattle\\nand India.\\n- Used Java, Spring, Hibernate, RPC, SOA, JSP, MVC\\nDeveloper Portal - Maintained the application ingestion workflow at\\ndeveloper.amazon.com/appsandservices. Team size of 20\\nincluding 2 QA engineers. Worked with remote teams in Seattle and India.\\n- Used Java, Spring, Hibernate, RPC, SOA, JSP, MVC\\nL-3 Communications\\nSoftware Engineer Intern\\nJune 2011\\xa0-\\xa0September 2012\\xa0 (1 year 4 months)\\nSan Diego, CA\\nDesigned and devloped frontend applications for interacting with Matlab/\\nSimulink simulations of various injuries. The product team was 12 Medical/\\nEngineering PhDs with 2 software developers.\\nProjects included:\\n\\xa0 Page 2 of 3', metadata={'source': 'pdfs\\\\matthew_borger_resume.pdf', 'page': 1}),\n",
              " Document(page_content='\\xa0 \\xa0\\nBuilt a Windows deskotp application for blunt force trauma simulation that\\nmodified vector graphics in real time.\\n- Used C#, XAML\\nBuilt an Excel addin to allow easier manipulation of an internal dataset file\\nformat.\\n- Used C#, Visual Basic, COM interops\\nDeveloped an Android tablet application frontend for simulating toxic gas\\nexposures.\\n- Used Java, Android SDK\\nFixed issues with transitioning legacy code from an unmaintained internal file\\nformat to HDF.\\n- Used Fortran, C++\\nUC San Diego\\nCSE Tutor\\nSeptember 2010\\xa0-\\xa0March 2011\\xa0 (7 months)\\nSan Diego, CA\\nAssisted in teaching lab sections, led group discussions during lecture and\\nhosted open lab hours for students to come for assistance.\\nEducation\\nUniversity of California, San Diego\\nComputer Engineering\\xa0 \\xa0·\\xa0(2009\\xa0-\\xa02013)\\n\\xa0 Page 3 of 3', metadata={'source': 'pdfs\\\\matthew_borger_resume.pdf', 'page': 2}),\n",
              " Document(page_content=\"\\xa0 \\xa0\\nContact\\nsarahelizabethuran@gmail.co\\nm\\nwww.linkedin.com/in/sarahuran\\n(LinkedIn)\\nTop Skills\\nBuild Strong Relationships\\nCRM Software\\nBusiness PlanningSarah Uran\\nScience Communicator | Director of Business Development\\n| Neurobiology | Ecology | Microscopy | Research Scientist |\\nBiotechnology Startups | Public Speaker\\nLa Jolla Shores, California, United States\\nSummary\\nI hold a Bachelor's degree in Neurobiology from the University\\nof California San Diego, blending two years of hands-on wet\\nlab research with nine years deeply engaged in scientific\\ncommunication. My journey has delved into the intricate realms of\\nneurobiology and ecology, alongside meaningful contributions to\\nanimal welfare initiatives, including volunteering at the San Diego\\nZoo and collaborating with various nonprofits. Notably, my dedication\\nto environmental conservation earned me the prestigious Girl Scout\\nGold Award during an internship at the Water Conservation Garden.\\nMy expertise extends beyond the confines of laboratory equipment\\nto include the art of compelling storytelling. While I've mastered\\nmicroscopy techniques and crafted intricate fiber photometry and\\noptogenetic systems, I've also dedicated time to refining my public\\nspeaking skills through regular engagements with local communities.\\nThese engagements not only foster personal and professional\\ndevelopment but also underscore my commitment to knowledge\\ndissemination and community empowerment.\\nIn my current capacity as Director of Business Development, I\\nlead a dynamic team of eight, spearheading strategic initiatives\\nand nurturing robust client relationships. My affable demeanor and\\nadeptness in relationship-building have proven instrumental in\\ndriving engagement and fostering long-lasting connections.\\nWith an innate drive for innovation and a strategic mindset, I\\nseamlessly navigate the intersection of academia and business,\\nconsistently propelling growth and success. My holistic approach,\\nintegrating research proficiency, business acumen, and community\\nengagement, underscores my dedication to excellence across\\ndiverse professional landscapes.\\n\\xa0 Page 1 of 4\", metadata={'source': 'pdfs\\\\sarah_uran_resume.pdf', 'page': 0}),\n",
              " Document(page_content='\\xa0 \\xa0\\nExperience\\nLibyl Inc.\\nDirector of Business Development\\nDecember 2023\\xa0-\\xa0Present\\xa0 (7 months)\\nI spearhead business expansion initiatives while also managing and\\nmentoring college interns, fostering a collaborative and growth-oriented work\\nenvironment. My multifaceted role encompasses responsibilities from targeting\\npotential clients to ensuring revenue targets are met. With a focused approach\\non the pharmaceutical, biotech, and medical device sectors, I actively foster\\nstrategic partnerships, conduct market analysis, engage in client consultations,\\nand oversee the development of our intern team.\\nNeurophotometrics LLC\\nManufacturing Associate\\nJuly 2023\\xa0-\\xa0March 2024\\xa0 (9 months)\\nSan Diego, California, United States\\nI specialize in constructing Fiber Photometry and Optogenetics machines\\nby assembling correlated subassemblies and testing accessories. Proficient\\nin CAD+, Bonsai, soldering, and 3D printing, my expertise lies in precision\\nengineering and equipment maintenance. Conducting rigorous quality control\\nand testing on fibers, I contribute to supplying research labs worldwide with the\\nessential tools, advancing the forefront of neuroscience.\\nSTARTneuro\\nResearch Fellowship\\nJuly 2021\\xa0-\\xa0June 2023\\xa0 (2 years)\\nLa Jolla Shores, California, United States\\nDifferentiate between and perform many neuroscience techniques like\\nelectrophysiology, circuits, coding, behavior, genetics, bioinformatics,\\nmicroscopy, and presenting a research poster.\\nUC San Diego\\nStudent Researcher\\nOctober 2021\\xa0-\\xa0December 2022\\xa0 (1 year 3 months)\\nLa Jolla Shores, California, United States\\nResearched in the neuroscience Hnasko lab studying neurotransmitters\\nin the mesocorticolimbic pathway of the brain. Performed rodent handling,\\nperfusions, histology, immunohistochemistry, microscopy, data analysis, and\\npresentations.\\n\\xa0 Page 2 of 4', metadata={'source': 'pdfs\\\\sarah_uran_resume.pdf', 'page': 1}),\n",
              " Document(page_content='\\xa0 \\xa0\\nThe Water Conservation Garden\\nEducation Intern\\nAugust 2017\\xa0-\\xa0February 2020\\xa0 (2 years 7 months)\\nEl Cajon, California, United States\\nEducate, Inform, and communicate with garden guests with the goal to teach\\nguests of all ages. Handled animals and plants while multitasking and spoke to\\nguests. Cash register work, answer phone calls, processed memberships on\\nSalesforce, and provided great customer service\\nGirl Scouts of the USA\\nMember\\nAugust 2006\\xa0-\\xa0June 2019\\xa0 (12 years 11 months)\\nSan Diego, California\\nHelped troops prepare for annual girl scout cookie sales. Secured younger girl\\ninvolvement and participation in activities as an older girl scout. Participated\\nin weekly girl scout outings and meetings. Provided information resources to\\nother girls. I also completed my Gold Award.\\nSan Diego Zoo Global\\nVolunteer\\nAugust 2014\\xa0-\\xa0May 2019\\xa0 (4 years 10 months)\\nI was in a program called Zoo Corps. It is a program open for 13 to 17 year\\nolds to go into the zoo and public speak about sustainability, endangered\\nspecies, backyard habitats, and animal care.\\nSPAWAR\\nScientific Researcher \\nJuly 2017\\xa0-\\xa0January 2018\\xa0 (7 months)\\nPoint Loma, California\\nSPAWAR Navy Marine Ecology Consortium was the technical name to the\\ndepartment I was in. We researched an endangered bird that lives in San\\nDiego.\\nEducation\\nUC San Diego\\nBachelor of Science - BS,\\xa0Neurobiology and Neurosciences \\xa0·\\xa0(September\\n2021\\xa0-\\xa0June 2023)\\nGrossmont College\\n\\xa0 Page 3 of 4', metadata={'source': 'pdfs\\\\sarah_uran_resume.pdf', 'page': 2}),\n",
              " Document(page_content='\\xa0 \\xa0\\n\\xa0·\\xa0(2017\\xa0-\\xa02019)\\n\\xa0 Page 4 of 4', metadata={'source': 'pdfs\\\\sarah_uran_resume.pdf', 'page': 3})]"
            ]
          },
          "execution_count": 7,
          "metadata": {},
          "output_type": "execute_result"
        }
      ],
      "source": [
        "data # list of \"documents\". each page in a pdf is a \"document\""
      ]
    },
    {
      "cell_type": "code",
      "execution_count": 72,
      "metadata": {},
      "outputs": [
        {
          "data": {
            "text/plain": [
              "11"
            ]
          },
          "execution_count": 72,
          "metadata": {},
          "output_type": "execute_result"
        }
      ],
      "source": [
        "len(data)"
      ]
    },
    {
      "cell_type": "markdown",
      "metadata": {
        "id": "dhCeKVOs6AKH"
      },
      "source": [
        "## Split the Extracted Data into Text Chunks"
      ]
    },
    {
      "cell_type": "code",
      "execution_count": 81,
      "metadata": {
        "id": "8TZQWLG8595f"
      },
      "outputs": [],
      "source": [
        "text_splitter = RecursiveCharacterTextSplitter(\n",
        "    # chunk_size=500,\n",
        "    # chunk_overlap=20,\n",
        "    separators=[\n",
        "        \"c, CE-IVD (Europe\"\n",
        "    ],  # this doesn't seem to work the way that I expected. According to https://dev.to/eteimz/understanding-langchains-recursivecharactertextsplitter-2846, It takes in the large text then tries to split it by the first character \\n\\n. If the first split by \\n\\n is still large then it moves to the next character which is \\n and tries to split by it. If it is still larger than our specified chunk size it moves to the next character in the set until we get a split that is less than our specified chunk size. It may not be splitting the text at \"c, CE-IVD (Europe\" because the chunk could fit within the default chunk_size.\n",
        "    keep_separator=True,\n",
        ")  # this needs to split the data by pdf, not chunk_size"
      ]
    },
    {
      "cell_type": "code",
      "execution_count": 82,
      "metadata": {
        "id": "J8ugXa2M6IRG"
      },
      "outputs": [
        {
          "data": {
            "text/plain": [
              "[Document(page_content='A n d r e w\\nB u e n s a l i d a\\nPortfolio:\\nwww .anhonestobserver .com\\n●\\n661-964-9268\\n●\\nSan\\nDiego,\\nCA \\nandrewcbuensalida@gmail.com\\n●\\nlinkedin.com/in/andrewcbuensalida\\n●\\ngithub.com/andrewcbuensalida\\nSummary\\nFormer\\nDepartment\\nof\\nHomeland\\nSecurity\\nLead,\\nCurrent\\nHigh-producing,\\nCertified\\nFull-Stack\\nDevOps,\\nReact, \\nNodeJs,\\nA WS\\nSolutions\\nArchitect,\\nand\\nDatabase\\nSoftware\\nEngineer\\nwith\\nover\\n100+\\nproduction\\ngrade\\napps\\nand\\nover \\n4\\nyears\\nof\\nexperience\\nT echnical\\nSkills\\nAmazon\\nW eb\\nServices,\\nAndroid,\\nApache\\nAirflow ,\\nA ws\\nAmplify ,\\nA ws\\nApi\\nGateway ,\\nA ws\\nAurora,\\nA ws\\nCertificate\\nManager , \\nA ws\\nCloudfront,\\nA ws\\nCode\\nPipeline,\\nA ws\\nDynamodb,\\nA ws\\nEc2,\\nA ws\\nEcr ,\\nA ws\\nEcs,\\nA ws\\nEks,\\nA ws\\nElastic\\nBeanstalk,\\nA ws \\nLambda,\\nA ws\\nLoad-balancer ,\\nA ws\\nRoute\\n53,\\nA ws\\nS3,\\nA ws\\nSam,\\nA ws\\nSns,\\nA ws\\nVpc,\\nAxios,\\nBeautiful\\nSoup,\\nBootstrap, \\nChakra-ui,\\nCi/cd,\\nCryptojs,\\nD3,\\nDbeaver ,\\nDjango,\\nDocker ,\\nEjs,\\nElectronjs,\\nEnzyme,\\nExpress,\\nFirebase,\\nFlask,\\nFormik,\\nGit, \\nGithub\\nActions,\\nGoogle\\nAds,\\nGoogle\\nAssistant,\\nGoogle\\nCloud\\nPlatform,\\nGraphql,\\nHandlebars,\\nHeroku,\\nHostgator ,\\nHtml/css, \\nJava,\\nJavascript,\\nJenkins,\\nJest,\\nJquery ,\\nJwt,\\nKubernetes,\\nLinux,\\nLucid\\nChart,\\nLucidchart,\\nMaterial\\nUi,\\nMaven,\\nMinio, \\nMongodb,\\nMongoose,\\nMs\\nSql\\nServer ,\\nMvc,\\nMysql,\\nNeo4j,\\nNestJs,\\nNginx,\\nNgrok,\\nNodejs,\\nNodemailer ,\\nOracle\\nDb,\\nPdf-lib, \\nPhp,\\nPostgres,\\nPuppeteer ,\\nPython,\\nRabbitmq,\\nReact\\nFinancial\\nCharts,\\nReact\\nHook\\nForm,\\nReact\\nNative,\\nReact\\nNavigation, \\nReact\\nRouter ,\\nReact\\nT able,\\nReact\\nT esting\\nLibrary ,\\nReact,\\nRedis,\\nRedux,\\nResponsive,\\nScss,\\nSelenium,\\nSequelize,\\nServerless \\nFramework,\\nSinon,\\nSocket.io,\\nSpring\\nBoot,\\nSqlite,\\nSsl,\\nStripe,\\nSwagger ,\\nT ailwind,\\nT wilio,\\nT ypeorm,\\nT ypescript,\\nUser \\nAuthentication,\\nV isio,\\nV ue,\\nW eb\\nScraping,\\nW ebsockets,\\nW ordpress,\\nY up,\\nand\\nmore…\\nProfessional\\nExperience\\nPersonal\\nProjects\\n–\\nSoftware\\nEngineer .\\nSan\\nDiego,\\nCA\\n5/23-Present \\n●\\nT ook\\ninitiative\\nin\\nbuilding\\nand\\ndeploying\\nmultiple\\napps\\nwith\\na\\nvariety\\nof\\ntech\\nstacks,\\nsuch\\nas: \\n○\\nCoding\\ncurriculum\\nmanagement.\\nA\\nwebsite\\nthat\\nmanages\\nstudents,\\ncoding\\ncourses,\\nand\\nlessons.\\nStack: \\nD3\\ndata\\nvisualization,\\nNeo4j,\\nJava,\\nMaven,\\nSpring\\nBoot,\\nNodeJs,\\nExpress,\\nReact \\n○\\nNestJs\\nT ask\\nT racker\\nand\\nUser\\nAuthorization.\\nStack:\\nNestJs,\\nT ypescript,\\nA WS\\nElastic\\nBeanstalk,\\nMySQL \\n○\\nAirflow\\ntask\\nautomation\\nStack:\\nA WS\\ns3,\\nPostgreSQL,\\nPython,\\nDocker ,\\nMinio \\n○\\nT witter\\nClone\\nStack:\\nSequelize,\\nNodeJs,\\nPostgres,\\nDocker \\n○\\nPython\\nAutomation\\nW eb\\nScraping\\nEmail,\\nT ed\\nT alk\\nV ideo\\ndownloader .\\nStack:\\nA WS\\nCloudfront\\nCDN \\n○\\nProduct\\nLiker\\n.\\nStack:\\nRabbitmq,\\nNode.js,\\nT ypeorm,\\nMySQL,\\nMongoDB. \\n○\\nMessenger .\\nStack:\\nRedis,\\nReact,\\nchakra-ui,\\nFormik,\\nSocket.io,\\nNodeJS,\\nPostgres,\\nJWT \\n○\\nLightfeather\\nsupervisor\\nnotification.\\nStack:\\nReact,\\nA WS\\nECS/ECR,\\nEKS\\nKubernetes,\\nNodeJs,\\nExpress\\nHarmonia\\nHoldings/Department\\nof\\nHomeland\\nSecurity\\n–\\nSoftware\\nEngineer\\n.Blacksburg,\\nV A\\n6/22-5/23 \\n●\\nRanked\\nwithin\\nthe\\ntop\\n3\\nproducers\\nweek\\nafter\\nweek.\\nRanking\\nis\\nbased\\non\\nGithub\\ncontributions\\nsuch\\nas\\ncode \\nreviews,\\ncommits,\\nand\\nnumber\\nof\\nJira\\ntickets\\nresolved. \\n●\\nLed\\nthe\\n“Dream\\nteam”\\nto\\nits\\nfirst\\nsuccessful\\nproduction\\nrelease.\\nFeatures\\ninclude\\nemail\\nnotifications,\\npolling\\nfor \\nauto\\nrefresh,\\nconstructing\\nAPI\\nendpoints,\\nReact\\ntables,\\narchitecture\\ndiagrams,\\nuploading\\nand\\ndownloading\\nlarge \\nfiles,\\nPDF\\nrendering,\\nsignature\\ncapture,\\nand\\nmore. \\n●\\nStack\\n:\\nReact,\\nT ypescript,\\nReact\\nHook\\nForm,\\nReact\\nT able,\\nA WS,\\nLambda,\\nNode,\\nDynamoDB,\\nSNS,\\nOracle\\nPL/SQL, \\nS3,\\nSASS,\\nBootstrap,\\nRedux,\\nServerless\\nFramework,\\nPDF-lib,\\nNode\\nmailer ,\\nJest,\\nSinon,\\nJenkins/Cloudbees, \\nGithub,\\nJira,\\nLucid\\nchart,\\nV isio,\\nElectronJs,\\nand\\nmore. \\n●\\nT aught\\njunior\\ndevelopers\\nbest\\npractices\\nsuch\\nas\\nDR Y ,\\nnaming\\nconventions,\\nDevOps\\nbranching\\nstrategies, \\ndebugging,\\ndocumentation,\\nsystem\\ndesign\\ndiagrams\\netc\\nto\\nachieve\\nthe\\nhighest\\ncoding\\nstandard', metadata={'source': 'pdfs\\\\Andrew_Buensalida_Resume.pdf', 'page': 0}),\n",
              " Document(page_content='●\\nShowcased\\ngreat\\nwork\\nethic\\nby\\nworking\\nextra\\nhours\\nover\\nthe\\nweekend,\\nnever\\nbeing\\nlate\\nto\\nmeetings,\\nresponding \\nquickly\\nto\\nemails\\nand\\nchat\\nmessages,\\nbeing\\ndetail\\noriented\\ndoing\\nadministrative\\nduties\\nwith\\nJira\\ntickets,\\netc. \\n●\\nCut\\nCI/CD\\ntime\\nto\\na\\nthird\\nby\\noptimizing\\nJenkins\\nconfigurations \\n●\\nAchieved\\n100%\\ntest\\ncoverage\\nwith\\nJest/React\\nT esting\\nLibrary \\n●\\nSet-up\\nSNS\\nemail\\nalerts\\nto\\nreduce\\nA WS\\nlambda\\noutage\\ndowntime \\n●\\nAnalyzed\\nA WS\\nCloudW atch\\nlogs\\nto\\ndebug\\nserver-side\\nissues\\nquickly \\n●\\nStreamlined\\ndummy\\ndata\\ncreation\\nwith\\nOracle\\nSQL\\nscripts\\nand\\nDBeaver \\n●\\nAcquired\\ncertification\\nin\\ngovernment\\ncyber\\nsecurity\\nbest\\npractices\\nAutoscribe\\n–\\nSoftware\\nEngineer\\n.\\nSan\\nJose,\\nCA\\n4/20-6/22 \\n●\\nBuilt\\nand\\ndeployed\\nover\\n30+\\napps\\nwith\\na\\nvariety\\nof\\ntech\\nstacks \\n●\\nDecreased\\ndevelopment\\ntime\\nby\\n75%\\nby\\nmigrating\\nFirebase\\nfunctions\\nto\\na\\nNode/Express\\nserver \\n●\\nImplemented\\nconversation\\nworkflow\\nto\\nsave\\nmedical\\nand\\nemployee\\nactivities\\nto\\na\\nFirestore\\nnoSQL\\ndatabase \\n●\\nEnsured\\napp\\nfunctionality\\nmet\\nthe\\nstandards\\nof\\nGoogle\\nAction\\nprivacy\\npolicies \\n●\\nStack:\\nReact,\\nRedux,\\nT ypescript,\\nNode,\\nExpress,\\nA WS,\\nGoogle\\nCloud\\nPlatform\\n(GCP),\\nLambda,\\nMongoDB, \\nFirestore,\\nDynamoDB,\\nPostgreSQL,\\nT wilio,\\nAmplify ,\\nCognito,\\nReact\\nNative,\\nGraphQL,\\nNginx,\\nEC2,\\nCode\\nPipeline, \\nGithub,\\nHeroku,\\nT ailwind,\\nBootstrap,\\nMaterialUI,\\nJest,\\nGraphQL,\\nCrypto\\nCoin\\nAPIs,\\nReact\\nfinancial\\ncharts,\\nElastic \\nBeanstalk,\\nFormik,\\nY up,\\nEJS,\\nElectronJS,\\nLinux,\\nPuppeteer ,\\nSelenium,\\nStripe,\\nand\\nmore.\\nV arious\\nstart-ups\\n–\\nFounder\\n.\\nInternational\\n1/09-6/17 \\n●\\nV entured\\ninto\\nmultiple\\nbusinesses\\nsuch\\nas\\nEscape\\nRooms,\\nRestaurants,\\nOnline\\nsales,\\nT ennis,\\nMusic\\nProduction\\nEducation\\nMIT\\n(Massachusetts\\nInstitute\\nof\\nT echnology)\\nData\\nEngineering,\\nBoston,\\nMA\\n03/2024 \\nA WS\\nSolutions\\nArchitect\\nAssociate\\nhttps://www .credly .com/badges/ca03d53d-ebf3-4b3c-8d46-9aafbca87f5a/public_url \\nFront-end\\nDevelopment\\nCertificate\\nW3\\nSchools\\nhttps://verify .w3schools.com/1OC1C530WR \\nReact\\nCertificate\\nW3\\nSchools\\nhttps://verify .w3schools.com/1OBZNTHS9T \\nJavascript\\nCertificate\\nW3\\nSchools\\nhttps://verify .w3schools.com/1OC1C4T186 \\nCSS\\nCertificate\\nW3\\nSchools\\nhttps://verify .w3schools.com/1OBZV76UO7 \\nHTML\\nCertificate\\nW3\\nSchools\\nhttps://verify .w3schools.com/1OC0N6KOL7 \\nT ypescript\\nCertificate\\nW3\\nSchools\\nhttps://verify .w3schools.com/1OC16XQBHI \\nSQL\\nCertificate\\nW3\\nSchools\\nhttps://verify .w3schools.com/1OC9607E00 \\nPython\\nCertificate\\nW3\\nSchools\\nhttps://verify .w3schools.com/1OC9A13HFM \\nUS\\ngovernment\\ncyber\\nsecurity\\ncertifications\\n6/22 \\nOnline\\nJob\\nBoard\\nAssessments\\nSan\\nJose,\\nCA\\n4/22 \\n●\\nScored\\ntop\\n7%\\nin\\nAngelList\\nfront-end\\nweb\\nassessment,\\ntop\\n1 1%\\nin\\nback-end,\\nand\\ntop\\n15%\\nin\\nfull-stack \\n●\\nScored\\ntop\\n5-30%\\nin\\nLinkedIn\\n12+\\nLinkedIn\\nskills\\nincluding\\nJavascript,\\nReact,\\nA WS,\\nGit,\\netc. \\nScrimba\\nReact\\nBootcamp\\nRemote\\n2021 \\nSpokane\\nCommunity\\nCollege\\nSpokane,\\nW A\\n6/19-4/21 \\n●\\n3.9/4.0\\nscience\\nGP A \\nSan\\nDiego\\nCommunity\\nColleges\\nSan\\nDiego,\\nCA\\n6/17-4/19 \\n●\\n4.0/4.0\\nscience\\nGP A \\n●\\nDean’ s\\nList \\nUniversity\\nof\\nCalifornia,\\nSanta\\nBarbara\\nSanta\\nBarbara,\\nCA\\n9/07-1/09 \\nDe\\nLaSalle\\nUniversity ,\\nComputer\\nScience\\nManila,\\nPH\\n6/04-1/05', metadata={'source': 'pdfs\\\\Andrew_Buensalida_Resume.pdf', 'page': 1}),\n",
              " Document(page_content='Blue Rose Technologies LLC, 7950 NW 53rd Street, Suite 337,  \\nMiami FL, 33166, USA  www.bluerose -tech.com  \\n Blue Rose Technologies LLC   \\n7950 NW 53rd Street, Suite 337,  \\nMiami FL, 33166, USA  \\nwww.bluerose -tech.com  \\n \\nCONSULTANT RIGHT TO REPRESENT AGREEMENT  \\n \\nThis agreement is made  by and between Blue  Rose Technologies LLC (BLUEROSE)  with its primary business \\nlocation at 7950 NW 53rd Street, Suite 337 Miami, FL 33166  and Applicant (henceforth, referred to  as \\n\"Consultant”).  \\n \\nObjective:  This agreement bestows BlueRose  with the Right to Represent the Consultant to promote and blend \\nmeasures to discover career placement prospects. This authorization shall initiate immediately on the date of \\nsubmission of this BlueRose  application.  \\n \\nBlueRose consents to the below -mentioned terms:  \\n \\nServices:  BlueRose conforms to employ its soundest measures to furnish a designation that best fulfils the \\nConsultant\\'s requirements. BlueRose  list of services will comprise screening, solicitation, and analysis of career \\npossibilities. BlueRose  will engage its most promising endeavors  to acquire detailed attributes on all \\nconsidered/available placements that, in the view of BlueRose , will best suit the Consultant’s skills.  \\n \\nConsultant agrees to the subsequent terms:  \\n \\n1. Authorization : The Consultant authorizes BlueRose  to advance their resume and represent their \\ncandidature for all jobs for which the Consultant is qualified. BlueRose  clients incorporate the general \\ncontractor as well as the ultimate site for which the Consultant will operate.  \\n \\n2. Permissions : By endowing approval to BlueRose  to present the Consultant for a specific position, the \\nConsultant thus proclaims that they have not consciously been presented nor have they granted consent \\nfor submission of their resume to the hiring institution via any different parties, nor endowed pe rmission \\nto any other agent, whosoever it might be, to submit them for the exact same position . Also, the candidate \\nwill not permit or authorize any other representative to submit him/her as a candidate for this  position after \\nsuch time Consultant has approved submission through BlueRose . \\n \\n3. Understandings : The consultant understands that this agreement in no way does form an offer or a contract \\nof employment. If an offer of employment is to be extended, the same will be done in a separate series of \\ndocumentation by an authorized representative of BlueRose . \\n \\n4. BlueRose will assist the consultant with various services cited above, which will finally lead to employment \\nfor them to work at our client/prime vendors’ W2.  \\n \\na. Direct Hire Positions: Incase, the consultant has got to work on prime vendor/client’s W2, then the \\nConsultant agrees to pay _10_% of the annual gross salary in recurring Auto Debit Method . \\n \\nb. For Full Time/W2 roles, Candidate needs to pay $1 500 upfront to BlueRose once he receives an \\nOffer Letter & $5000 after successfully joining the Full Time position  with the client . \\n \\nc. Contract/Corp -to-Corp /1099  Positions : The Consultant will be paid Flat 80% on 1099 or a Flat 80%  \\nto their corporation . \\n \\nd. If Consultant needs any additional support, there will be a base fee of $ 600 & will be charged in \\nthe first installment.  \\n \\n5. BlueRose  will be charging the payment as per the pay calendar of the consultant.', metadata={'source': 'pdfs\\\\BlueRose_Referral Contract.pdf', 'page': 0}),\n",
              " Document(page_content=\" \\n \\n \\nBlue Rose Technologies LLC, 7950 NW 53rd Street, Suite 337,  \\nMiami FL, 33166, USA  www.bluerose -tech.com  \\n Blue Rose Technologies LLC   \\n7950 NW 53rd Street, Suite 337,  \\nMiami FL, 33166, USA  \\nwww.bluerose -tech.com  \\n6. Covenant to Non -Compete / Non -Interference:  It is agreed that Consultant, during BlueRose  placement \\nefforts, may come to develop certain relationships with BlueRose  clients and/or vendors which may lead to \\nan awareness of other services desired by BLUEROSE  clients and/or vendors. Consultant admits that without \\nBLUEROSE 's exposure, he or she would not be aware of the services represented.  Therefore, during the \\nperiod in which Consultant is being marketed for job opportunities by BLUEROSE  and for twelve  (12) months \\nthereafter, Consultant agrees not to approach, communicate or engage BLUEROSE  clients directly or \\nindirectly to provide like services. If BLUEROSE  finds a project and the consultant is unable to join the project \\nfor any reason, BLUEROSE  has the right to approach arbitrator to resolve the issue.  Consultant agrees, \\nacknowledges, and understands that BlueRose will expend considerable resources and goodwill in procuring \\nthe job placement for the Consultant. The Consultant further agrees, acknowledges, and understands that \\nonce the Consultant has procured the job placement if he/she fails to join the Project, the Consultant will \\nbe fully liable for damages to BlueRose . \\n \\n7. Covenant Not to Solicit:  While the Consultant is obtaining marketing advantages from BlueRose  for 12 \\nmonths immediately thereupon, Consultant consents to pay BlueRose  liquidated damages and not as a \\npenalty, if they directly or indirectly request or propose any services to BlueRose  clients. The word “Client” \\nhere refers to the direct or indirect client/vendors/companies involved in the business transaction wherein \\nthe Consultant has been introduced via BlueRose . \\n \\n8. Acceptance:  BlueRose  and Consultant hereby acknowledge  receipt of a copy of this agreement. By deciding \\nto join the BlueRose  Network and signing up for the same, the Consultant thus accepts the terms of this \\nagreement. The consultant also owns that this agreement does not vest any obligation owed to the \\nConsultant by BlueRose  and is in no manner a guarantee of employment.  \\n \\n9. BlueRose  shall market the resume furnished by the Consultant, or BlueRose  shall formulate resume, as per \\ndiscussion with the consultant, and the consultant takes full accountability for the contents of the resume. \\nThe consultant further agrees that they are eligible to lawfully work in the United States and conform to \\nprovide a ppropriate documents upon request.  Once Job placement is procured, the Consultant will sign and \\nbe bound by the attached Exhibit “A” - General Contract for Services from BlueRose  or its subsidiaries for \\nthe initial Twelve  months , which constitutes a portion  of this agreement, and which is payable by recurring \\nauto -debit method and shall be signed by the Consultant no later than the date of commencement of the \\nproject.  \\n \\n10. Arbitration:  In case of violation of the above -mentioned agreed -upon covenants, all assertions and disputes \\nemerging under or relating to this agreement are to be resolved by binding arbitration in the state of New \\nFlorida . \\n \\nI agree and confirm to use the services of BlueRose , which is assisting me in finding a project, and that I am \\ngiving my approval and complete access to marketing email / Gmail account and Google voice phone \\nnumber for the same purposes. An RTR agreement once signed by the consultant, cannot be revoked.  \\n \\n \\nSourcing Manager Name   :  ________________________  \\n \\nConsultant  Full Name   :  ________________________  \\n \\nConsultant Mobile Number  :  ________________________   \\n \\nLast 4 Digits of Consultant’s SSN  :  ________________________  \\n \\nConsultant Resident ial Address  :  ________________________  \\n \\n \\nSignature of the Consultant : ________________________   Date : _______________________ _ \\n    \", metadata={'source': 'pdfs\\\\BlueRose_Referral Contract.pdf', 'page': 1}),\n",
              " Document(page_content='Contact\\n4565 Terrace Dr, San Diego, CA\\n92116\\n9095184216  (Mobile)\\nmatthew@borgerstudio.com\\nwww.linkedin.com/in/mborger\\n(LinkedIn)\\nTop Skills\\nMicroservices\\nInfrastructure Security\\nDjangoMatthew Borger\\nSenior Software Engineer with expertise in Software Infrastructure\\nand Genomic Analysis\\nSan Diego, California, United States\\nSummary\\nExperienced Software Engineer with a demonstrated history of\\nworking in the biotechnology industry. Skilled in Python, Java, C+\\n+ and Hibernate. Strong engineering professional graduated from\\nUniversity of California, San Diego. \\nExperience\\nAgena Bioscience\\nSenior Software Engineer\\nJuly 2015\\xa0-\\xa0March 2024\\xa0 (8 years 9 months)\\nSan Diego, CA\\nDeveloped genomic analysis software and instrumentation controls conforming\\nto FDA In-vitro diagnostic, CE-IVD (European Union) and NMPA (China’s\\nFDA) guidelines.\\n• Designed and built new software stack to meet regulatory guidelines allowing\\nthe company to acquire new customers, enabled the sale of our product in\\nChina, creating several partnership deals worth $100m\\n• Worked closely with scientists to analyze their procedures and optimize their\\nexperimental scripting code in Perl to a unified platform suitable for outside\\ncustomer interaction\\n• Experience mentoring and managing direct reports to prioritize tickets and\\nmaintain company roadmap. Coached junior engineers with code reviews and\\nregular training which increased development velocity\\n• Coordinated work with remote team in Romania and local contractors to keep\\nproject deliverables and utilize specialist resources not available within the\\ncompany\\n• Used Java, Spring Boot, Hibernate, React, Azure, C++\\n• Promoted from Engineer II to III in 2017\\n• Promoted from Engineer III to Senior in 2019\\n• Received Value Recognition Award in 2020 for delivering and supporting our\\nfirst Chinese customer through their regulatory approval of our software and\\ninstrumentation\\n\\xa0 Page 1 of 3', metadata={'source': 'pdfs\\\\matthew_borger_resume.pdf', 'page': 0}),\n",
              " Document(page_content='• Received Value Recognition Award in 2021 for ensuring a smooth migration\\nof our online applications to a new customer support portal\\n• Received Value Recognition Award in 2022 for modernizing an out of support\\ncomputation cluster and migrating it to the cloud\\nAmazon\\nSoftware Development Engineer\\nSeptember 2013\\xa0-\\xa0July 2015\\xa0 (1 year 11 months)\\nIrvine, CA\\nWork on developer services to support the Amazon Appstore.\\nPast projects:\\nMobile Analytics - Built a REST api for managing your AWS Mobile Analytics\\naccount. Team size of 16 including one test engineer.\\n- Used Java, Spring, Hibernate, REST, RPC, SOA\\nLive App Testing - Built a system to publish Android applications through\\nAmazon’s production system while restricting access to\\nonly the people the developer had invited to test. Team size of 6 including one\\nQA engineer. Worked with remote teams in Seattle\\nand India.\\n- Used Java, Spring, Hibernate, RPC, SOA, JSP, MVC\\nDeveloper Portal - Maintained the application ingestion workflow at\\ndeveloper.amazon.com/appsandservices. Team size of 20\\nincluding 2 QA engineers. Worked with remote teams in Seattle and India.\\n- Used Java, Spring, Hibernate, RPC, SOA, JSP, MVC\\nL-3 Communications\\nSoftware Engineer Intern\\nJune 2011\\xa0-\\xa0September 2012\\xa0 (1 year 4 months)\\nSan Diego, CA\\nDesigned and devloped frontend applications for interacting with Matlab/\\nSimulink simulations of various injuries. The product team was 12 Medical/\\nEngineering PhDs with 2 software developers.\\nProjects included:\\n\\xa0 Page 2 of 3', metadata={'source': 'pdfs\\\\matthew_borger_resume.pdf', 'page': 1}),\n",
              " Document(page_content='Built a Windows deskotp application for blunt force trauma simulation that\\nmodified vector graphics in real time.\\n- Used C#, XAML\\nBuilt an Excel addin to allow easier manipulation of an internal dataset file\\nformat.\\n- Used C#, Visual Basic, COM interops\\nDeveloped an Android tablet application frontend for simulating toxic gas\\nexposures.\\n- Used Java, Android SDK\\nFixed issues with transitioning legacy code from an unmaintained internal file\\nformat to HDF.\\n- Used Fortran, C++\\nUC San Diego\\nCSE Tutor\\nSeptember 2010\\xa0-\\xa0March 2011\\xa0 (7 months)\\nSan Diego, CA\\nAssisted in teaching lab sections, led group discussions during lecture and\\nhosted open lab hours for students to come for assistance.\\nEducation\\nUniversity of California, San Diego\\nComputer Engineering\\xa0 \\xa0·\\xa0(2009\\xa0-\\xa02013)\\n\\xa0 Page 3 of 3', metadata={'source': 'pdfs\\\\matthew_borger_resume.pdf', 'page': 2}),\n",
              " Document(page_content=\"Contact\\nsarahelizabethuran@gmail.co\\nm\\nwww.linkedin.com/in/sarahuran\\n(LinkedIn)\\nTop Skills\\nBuild Strong Relationships\\nCRM Software\\nBusiness PlanningSarah Uran\\nScience Communicator | Director of Business Development\\n| Neurobiology | Ecology | Microscopy | Research Scientist |\\nBiotechnology Startups | Public Speaker\\nLa Jolla Shores, California, United States\\nSummary\\nI hold a Bachelor's degree in Neurobiology from the University\\nof California San Diego, blending two years of hands-on wet\\nlab research with nine years deeply engaged in scientific\\ncommunication. My journey has delved into the intricate realms of\\nneurobiology and ecology, alongside meaningful contributions to\\nanimal welfare initiatives, including volunteering at the San Diego\\nZoo and collaborating with various nonprofits. Notably, my dedication\\nto environmental conservation earned me the prestigious Girl Scout\\nGold Award during an internship at the Water Conservation Garden.\\nMy expertise extends beyond the confines of laboratory equipment\\nto include the art of compelling storytelling. While I've mastered\\nmicroscopy techniques and crafted intricate fiber photometry and\\noptogenetic systems, I've also dedicated time to refining my public\\nspeaking skills through regular engagements with local communities.\\nThese engagements not only foster personal and professional\\ndevelopment but also underscore my commitment to knowledge\\ndissemination and community empowerment.\\nIn my current capacity as Director of Business Development, I\\nlead a dynamic team of eight, spearheading strategic initiatives\\nand nurturing robust client relationships. My affable demeanor and\\nadeptness in relationship-building have proven instrumental in\\ndriving engagement and fostering long-lasting connections.\\nWith an innate drive for innovation and a strategic mindset, I\\nseamlessly navigate the intersection of academia and business,\\nconsistently propelling growth and success. My holistic approach,\\nintegrating research proficiency, business acumen, and community\\nengagement, underscores my dedication to excellence across\\ndiverse professional landscapes.\\n\\xa0 Page 1 of 4\", metadata={'source': 'pdfs\\\\sarah_uran_resume.pdf', 'page': 0}),\n",
              " Document(page_content='Experience\\nLibyl Inc.\\nDirector of Business Development\\nDecember 2023\\xa0-\\xa0Present\\xa0 (7 months)\\nI spearhead business expansion initiatives while also managing and\\nmentoring college interns, fostering a collaborative and growth-oriented work\\nenvironment. My multifaceted role encompasses responsibilities from targeting\\npotential clients to ensuring revenue targets are met. With a focused approach\\non the pharmaceutical, biotech, and medical device sectors, I actively foster\\nstrategic partnerships, conduct market analysis, engage in client consultations,\\nand oversee the development of our intern team.\\nNeurophotometrics LLC\\nManufacturing Associate\\nJuly 2023\\xa0-\\xa0March 2024\\xa0 (9 months)\\nSan Diego, California, United States\\nI specialize in constructing Fiber Photometry and Optogenetics machines\\nby assembling correlated subassemblies and testing accessories. Proficient\\nin CAD+, Bonsai, soldering, and 3D printing, my expertise lies in precision\\nengineering and equipment maintenance. Conducting rigorous quality control\\nand testing on fibers, I contribute to supplying research labs worldwide with the\\nessential tools, advancing the forefront of neuroscience.\\nSTARTneuro\\nResearch Fellowship\\nJuly 2021\\xa0-\\xa0June 2023\\xa0 (2 years)\\nLa Jolla Shores, California, United States\\nDifferentiate between and perform many neuroscience techniques like\\nelectrophysiology, circuits, coding, behavior, genetics, bioinformatics,\\nmicroscopy, and presenting a research poster.\\nUC San Diego\\nStudent Researcher\\nOctober 2021\\xa0-\\xa0December 2022\\xa0 (1 year 3 months)\\nLa Jolla Shores, California, United States\\nResearched in the neuroscience Hnasko lab studying neurotransmitters\\nin the mesocorticolimbic pathway of the brain. Performed rodent handling,\\nperfusions, histology, immunohistochemistry, microscopy, data analysis, and\\npresentations.\\n\\xa0 Page 2 of 4', metadata={'source': 'pdfs\\\\sarah_uran_resume.pdf', 'page': 1}),\n",
              " Document(page_content='The Water Conservation Garden\\nEducation Intern\\nAugust 2017\\xa0-\\xa0February 2020\\xa0 (2 years 7 months)\\nEl Cajon, California, United States\\nEducate, Inform, and communicate with garden guests with the goal to teach\\nguests of all ages. Handled animals and plants while multitasking and spoke to\\nguests. Cash register work, answer phone calls, processed memberships on\\nSalesforce, and provided great customer service\\nGirl Scouts of the USA\\nMember\\nAugust 2006\\xa0-\\xa0June 2019\\xa0 (12 years 11 months)\\nSan Diego, California\\nHelped troops prepare for annual girl scout cookie sales. Secured younger girl\\ninvolvement and participation in activities as an older girl scout. Participated\\nin weekly girl scout outings and meetings. Provided information resources to\\nother girls. I also completed my Gold Award.\\nSan Diego Zoo Global\\nVolunteer\\nAugust 2014\\xa0-\\xa0May 2019\\xa0 (4 years 10 months)\\nI was in a program called Zoo Corps. It is a program open for 13 to 17 year\\nolds to go into the zoo and public speak about sustainability, endangered\\nspecies, backyard habitats, and animal care.\\nSPAWAR\\nScientific Researcher \\nJuly 2017\\xa0-\\xa0January 2018\\xa0 (7 months)\\nPoint Loma, California\\nSPAWAR Navy Marine Ecology Consortium was the technical name to the\\ndepartment I was in. We researched an endangered bird that lives in San\\nDiego.\\nEducation\\nUC San Diego\\nBachelor of Science - BS,\\xa0Neurobiology and Neurosciences \\xa0·\\xa0(September\\n2021\\xa0-\\xa0June 2023)\\nGrossmont College\\n\\xa0 Page 3 of 4', metadata={'source': 'pdfs\\\\sarah_uran_resume.pdf', 'page': 2}),\n",
              " Document(page_content='·\\xa0(2017\\xa0-\\xa02019)\\n\\xa0 Page 4 of 4', metadata={'source': 'pdfs\\\\sarah_uran_resume.pdf', 'page': 3})]"
            ]
          },
          "execution_count": 82,
          "metadata": {},
          "output_type": "execute_result"
        }
      ],
      "source": [
        "text_chunks = text_splitter.split_documents(data)\n",
        "text_chunks"
      ]
    },
    {
      "cell_type": "code",
      "execution_count": 78,
      "metadata": {
        "colab": {
          "base_uri": "https://localhost:8080/"
        },
        "id": "aXnTz5sa6L7d",
        "outputId": "bd9d375a-d450-4bf4-d469-1fa5ebe01122"
      },
      "outputs": [
        {
          "data": {
            "text/plain": [
              "11"
            ]
          },
          "execution_count": 78,
          "metadata": {},
          "output_type": "execute_result"
        }
      ],
      "source": [
        "len(text_chunks)"
      ]
    },
    {
      "cell_type": "code",
      "execution_count": 12,
      "metadata": {
        "colab": {
          "base_uri": "https://localhost:8080/"
        },
        "id": "AGgV2iQz6PI1",
        "outputId": "87202fa1-e717-4196-b511-e22252cec0a0"
      },
      "outputs": [
        {
          "data": {
            "text/plain": [
              "Document(page_content='Android,\\nApache\\nAirflow ,\\nA ws\\nAmplify ,\\nA ws\\nApi\\nGateway ,\\nA ws\\nAurora,\\nA ws\\nCertificate\\nManager , \\nA ws\\nCloudfront,\\nA ws\\nCode\\nPipeline,\\nA ws\\nDynamodb,\\nA ws\\nEc2,\\nA ws\\nEcr ,\\nA ws\\nEcs,\\nA ws\\nEks,\\nA ws\\nElastic\\nBeanstalk,\\nA ws \\nLambda,\\nA ws\\nLoad-balancer ,\\nA ws\\nRoute\\n53,\\nA ws\\nS3,\\nA ws\\nSam,\\nA ws\\nSns,\\nA ws\\nVpc,\\nAxios,\\nBeautiful\\nSoup,\\nBootstrap, \\nChakra-ui,\\nCi/cd,\\nCryptojs,\\nD3,\\nDbeaver ,\\nDjango,\\nDocker ,\\nEjs,\\nElectronjs,\\nEnzyme,\\nExpress,\\nFirebase,\\nFlask,\\nFormik,\\nGit, \\nGithub\\nActions,\\nGoogle\\nAds,', metadata={'source': 'pdfs\\\\Andrew_Buensalida_Resume.pdf', 'page': 0})"
            ]
          },
          "execution_count": 12,
          "metadata": {},
          "output_type": "execute_result"
        }
      ],
      "source": [
        "text_chunks[1]"
      ]
    },
    {
      "cell_type": "code",
      "execution_count": 13,
      "metadata": {
        "colab": {
          "base_uri": "https://localhost:8080/"
        },
        "id": "CoxHsdvH6Ra9",
        "outputId": "e64fad1d-4958-4d62-da19-4da0b32d877f"
      },
      "outputs": [
        {
          "data": {
            "text/plain": [
              "Document(page_content='Google\\nAds,\\nGoogle\\nAssistant,\\nGoogle\\nCloud\\nPlatform,\\nGraphql,\\nHandlebars,\\nHeroku,\\nHostgator ,\\nHtml/css, \\nJava,\\nJavascript,\\nJenkins,\\nJest,\\nJquery ,\\nJwt,\\nKubernetes,\\nLinux,\\nLucid\\nChart,\\nLucidchart,\\nMaterial\\nUi,\\nMaven,\\nMinio, \\nMongodb,\\nMongoose,\\nMs\\nSql\\nServer ,\\nMvc,\\nMysql,\\nNeo4j,\\nNestJs,\\nNginx,\\nNgrok,\\nNodejs,\\nNodemailer ,\\nOracle\\nDb,\\nPdf-lib, \\nPhp,\\nPostgres,\\nPuppeteer ,\\nPython,\\nRabbitmq,\\nReact\\nFinancial\\nCharts,\\nReact\\nHook\\nForm,\\nReact\\nNative,\\nReact\\nNavigation, \\nReact\\nRouter ,\\nReact\\nT able,\\nReact', metadata={'source': 'pdfs\\\\Andrew_Buensalida_Resume.pdf', 'page': 0})"
            ]
          },
          "execution_count": 13,
          "metadata": {},
          "output_type": "execute_result"
        }
      ],
      "source": [
        "text_chunks[2]"
      ]
    },
    {
      "cell_type": "code",
      "execution_count": 14,
      "metadata": {
        "colab": {
          "base_uri": "https://localhost:8080/"
        },
        "id": "KeyBH-Km6TM9",
        "outputId": "d0b634fb-dd2e-4a2f-f3c7-17aefb1f0472"
      },
      "outputs": [
        {
          "data": {
            "text/plain": [
              "Document(page_content='React\\nT able,\\nReact\\nT esting\\nLibrary ,\\nReact,\\nRedis,\\nRedux,\\nResponsive,\\nScss,\\nSelenium,\\nSequelize,\\nServerless \\nFramework,\\nSinon,\\nSocket.io,\\nSpring\\nBoot,\\nSqlite,\\nSsl,\\nStripe,\\nSwagger ,\\nT ailwind,\\nT wilio,\\nT ypeorm,\\nT ypescript,\\nUser \\nAuthentication,\\nV isio,\\nV ue,\\nW eb\\nScraping,\\nW ebsockets,\\nW ordpress,\\nY up,\\nand\\nmore…\\nProfessional\\nExperience\\nPersonal\\nProjects\\n–\\nSoftware\\nEngineer .\\nSan\\nDiego,\\nCA\\n5/23-Present \\n●\\nT ook\\ninitiative\\nin\\nbuilding\\nand\\ndeploying\\nmultiple\\napps\\nwith\\na\\nvariety\\nof\\ntech', metadata={'source': 'pdfs\\\\Andrew_Buensalida_Resume.pdf', 'page': 0})"
            ]
          },
          "execution_count": 14,
          "metadata": {},
          "output_type": "execute_result"
        }
      ],
      "source": [
        "text_chunks[3]"
      ]
    },
    {
      "cell_type": "markdown",
      "metadata": {
        "id": "UJzcQCM96ZS-"
      },
      "source": [
        "## Download the Embeddings"
      ]
    },
    {
      "cell_type": "code",
      "execution_count": 15,
      "metadata": {
        "id": "G0BmUL5c6XQ2"
      },
      "outputs": [],
      "source": [
        "import os\n",
        "\n",
        "# this is not needed if you have the API key in a .env file\n",
        "# os.environ[\"OPENAI_API_KEY\"] = \"your openai api key here\""
      ]
    },
    {
      "cell_type": "code",
      "execution_count": 16,
      "metadata": {
        "id": "4zPQYiNn6otd"
      },
      "outputs": [],
      "source": [
        "embeddings = OpenAIEmbeddings()"
      ]
    },
    {
      "cell_type": "code",
      "execution_count": 17,
      "metadata": {
        "id": "Gl4ZrxZm6orf"
      },
      "outputs": [
        {
          "data": {
            "text/plain": [
              "[-0.0048034521751105785,\n",
              " -0.009349464438855648,\n",
              " -0.0030390468891710043,\n",
              " -0.026070501655340195,\n",
              " -0.016074297949671745,\n",
              " 0.012087118811905384,\n",
              " 0.0011380728101357818,\n",
              " -0.013499898836016655,\n",
              " -0.019389621913433075,\n",
              " -0.0034032303374260664,\n",
              " 0.028330950066447258,\n",
              " 0.0067499494180083275,\n",
              " -0.013939430005848408,\n",
              " -0.006392044946551323,\n",
              " 0.0075850593857467175,\n",
              " -0.022780293598771095,\n",
              " 0.027502119541168213,\n",
              " -0.002351494040340185,\n",
              " 0.01873660460114479,\n",
              " -0.02715049497783184,\n",
              " 0.002064228756353259,\n",
              " 0.02185099944472313,\n",
              " 0.008646214380860329,\n",
              " -0.007001110352575779,\n",
              " -0.0001958270149771124,\n",
              " 0.0002062266576103866,\n",
              " 0.011189218610525131,\n",
              " -0.005434493999928236,\n",
              " 0.022428669035434723,\n",
              " -0.027753280475735664,\n",
              " 0.011660145595669746,\n",
              " -0.0006844134768471122,\n",
              " 0.0008178427233360708,\n",
              " 0.00273451441898942,\n",
              " 0.010994568467140198,\n",
              " -0.02306913025677204,\n",
              " 0.0007103144307620823,\n",
              " 0.007760872133076191,\n",
              " 0.032751381397247314,\n",
              " -0.0006749949534423649,\n",
              " 0.025605853646993637,\n",
              " -0.014240823686122894,\n",
              " 0.0028114323504269123,\n",
              " -0.009249000810086727,\n",
              " -0.04031132534146309,\n",
              " 0.012677347287535667,\n",
              " 0.008828305639326572,\n",
              " -0.021197980269789696,\n",
              " -0.013725943863391876,\n",
              " 0.02890861965715885,\n",
              " 0.016074297949671745,\n",
              " 0.011170381680130959,\n",
              " -0.023395638912916183,\n",
              " -0.028180254623293877,\n",
              " -0.0006797041860409081,\n",
              " -0.0013908034889027476,\n",
              " -0.003431485965847969,\n",
              " 0.02501562610268593,\n",
              " -0.006442277226597071,\n",
              " -0.023244941607117653,\n",
              " 0.003224278101697564,\n",
              " 0.0059619322419166565,\n",
              " -0.011898747645318508,\n",
              " 0.027301190420985222,\n",
              " -0.007371572777628899,\n",
              " -0.00713924877345562,\n",
              " 0.03850296884775162,\n",
              " 0.004276014398783445,\n",
              " -0.01272130012512207,\n",
              " 0.009173652157187462,\n",
              " -0.01787009835243225,\n",
              " -0.005264960695058107,\n",
              " -0.01596127636730671,\n",
              " -0.017405450344085693,\n",
              " 0.00021230946003925055,\n",
              " -0.008533191867172718,\n",
              " -0.023948192596435547,\n",
              " 0.01720452308654785,\n",
              " -0.014178032986819744,\n",
              " -0.0113085201010108,\n",
              " 0.028280718252062798,\n",
              " -0.06238836795091629,\n",
              " 0.0038302037864923477,\n",
              " 0.019050555303692818,\n",
              " 0.025743992999196053,\n",
              " 0.004282293375581503,\n",
              " -0.021712860092520714,\n",
              " 0.012244094163179398,\n",
              " -0.008878538385033607,\n",
              " -0.019012881442904472,\n",
              " -0.007566222455352545,\n",
              " 0.013663153164088726,\n",
              " 0.0028899202588945627,\n",
              " 0.02888350374996662,\n",
              " -0.015798021107912064,\n",
              " 0.014868726022541523,\n",
              " 0.0058394912630319595,\n",
              " 0.01690312847495079,\n",
              " -0.01518267672508955,\n",
              " -0.015898484736680984,\n",
              " -0.01439152006059885,\n",
              " 0.0080183120444417,\n",
              " -0.013939430005848408,\n",
              " -0.011371309868991375,\n",
              " 0.013474782928824425,\n",
              " 0.008909933269023895,\n",
              " -0.007792267017066479,\n",
              " -0.010881545953452587,\n",
              " 0.013072925619781017,\n",
              " -0.006894366815686226,\n",
              " -0.017430566251277924,\n",
              " 0.021537048742175102,\n",
              " -0.007089016493409872,\n",
              " -0.015609650872647762,\n",
              " -0.0012000781716778874,\n",
              " 0.0017267311923205853,\n",
              " 0.005575772374868393,\n",
              " -0.0017863819375634193,\n",
              " -0.008055985905230045,\n",
              " -0.014680354855954647,\n",
              " 0.008671330288052559,\n",
              " 0.00810621865093708,\n",
              " -0.0030830001924186945,\n",
              " -0.01351245678961277,\n",
              " 0.00574844516813755,\n",
              " -0.0013601932441815734,\n",
              " -0.01212479267269373,\n",
              " 0.0007613315246999264,\n",
              " 0.008074822835624218,\n",
              " 0.004276014398783445,\n",
              " 0.029109548777341843,\n",
              " 0.004316828213632107,\n",
              " -0.0038459014613181353,\n",
              " -0.002789455931633711,\n",
              " -0.009161094203591347,\n",
              " 0.019012881442904472,\n",
              " -0.013876640237867832,\n",
              " -0.0004544442635960877,\n",
              " -0.019339390099048615,\n",
              " -0.018184049054980278,\n",
              " -0.004068806767463684,\n",
              " 0.03538857027888298,\n",
              " 0.0185356754809618,\n",
              " -0.01439152006059885,\n",
              " -0.00232951738871634,\n",
              " 0.014127801172435284,\n",
              " 0.030817443504929543,\n",
              " -0.023219825699925423,\n",
              " -0.011572238989174366,\n",
              " -0.013060367666184902,\n",
              " 0.004206945188343525,\n",
              " -0.010310155339539051,\n",
              " 0.03558950126171112,\n",
              " 0.03857831656932831,\n",
              " 0.005836351774632931,\n",
              " 0.02445051446557045,\n",
              " -0.006385765969753265,\n",
              " 0.01930171623826027,\n",
              " 0.0031756157986819744,\n",
              " -0.011798284016549587,\n",
              " -0.02689933404326439,\n",
              " -0.013361760415136814,\n",
              " 0.0218258835375309,\n",
              " 0.0005894432542845607,\n",
              " -0.00841389037668705,\n",
              " 0.027728164568543434,\n",
              " 0.03754855692386627,\n",
              " -0.000744456599932164,\n",
              " -0.014429193921387196,\n",
              " 0.0005227286601439118,\n",
              " 0.004750080872327089,\n",
              " -0.0006369283655658364,\n",
              " -0.055054470896720886,\n",
              " 0.015119886957108974,\n",
              " -0.018548233434557915,\n",
              " -0.0004583686531987041,\n",
              " 0.012137350626289845,\n",
              " 0.0019166716374456882,\n",
              " -0.02435005083680153,\n",
              " -0.012884554453194141,\n",
              " -0.02722584269940853,\n",
              " 0.02026868611574173,\n",
              " 0.033077891916036606,\n",
              " 0.01687801256775856,\n",
              " 0.014705470763146877,\n",
              " -0.007773430086672306,\n",
              " -0.002283994574099779,\n",
              " 0.01193014346063137,\n",
              " 0.02702491357922554,\n",
              " -0.02682398445904255,\n",
              " 0.020494729280471802,\n",
              " 0.039733655750751495,\n",
              " 0.0168277807533741,\n",
              " -0.019816596060991287,\n",
              " -0.6711019277572632,\n",
              " -0.02838118188083172,\n",
              " 0.012871996499598026,\n",
              " 0.0004034271987620741,\n",
              " 0.009280395694077015,\n",
              " 0.01434128824621439,\n",
              " 0.001417489373125136,\n",
              " 0.016049182042479515,\n",
              " -0.01787009835243225,\n",
              " 0.031043488532304764,\n",
              " 0.0010697884717956185,\n",
              " 0.01692824438214302,\n",
              " -0.006040419917553663,\n",
              " 0.0026685846969485283,\n",
              " -0.012388511560857296,\n",
              " -0.007503432221710682,\n",
              " -0.001502256141975522,\n",
              " 0.001375890802592039,\n",
              " -0.0019402180332690477,\n",
              " 0.006555299740284681,\n",
              " -0.03408253565430641,\n",
              " 0.009889461100101471,\n",
              " -0.02534213475883007,\n",
              " -0.0031081163324415684,\n",
              " 0.020946819335222244,\n",
              " 0.0011215903796255589,\n",
              " 0.015031980350613594,\n",
              " -0.005177054088562727,\n",
              " -0.03184720128774643,\n",
              " 0.021197980269789696,\n",
              " -0.010580153204500675,\n",
              " 0.01578546315431595,\n",
              " 0.004696709103882313,\n",
              " -0.0019166716374456882,\n",
              " 0.05078473687171936,\n",
              " -0.003805087646469474,\n",
              " -0.0016309760976582766,\n",
              " 0.009016676805913448,\n",
              " -0.0019229507306590676,\n",
              " 0.04247130826115608,\n",
              " -0.004721825011074543,\n",
              " -0.01925148442387581,\n",
              " 0.0074343630112707615,\n",
              " -0.018447767943143845,\n",
              " 0.0152454674243927,\n",
              " 0.0010909802513197064,\n",
              " 0.004279153887182474,\n",
              " 0.00040774402441456914,\n",
              " 0.010511084459722042,\n",
              " -0.003748576622456312,\n",
              " 0.005148798692971468,\n",
              " 0.013675711117684841,\n",
              " -0.006420300807803869,\n",
              " 0.003739157924428582,\n",
              " 0.009412255138158798,\n",
              " -0.00436078105121851,\n",
              " 0.021172864362597466,\n",
              " 0.013437108136713505,\n",
              " 0.00957550946623087,\n",
              " -0.009412255138158798,\n",
              " -0.006307278294116259,\n",
              " 0.01235083770006895,\n",
              " -0.01996729150414467,\n",
              " -0.0016435341676697135,\n",
              " -0.008859701454639435,\n",
              " 0.014579890295863152,\n",
              " -0.015458953566849232,\n",
              " 0.00887225940823555,\n",
              " 0.009330627508461475,\n",
              " -0.0010321143781766295,\n",
              " 0.012093397788703442,\n",
              " 0.0017267311923205853,\n",
              " 0.004514617379754782,\n",
              " 0.0034503228962421417,\n",
              " 0.008589702658355236,\n",
              " 0.029486291110515594,\n",
              " 0.026447243988513947,\n",
              " -0.01223781518638134,\n",
              " 0.010712012648582458,\n",
              " 0.007126690819859505,\n",
              " 0.013939430005848408,\n",
              " 0.005742166191339493,\n",
              " -0.014404078014194965,\n",
              " -0.0057044923305511475,\n",
              " 0.01616220362484455,\n",
              " -0.03679507225751877,\n",
              " -0.019050555303692818,\n",
              " 0.009041792713105679,\n",
              " 0.017505915835499763,\n",
              " 0.0003294524794910103,\n",
              " 0.033128123730421066,\n",
              " 0.012319442816078663,\n",
              " 0.00015599446487613022,\n",
              " -0.03501183167099953,\n",
              " 0.0032007317058742046,\n",
              " -0.022855643182992935,\n",
              " -0.023960750550031662,\n",
              " 0.022604482248425484,\n",
              " 0.014831051230430603,\n",
              " -0.019188692793250084,\n",
              " 0.015923600643873215,\n",
              " -0.009883182123303413,\n",
              " 0.023182151839137077,\n",
              " 0.012752695009112358,\n",
              " 0.007698081899434328,\n",
              " 0.0122880470007658,\n",
              " -0.01861102320253849,\n",
              " 0.0192012507468462,\n",
              " 0.027954209595918655,\n",
              " -0.016639409586787224,\n",
              " 0.0209091454744339,\n",
              " 0.006530183833092451,\n",
              " -0.01362547930330038,\n",
              " 0.007283666171133518,\n",
              " 0.025430042296648026,\n",
              " -0.02195146307349205,\n",
              " 0.0016906268429011106,\n",
              " 0.01254548691213131,\n",
              " 0.029360709711909294,\n",
              " -0.010881545953452587,\n",
              " 0.015998950228095055,\n",
              " -0.00125737430062145,\n",
              " 0.01851055957376957,\n",
              " 0.010071552358567715,\n",
              " -0.0029009084682911634,\n",
              " 0.01677754893898964,\n",
              " -0.022679829970002174,\n",
              " -0.004966706968843937,\n",
              " -0.042898282408714294,\n",
              " 0.01596127636730671,\n",
              " 0.03443416208028793,\n",
              " 0.00018964610353577882,\n",
              " -0.0045460122637450695,\n",
              " -0.009368302300572395,\n",
              " 0.023496102541685104,\n",
              " 0.0013696118257939816,\n",
              " -0.0009693241445347667,\n",
              " -0.0023875983897596598,\n",
              " 0.009456207975745201,\n",
              " -0.015521744266152382,\n",
              " 0.012922228313982487,\n",
              " -0.007829940877854824,\n",
              " 0.008577144704759121,\n",
              " 4.319280924391933e-05,\n",
              " 0.014404078014194965,\n",
              " 0.0026858518831431866,\n",
              " -0.0210347268730402,\n",
              " -0.0018805672880262136,\n",
              " 0.0029558499809354544,\n",
              " -0.009274116717278957,\n",
              " -0.004483222030103207,\n",
              " -0.005101705901324749,\n",
              " -0.0034628810826689005,\n",
              " 0.021549606695771217,\n",
              " 0.029687220230698586,\n",
              " -0.002029694151133299,\n",
              " -0.02274261973798275,\n",
              " -0.032826729118824005,\n",
              " -0.005443912465125322,\n",
              " -0.029536522924900055,\n",
              " 0.006756228394806385,\n",
              " 0.0303653534501791,\n",
              " -0.005525540094822645,\n",
              " 0.003547647735103965,\n",
              " -0.004885079804807901,\n",
              " -0.022227739915251732,\n",
              " 0.002530446043238044,\n",
              " 0.012313163839280605,\n",
              " -0.01427849754691124,\n",
              " -0.03837738558650017,\n",
              " 0.009895740076899529,\n",
              " -0.019012881442904472,\n",
              " -0.01583569496870041,\n",
              " -0.00037713380879722536,\n",
              " 0.011735493317246437,\n",
              " -0.006781344301998615,\n",
              " -0.020783565938472748,\n",
              " -0.005575772374868393,\n",
              " 0.01436640415340662,\n",
              " -0.007591338362544775,\n",
              " 0.008514354936778545,\n",
              " 0.007202039007097483,\n",
              " -0.012225257232785225,\n",
              " 0.012532928958535194,\n",
              " 0.03737274184823036,\n",
              " 0.008865980431437492,\n",
              " 0.03845273330807686,\n",
              " 0.02873280830681324,\n",
              " -0.02051984705030918,\n",
              " 0.001937078544870019,\n",
              " 0.027401655912399292,\n",
              " 0.009594346396625042,\n",
              " -0.032676033675670624,\n",
              " 0.003434625454246998,\n",
              " -0.009795275516808033,\n",
              " -0.026648173108696938,\n",
              " -0.01598639227449894,\n",
              " 0.015484070405364037,\n",
              " 0.019314274191856384,\n",
              " 0.03260068595409393,\n",
              " 0.02254169061779976,\n",
              " -0.003861598903313279,\n",
              " 0.023106804117560387,\n",
              " -0.008533191867172718,\n",
              " -0.003751716110855341,\n",
              " -0.016149645671248436,\n",
              " -0.006636926904320717,\n",
              " -0.021913789212703705,\n",
              " 0.015521744266152382,\n",
              " 0.031194183975458145,\n",
              " -0.002384458901360631,\n",
              " 0.003359277034178376,\n",
              " 0.0043356651440262794,\n",
              " 0.0015540581662207842,\n",
              " 0.005987048149108887,\n",
              " 0.012532928958535194,\n",
              " -0.008269472979009151,\n",
              " 0.004115899559110403,\n",
              " -0.011804562993347645,\n",
              " 0.004712406545877457,\n",
              " 0.012727579101920128,\n",
              " -0.002227483317255974,\n",
              " -0.0023640519939363003,\n",
              " -0.01957799308001995,\n",
              " -0.026623055338859558,\n",
              " 0.026648173108696938,\n",
              " 0.015421279706060886,\n",
              " 0.027703048661351204,\n",
              " 0.00022545615502167493,\n",
              " -0.007465757895261049,\n",
              " -0.03026488982141018,\n",
              " 0.01272130012512207,\n",
              " 0.024638885632157326,\n",
              " 0.006335533689707518,\n",
              " -0.007641570642590523,\n",
              " -0.007453199941664934,\n",
              " 0.007528548128902912,\n",
              " 0.004753220360726118,\n",
              " 0.032676033675670624,\n",
              " -0.006313557270914316,\n",
              " 0.0008570866193622351,\n",
              " 0.00813133455812931,\n",
              " 0.03684530407190323,\n",
              " -0.02710026130080223,\n",
              " 0.02435005083680153,\n",
              " 0.007019947282969952,\n",
              " 0.021537048742175102,\n",
              " 9.801161650102586e-05,\n",
              " 0.011107590980827808,\n",
              " 0.01441663596779108,\n",
              " -0.013223621994256973,\n",
              " -0.010341550223529339,\n",
              " -0.003509973641484976,\n",
              " 0.0004874091246165335,\n",
              " 0.022014252841472626,\n",
              " -0.01280920673161745,\n",
              " 0.020720774307847023,\n",
              " 0.0076918029226362705,\n",
              " -0.0001172411284642294,\n",
              " 0.031118836253881454,\n",
              " 0.021650070324540138,\n",
              " 0.01794544607400894,\n",
              " -0.0021489954087883234,\n",
              " -0.008030869998037815,\n",
              " 0.019640782848000526,\n",
              " 0.006279022898525,\n",
              " -0.007478315848857164,\n",
              " -0.03862854838371277,\n",
              " -0.00356962438672781,\n",
              " -0.0020030082669109106,\n",
              " -0.0272007267922163,\n",
              " -0.006332394201308489,\n",
              " 0.0247016754001379,\n",
              " -0.012871996499598026,\n",
              " 0.026271430775523186,\n",
              " 0.0007389624952338636,\n",
              " 0.009305511601269245,\n",
              " -0.015672441571950912,\n",
              " 2.8819733415730298e-05,\n",
              " 0.004291711840778589,\n",
              " -0.009657137095928192,\n",
              " -0.02536725252866745,\n",
              " 0.0127464160323143,\n",
              " 0.013663153164088726,\n",
              " 0.016664525493979454,\n",
              " 0.0008649353985674679,\n",
              " -0.031169068068265915,\n",
              " 0.015471511520445347,\n",
              " -0.012018049135804176,\n",
              " 0.00549414474517107,\n",
              " -0.0010690035996958613,\n",
              " 0.019314274191856384,\n",
              " -0.006712275091558695,\n",
              " -0.010686896741390228,\n",
              " 0.010247364640235901,\n",
              " 0.0010305446339771152,\n",
              " 0.041265737265348434,\n",
              " 0.010366666130721569,\n",
              " -0.005038915667682886,\n",
              " 0.005669957492500544,\n",
              " -0.0064925095066428185,\n",
              " 0.01628778502345085,\n",
              " -0.00027156772557646036,\n",
              " -0.03709646686911583,\n",
              " -0.013386876322329044,\n",
              " -0.002566550625488162,\n",
              " 0.020004967227578163,\n",
              " -0.004696709103882313,\n",
              " -0.006712275091558695,\n",
              " -0.015446395613253117,\n",
              " 0.008332262746989727,\n",
              " -0.0032525337301194668,\n",
              " -0.01430361345410347,\n",
              " -0.01436640415340662,\n",
              " -0.004037411417812109,\n",
              " 0.0066557638347148895,\n",
              " -0.009167373180389404,\n",
              " 0.0011702527990564704,\n",
              " 0.04412897303700447,\n",
              " -0.0402359776198864,\n",
              " 0.0003928313672076911,\n",
              " -0.020620310679078102,\n",
              " -0.013298969715833664,\n",
              " 0.003739157924428582,\n",
              " 0.06771297752857208,\n",
              " 0.0019810316152870655,\n",
              " 0.018083585426211357,\n",
              " 0.006197395268827677,\n",
              " -0.0015893776435405016,\n",
              " 0.008665051311254501,\n",
              " -0.007848778739571571,\n",
              " -0.021197980269789696,\n",
              " -0.02722584269940853,\n",
              " -0.004935311619192362,\n",
              " -0.013751059770584106,\n",
              " -0.03395695611834526,\n",
              " -0.025404926389455795,\n",
              " 0.004979264922440052,\n",
              " -0.00407822523266077,\n",
              " 0.0027486421167850494,\n",
              " 0.0012974030105397105,\n",
              " -0.020331475883722305,\n",
              " 0.012671067379415035,\n",
              " 0.01797056384384632,\n",
              " -0.015622208826243877,\n",
              " 0.017706843093037605,\n",
              " 0.013449667021632195,\n",
              " 0.023219825699925423,\n",
              " 0.007754593156278133,\n",
              " 0.015546860173344612,\n",
              " -0.002784746466204524,\n",
              " 0.006313557270914316,\n",
              " 0.012570603750646114,\n",
              " -0.011911305598914623,\n",
              " -0.006052977871149778,\n",
              " -0.005955652799457312,\n",
              " 0.014454309828579426,\n",
              " -0.0018005097517743707,\n",
              " -0.00024076127738226205,\n",
              " 0.023998424410820007,\n",
              " -0.007045063655823469,\n",
              " 0.008382495492696762,\n",
              " 0.007698081899434328,\n",
              " -0.011346193961799145,\n",
              " 0.017304986715316772,\n",
              " 0.02717561088502407,\n",
              " -0.009669695049524307,\n",
              " -0.0011741772759705782,\n",
              " 0.015747789293527603,\n",
              " -0.007836220785975456,\n",
              " -0.023646799847483635,\n",
              " -0.010153179988265038,\n",
              " -0.0018428931944072247,\n",
              " -0.001590947387740016,\n",
              " 0.023948192596435547,\n",
              " 0.0184100940823555,\n",
              " -0.036292750388383865,\n",
              " -0.011145264841616154,\n",
              " -0.004071946255862713,\n",
              " 0.022014252841472626,\n",
              " -0.02085891366004944,\n",
              " -0.029586754739284515,\n",
              " -0.0011545552406460047,\n",
              " -0.010831314139068127,\n",
              " -0.018158933147788048,\n",
              " -0.01685289666056633,\n",
              " -0.022277971729636192,\n",
              " -0.015973834320902824,\n",
              " -0.012802926823496819,\n",
              " -0.0304909348487854,\n",
              " -0.0177445188164711,\n",
              " 0.013437108136713505,\n",
              " -0.008514354936778545,\n",
              " -0.0013390015810728073,\n",
              " -0.01107619609683752,\n",
              " -0.038000646978616714,\n",
              " -0.019490085542201996,\n",
              " 0.005293216090649366,\n",
              " 0.018673812970519066,\n",
              " 0.010442014783620834,\n",
              " 0.0024032958317548037,\n",
              " -0.02725095860660076,\n",
              " 0.027929093688726425,\n",
              " 0.02212727628648281,\n",
              " -0.005224146880209446,\n",
              " -0.02044449746608734,\n",
              " 0.029360709711909294,\n",
              " 0.00016914117441046983,\n",
              " -0.0007138464134186506,\n",
              " -0.00029432919109240174,\n",
              " 0.009669695049524307,\n",
              " 0.018108701333403587,\n",
              " -0.00130368210375309,\n",
              " 0.014755703508853912,\n",
              " 0.01962822489440441,\n",
              " 0.014404078014194965,\n",
              " 0.025530505925416946,\n",
              " -0.0026780031621456146,\n",
              " 0.0008052846533246338,\n",
              " 0.008941328153014183,\n",
              " 0.007949242368340492,\n",
              " 0.007258550263941288,\n",
              " -0.026698404923081398,\n",
              " 0.023420754820108414,\n",
              " -0.004797173198312521,\n",
              " -0.03443416208028793,\n",
              " -0.0004901562351733446,\n",
              " -0.031395114958286285,\n",
              " -0.006467393599450588,\n",
              " 0.0199924074113369,\n",
              " -0.011164102703332901,\n",
              " 0.030993256717920303,\n",
              " -0.021562164649367332,\n",
              " 0.004197526723146439,\n",
              " 0.02445051446557045,\n",
              " -0.04026109352707863,\n",
              " 0.021273327991366386,\n",
              " -0.00931806955486536,\n",
              " 0.0018067887285724282,\n",
              " 0.016174761578440666,\n",
              " 0.006203674245625734,\n",
              " 0.031043488532304764,\n",
              " -0.021712860092520714,\n",
              " -0.01940217986702919,\n",
              " 0.0071769230999052525,\n",
              " -0.05540609732270241,\n",
              " 0.019854269921779633,\n",
              " 0.003805087646469474,\n",
              " -0.023056570440530777,\n",
              " 0.003309044986963272,\n",
              " -0.008143892511725426,\n",
              " -0.0029134664218872786,\n",
              " -0.01263339351862669,\n",
              " -0.009443650022149086,\n",
              " -0.0032682314049452543,\n",
              " 0.0021709720604121685,\n",
              " -0.010209690779447556,\n",
              " -0.007817382924258709,\n",
              " -0.012959903106093407,\n",
              " -0.019075671210885048,\n",
              " -0.005735887214541435,\n",
              " 0.02462632767856121,\n",
              " -0.0042885723523795605,\n",
              " -0.009355743415653706,\n",
              " -0.033052776008844376,\n",
              " -0.0020924843847751617,\n",
              " -0.002147425664588809,\n",
              " -0.029059316962957382,\n",
              " -0.03021465800702572,\n",
              " -0.041542015969753265,\n",
              " -0.0007456339662894607,\n",
              " 0.0009418533882126212,\n",
              " -0.017304986715316772,\n",
              " 0.019665898755192757,\n",
              " 0.006523904390633106,\n",
              " 0.0076604075729846954,\n",
              " -0.034961599856615067,\n",
              " 0.008671330288052559,\n",
              " -0.011151544749736786,\n",
              " -0.032726265490055084,\n",
              " -0.007974359206855297,\n",
              " 0.011766888201236725,\n",
              " 0.019163576886057854,\n",
              " 0.023370523005723953,\n",
              " 0.041391316801309586,\n",
              " -0.00023683688777964562,\n",
              " 0.03187232092022896,\n",
              " -0.00883458461612463,\n",
              " -0.023496102541685104,\n",
              " -0.0058080959133803844,\n",
              " 0.008840863592922688,\n",
              " -0.003557066433131695,\n",
              " -0.014454309828579426,\n",
              " 0.006498788483440876,\n",
              " 0.01623755320906639,\n",
              " 0.0193268321454525,\n",
              " 0.012294325977563858,\n",
              " 0.010806198231875896,\n",
              " 0.0014276928268373013,\n",
              " -0.012576882727444172,\n",
              " 0.003666949225589633,\n",
              " -0.013298969715833664,\n",
              " -0.012338279746472836,\n",
              " -0.009883182123303413,\n",
              " -0.004232061095535755,\n",
              " -0.01957799308001995,\n",
              " -0.020582636818289757,\n",
              " 0.015873368829488754,\n",
              " 0.012790368869900703,\n",
              " -0.027929093688726425,\n",
              " -0.013889198191463947,\n",
              " 0.01189246866852045,\n",
              " 0.025743992999196053,\n",
              " 0.005958792753517628,\n",
              " 0.004671592731028795,\n",
              " -0.011107590980827808,\n",
              " -0.005999606102705002,\n",
              " -0.0031034068670123816,\n",
              " -0.001852311659604311,\n",
              " 0.0013264435110613704,\n",
              " -0.00114749139174819,\n",
              " 0.0009865914471447468,\n",
              " 0.025153765454888344,\n",
              " 0.03202301636338234,\n",
              " 0.007528548128902912,\n",
              " 0.029611870646476746,\n",
              " 0.0055632139556109905,\n",
              " 0.009977366775274277,\n",
              " 0.002359342761337757,\n",
              " 0.02185099944472313,\n",
              " -0.020896587520837784,\n",
              " -0.014831051230430603,\n",
              " -0.008495518006384373,\n",
              " -0.009902019053697586,\n",
              " -0.005042055156081915,\n",
              " -0.024237027391791344,\n",
              " -0.020105430856347084,\n",
              " -0.026648173108696938,\n",
              " 0.005117403343319893,\n",
              " -0.006800181698054075,\n",
              " -0.006944599095731974,\n",
              " 0.014178032986819744,\n",
              " -0.004831708036363125,\n",
              " -0.0339067243039608,\n",
              " -0.03360532969236374,\n",
              " -0.0025430042296648026,\n",
              " 0.022114718332886696,\n",
              " -0.014730587601661682,\n",
              " 0.01346222497522831,\n",
              " 0.0014504542341455817,\n",
              " -0.00022290530614554882,\n",
              " 0.007063900586217642,\n",
              " 0.00718320207670331,\n",
              " -0.0016137087950482965,\n",
              " -0.008709004148840904,\n",
              " 0.0169533621519804,\n",
              " 0.011766888201236725,\n",
              " 0.000409313797717914,\n",
              " -0.013638037256896496,\n",
              " 0.00977643858641386,\n",
              " 0.008815747685730457,\n",
              " 0.005045194644480944,\n",
              " -0.0010407479712739587,\n",
              " 0.02338308095932007,\n",
              " 0.024777023121714592,\n",
              " -0.00813133455812931,\n",
              " -0.018749162554740906,\n",
              " 0.012897112406790257,\n",
              " -0.015145002864301205,\n",
              " 0.02442539855837822,\n",
              " 0.02381005324423313,\n",
              " -0.00923016294836998,\n",
              " -0.021474257111549377,\n",
              " 0.012306884862482548,\n",
              " -0.010347829200327396,\n",
              " 0.020281244069337845,\n",
              " -0.02684910036623478,\n",
              " 0.011264566332101822,\n",
              " 0.025844456627964973,\n",
              " 0.00304689584299922,\n",
              " 0.012671067379415035,\n",
              " -0.009022955782711506,\n",
              " 0.0038302037864923477,\n",
              " 0.010605269111692905,\n",
              " 0.0025806783232837915,\n",
              " 0.02192634716629982,\n",
              " -0.03016442432999611,\n",
              " 0.016300342977046967,\n",
              " 0.0036010195035487413,\n",
              " -0.013022692874073982,\n",
              " -0.010925499722361565,\n",
              " -0.01621243730187416,\n",
              " -0.0018507419154047966,\n",
              " 0.01871148683130741,\n",
              " -0.006957157049328089,\n",
              " -0.002181960502639413,\n",
              " -0.0017675448907539248,\n",
              " 0.019703572615981102,\n",
              " 0.002750211860984564,\n",
              " 0.014404078014194965,\n",
              " -0.02717561088502407,\n",
              " -0.005374843254685402,\n",
              " -0.021197980269789696,\n",
              " -0.003594740526750684,\n",
              " 0.01846032589673996,\n",
              " -0.0015352210029959679,\n",
              " 0.006263324990868568,\n",
              " -0.004316828213632107,\n",
              " -0.012576882727444172,\n",
              " -0.0245760940015316,\n",
              " -0.04066295176744461,\n",
              " -0.0028522461652755737,\n",
              " 0.0029260246083140373,\n",
              " -0.0088094687089324,\n",
              " -0.010423177853226662,\n",
              " -0.007911568507552147,\n",
              " 0.002511609112843871,\n",
              " 0.027979325503110886,\n",
              " 0.011741772294044495,\n",
              " -0.002079926198348403,\n",
              " -0.005195891484618187,\n",
              " -0.013650595210492611,\n",
              " 0.012319442816078663,\n",
              " 0.012143629603087902,\n",
              " 0.010178295895457268,\n",
              " -0.005814374890178442,\n",
              " -0.014102685265243053,\n",
              " -0.0029652684461325407,\n",
              " 0.0025728296022862196,\n",
              " -0.023747263476252556,\n",
              " 0.007867615669965744,\n",
              " -0.00317404605448246,\n",
              " -0.005208449438214302,\n",
              " -0.026547707617282867,\n",
              " 0.00934318546205759,\n",
              " 0.017656611278653145,\n",
              " -0.009839228354394436,\n",
              " -0.02121053822338581,\n",
              " 0.017857540398836136,\n",
              " 0.02388540282845497,\n",
              " 0.01362547930330038,\n",
              " 0.00116475869435817,\n",
              " -0.019665898755192757,\n",
              " 0.016551503911614418,\n",
              " -0.014090127311646938,\n",
              " 0.006894366815686226,\n",
              " 0.0036010195035487413,\n",
              " -0.03177185356616974,\n",
              " 0.022064486518502235,\n",
              " 0.017757076770067215,\n",
              " 0.005393680650740862,\n",
              " 0.007729476783424616,\n",
              " -0.021537048742175102,\n",
              " -0.01028503943234682,\n",
              " 0.0023357963655143976,\n",
              " -0.008445285260677338,\n",
              " 0.011691540479660034,\n",
              " -0.029536522924900055,\n",
              " -0.01705382578074932,\n",
              " 0.007698081899434328,\n",
              " -0.021788209676742554,\n",
              " 0.0020139964763075113,\n",
              " 0.002569690113887191,\n",
              " -0.0159110426902771,\n",
              " 0.018096143379807472,\n",
              " 0.01601150818169117,\n",
              " -0.008344820700585842,\n",
              " 0.007428084034472704,\n",
              " -0.0007817383157089353,\n",
              " -0.0045931050553917885,\n",
              " -0.007308782543987036,\n",
              " -0.013876640237867832,\n",
              " -0.007315061520785093,\n",
              " -0.0037956691812723875,\n",
              " -0.014956631697714329,\n",
              " 0.02692444995045662,\n",
              " 0.017292428761720657,\n",
              " -0.007760872133076191,\n",
              " -0.03561461716890335,\n",
              " 0.002439400414004922,\n",
              " -0.03041558526456356,\n",
              " -0.026572823524475098,\n",
              " -0.0037203209940344095,\n",
              " -0.0005419581430032849,\n",
              " -0.00971364788711071,\n",
              " 0.0025634109042584896,\n",
              " -0.020205894485116005,\n",
              " 0.008125055581331253,\n",
              " 0.019364506006240845,\n",
              " -0.003544508246704936,\n",
              " -0.028054673224687576,\n",
              " -0.0034252069890499115,\n",
              " -0.020231010392308235,\n",
              " 0.014027336612343788,\n",
              " 0.0050954269245266914,\n",
              " 0.008822026662528515,\n",
              " -0.020155662670731544,\n",
              " 0.007980638183653355,\n",
              " 0.010065273381769657,\n",
              " -0.027527235448360443,\n",
              " -0.02057007886469364,\n",
              " 0.021248212084174156,\n",
              " -0.020582636818289757,\n",
              " -0.02524167113006115,\n",
              " -0.013675711117684841,\n",
              " 0.006561578717082739,\n",
              " 0.001764405402354896,\n",
              " 0.012871996499598026,\n",
              " 0.019841711968183517,\n",
              " -0.017242196947336197,\n",
              " 0.0011168811470270157,\n",
              " 0.015408721752464771,\n",
              " -0.013751059770584106,\n",
              " 0.006718554068356752,\n",
              " 0.004922753665596247,\n",
              " 0.036820188164711,\n",
              " -0.0105173634365201,\n",
              " 0.022403553128242493,\n",
              " -0.0114968903362751,\n",
              " 0.0015014712698757648,\n",
              " 0.009569230489432812,\n",
              " -0.022905874997377396,\n",
              " 0.007559943478554487,\n",
              " -0.010328992269933224,\n",
              " -0.021537048742175102,\n",
              " 0.0159110426902771,\n",
              " 0.004144154954701662,\n",
              " 0.004279153887182474,\n",
              " -0.01506965421140194,\n",
              " 0.024664001539349556,\n",
              " -0.020105430856347084,\n",
              " -0.006906924769282341,\n",
              " 0.0013601932441815734,\n",
              " -0.023960750550031662,\n",
              " -0.002434690948575735,\n",
              " -0.011390146799385548,\n",
              " -0.00815645046532154,\n",
              " -0.024362608790397644,\n",
              " -0.0014567332109436393,\n",
              " -0.03202301636338234,\n",
              " -0.022315647453069687,\n",
              " -0.022604482248425484,\n",
              " 0.007478315848857164,\n",
              " 0.00015560202882625163,\n",
              " -0.012463860213756561,\n",
              " 0.00841389037668705,\n",
              " -0.0007530903094448149,\n",
              " -0.020683100447058678,\n",
              " 0.010115505196154118,\n",
              " -0.01504453830420971,\n",
              " 0.02131100371479988,\n",
              " -0.014692912809550762,\n",
              " -0.005525540094822645,\n",
              " 0.03187232092022896,\n",
              " -0.010768524371087551,\n",
              " -0.003472299547865987,\n",
              " 0.02085891366004944,\n",
              " 0.0019260902190580964,\n",
              " 0.007522269152104855,\n",
              " 0.020155662670731544,\n",
              " 0.22323182225227356,\n",
              " -0.017367776483297348,\n",
              " 0.003971481695771217,\n",
              " 0.035916008055210114,\n",
              " 0.014014778658747673,\n",
              " 0.00356962438672781,\n",
              " 0.01351245678961277,\n",
              " -0.0023436453193426132,\n",
              " 0.001484988839365542,\n",
              " 0.010887824930250645,\n",
              " -0.024751907214522362,\n",
              " -0.012595719657838345,\n",
              " -0.028029557317495346,\n",
              " 0.010467130690813065,\n",
              " -0.0020532403141260147,\n",
              " -0.017242196947336197,\n",
              " -0.02442539855837822,\n",
              " -0.007980638183653355,\n",
              " -0.014881283976137638,\n",
              " -0.029511407017707825,\n",
              " -0.003387532662600279,\n",
              " -0.025178881362080574,\n",
              " -0.006031001452356577,\n",
              " -0.007107853889465332,\n",
              " 0.026095617562532425,\n",
              " 0.0286574587225914,\n",
              " -0.0006259400979615748,\n",
              " -0.007377851754426956,\n",
              " 0.001717312727123499,\n",
              " -0.010705733671784401,\n",
              " -0.008796910755336285,\n",
              " -0.007289945147931576,\n",
              " -6.960885366424918e-05,\n",
              " 0.020657984539866447,\n",
              " -0.003999737557023764,\n",
              " 0.0007358229486271739,\n",
              " 0.011151544749736786,\n",
              " 0.021612396463751793,\n",
              " 0.004097062163054943,\n",
              " 0.002891490003094077,\n",
              " 0.01093805767595768,\n",
              " 0.023671915754675865,\n",
              " 0.0007342532044276595,\n",
              " -0.030968140810728073,\n",
              " 0.011722935363650322,\n",
              " -0.00313009275123477,\n",
              " ...]"
            ]
          },
          "execution_count": 17,
          "metadata": {},
          "output_type": "execute_result"
        }
      ],
      "source": [
        "result = embeddings.embed_query(\"How are you!\")\n",
        "result"
      ]
    },
    {
      "cell_type": "code",
      "execution_count": 18,
      "metadata": {
        "colab": {
          "base_uri": "https://localhost:8080/"
        },
        "id": "O0_dlP6c6yDm",
        "outputId": "c09ebb03-2457-4a2e-fb6a-ed05e88ba2a9"
      },
      "outputs": [
        {
          "data": {
            "text/plain": [
              "1536"
            ]
          },
          "execution_count": 18,
          "metadata": {},
          "output_type": "execute_result"
        }
      ],
      "source": [
        "len(result)"
      ]
    },
    {
      "cell_type": "markdown",
      "metadata": {
        "id": "nSuEdaLP7dvV"
      },
      "source": [
        "## Initializing the Pinecone"
      ]
    },
    {
      "cell_type": "code",
      "execution_count": 22,
      "metadata": {
        "id": "OoCbquCg65Q1"
      },
      "outputs": [],
      "source": [
        "PINECONE_API_KEY = os.environ.get('PINECONE_API_KEY')\n"
      ]
    },
    {
      "cell_type": "code",
      "execution_count": 30,
      "metadata": {
        "colab": {
          "base_uri": "https://localhost:8080/"
        },
        "id": "ZxX3o89_8F-W",
        "outputId": "499c6ce5-90ab-44d3-a5c7-01e2340335d0"
      },
      "outputs": [],
      "source": [
        "# from pinecone import Pinecone # This is not needed since we are using the pinecone from langchain\n",
        "# pc = Pinecone(api_key=PINECONE_API_KEY)\n",
        "\n",
        "index_name = \"mytestindex\" # put in the name of your pinecone index here. When creating the index in pinecone.io, the Dimensions have to be the same as the result length. \n"
      ]
    },
    {
      "cell_type": "markdown",
      "metadata": {
        "id": "ZKwc0Cr78pUl"
      },
      "source": [
        "## Create Embeddings for each of the Text Chunk"
      ]
    },
    {
      "cell_type": "code",
      "execution_count": 29,
      "metadata": {
        "id": "dmGWBzkA8n72"
      },
      "outputs": [
        {
          "data": {
            "text/plain": [
              "<langchain_community.vectorstores.pinecone.Pinecone at 0x216d4f63e50>"
            ]
          },
          "execution_count": 29,
          "metadata": {},
          "output_type": "execute_result"
        }
      ],
      "source": [
        "# embeddings is from openai. This uploads the embeddings to your index in pinecone.io. I guess Pinecone automatically uses the API key from .env file.\n",
        "docsearch = Pinecone.from_texts([t.page_content for t in text_chunks], embeddings, index_name=index_name)\n",
        "docsearch"
      ]
    },
    {
      "cell_type": "markdown",
      "metadata": {
        "id": "l7ebhRfl9ueQ"
      },
      "source": [
        "## If you already have an index, you can load it like this"
      ]
    },
    {
      "cell_type": "code",
      "execution_count": 32,
      "metadata": {
        "colab": {
          "base_uri": "https://localhost:8080/"
        },
        "id": "ZuSHyhCM9vOl",
        "outputId": "337c3bcb-0f8e-49f9-b5da-9ee36f19e118"
      },
      "outputs": [
        {
          "data": {
            "text/plain": [
              "<langchain_community.vectorstores.pinecone.Pinecone at 0x216d5383d50>"
            ]
          },
          "execution_count": 32,
          "metadata": {},
          "output_type": "execute_result"
        }
      ],
      "source": [
        "docsearch = Pinecone.from_existing_index(index_name, embeddings)\n",
        "docsearch"
      ]
    },
    {
      "cell_type": "markdown",
      "metadata": {
        "id": "PvS-Qi8l919d"
      },
      "source": [
        "## Similarity Search"
      ]
    },
    {
      "cell_type": "code",
      "execution_count": 41,
      "metadata": {
        "id": "BpN4A4uO90yN"
      },
      "outputs": [],
      "source": [
        "query = \"Who is the best software engineer out of the candidates?\""
      ]
    },
    {
      "cell_type": "code",
      "execution_count": 38,
      "metadata": {
        "id": "i6LnkQgz-CpO"
      },
      "outputs": [
        {
          "name": "stdout",
          "output_type": "stream",
          "text": [
            "page_content='and India.\\n- Used Java, Spring, Hibernate, RPC, SOA, JSP, MVC\\nDeveloper Portal - Maintained the application ingestion workflow at\\ndeveloper.amazon.com/appsandservices. Team size of 20\\nincluding 2 QA engineers. Worked with remote teams in Seattle and India.\\n- Used Java, Spring, Hibernate, RPC, SOA, JSP, MVC\\nL-3 Communications\\nSoftware Engineer Intern\\nJune 2011\\xa0-\\xa0September 2012\\xa0 (1 year 4 months)\\nSan Diego, CA\\nDesigned and devloped frontend applications for interacting with Matlab/'\n",
            "page_content='Node,\\nDynamoDB,\\nSNS,\\nOracle\\nPL/SQL, \\nS3,\\nSASS,\\nBootstrap,\\nRedux,\\nServerless\\nFramework,\\nPDF-lib,\\nNode\\nmailer ,\\nJest,\\nSinon,\\nJenkins/Cloudbees, \\nGithub,\\nJira,\\nLucid\\nchart,\\nV isio,\\nElectronJs,\\nand\\nmore. \\n●\\nT aught\\njunior\\ndevelopers\\nbest\\npractices\\nsuch\\nas\\nDR Y ,\\nnaming\\nconventions,\\nDevOps\\nbranching\\nstrategies, \\ndebugging,\\ndocumentation,\\nsystem\\ndesign\\ndiagrams\\netc\\nto\\nachieve\\nthe\\nhighest\\ncoding\\nstandard'\n",
            "page_content='• Received Value Recognition Award in 2021 for ensuring a smooth migration\\nof our online applications to a new customer support portal\\n• Received Value Recognition Award in 2022 for modernizing an out of support\\ncomputation cluster and migrating it to the cloud\\nAmazon\\nSoftware Development Engineer\\nSeptember 2013\\xa0-\\xa0July 2015\\xa0 (1 year 11 months)\\nIrvine, CA\\nWork on developer services to support the Amazon Appstore.\\nPast projects:'\n"
          ]
        }
      ],
      "source": [
        "docs = docsearch.similarity_search(query, k=3)\n",
        "docs # this is a list of chunks"
      ]
    },
    {
      "cell_type": "markdown",
      "metadata": {
        "id": "s979yBCI-U7g"
      },
      "source": [
        "## Creating a LLM Model Wrapper"
      ]
    },
    {
      "cell_type": "code",
      "execution_count": 44,
      "metadata": {
        "id": "zDoLPwtX-QLm"
      },
      "outputs": [],
      "source": [
        "llm = OpenAI()"
      ]
    },
    {
      "cell_type": "code",
      "execution_count": 45,
      "metadata": {
        "id": "f8VAKerY-Wq-"
      },
      "outputs": [],
      "source": [
        "# create the chain to answer questions. llm is openai. chain_type \"stuff\" means to fill, meaning it takes a list of documents and inserts them into a prompt to pass to the llm. This chain is well-suited for applications where documents are small and only a few are passed in for most calls. retriever is the pinecone vectordb.\n",
        "qa = RetrievalQA.from_chain_type(llm=llm, chain_type=\"stuff\", retriever=docsearch.as_retriever())"
      ]
    },
    {
      "cell_type": "markdown",
      "metadata": {
        "id": "omexyHti-de2"
      },
      "source": [
        "## Q/A"
      ]
    },
    {
      "cell_type": "code",
      "execution_count": 50,
      "metadata": {
        "id": "DJ2oUzhp-eFe"
      },
      "outputs": [],
      "source": [
        "query = \"Which candidates have experience in python\""
      ]
    },
    {
      "cell_type": "code",
      "execution_count": 52,
      "metadata": {
        "colab": {
          "base_uri": "https://localhost:8080/",
          "height": 53
        },
        "id": "ZP3jsXJK-gR2",
        "outputId": "b8fecacc-544b-4c63-97cd-c600a33a36e1"
      },
      "outputs": [
        {
          "data": {
            "text/plain": [
              "{'query': 'Which candidates have experience in python',\n",
              " 'result': '\\n\\nIt is not possible to determine which candidates have experience in Python based on the given context. Some potential candidates who may have experience in Python include the software engineer intern at L-3 Communications and the developer at Google. However, without further information it is not possible to accurately determine their experience in Python.'}"
            ]
          },
          "execution_count": 52,
          "metadata": {},
          "output_type": "execute_result"
        }
      ],
      "source": [
        "qa.invoke(query)"
      ]
    },
    {
      "cell_type": "code",
      "execution_count": 55,
      "metadata": {
        "id": "0GB2q2JL-hvW"
      },
      "outputs": [],
      "source": [
        "query = \"What is Andrew Buensalida's experience\""
      ]
    },
    {
      "cell_type": "code",
      "execution_count": 56,
      "metadata": {
        "colab": {
          "base_uri": "https://localhost:8080/",
          "height": 105
        },
        "id": "iG6rokPz-ryf",
        "outputId": "72168228-5071-4ac3-d3ec-d52a981b3d54"
      },
      "outputs": [
        {
          "data": {
            "text/plain": [
              "{'query': \"What is Andrew Buensalida's experience\",\n",
              " 'result': \" Andrew Buensalida's experience includes working as a former Department of Homeland Security Lead, current High-producing, Certified Full-Stack DevOps, React, NodeJs, AWS Solutions Architect, and Database Software Engineer with over 100+ production grade apps and over 4 years of experience. He also has experience as a Director of Business Development at Libyl Inc. and as a Senior Software Engineer at Agena Bioscience.\"}"
            ]
          },
          "execution_count": 56,
          "metadata": {},
          "output_type": "execute_result"
        }
      ],
      "source": [
        "qa.invoke(query) # hallucinates. It says Andrew Buensalida was a Director or Business Development at Libyl Inc. and a Senior Software Engineer at Agena Bioscience. Sarah Uran is the Director of Business Development at Libyl Inc. Matthew Borger is the Senior Software Engineer at Agena Bioscience. Need to some how seperate the chunks based on pdf, not word count."
      ]
    },
    {
      "cell_type": "code",
      "execution_count": 83,
      "metadata": {
        "id": "JzvcwuZB-0T-"
      },
      "outputs": [],
      "source": [
        "import sys"
      ]
    },
    {
      "cell_type": "code",
      "execution_count": 40,
      "metadata": {
        "colab": {
          "base_uri": "https://localhost:8080/",
          "height": 283
        },
        "id": "mdnCaS9o-swH",
        "outputId": "c4d2230c-f6a6-4c14-b85d-3e3e622a8663"
      },
      "outputs": [
        {
          "name": "stdout",
          "output_type": "stream",
          "text": [
            "Input Prompt: what is yolo v7\n",
            "Answer:  YOLOv7 is a real-time object detector which surpasses all known object detectors in both speed and accuracy. It has the highest accuracy of 56.8% AP among all known detectors and can run from 5 FPS to 160 FPS.\n",
            "Input Prompt: tell me about Rechel Green\n",
            "Answer:  Rachel Green is a PhD in English from the University of Illinois at Urbana-Champaign. Her dissertation title was “Down on the Farm: World War One and the Emergence of Literary Modernism in the American South.” She also has a MA in English and was awarded a Summer Research Grant, a Graduate College Conference Travel Grant, Most Outstanding Butler Woman, and an Academic Scholarship. She has published extensively and has given multiple conference presentations.\n",
            "Input Prompt: exit\n",
            "Exiting\n"
          ]
        },
        {
          "ename": "SystemExit",
          "evalue": "ignored",
          "output_type": "error",
          "traceback": [
            "An exception has occurred, use %tb to see the full traceback.\n",
            "\u001b[0;31mSystemExit\u001b[0m\n"
          ]
        },
        {
          "name": "stderr",
          "output_type": "stream",
          "text": [
            "/usr/local/lib/python3.10/dist-packages/IPython/core/interactiveshell.py:3561: UserWarning: To exit: use 'exit', 'quit', or Ctrl-D.\n",
            "  warn(\"To exit: use 'exit', 'quit', or Ctrl-D.\", stacklevel=1)\n"
          ]
        }
      ],
      "source": [
        "# This is just to make it a cli app.\n",
        "while True:\n",
        "  user_input = input(f\"Input Prompt: \")\n",
        "  if user_input == 'exit':\n",
        "    print('Exiting')\n",
        "    sys.exit()\n",
        "  if user_input == '':\n",
        "    continue\n",
        "  result = qa({'query': user_input})\n",
        "  print(f\"Answer: {result['result']}\")"
      ]
    }
  ],
  "metadata": {
    "colab": {
      "provenance": []
    },
    "kernelspec": {
      "display_name": "Python 3",
      "name": "python3"
    },
    "language_info": {
      "codemirror_mode": {
        "name": "ipython",
        "version": 3
      },
      "file_extension": ".py",
      "mimetype": "text/x-python",
      "name": "python",
      "nbconvert_exporter": "python",
      "pygments_lexer": "ipython3",
      "version": "3.11.0"
    }
  },
  "nbformat": 4,
  "nbformat_minor": 0
}
