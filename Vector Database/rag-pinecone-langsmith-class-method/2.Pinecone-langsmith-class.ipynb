{
  "cells": [
    {
      "cell_type": "markdown",
      "metadata": {
        "id": "DVI3tJKR4naq"
      },
      "source": [
        "## Install All the Required Packages"
      ]
    },
    {
      "cell_type": "code",
      "execution_count": null,
      "metadata": {
        "colab": {
          "base_uri": "https://localhost:8080/"
        },
        "id": "3APQ7Sdk2H2A",
        "outputId": "d20a61cf-919f-4dc8-cf95-ec4838de2279"
      },
      "outputs": [],
      "source": [
        "# # installing modules this way is not recommended because it installs it globally. Better to use requirements.txt\n",
        "# !pip install langchain\n",
        "# !pip install pinecone-client\n",
        "# !pip install pypdf\n",
        "# !pip install openai\n",
        "# !pip install tiktoken"
      ]
    },
    {
      "cell_type": "markdown",
      "metadata": {
        "id": "3WNrsq005Oa5"
      },
      "source": [
        "## Import All the Required Libraries"
      ]
    },
    {
      "cell_type": "code",
      "execution_count": 2,
      "metadata": {
        "id": "QadipyWC5FeA"
      },
      "outputs": [],
      "source": [
        "from langchain.document_loaders import PyPDFDirectoryLoader\n",
        "from langchain.text_splitter import RecursiveCharacterTextSplitter\n",
        "from langchain_openai import OpenAIEmbeddings"
      ]
    },
    {
      "cell_type": "markdown",
      "metadata": {
        "id": "Jt3yEYqk5l1G"
      },
      "source": [
        "## Load the PDF Files"
      ]
    },
    {
      "cell_type": "code",
      "execution_count": null,
      "metadata": {
        "id": "5aPGq0qI5Fbc"
      },
      "outputs": [],
      "source": [
        "# !mkdir pdfs"
      ]
    },
    {
      "cell_type": "code",
      "execution_count": null,
      "metadata": {
        "colab": {
          "base_uri": "https://localhost:8080/"
        },
        "id": "717PStbq5FZN",
        "outputId": "77cf9446-0113-4532-abee-25a4fb03f506"
      },
      "outputs": [],
      "source": [
        "# # Have to pip install gdown before this\n",
        "# !gdown 1hPQlXrX8FbaYaLypxTmeVOFNitbBMlEE -O pdfs/yolov7paper.pdf\n",
        "# !gdown 1vILwiv6nS2wI3chxNabMgry3qnV67TxM -O pdfs/rachelgreecv.pdf\n",
        "# # It errors with 'wget' is not recognized as an internal or external command, operable program or batch file. It might work on linux/mac. If windows, see below.\n"
      ]
    },
    {
      "cell_type": "markdown",
      "metadata": {},
      "source": [
        "In Windows, in WSL\n",
        "cd into /mnt/c/swe/code/Complete-Generative-AI-Course-on-YouTube\n",
        "then\n",
        "\n",
        ".venv/Scripts/gdown.exe 1hPQlXrX8FbaYaLypxTmeVOFNitbBMlEE -O pdfs/yolov7paper.pdf\n",
        "\n",
        "But it errors with \n",
        "\n",
        "FileNotFoundError: [WinError 3] The system cannot find the path specified: 'pdfs/yolov7paper.pdf'\n",
        "\n",
        "Maybe the pdfs are only available to the tutor, so just use your own pdf, like a resume or something, and put it in the pdfs folder."
      ]
    },
    {
      "cell_type": "markdown",
      "metadata": {
        "id": "l9G_3VNU523F"
      },
      "source": [
        "## Extract the Text from the PDF's"
      ]
    },
    {
      "cell_type": "code",
      "execution_count": 3,
      "metadata": {
        "id": "bLAl0c4o51Et"
      },
      "outputs": [],
      "source": [
        "loader = PyPDFDirectoryLoader(\"pdfs\")\n",
        "data = loader.load()"
      ]
    },
    {
      "cell_type": "code",
      "execution_count": 4,
      "metadata": {
        "colab": {
          "base_uri": "https://localhost:8080/"
        },
        "id": "EULIR0lq58_l",
        "outputId": "3a30fbb4-2eeb-4e6a-f1d6-33a9058ca3c5"
      },
      "outputs": [
        {
          "name": "stdout",
          "output_type": "stream",
          "text": [
            "11\n"
          ]
        },
        {
          "data": {
            "text/plain": [
              "[Document(metadata={'source': 'pdfs\\\\Andrew_Buensalida_Resume.pdf', 'page': 0}, page_content='A n d r e w\\nB u e n s a l i d a\\nPortfolio:\\nwww .anhonestobserver .com\\n●\\n661-964-9268\\n●\\nSan\\nDiego,\\nCA \\nandrewcbuensalida@gmail.com\\n●\\nlinkedin.com/in/andrewcbuensalida\\n●\\ngithub.com/andrewcbuensalida\\nSummary\\nFormer\\nDepartment\\nof\\nHomeland\\nSecurity\\nLead,\\nCurrent\\nHigh-producing,\\nCertified\\nFull-Stack\\nDevOps,\\nReact, \\nNodeJs,\\nA WS\\nSolutions\\nArchitect,\\nand\\nDatabase\\nSoftware\\nEngineer\\nwith\\nover\\n100+\\nproduction\\ngrade\\napps\\nand\\nover \\n4\\nyears\\nof\\nexperience\\nT echnical\\nSkills\\nAmazon\\nW eb\\nServices,\\nAndroid,\\nApache\\nAirflow ,\\nA ws\\nAmplify ,\\nA ws\\nApi\\nGateway ,\\nA ws\\nAurora,\\nA ws\\nCertificate\\nManager , \\nA ws\\nCloudfront,\\nA ws\\nCode\\nPipeline,\\nA ws\\nDynamodb,\\nA ws\\nEc2,\\nA ws\\nEcr ,\\nA ws\\nEcs,\\nA ws\\nEks,\\nA ws\\nElastic\\nBeanstalk,\\nA ws \\nLambda,\\nA ws\\nLoad-balancer ,\\nA ws\\nRoute\\n53,\\nA ws\\nS3,\\nA ws\\nSam,\\nA ws\\nSns,\\nA ws\\nVpc,\\nAxios,\\nBeautiful\\nSoup,\\nBootstrap, \\nChakra-ui,\\nCi/cd,\\nCryptojs,\\nD3,\\nDbeaver ,\\nDjango,\\nDocker ,\\nEjs,\\nElectronjs,\\nEnzyme,\\nExpress,\\nFirebase,\\nFlask,\\nFormik,\\nGit, \\nGithub\\nActions,\\nGoogle\\nAds,\\nGoogle\\nAssistant,\\nGoogle\\nCloud\\nPlatform,\\nGraphql,\\nHandlebars,\\nHeroku,\\nHostgator ,\\nHtml/css, \\nJava,\\nJavascript,\\nJenkins,\\nJest,\\nJquery ,\\nJwt,\\nKubernetes,\\nLinux,\\nLucid\\nChart,\\nLucidchart,\\nMaterial\\nUi,\\nMaven,\\nMinio, \\nMongodb,\\nMongoose,\\nMs\\nSql\\nServer ,\\nMvc,\\nMysql,\\nNeo4j,\\nNestJs,\\nNginx,\\nNgrok,\\nNodejs,\\nNodemailer ,\\nOracle\\nDb,\\nPdf-lib, \\nPhp,\\nPostgres,\\nPuppeteer ,\\nPython,\\nRabbitmq,\\nReact\\nFinancial\\nCharts,\\nReact\\nHook\\nForm,\\nReact\\nNative,\\nReact\\nNavigation, \\nReact\\nRouter ,\\nReact\\nT able,\\nReact\\nT esting\\nLibrary ,\\nReact,\\nRedis,\\nRedux,\\nResponsive,\\nScss,\\nSelenium,\\nSequelize,\\nServerless \\nFramework,\\nSinon,\\nSocket.io,\\nSpring\\nBoot,\\nSqlite,\\nSsl,\\nStripe,\\nSwagger ,\\nT ailwind,\\nT wilio,\\nT ypeorm,\\nT ypescript,\\nUser \\nAuthentication,\\nV isio,\\nV ue,\\nW eb\\nScraping,\\nW ebsockets,\\nW ordpress,\\nY up,\\nand\\nmore…\\nProfessional\\nExperience\\nPersonal\\nProjects\\n–\\nSoftware\\nEngineer .\\nSan\\nDiego,\\nCA\\n5/23-Present \\n●\\nT ook\\ninitiative\\nin\\nbuilding\\nand\\ndeploying\\nmultiple\\napps\\nwith\\na\\nvariety\\nof\\ntech\\nstacks,\\nsuch\\nas: \\n○\\nCoding\\ncurriculum\\nmanagement.\\nA\\nwebsite\\nthat\\nmanages\\nstudents,\\ncoding\\ncourses,\\nand\\nlessons.\\nStack: \\nD3\\ndata\\nvisualization,\\nNeo4j,\\nJava,\\nMaven,\\nSpring\\nBoot,\\nNodeJs,\\nExpress,\\nReact \\n○\\nNestJs\\nT ask\\nT racker\\nand\\nUser\\nAuthorization.\\nStack:\\nNestJs,\\nT ypescript,\\nA WS\\nElastic\\nBeanstalk,\\nMySQL \\n○\\nAirflow\\ntask\\nautomation\\nStack:\\nA WS\\ns3,\\nPostgreSQL,\\nPython,\\nDocker ,\\nMinio \\n○\\nT witter\\nClone\\nStack:\\nSequelize,\\nNodeJs,\\nPostgres,\\nDocker \\n○\\nPython\\nAutomation\\nW eb\\nScraping\\nEmail,\\nT ed\\nT alk\\nV ideo\\ndownloader .\\nStack:\\nA WS\\nCloudfront\\nCDN \\n○\\nProduct\\nLiker\\n.\\nStack:\\nRabbitmq,\\nNode.js,\\nT ypeorm,\\nMySQL,\\nMongoDB. \\n○\\nMessenger .\\nStack:\\nRedis,\\nReact,\\nchakra-ui,\\nFormik,\\nSocket.io,\\nNodeJS,\\nPostgres,\\nJWT \\n○\\nLightfeather\\nsupervisor\\nnotification.\\nStack:\\nReact,\\nA WS\\nECS/ECR,\\nEKS\\nKubernetes,\\nNodeJs,\\nExpress\\nHarmonia\\nHoldings/Department\\nof\\nHomeland\\nSecurity\\n–\\nSoftware\\nEngineer\\n.Blacksburg,\\nV A\\n6/22-5/23 \\n●\\nRanked\\nwithin\\nthe\\ntop\\n3\\nproducers\\nweek\\nafter\\nweek.\\nRanking\\nis\\nbased\\non\\nGithub\\ncontributions\\nsuch\\nas\\ncode \\nreviews,\\ncommits,\\nand\\nnumber\\nof\\nJira\\ntickets\\nresolved. \\n●\\nLed\\nthe\\n“Dream\\nteam”\\nto\\nits\\nfirst\\nsuccessful\\nproduction\\nrelease.\\nFeatures\\ninclude\\nemail\\nnotifications,\\npolling\\nfor \\nauto\\nrefresh,\\nconstructing\\nAPI\\nendpoints,\\nReact\\ntables,\\narchitecture\\ndiagrams,\\nuploading\\nand\\ndownloading\\nlarge \\nfiles,\\nPDF\\nrendering,\\nsignature\\ncapture,\\nand\\nmore. \\n●\\nStack\\n:\\nReact,\\nT ypescript,\\nReact\\nHook\\nForm,\\nReact\\nT able,\\nA WS,\\nLambda,\\nNode,\\nDynamoDB,\\nSNS,\\nOracle\\nPL/SQL, \\nS3,\\nSASS,\\nBootstrap,\\nRedux,\\nServerless\\nFramework,\\nPDF-lib,\\nNode\\nmailer ,\\nJest,\\nSinon,\\nJenkins/Cloudbees, \\nGithub,\\nJira,\\nLucid\\nchart,\\nV isio,\\nElectronJs,\\nand\\nmore. \\n●\\nT aught\\njunior\\ndevelopers\\nbest\\npractices\\nsuch\\nas\\nDR Y ,\\nnaming\\nconventions,\\nDevOps\\nbranching\\nstrategies, \\ndebugging,\\ndocumentation,\\nsystem\\ndesign\\ndiagrams\\netc\\nto\\nachieve\\nthe\\nhighest\\ncoding\\nstandard'),\n",
              " Document(metadata={'source': 'pdfs\\\\Andrew_Buensalida_Resume.pdf', 'page': 1}, page_content='●\\nShowcased\\ngreat\\nwork\\nethic\\nby\\nworking\\nextra\\nhours\\nover\\nthe\\nweekend,\\nnever\\nbeing\\nlate\\nto\\nmeetings,\\nresponding \\nquickly\\nto\\nemails\\nand\\nchat\\nmessages,\\nbeing\\ndetail\\noriented\\ndoing\\nadministrative\\nduties\\nwith\\nJira\\ntickets,\\netc. \\n●\\nCut\\nCI/CD\\ntime\\nto\\na\\nthird\\nby\\noptimizing\\nJenkins\\nconfigurations \\n●\\nAchieved\\n100%\\ntest\\ncoverage\\nwith\\nJest/React\\nT esting\\nLibrary \\n●\\nSet-up\\nSNS\\nemail\\nalerts\\nto\\nreduce\\nA WS\\nlambda\\noutage\\ndowntime \\n●\\nAnalyzed\\nA WS\\nCloudW atch\\nlogs\\nto\\ndebug\\nserver-side\\nissues\\nquickly \\n●\\nStreamlined\\ndummy\\ndata\\ncreation\\nwith\\nOracle\\nSQL\\nscripts\\nand\\nDBeaver \\n●\\nAcquired\\ncertification\\nin\\ngovernment\\ncyber\\nsecurity\\nbest\\npractices\\nAutoscribe\\n–\\nSoftware\\nEngineer\\n.\\nSan\\nJose,\\nCA\\n4/20-6/22 \\n●\\nBuilt\\nand\\ndeployed\\nover\\n30+\\napps\\nwith\\na\\nvariety\\nof\\ntech\\nstacks \\n●\\nDecreased\\ndevelopment\\ntime\\nby\\n75%\\nby\\nmigrating\\nFirebase\\nfunctions\\nto\\na\\nNode/Express\\nserver \\n●\\nImplemented\\nconversation\\nworkflow\\nto\\nsave\\nmedical\\nand\\nemployee\\nactivities\\nto\\na\\nFirestore\\nnoSQL\\ndatabase \\n●\\nEnsured\\napp\\nfunctionality\\nmet\\nthe\\nstandards\\nof\\nGoogle\\nAction\\nprivacy\\npolicies \\n●\\nStack:\\nReact,\\nRedux,\\nT ypescript,\\nNode,\\nExpress,\\nA WS,\\nGoogle\\nCloud\\nPlatform\\n(GCP),\\nLambda,\\nMongoDB, \\nFirestore,\\nDynamoDB,\\nPostgreSQL,\\nT wilio,\\nAmplify ,\\nCognito,\\nReact\\nNative,\\nGraphQL,\\nNginx,\\nEC2,\\nCode\\nPipeline, \\nGithub,\\nHeroku,\\nT ailwind,\\nBootstrap,\\nMaterialUI,\\nJest,\\nGraphQL,\\nCrypto\\nCoin\\nAPIs,\\nReact\\nfinancial\\ncharts,\\nElastic \\nBeanstalk,\\nFormik,\\nY up,\\nEJS,\\nElectronJS,\\nLinux,\\nPuppeteer ,\\nSelenium,\\nStripe,\\nand\\nmore.\\nV arious\\nstart-ups\\n–\\nFounder\\n.\\nInternational\\n1/09-6/17 \\n●\\nV entured\\ninto\\nmultiple\\nbusinesses\\nsuch\\nas\\nEscape\\nRooms,\\nRestaurants,\\nOnline\\nsales,\\nT ennis,\\nMusic\\nProduction\\nEducation\\nMIT\\n(Massachusetts\\nInstitute\\nof\\nT echnology)\\nData\\nEngineering,\\nBoston,\\nMA\\n03/2024 \\nA WS\\nSolutions\\nArchitect\\nAssociate\\nhttps://www .credly .com/badges/ca03d53d-ebf3-4b3c-8d46-9aafbca87f5a/public_url \\nFront-end\\nDevelopment\\nCertificate\\nW3\\nSchools\\nhttps://verify .w3schools.com/1OC1C530WR \\nReact\\nCertificate\\nW3\\nSchools\\nhttps://verify .w3schools.com/1OBZNTHS9T \\nJavascript\\nCertificate\\nW3\\nSchools\\nhttps://verify .w3schools.com/1OC1C4T186 \\nCSS\\nCertificate\\nW3\\nSchools\\nhttps://verify .w3schools.com/1OBZV76UO7 \\nHTML\\nCertificate\\nW3\\nSchools\\nhttps://verify .w3schools.com/1OC0N6KOL7 \\nT ypescript\\nCertificate\\nW3\\nSchools\\nhttps://verify .w3schools.com/1OC16XQBHI \\nSQL\\nCertificate\\nW3\\nSchools\\nhttps://verify .w3schools.com/1OC9607E00 \\nPython\\nCertificate\\nW3\\nSchools\\nhttps://verify .w3schools.com/1OC9A13HFM \\nUS\\ngovernment\\ncyber\\nsecurity\\ncertifications\\n6/22 \\nOnline\\nJob\\nBoard\\nAssessments\\nSan\\nJose,\\nCA\\n4/22 \\n●\\nScored\\ntop\\n7%\\nin\\nAngelList\\nfront-end\\nweb\\nassessment,\\ntop\\n1 1%\\nin\\nback-end,\\nand\\ntop\\n15%\\nin\\nfull-stack \\n●\\nScored\\ntop\\n5-30%\\nin\\nLinkedIn\\n12+\\nLinkedIn\\nskills\\nincluding\\nJavascript,\\nReact,\\nA WS,\\nGit,\\netc. \\nScrimba\\nReact\\nBootcamp\\nRemote\\n2021 \\nSpokane\\nCommunity\\nCollege\\nSpokane,\\nW A\\n6/19-4/21 \\n●\\n3.9/4.0\\nscience\\nGP A \\nSan\\nDiego\\nCommunity\\nColleges\\nSan\\nDiego,\\nCA\\n6/17-4/19 \\n●\\n4.0/4.0\\nscience\\nGP A \\n●\\nDean’ s\\nList \\nUniversity\\nof\\nCalifornia,\\nSanta\\nBarbara\\nSanta\\nBarbara,\\nCA\\n9/07-1/09 \\nDe\\nLaSalle\\nUniversity ,\\nComputer\\nScience\\nManila,\\nPH\\n6/04-1/05'),\n",
              " Document(metadata={'source': 'pdfs\\\\BlueRose_Referral Contract.pdf', 'page': 0}, page_content=' \\n \\n \\nBlue Rose Technologies LLC, 7950 NW 53rd Street, Suite 337,  \\nMiami FL, 33166, USA  www.bluerose -tech.com  \\n Blue Rose Technologies LLC   \\n7950 NW 53rd Street, Suite 337,  \\nMiami FL, 33166, USA  \\nwww.bluerose -tech.com  \\n \\nCONSULTANT RIGHT TO REPRESENT AGREEMENT  \\n \\nThis agreement is made  by and between Blue  Rose Technologies LLC (BLUEROSE)  with its primary business \\nlocation at 7950 NW 53rd Street, Suite 337 Miami, FL 33166  and Applicant (henceforth, referred to  as \\n\"Consultant”).  \\n \\nObjective:  This agreement bestows BlueRose  with the Right to Represent the Consultant to promote and blend \\nmeasures to discover career placement prospects. This authorization shall initiate immediately on the date of \\nsubmission of this BlueRose  application.  \\n \\nBlueRose consents to the below -mentioned terms:  \\n \\nServices:  BlueRose conforms to employ its soundest measures to furnish a designation that best fulfils the \\nConsultant\\'s requirements. BlueRose  list of services will comprise screening, solicitation, and analysis of career \\npossibilities. BlueRose  will engage its most promising endeavors  to acquire detailed attributes on all \\nconsidered/available placements that, in the view of BlueRose , will best suit the Consultant’s skills.  \\n \\nConsultant agrees to the subsequent terms:  \\n \\n1. Authorization : The Consultant authorizes BlueRose  to advance their resume and represent their \\ncandidature for all jobs for which the Consultant is qualified. BlueRose  clients incorporate the general \\ncontractor as well as the ultimate site for which the Consultant will operate.  \\n \\n2. Permissions : By endowing approval to BlueRose  to present the Consultant for a specific position, the \\nConsultant thus proclaims that they have not consciously been presented nor have they granted consent \\nfor submission of their resume to the hiring institution via any different parties, nor endowed pe rmission \\nto any other agent, whosoever it might be, to submit them for the exact same position . Also, the candidate \\nwill not permit or authorize any other representative to submit him/her as a candidate for this  position after \\nsuch time Consultant has approved submission through BlueRose . \\n \\n3. Understandings : The consultant understands that this agreement in no way does form an offer or a contract \\nof employment. If an offer of employment is to be extended, the same will be done in a separate series of \\ndocumentation by an authorized representative of BlueRose . \\n \\n4. BlueRose will assist the consultant with various services cited above, which will finally lead to employment \\nfor them to work at our client/prime vendors’ W2.  \\n \\na. Direct Hire Positions: Incase, the consultant has got to work on prime vendor/client’s W2, then the \\nConsultant agrees to pay _10_% of the annual gross salary in recurring Auto Debit Method . \\n \\nb. For Full Time/W2 roles, Candidate needs to pay $1 500 upfront to BlueRose once he receives an \\nOffer Letter & $5000 after successfully joining the Full Time position  with the client . \\n \\nc. Contract/Corp -to-Corp /1099  Positions : The Consultant will be paid Flat 80% on 1099 or a Flat 80%  \\nto their corporation . \\n \\nd. If Consultant needs any additional support, there will be a base fee of $ 600 & will be charged in \\nthe first installment.  \\n \\n5. BlueRose  will be charging the payment as per the pay calendar of the consultant.  \\n \\n '),\n",
              " Document(metadata={'source': 'pdfs\\\\BlueRose_Referral Contract.pdf', 'page': 1}, page_content=\" \\n \\n \\nBlue Rose Technologies LLC, 7950 NW 53rd Street, Suite 337,  \\nMiami FL, 33166, USA  www.bluerose -tech.com  \\n Blue Rose Technologies LLC   \\n7950 NW 53rd Street, Suite 337,  \\nMiami FL, 33166, USA  \\nwww.bluerose -tech.com  \\n6. Covenant to Non -Compete / Non -Interference:  It is agreed that Consultant, during BlueRose  placement \\nefforts, may come to develop certain relationships with BlueRose  clients and/or vendors which may lead to \\nan awareness of other services desired by BLUEROSE  clients and/or vendors. Consultant admits that without \\nBLUEROSE 's exposure, he or she would not be aware of the services represented.  Therefore, during the \\nperiod in which Consultant is being marketed for job opportunities by BLUEROSE  and for twelve  (12) months \\nthereafter, Consultant agrees not to approach, communicate or engage BLUEROSE  clients directly or \\nindirectly to provide like services. If BLUEROSE  finds a project and the consultant is unable to join the project \\nfor any reason, BLUEROSE  has the right to approach arbitrator to resolve the issue.  Consultant agrees, \\nacknowledges, and understands that BlueRose will expend considerable resources and goodwill in procuring \\nthe job placement for the Consultant. The Consultant further agrees, acknowledges, and understands that \\nonce the Consultant has procured the job placement if he/she fails to join the Project, the Consultant will \\nbe fully liable for damages to BlueRose . \\n \\n7. Covenant Not to Solicit:  While the Consultant is obtaining marketing advantages from BlueRose  for 12 \\nmonths immediately thereupon, Consultant consents to pay BlueRose  liquidated damages and not as a \\npenalty, if they directly or indirectly request or propose any services to BlueRose  clients. The word “Client” \\nhere refers to the direct or indirect client/vendors/companies involved in the business transaction wherein \\nthe Consultant has been introduced via BlueRose . \\n \\n8. Acceptance:  BlueRose  and Consultant hereby acknowledge  receipt of a copy of this agreement. By deciding \\nto join the BlueRose  Network and signing up for the same, the Consultant thus accepts the terms of this \\nagreement. The consultant also owns that this agreement does not vest any obligation owed to the \\nConsultant by BlueRose  and is in no manner a guarantee of employment.  \\n \\n9. BlueRose  shall market the resume furnished by the Consultant, or BlueRose  shall formulate resume, as per \\ndiscussion with the consultant, and the consultant takes full accountability for the contents of the resume. \\nThe consultant further agrees that they are eligible to lawfully work in the United States and conform to \\nprovide a ppropriate documents upon request.  Once Job placement is procured, the Consultant will sign and \\nbe bound by the attached Exhibit “A” - General Contract for Services from BlueRose  or its subsidiaries for \\nthe initial Twelve  months , which constitutes a portion  of this agreement, and which is payable by recurring \\nauto -debit method and shall be signed by the Consultant no later than the date of commencement of the \\nproject.  \\n \\n10. Arbitration:  In case of violation of the above -mentioned agreed -upon covenants, all assertions and disputes \\nemerging under or relating to this agreement are to be resolved by binding arbitration in the state of New \\nFlorida . \\n \\nI agree and confirm to use the services of BlueRose , which is assisting me in finding a project, and that I am \\ngiving my approval and complete access to marketing email / Gmail account and Google voice phone \\nnumber for the same purposes. An RTR agreement once signed by the consultant, cannot be revoked.  \\n \\n \\nSourcing Manager Name   :  ________________________  \\n \\nConsultant  Full Name   :  ________________________  \\n \\nConsultant Mobile Number  :  ________________________   \\n \\nLast 4 Digits of Consultant’s SSN  :  ________________________  \\n \\nConsultant Resident ial Address  :  ________________________  \\n \\n \\nSignature of the Consultant : ________________________   Date : _______________________ _ \\n    \"),\n",
              " Document(metadata={'source': 'pdfs\\\\matthew_borger_resume.pdf', 'page': 0}, page_content='\\xa0 \\xa0\\nContact\\n4565 Terrace Dr, San Diego, CA\\n92116\\n9095184216  (Mobile)\\nmatthew@borgerstudio.com\\nwww.linkedin.com/in/mborger\\n(LinkedIn)\\nTop Skills\\nMicroservices\\nInfrastructure Security\\nDjangoMatthew Borger\\nSenior Software Engineer with expertise in Software Infrastructure\\nand Genomic Analysis\\nSan Diego, California, United States\\nSummary\\nExperienced Software Engineer with a demonstrated history of\\nworking in the biotechnology industry. Skilled in Python, Java, C+\\n+ and Hibernate. Strong engineering professional graduated from\\nUniversity of California, San Diego. \\nExperience\\nAgena Bioscience\\nSenior Software Engineer\\nJuly 2015\\xa0-\\xa0March 2024\\xa0 (8 years 9 months)\\nSan Diego, CA\\nDeveloped genomic analysis software and instrumentation controls conforming\\nto FDA In-vitro diagnostic, CE-IVD (European Union) and NMPA (China’s\\nFDA) guidelines.\\n• Designed and built new software stack to meet regulatory guidelines allowing\\nthe company to acquire new customers, enabled the sale of our product in\\nChina, creating several partnership deals worth $100m\\n• Worked closely with scientists to analyze their procedures and optimize their\\nexperimental scripting code in Perl to a unified platform suitable for outside\\ncustomer interaction\\n• Experience mentoring and managing direct reports to prioritize tickets and\\nmaintain company roadmap. Coached junior engineers with code reviews and\\nregular training which increased development velocity\\n• Coordinated work with remote team in Romania and local contractors to keep\\nproject deliverables and utilize specialist resources not available within the\\ncompany\\n• Used Java, Spring Boot, Hibernate, React, Azure, C++\\n• Promoted from Engineer II to III in 2017\\n• Promoted from Engineer III to Senior in 2019\\n• Received Value Recognition Award in 2020 for delivering and supporting our\\nfirst Chinese customer through their regulatory approval of our software and\\ninstrumentation\\n\\xa0 Page 1 of 3'),\n",
              " Document(metadata={'source': 'pdfs\\\\matthew_borger_resume.pdf', 'page': 1}, page_content='\\xa0 \\xa0\\n• Received Value Recognition Award in 2021 for ensuring a smooth migration\\nof our online applications to a new customer support portal\\n• Received Value Recognition Award in 2022 for modernizing an out of support\\ncomputation cluster and migrating it to the cloud\\nAmazon\\nSoftware Development Engineer\\nSeptember 2013\\xa0-\\xa0July 2015\\xa0 (1 year 11 months)\\nIrvine, CA\\nWork on developer services to support the Amazon Appstore.\\nPast projects:\\nMobile Analytics - Built a REST api for managing your AWS Mobile Analytics\\naccount. Team size of 16 including one test engineer.\\n- Used Java, Spring, Hibernate, REST, RPC, SOA\\nLive App Testing - Built a system to publish Android applications through\\nAmazon’s production system while restricting access to\\nonly the people the developer had invited to test. Team size of 6 including one\\nQA engineer. Worked with remote teams in Seattle\\nand India.\\n- Used Java, Spring, Hibernate, RPC, SOA, JSP, MVC\\nDeveloper Portal - Maintained the application ingestion workflow at\\ndeveloper.amazon.com/appsandservices. Team size of 20\\nincluding 2 QA engineers. Worked with remote teams in Seattle and India.\\n- Used Java, Spring, Hibernate, RPC, SOA, JSP, MVC\\nL-3 Communications\\nSoftware Engineer Intern\\nJune 2011\\xa0-\\xa0September 2012\\xa0 (1 year 4 months)\\nSan Diego, CA\\nDesigned and devloped frontend applications for interacting with Matlab/\\nSimulink simulations of various injuries. The product team was 12 Medical/\\nEngineering PhDs with 2 software developers.\\nProjects included:\\n\\xa0 Page 2 of 3'),\n",
              " Document(metadata={'source': 'pdfs\\\\matthew_borger_resume.pdf', 'page': 2}, page_content='\\xa0 \\xa0\\nBuilt a Windows deskotp application for blunt force trauma simulation that\\nmodified vector graphics in real time.\\n- Used C#, XAML\\nBuilt an Excel addin to allow easier manipulation of an internal dataset file\\nformat.\\n- Used C#, Visual Basic, COM interops\\nDeveloped an Android tablet application frontend for simulating toxic gas\\nexposures.\\n- Used Java, Android SDK\\nFixed issues with transitioning legacy code from an unmaintained internal file\\nformat to HDF.\\n- Used Fortran, C++\\nUC San Diego\\nCSE Tutor\\nSeptember 2010\\xa0-\\xa0March 2011\\xa0 (7 months)\\nSan Diego, CA\\nAssisted in teaching lab sections, led group discussions during lecture and\\nhosted open lab hours for students to come for assistance.\\nEducation\\nUniversity of California, San Diego\\nComputer Engineering\\xa0 \\xa0·\\xa0(2009\\xa0-\\xa02013)\\n\\xa0 Page 3 of 3'),\n",
              " Document(metadata={'source': 'pdfs\\\\sarah_uran_resume.pdf', 'page': 0}, page_content=\"\\xa0 \\xa0\\nContact\\nsarahelizabethuran@gmail.co\\nm\\nwww.linkedin.com/in/sarahuran\\n(LinkedIn)\\nTop Skills\\nBuild Strong Relationships\\nCRM Software\\nBusiness PlanningSarah Uran\\nScience Communicator | Director of Business Development\\n| Neurobiology | Ecology | Microscopy | Research Scientist |\\nBiotechnology Startups | Public Speaker\\nLa Jolla Shores, California, United States\\nSummary\\nI hold a Bachelor's degree in Neurobiology from the University\\nof California San Diego, blending two years of hands-on wet\\nlab research with nine years deeply engaged in scientific\\ncommunication. My journey has delved into the intricate realms of\\nneurobiology and ecology, alongside meaningful contributions to\\nanimal welfare initiatives, including volunteering at the San Diego\\nZoo and collaborating with various nonprofits. Notably, my dedication\\nto environmental conservation earned me the prestigious Girl Scout\\nGold Award during an internship at the Water Conservation Garden.\\nMy expertise extends beyond the confines of laboratory equipment\\nto include the art of compelling storytelling. While I've mastered\\nmicroscopy techniques and crafted intricate fiber photometry and\\noptogenetic systems, I've also dedicated time to refining my public\\nspeaking skills through regular engagements with local communities.\\nThese engagements not only foster personal and professional\\ndevelopment but also underscore my commitment to knowledge\\ndissemination and community empowerment.\\nIn my current capacity as Director of Business Development, I\\nlead a dynamic team of eight, spearheading strategic initiatives\\nand nurturing robust client relationships. My affable demeanor and\\nadeptness in relationship-building have proven instrumental in\\ndriving engagement and fostering long-lasting connections.\\nWith an innate drive for innovation and a strategic mindset, I\\nseamlessly navigate the intersection of academia and business,\\nconsistently propelling growth and success. My holistic approach,\\nintegrating research proficiency, business acumen, and community\\nengagement, underscores my dedication to excellence across\\ndiverse professional landscapes.\\n\\xa0 Page 1 of 4\"),\n",
              " Document(metadata={'source': 'pdfs\\\\sarah_uran_resume.pdf', 'page': 1}, page_content='\\xa0 \\xa0\\nExperience\\nLibyl Inc.\\nDirector of Business Development\\nDecember 2023\\xa0-\\xa0Present\\xa0 (7 months)\\nI spearhead business expansion initiatives while also managing and\\nmentoring college interns, fostering a collaborative and growth-oriented work\\nenvironment. My multifaceted role encompasses responsibilities from targeting\\npotential clients to ensuring revenue targets are met. With a focused approach\\non the pharmaceutical, biotech, and medical device sectors, I actively foster\\nstrategic partnerships, conduct market analysis, engage in client consultations,\\nand oversee the development of our intern team.\\nNeurophotometrics LLC\\nManufacturing Associate\\nJuly 2023\\xa0-\\xa0March 2024\\xa0 (9 months)\\nSan Diego, California, United States\\nI specialize in constructing Fiber Photometry and Optogenetics machines\\nby assembling correlated subassemblies and testing accessories. Proficient\\nin CAD+, Bonsai, soldering, and 3D printing, my expertise lies in precision\\nengineering and equipment maintenance. Conducting rigorous quality control\\nand testing on fibers, I contribute to supplying research labs worldwide with the\\nessential tools, advancing the forefront of neuroscience.\\nSTARTneuro\\nResearch Fellowship\\nJuly 2021\\xa0-\\xa0June 2023\\xa0 (2 years)\\nLa Jolla Shores, California, United States\\nDifferentiate between and perform many neuroscience techniques like\\nelectrophysiology, circuits, coding, behavior, genetics, bioinformatics,\\nmicroscopy, and presenting a research poster.\\nUC San Diego\\nStudent Researcher\\nOctober 2021\\xa0-\\xa0December 2022\\xa0 (1 year 3 months)\\nLa Jolla Shores, California, United States\\nResearched in the neuroscience Hnasko lab studying neurotransmitters\\nin the mesocorticolimbic pathway of the brain. Performed rodent handling,\\nperfusions, histology, immunohistochemistry, microscopy, data analysis, and\\npresentations.\\n\\xa0 Page 2 of 4'),\n",
              " Document(metadata={'source': 'pdfs\\\\sarah_uran_resume.pdf', 'page': 2}, page_content='\\xa0 \\xa0\\nThe Water Conservation Garden\\nEducation Intern\\nAugust 2017\\xa0-\\xa0February 2020\\xa0 (2 years 7 months)\\nEl Cajon, California, United States\\nEducate, Inform, and communicate with garden guests with the goal to teach\\nguests of all ages. Handled animals and plants while multitasking and spoke to\\nguests. Cash register work, answer phone calls, processed memberships on\\nSalesforce, and provided great customer service\\nGirl Scouts of the USA\\nMember\\nAugust 2006\\xa0-\\xa0June 2019\\xa0 (12 years 11 months)\\nSan Diego, California\\nHelped troops prepare for annual girl scout cookie sales. Secured younger girl\\ninvolvement and participation in activities as an older girl scout. Participated\\nin weekly girl scout outings and meetings. Provided information resources to\\nother girls. I also completed my Gold Award.\\nSan Diego Zoo Global\\nVolunteer\\nAugust 2014\\xa0-\\xa0May 2019\\xa0 (4 years 10 months)\\nI was in a program called Zoo Corps. It is a program open for 13 to 17 year\\nolds to go into the zoo and public speak about sustainability, endangered\\nspecies, backyard habitats, and animal care.\\nSPAWAR\\nScientific Researcher \\nJuly 2017\\xa0-\\xa0January 2018\\xa0 (7 months)\\nPoint Loma, California\\nSPAWAR Navy Marine Ecology Consortium was the technical name to the\\ndepartment I was in. We researched an endangered bird that lives in San\\nDiego.\\nEducation\\nUC San Diego\\nBachelor of Science - BS,\\xa0Neurobiology and Neurosciences \\xa0·\\xa0(September\\n2021\\xa0-\\xa0June 2023)\\nGrossmont College\\n\\xa0 Page 3 of 4'),\n",
              " Document(metadata={'source': 'pdfs\\\\sarah_uran_resume.pdf', 'page': 3}, page_content='\\xa0 \\xa0\\n\\xa0·\\xa0(2017\\xa0-\\xa02019)\\n\\xa0 Page 4 of 4')]"
            ]
          },
          "execution_count": 4,
          "metadata": {},
          "output_type": "execute_result"
        }
      ],
      "source": [
        "print(len(data))\n",
        "data # list of \"documents\". each page in a pdf is a \"document\""
      ]
    },
    {
      "cell_type": "markdown",
      "metadata": {
        "id": "dhCeKVOs6AKH"
      },
      "source": [
        "## Split the Extracted Data into Text Chunks"
      ]
    },
    {
      "cell_type": "code",
      "execution_count": 5,
      "metadata": {
        "id": "8TZQWLG8595f"
      },
      "outputs": [],
      "source": [
        "text_splitter = RecursiveCharacterTextSplitter(\n",
        "    chunk_size=500,\n",
        "    chunk_overlap=20,\n",
        "    # separators=[\n",
        "    #     \"c, CE-IVD (Europe\"\n",
        "    # ],  # this doesn't seem to work the way that I expected. According to https://dev.to/eteimz/understanding-langchains-recursivecharactertextsplitter-2846, It takes in the large text then tries to split it by the first character \\n\\n. If the first split by \\n\\n is still large then it moves to the next character which is \\n and tries to split by it. If it is still larger than our specified chunk size it moves to the next character in the set until we get a split that is less than our specified chunk size. It may not be splitting the text at \"c, CE-IVD (Europe\" because the chunk could fit within the default chunk_size.\n",
        "    keep_separator=True,\n",
        ")  # this needs to split the data by pdf, not chunk_size"
      ]
    },
    {
      "cell_type": "code",
      "execution_count": 6,
      "metadata": {
        "id": "J8ugXa2M6IRG"
      },
      "outputs": [
        {
          "data": {
            "text/plain": [
              "[Document(metadata={'source': 'pdfs\\\\Andrew_Buensalida_Resume.pdf', 'page': 0}, page_content='A n d r e w\\nB u e n s a l i d a\\nPortfolio:\\nwww .anhonestobserver .com\\n●\\n661-964-9268\\n●\\nSan\\nDiego,\\nCA \\nandrewcbuensalida@gmail.com\\n●\\nlinkedin.com/in/andrewcbuensalida\\n●\\ngithub.com/andrewcbuensalida\\nSummary\\nFormer\\nDepartment\\nof\\nHomeland\\nSecurity\\nLead,\\nCurrent\\nHigh-producing,\\nCertified\\nFull-Stack\\nDevOps,\\nReact, \\nNodeJs,\\nA WS\\nSolutions\\nArchitect,\\nand\\nDatabase\\nSoftware\\nEngineer\\nwith\\nover\\n100+\\nproduction\\ngrade\\napps\\nand\\nover \\n4\\nyears\\nof\\nexperience\\nT echnical\\nSkills\\nAmazon\\nW eb\\nServices,\\nAndroid,\\nApache'),\n",
              " Document(metadata={'source': 'pdfs\\\\Andrew_Buensalida_Resume.pdf', 'page': 0}, page_content='Android,\\nApache\\nAirflow ,\\nA ws\\nAmplify ,\\nA ws\\nApi\\nGateway ,\\nA ws\\nAurora,\\nA ws\\nCertificate\\nManager , \\nA ws\\nCloudfront,\\nA ws\\nCode\\nPipeline,\\nA ws\\nDynamodb,\\nA ws\\nEc2,\\nA ws\\nEcr ,\\nA ws\\nEcs,\\nA ws\\nEks,\\nA ws\\nElastic\\nBeanstalk,\\nA ws \\nLambda,\\nA ws\\nLoad-balancer ,\\nA ws\\nRoute\\n53,\\nA ws\\nS3,\\nA ws\\nSam,\\nA ws\\nSns,\\nA ws\\nVpc,\\nAxios,\\nBeautiful\\nSoup,\\nBootstrap, \\nChakra-ui,\\nCi/cd,\\nCryptojs,\\nD3,\\nDbeaver ,\\nDjango,\\nDocker ,\\nEjs,\\nElectronjs,\\nEnzyme,\\nExpress,\\nFirebase,\\nFlask,\\nFormik,\\nGit, \\nGithub\\nActions,\\nGoogle\\nAds,'),\n",
              " Document(metadata={'source': 'pdfs\\\\Andrew_Buensalida_Resume.pdf', 'page': 0}, page_content='Google\\nAds,\\nGoogle\\nAssistant,\\nGoogle\\nCloud\\nPlatform,\\nGraphql,\\nHandlebars,\\nHeroku,\\nHostgator ,\\nHtml/css, \\nJava,\\nJavascript,\\nJenkins,\\nJest,\\nJquery ,\\nJwt,\\nKubernetes,\\nLinux,\\nLucid\\nChart,\\nLucidchart,\\nMaterial\\nUi,\\nMaven,\\nMinio, \\nMongodb,\\nMongoose,\\nMs\\nSql\\nServer ,\\nMvc,\\nMysql,\\nNeo4j,\\nNestJs,\\nNginx,\\nNgrok,\\nNodejs,\\nNodemailer ,\\nOracle\\nDb,\\nPdf-lib, \\nPhp,\\nPostgres,\\nPuppeteer ,\\nPython,\\nRabbitmq,\\nReact\\nFinancial\\nCharts,\\nReact\\nHook\\nForm,\\nReact\\nNative,\\nReact\\nNavigation, \\nReact\\nRouter ,\\nReact\\nT able,\\nReact'),\n",
              " Document(metadata={'source': 'pdfs\\\\Andrew_Buensalida_Resume.pdf', 'page': 0}, page_content='React\\nT able,\\nReact\\nT esting\\nLibrary ,\\nReact,\\nRedis,\\nRedux,\\nResponsive,\\nScss,\\nSelenium,\\nSequelize,\\nServerless \\nFramework,\\nSinon,\\nSocket.io,\\nSpring\\nBoot,\\nSqlite,\\nSsl,\\nStripe,\\nSwagger ,\\nT ailwind,\\nT wilio,\\nT ypeorm,\\nT ypescript,\\nUser \\nAuthentication,\\nV isio,\\nV ue,\\nW eb\\nScraping,\\nW ebsockets,\\nW ordpress,\\nY up,\\nand\\nmore…\\nProfessional\\nExperience\\nPersonal\\nProjects\\n–\\nSoftware\\nEngineer .\\nSan\\nDiego,\\nCA\\n5/23-Present \\n●\\nT ook\\ninitiative\\nin\\nbuilding\\nand\\ndeploying\\nmultiple\\napps\\nwith\\na\\nvariety\\nof\\ntech'),\n",
              " Document(metadata={'source': 'pdfs\\\\Andrew_Buensalida_Resume.pdf', 'page': 0}, page_content='a\\nvariety\\nof\\ntech\\nstacks,\\nsuch\\nas: \\n○\\nCoding\\ncurriculum\\nmanagement.\\nA\\nwebsite\\nthat\\nmanages\\nstudents,\\ncoding\\ncourses,\\nand\\nlessons.\\nStack: \\nD3\\ndata\\nvisualization,\\nNeo4j,\\nJava,\\nMaven,\\nSpring\\nBoot,\\nNodeJs,\\nExpress,\\nReact \\n○\\nNestJs\\nT ask\\nT racker\\nand\\nUser\\nAuthorization.\\nStack:\\nNestJs,\\nT ypescript,\\nA WS\\nElastic\\nBeanstalk,\\nMySQL \\n○\\nAirflow\\ntask\\nautomation\\nStack:\\nA WS\\ns3,\\nPostgreSQL,\\nPython,\\nDocker ,\\nMinio \\n○\\nT witter\\nClone\\nStack:\\nSequelize,\\nNodeJs,\\nPostgres,\\nDocker \\n○\\nPython\\nAutomation\\nW eb\\nScraping'),\n",
              " Document(metadata={'source': 'pdfs\\\\Andrew_Buensalida_Resume.pdf', 'page': 0}, page_content='W eb\\nScraping\\nEmail,\\nT ed\\nT alk\\nV ideo\\ndownloader .\\nStack:\\nA WS\\nCloudfront\\nCDN \\n○\\nProduct\\nLiker\\n.\\nStack:\\nRabbitmq,\\nNode.js,\\nT ypeorm,\\nMySQL,\\nMongoDB. \\n○\\nMessenger .\\nStack:\\nRedis,\\nReact,\\nchakra-ui,\\nFormik,\\nSocket.io,\\nNodeJS,\\nPostgres,\\nJWT \\n○\\nLightfeather\\nsupervisor\\nnotification.\\nStack:\\nReact,\\nA WS\\nECS/ECR,\\nEKS\\nKubernetes,\\nNodeJs,\\nExpress\\nHarmonia\\nHoldings/Department\\nof\\nHomeland\\nSecurity\\n–\\nSoftware\\nEngineer\\n.Blacksburg,\\nV A\\n6/22-5/23 \\n●\\nRanked\\nwithin\\nthe\\ntop\\n3\\nproducers\\nweek\\nafter\\nweek.\\nRanking'),\n",
              " Document(metadata={'source': 'pdfs\\\\Andrew_Buensalida_Resume.pdf', 'page': 0}, page_content='after\\nweek.\\nRanking\\nis\\nbased\\non\\nGithub\\ncontributions\\nsuch\\nas\\ncode \\nreviews,\\ncommits,\\nand\\nnumber\\nof\\nJira\\ntickets\\nresolved. \\n●\\nLed\\nthe\\n“Dream\\nteam”\\nto\\nits\\nfirst\\nsuccessful\\nproduction\\nrelease.\\nFeatures\\ninclude\\nemail\\nnotifications,\\npolling\\nfor \\nauto\\nrefresh,\\nconstructing\\nAPI\\nendpoints,\\nReact\\ntables,\\narchitecture\\ndiagrams,\\nuploading\\nand\\ndownloading\\nlarge \\nfiles,\\nPDF\\nrendering,\\nsignature\\ncapture,\\nand\\nmore. \\n●\\nStack\\n:\\nReact,\\nT ypescript,\\nReact\\nHook\\nForm,\\nReact\\nT able,\\nA WS,\\nLambda,\\nNode,\\nDynamoDB,'),\n",
              " Document(metadata={'source': 'pdfs\\\\Andrew_Buensalida_Resume.pdf', 'page': 0}, page_content='Node,\\nDynamoDB,\\nSNS,\\nOracle\\nPL/SQL, \\nS3,\\nSASS,\\nBootstrap,\\nRedux,\\nServerless\\nFramework,\\nPDF-lib,\\nNode\\nmailer ,\\nJest,\\nSinon,\\nJenkins/Cloudbees, \\nGithub,\\nJira,\\nLucid\\nchart,\\nV isio,\\nElectronJs,\\nand\\nmore. \\n●\\nT aught\\njunior\\ndevelopers\\nbest\\npractices\\nsuch\\nas\\nDR Y ,\\nnaming\\nconventions,\\nDevOps\\nbranching\\nstrategies, \\ndebugging,\\ndocumentation,\\nsystem\\ndesign\\ndiagrams\\netc\\nto\\nachieve\\nthe\\nhighest\\ncoding\\nstandard'),\n",
              " Document(metadata={'source': 'pdfs\\\\Andrew_Buensalida_Resume.pdf', 'page': 1}, page_content='●\\nShowcased\\ngreat\\nwork\\nethic\\nby\\nworking\\nextra\\nhours\\nover\\nthe\\nweekend,\\nnever\\nbeing\\nlate\\nto\\nmeetings,\\nresponding \\nquickly\\nto\\nemails\\nand\\nchat\\nmessages,\\nbeing\\ndetail\\noriented\\ndoing\\nadministrative\\nduties\\nwith\\nJira\\ntickets,\\netc. \\n●\\nCut\\nCI/CD\\ntime\\nto\\na\\nthird\\nby\\noptimizing\\nJenkins\\nconfigurations \\n●\\nAchieved\\n100%\\ntest\\ncoverage\\nwith\\nJest/React\\nT esting\\nLibrary \\n●\\nSet-up\\nSNS\\nemail\\nalerts\\nto\\nreduce\\nA WS\\nlambda\\noutage\\ndowntime \\n●\\nAnalyzed\\nA WS\\nCloudW atch\\nlogs\\nto\\ndebug\\nserver-side\\nissues\\nquickly \\n●'),\n",
              " Document(metadata={'source': 'pdfs\\\\Andrew_Buensalida_Resume.pdf', 'page': 1}, page_content='issues\\nquickly \\n●\\nStreamlined\\ndummy\\ndata\\ncreation\\nwith\\nOracle\\nSQL\\nscripts\\nand\\nDBeaver \\n●\\nAcquired\\ncertification\\nin\\ngovernment\\ncyber\\nsecurity\\nbest\\npractices\\nAutoscribe\\n–\\nSoftware\\nEngineer\\n.\\nSan\\nJose,\\nCA\\n4/20-6/22 \\n●\\nBuilt\\nand\\ndeployed\\nover\\n30+\\napps\\nwith\\na\\nvariety\\nof\\ntech\\nstacks \\n●\\nDecreased\\ndevelopment\\ntime\\nby\\n75%\\nby\\nmigrating\\nFirebase\\nfunctions\\nto\\na\\nNode/Express\\nserver \\n●\\nImplemented\\nconversation\\nworkflow\\nto\\nsave\\nmedical\\nand\\nemployee\\nactivities\\nto\\na\\nFirestore\\nnoSQL\\ndatabase \\n●\\nEnsured\\napp'),\n",
              " Document(metadata={'source': 'pdfs\\\\Andrew_Buensalida_Resume.pdf', 'page': 1}, page_content='●\\nEnsured\\napp\\nfunctionality\\nmet\\nthe\\nstandards\\nof\\nGoogle\\nAction\\nprivacy\\npolicies \\n●\\nStack:\\nReact,\\nRedux,\\nT ypescript,\\nNode,\\nExpress,\\nA WS,\\nGoogle\\nCloud\\nPlatform\\n(GCP),\\nLambda,\\nMongoDB, \\nFirestore,\\nDynamoDB,\\nPostgreSQL,\\nT wilio,\\nAmplify ,\\nCognito,\\nReact\\nNative,\\nGraphQL,\\nNginx,\\nEC2,\\nCode\\nPipeline, \\nGithub,\\nHeroku,\\nT ailwind,\\nBootstrap,\\nMaterialUI,\\nJest,\\nGraphQL,\\nCrypto\\nCoin\\nAPIs,\\nReact\\nfinancial\\ncharts,\\nElastic \\nBeanstalk,\\nFormik,\\nY up,\\nEJS,\\nElectronJS,\\nLinux,\\nPuppeteer ,\\nSelenium,\\nStripe,\\nand'),\n",
              " Document(metadata={'source': 'pdfs\\\\Andrew_Buensalida_Resume.pdf', 'page': 1}, page_content='Stripe,\\nand\\nmore.\\nV arious\\nstart-ups\\n–\\nFounder\\n.\\nInternational\\n1/09-6/17 \\n●\\nV entured\\ninto\\nmultiple\\nbusinesses\\nsuch\\nas\\nEscape\\nRooms,\\nRestaurants,\\nOnline\\nsales,\\nT ennis,\\nMusic\\nProduction\\nEducation\\nMIT\\n(Massachusetts\\nInstitute\\nof\\nT echnology)\\nData\\nEngineering,\\nBoston,\\nMA\\n03/2024 \\nA WS\\nSolutions\\nArchitect\\nAssociate\\nhttps://www .credly .com/badges/ca03d53d-ebf3-4b3c-8d46-9aafbca87f5a/public_url \\nFront-end\\nDevelopment\\nCertificate\\nW3\\nSchools\\nhttps://verify .w3schools.com/1OC1C530WR \\nReact\\nCertificate'),\n",
              " Document(metadata={'source': 'pdfs\\\\Andrew_Buensalida_Resume.pdf', 'page': 1}, page_content='React\\nCertificate\\nW3\\nSchools\\nhttps://verify .w3schools.com/1OBZNTHS9T \\nJavascript\\nCertificate\\nW3\\nSchools\\nhttps://verify .w3schools.com/1OC1C4T186 \\nCSS\\nCertificate\\nW3\\nSchools\\nhttps://verify .w3schools.com/1OBZV76UO7 \\nHTML\\nCertificate\\nW3\\nSchools\\nhttps://verify .w3schools.com/1OC0N6KOL7 \\nT ypescript\\nCertificate\\nW3\\nSchools\\nhttps://verify .w3schools.com/1OC16XQBHI \\nSQL\\nCertificate\\nW3\\nSchools\\nhttps://verify .w3schools.com/1OC9607E00 \\nPython\\nCertificate\\nW3\\nSchools'),\n",
              " Document(metadata={'source': 'pdfs\\\\Andrew_Buensalida_Resume.pdf', 'page': 1}, page_content='W3\\nSchools\\nhttps://verify .w3schools.com/1OC9A13HFM \\nUS\\ngovernment\\ncyber\\nsecurity\\ncertifications\\n6/22 \\nOnline\\nJob\\nBoard\\nAssessments\\nSan\\nJose,\\nCA\\n4/22 \\n●\\nScored\\ntop\\n7%\\nin\\nAngelList\\nfront-end\\nweb\\nassessment,\\ntop\\n1 1%\\nin\\nback-end,\\nand\\ntop\\n15%\\nin\\nfull-stack \\n●\\nScored\\ntop\\n5-30%\\nin\\nLinkedIn\\n12+\\nLinkedIn\\nskills\\nincluding\\nJavascript,\\nReact,\\nA WS,\\nGit,\\netc. \\nScrimba\\nReact\\nBootcamp\\nRemote\\n2021 \\nSpokane\\nCommunity\\nCollege\\nSpokane,\\nW A\\n6/19-4/21 \\n●\\n3.9/4.0\\nscience\\nGP A \\nSan\\nDiego\\nCommunity\\nColleges\\nSan'),\n",
              " Document(metadata={'source': 'pdfs\\\\Andrew_Buensalida_Resume.pdf', 'page': 1}, page_content='Colleges\\nSan\\nDiego,\\nCA\\n6/17-4/19 \\n●\\n4.0/4.0\\nscience\\nGP A \\n●\\nDean’ s\\nList \\nUniversity\\nof\\nCalifornia,\\nSanta\\nBarbara\\nSanta\\nBarbara,\\nCA\\n9/07-1/09 \\nDe\\nLaSalle\\nUniversity ,\\nComputer\\nScience\\nManila,\\nPH\\n6/04-1/05'),\n",
              " Document(metadata={'source': 'pdfs\\\\BlueRose_Referral Contract.pdf', 'page': 0}, page_content='Blue Rose Technologies LLC, 7950 NW 53rd Street, Suite 337,  \\nMiami FL, 33166, USA  www.bluerose -tech.com  \\n Blue Rose Technologies LLC   \\n7950 NW 53rd Street, Suite 337,  \\nMiami FL, 33166, USA  \\nwww.bluerose -tech.com  \\n \\nCONSULTANT RIGHT TO REPRESENT AGREEMENT  \\n \\nThis agreement is made  by and between Blue  Rose Technologies LLC (BLUEROSE)  with its primary business \\nlocation at 7950 NW 53rd Street, Suite 337 Miami, FL 33166  and Applicant (henceforth, referred to  as \\n\"Consultant”).'),\n",
              " Document(metadata={'source': 'pdfs\\\\BlueRose_Referral Contract.pdf', 'page': 0}, page_content='\"Consultant”).  \\n \\nObjective:  This agreement bestows BlueRose  with the Right to Represent the Consultant to promote and blend \\nmeasures to discover career placement prospects. This authorization shall initiate immediately on the date of \\nsubmission of this BlueRose  application.  \\n \\nBlueRose consents to the below -mentioned terms:  \\n \\nServices:  BlueRose conforms to employ its soundest measures to furnish a designation that best fulfils the'),\n",
              " Document(metadata={'source': 'pdfs\\\\BlueRose_Referral Contract.pdf', 'page': 0}, page_content=\"Consultant's requirements. BlueRose  list of services will comprise screening, solicitation, and analysis of career \\npossibilities. BlueRose  will engage its most promising endeavors  to acquire detailed attributes on all \\nconsidered/available placements that, in the view of BlueRose , will best suit the Consultant’s skills.  \\n \\nConsultant agrees to the subsequent terms:  \\n \\n1. Authorization : The Consultant authorizes BlueRose  to advance their resume and represent their\"),\n",
              " Document(metadata={'source': 'pdfs\\\\BlueRose_Referral Contract.pdf', 'page': 0}, page_content='candidature for all jobs for which the Consultant is qualified. BlueRose  clients incorporate the general \\ncontractor as well as the ultimate site for which the Consultant will operate.  \\n \\n2. Permissions : By endowing approval to BlueRose  to present the Consultant for a specific position, the \\nConsultant thus proclaims that they have not consciously been presented nor have they granted consent'),\n",
              " Document(metadata={'source': 'pdfs\\\\BlueRose_Referral Contract.pdf', 'page': 0}, page_content='for submission of their resume to the hiring institution via any different parties, nor endowed pe rmission \\nto any other agent, whosoever it might be, to submit them for the exact same position . Also, the candidate \\nwill not permit or authorize any other representative to submit him/her as a candidate for this  position after \\nsuch time Consultant has approved submission through BlueRose .'),\n",
              " Document(metadata={'source': 'pdfs\\\\BlueRose_Referral Contract.pdf', 'page': 0}, page_content='3. Understandings : The consultant understands that this agreement in no way does form an offer or a contract \\nof employment. If an offer of employment is to be extended, the same will be done in a separate series of \\ndocumentation by an authorized representative of BlueRose . \\n \\n4. BlueRose will assist the consultant with various services cited above, which will finally lead to employment \\nfor them to work at our client/prime vendors’ W2.'),\n",
              " Document(metadata={'source': 'pdfs\\\\BlueRose_Referral Contract.pdf', 'page': 0}, page_content='a. Direct Hire Positions: Incase, the consultant has got to work on prime vendor/client’s W2, then the \\nConsultant agrees to pay _10_% of the annual gross salary in recurring Auto Debit Method . \\n \\nb. For Full Time/W2 roles, Candidate needs to pay $1 500 upfront to BlueRose once he receives an \\nOffer Letter & $5000 after successfully joining the Full Time position  with the client . \\n \\nc. Contract/Corp -to-Corp /1099  Positions : The Consultant will be paid Flat 80% on 1099 or a Flat 80%'),\n",
              " Document(metadata={'source': 'pdfs\\\\BlueRose_Referral Contract.pdf', 'page': 0}, page_content='to their corporation . \\n \\nd. If Consultant needs any additional support, there will be a base fee of $ 600 & will be charged in \\nthe first installment.  \\n \\n5. BlueRose  will be charging the payment as per the pay calendar of the consultant.'),\n",
              " Document(metadata={'source': 'pdfs\\\\BlueRose_Referral Contract.pdf', 'page': 1}, page_content='Blue Rose Technologies LLC, 7950 NW 53rd Street, Suite 337,  \\nMiami FL, 33166, USA  www.bluerose -tech.com  \\n Blue Rose Technologies LLC   \\n7950 NW 53rd Street, Suite 337,  \\nMiami FL, 33166, USA  \\nwww.bluerose -tech.com  \\n6. Covenant to Non -Compete / Non -Interference:  It is agreed that Consultant, during BlueRose  placement \\nefforts, may come to develop certain relationships with BlueRose  clients and/or vendors which may lead to'),\n",
              " Document(metadata={'source': 'pdfs\\\\BlueRose_Referral Contract.pdf', 'page': 1}, page_content=\"an awareness of other services desired by BLUEROSE  clients and/or vendors. Consultant admits that without \\nBLUEROSE 's exposure, he or she would not be aware of the services represented.  Therefore, during the \\nperiod in which Consultant is being marketed for job opportunities by BLUEROSE  and for twelve  (12) months \\nthereafter, Consultant agrees not to approach, communicate or engage BLUEROSE  clients directly or\"),\n",
              " Document(metadata={'source': 'pdfs\\\\BlueRose_Referral Contract.pdf', 'page': 1}, page_content='indirectly to provide like services. If BLUEROSE  finds a project and the consultant is unable to join the project \\nfor any reason, BLUEROSE  has the right to approach arbitrator to resolve the issue.  Consultant agrees, \\nacknowledges, and understands that BlueRose will expend considerable resources and goodwill in procuring \\nthe job placement for the Consultant. The Consultant further agrees, acknowledges, and understands that'),\n",
              " Document(metadata={'source': 'pdfs\\\\BlueRose_Referral Contract.pdf', 'page': 1}, page_content='once the Consultant has procured the job placement if he/she fails to join the Project, the Consultant will \\nbe fully liable for damages to BlueRose . \\n \\n7. Covenant Not to Solicit:  While the Consultant is obtaining marketing advantages from BlueRose  for 12 \\nmonths immediately thereupon, Consultant consents to pay BlueRose  liquidated damages and not as a \\npenalty, if they directly or indirectly request or propose any services to BlueRose  clients. The word “Client”'),\n",
              " Document(metadata={'source': 'pdfs\\\\BlueRose_Referral Contract.pdf', 'page': 1}, page_content='here refers to the direct or indirect client/vendors/companies involved in the business transaction wherein \\nthe Consultant has been introduced via BlueRose . \\n \\n8. Acceptance:  BlueRose  and Consultant hereby acknowledge  receipt of a copy of this agreement. By deciding \\nto join the BlueRose  Network and signing up for the same, the Consultant thus accepts the terms of this \\nagreement. The consultant also owns that this agreement does not vest any obligation owed to the'),\n",
              " Document(metadata={'source': 'pdfs\\\\BlueRose_Referral Contract.pdf', 'page': 1}, page_content='Consultant by BlueRose  and is in no manner a guarantee of employment.  \\n \\n9. BlueRose  shall market the resume furnished by the Consultant, or BlueRose  shall formulate resume, as per \\ndiscussion with the consultant, and the consultant takes full accountability for the contents of the resume. \\nThe consultant further agrees that they are eligible to lawfully work in the United States and conform to'),\n",
              " Document(metadata={'source': 'pdfs\\\\BlueRose_Referral Contract.pdf', 'page': 1}, page_content='provide a ppropriate documents upon request.  Once Job placement is procured, the Consultant will sign and \\nbe bound by the attached Exhibit “A” - General Contract for Services from BlueRose  or its subsidiaries for \\nthe initial Twelve  months , which constitutes a portion  of this agreement, and which is payable by recurring \\nauto -debit method and shall be signed by the Consultant no later than the date of commencement of the \\nproject.'),\n",
              " Document(metadata={'source': 'pdfs\\\\BlueRose_Referral Contract.pdf', 'page': 1}, page_content='project.  \\n \\n10. Arbitration:  In case of violation of the above -mentioned agreed -upon covenants, all assertions and disputes \\nemerging under or relating to this agreement are to be resolved by binding arbitration in the state of New \\nFlorida . \\n \\nI agree and confirm to use the services of BlueRose , which is assisting me in finding a project, and that I am \\ngiving my approval and complete access to marketing email / Gmail account and Google voice phone'),\n",
              " Document(metadata={'source': 'pdfs\\\\BlueRose_Referral Contract.pdf', 'page': 1}, page_content='number for the same purposes. An RTR agreement once signed by the consultant, cannot be revoked.  \\n \\n \\nSourcing Manager Name   :  ________________________  \\n \\nConsultant  Full Name   :  ________________________  \\n \\nConsultant Mobile Number  :  ________________________   \\n \\nLast 4 Digits of Consultant’s SSN  :  ________________________  \\n \\nConsultant Resident ial Address  :  ________________________  \\n \\n \\nSignature of the Consultant : ________________________   Date : _______________________ _'),\n",
              " Document(metadata={'source': 'pdfs\\\\matthew_borger_resume.pdf', 'page': 0}, page_content='Contact\\n4565 Terrace Dr, San Diego, CA\\n92116\\n9095184216  (Mobile)\\nmatthew@borgerstudio.com\\nwww.linkedin.com/in/mborger\\n(LinkedIn)\\nTop Skills\\nMicroservices\\nInfrastructure Security\\nDjangoMatthew Borger\\nSenior Software Engineer with expertise in Software Infrastructure\\nand Genomic Analysis\\nSan Diego, California, United States\\nSummary\\nExperienced Software Engineer with a demonstrated history of\\nworking in the biotechnology industry. Skilled in Python, Java, C+'),\n",
              " Document(metadata={'source': 'pdfs\\\\matthew_borger_resume.pdf', 'page': 0}, page_content='+ and Hibernate. Strong engineering professional graduated from\\nUniversity of California, San Diego. \\nExperience\\nAgena Bioscience\\nSenior Software Engineer\\nJuly 2015\\xa0-\\xa0March 2024\\xa0 (8 years 9 months)\\nSan Diego, CA\\nDeveloped genomic analysis software and instrumentation controls conforming\\nto FDA In-vitro diagnostic, CE-IVD (European Union) and NMPA (China’s\\nFDA) guidelines.\\n• Designed and built new software stack to meet regulatory guidelines allowing'),\n",
              " Document(metadata={'source': 'pdfs\\\\matthew_borger_resume.pdf', 'page': 0}, page_content='the company to acquire new customers, enabled the sale of our product in\\nChina, creating several partnership deals worth $100m\\n• Worked closely with scientists to analyze their procedures and optimize their\\nexperimental scripting code in Perl to a unified platform suitable for outside\\ncustomer interaction\\n• Experience mentoring and managing direct reports to prioritize tickets and\\nmaintain company roadmap. Coached junior engineers with code reviews and'),\n",
              " Document(metadata={'source': 'pdfs\\\\matthew_borger_resume.pdf', 'page': 0}, page_content='regular training which increased development velocity\\n• Coordinated work with remote team in Romania and local contractors to keep\\nproject deliverables and utilize specialist resources not available within the\\ncompany\\n• Used Java, Spring Boot, Hibernate, React, Azure, C++\\n• Promoted from Engineer II to III in 2017\\n• Promoted from Engineer III to Senior in 2019\\n• Received Value Recognition Award in 2020 for delivering and supporting our'),\n",
              " Document(metadata={'source': 'pdfs\\\\matthew_borger_resume.pdf', 'page': 0}, page_content='first Chinese customer through their regulatory approval of our software and\\ninstrumentation\\n\\xa0 Page 1 of 3'),\n",
              " Document(metadata={'source': 'pdfs\\\\matthew_borger_resume.pdf', 'page': 1}, page_content='• Received Value Recognition Award in 2021 for ensuring a smooth migration\\nof our online applications to a new customer support portal\\n• Received Value Recognition Award in 2022 for modernizing an out of support\\ncomputation cluster and migrating it to the cloud\\nAmazon\\nSoftware Development Engineer\\nSeptember 2013\\xa0-\\xa0July 2015\\xa0 (1 year 11 months)\\nIrvine, CA\\nWork on developer services to support the Amazon Appstore.\\nPast projects:'),\n",
              " Document(metadata={'source': 'pdfs\\\\matthew_borger_resume.pdf', 'page': 1}, page_content='Past projects:\\nMobile Analytics - Built a REST api for managing your AWS Mobile Analytics\\naccount. Team size of 16 including one test engineer.\\n- Used Java, Spring, Hibernate, REST, RPC, SOA\\nLive App Testing - Built a system to publish Android applications through\\nAmazon’s production system while restricting access to\\nonly the people the developer had invited to test. Team size of 6 including one\\nQA engineer. Worked with remote teams in Seattle\\nand India.'),\n",
              " Document(metadata={'source': 'pdfs\\\\matthew_borger_resume.pdf', 'page': 1}, page_content='and India.\\n- Used Java, Spring, Hibernate, RPC, SOA, JSP, MVC\\nDeveloper Portal - Maintained the application ingestion workflow at\\ndeveloper.amazon.com/appsandservices. Team size of 20\\nincluding 2 QA engineers. Worked with remote teams in Seattle and India.\\n- Used Java, Spring, Hibernate, RPC, SOA, JSP, MVC\\nL-3 Communications\\nSoftware Engineer Intern\\nJune 2011\\xa0-\\xa0September 2012\\xa0 (1 year 4 months)\\nSan Diego, CA\\nDesigned and devloped frontend applications for interacting with Matlab/'),\n",
              " Document(metadata={'source': 'pdfs\\\\matthew_borger_resume.pdf', 'page': 1}, page_content='Simulink simulations of various injuries. The product team was 12 Medical/\\nEngineering PhDs with 2 software developers.\\nProjects included:\\n\\xa0 Page 2 of 3'),\n",
              " Document(metadata={'source': 'pdfs\\\\matthew_borger_resume.pdf', 'page': 2}, page_content='Built a Windows deskotp application for blunt force trauma simulation that\\nmodified vector graphics in real time.\\n- Used C#, XAML\\nBuilt an Excel addin to allow easier manipulation of an internal dataset file\\nformat.\\n- Used C#, Visual Basic, COM interops\\nDeveloped an Android tablet application frontend for simulating toxic gas\\nexposures.\\n- Used Java, Android SDK\\nFixed issues with transitioning legacy code from an unmaintained internal file\\nformat to HDF.\\n- Used Fortran, C++\\nUC San Diego'),\n",
              " Document(metadata={'source': 'pdfs\\\\matthew_borger_resume.pdf', 'page': 2}, page_content='UC San Diego\\nCSE Tutor\\nSeptember 2010\\xa0-\\xa0March 2011\\xa0 (7 months)\\nSan Diego, CA\\nAssisted in teaching lab sections, led group discussions during lecture and\\nhosted open lab hours for students to come for assistance.\\nEducation\\nUniversity of California, San Diego\\nComputer Engineering\\xa0 \\xa0·\\xa0(2009\\xa0-\\xa02013)\\n\\xa0 Page 3 of 3'),\n",
              " Document(metadata={'source': 'pdfs\\\\sarah_uran_resume.pdf', 'page': 0}, page_content=\"Contact\\nsarahelizabethuran@gmail.co\\nm\\nwww.linkedin.com/in/sarahuran\\n(LinkedIn)\\nTop Skills\\nBuild Strong Relationships\\nCRM Software\\nBusiness PlanningSarah Uran\\nScience Communicator | Director of Business Development\\n| Neurobiology | Ecology | Microscopy | Research Scientist |\\nBiotechnology Startups | Public Speaker\\nLa Jolla Shores, California, United States\\nSummary\\nI hold a Bachelor's degree in Neurobiology from the University\\nof California San Diego, blending two years of hands-on wet\"),\n",
              " Document(metadata={'source': 'pdfs\\\\sarah_uran_resume.pdf', 'page': 0}, page_content='lab research with nine years deeply engaged in scientific\\ncommunication. My journey has delved into the intricate realms of\\nneurobiology and ecology, alongside meaningful contributions to\\nanimal welfare initiatives, including volunteering at the San Diego\\nZoo and collaborating with various nonprofits. Notably, my dedication\\nto environmental conservation earned me the prestigious Girl Scout\\nGold Award during an internship at the Water Conservation Garden.'),\n",
              " Document(metadata={'source': 'pdfs\\\\sarah_uran_resume.pdf', 'page': 0}, page_content=\"My expertise extends beyond the confines of laboratory equipment\\nto include the art of compelling storytelling. While I've mastered\\nmicroscopy techniques and crafted intricate fiber photometry and\\noptogenetic systems, I've also dedicated time to refining my public\\nspeaking skills through regular engagements with local communities.\\nThese engagements not only foster personal and professional\\ndevelopment but also underscore my commitment to knowledge\\ndissemination and community empowerment.\"),\n",
              " Document(metadata={'source': 'pdfs\\\\sarah_uran_resume.pdf', 'page': 0}, page_content='In my current capacity as Director of Business Development, I\\nlead a dynamic team of eight, spearheading strategic initiatives\\nand nurturing robust client relationships. My affable demeanor and\\nadeptness in relationship-building have proven instrumental in\\ndriving engagement and fostering long-lasting connections.\\nWith an innate drive for innovation and a strategic mindset, I\\nseamlessly navigate the intersection of academia and business,'),\n",
              " Document(metadata={'source': 'pdfs\\\\sarah_uran_resume.pdf', 'page': 0}, page_content='consistently propelling growth and success. My holistic approach,\\nintegrating research proficiency, business acumen, and community\\nengagement, underscores my dedication to excellence across\\ndiverse professional landscapes.\\n\\xa0 Page 1 of 4'),\n",
              " Document(metadata={'source': 'pdfs\\\\sarah_uran_resume.pdf', 'page': 1}, page_content='Experience\\nLibyl Inc.\\nDirector of Business Development\\nDecember 2023\\xa0-\\xa0Present\\xa0 (7 months)\\nI spearhead business expansion initiatives while also managing and\\nmentoring college interns, fostering a collaborative and growth-oriented work\\nenvironment. My multifaceted role encompasses responsibilities from targeting\\npotential clients to ensuring revenue targets are met. With a focused approach\\non the pharmaceutical, biotech, and medical device sectors, I actively foster'),\n",
              " Document(metadata={'source': 'pdfs\\\\sarah_uran_resume.pdf', 'page': 1}, page_content='strategic partnerships, conduct market analysis, engage in client consultations,\\nand oversee the development of our intern team.\\nNeurophotometrics LLC\\nManufacturing Associate\\nJuly 2023\\xa0-\\xa0March 2024\\xa0 (9 months)\\nSan Diego, California, United States\\nI specialize in constructing Fiber Photometry and Optogenetics machines\\nby assembling correlated subassemblies and testing accessories. Proficient\\nin CAD+, Bonsai, soldering, and 3D printing, my expertise lies in precision'),\n",
              " Document(metadata={'source': 'pdfs\\\\sarah_uran_resume.pdf', 'page': 1}, page_content='engineering and equipment maintenance. Conducting rigorous quality control\\nand testing on fibers, I contribute to supplying research labs worldwide with the\\nessential tools, advancing the forefront of neuroscience.\\nSTARTneuro\\nResearch Fellowship\\nJuly 2021\\xa0-\\xa0June 2023\\xa0 (2 years)\\nLa Jolla Shores, California, United States\\nDifferentiate between and perform many neuroscience techniques like\\nelectrophysiology, circuits, coding, behavior, genetics, bioinformatics,'),\n",
              " Document(metadata={'source': 'pdfs\\\\sarah_uran_resume.pdf', 'page': 1}, page_content='microscopy, and presenting a research poster.\\nUC San Diego\\nStudent Researcher\\nOctober 2021\\xa0-\\xa0December 2022\\xa0 (1 year 3 months)\\nLa Jolla Shores, California, United States\\nResearched in the neuroscience Hnasko lab studying neurotransmitters\\nin the mesocorticolimbic pathway of the brain. Performed rodent handling,\\nperfusions, histology, immunohistochemistry, microscopy, data analysis, and\\npresentations.\\n\\xa0 Page 2 of 4'),\n",
              " Document(metadata={'source': 'pdfs\\\\sarah_uran_resume.pdf', 'page': 2}, page_content='The Water Conservation Garden\\nEducation Intern\\nAugust 2017\\xa0-\\xa0February 2020\\xa0 (2 years 7 months)\\nEl Cajon, California, United States\\nEducate, Inform, and communicate with garden guests with the goal to teach\\nguests of all ages. Handled animals and plants while multitasking and spoke to\\nguests. Cash register work, answer phone calls, processed memberships on\\nSalesforce, and provided great customer service\\nGirl Scouts of the USA\\nMember\\nAugust 2006\\xa0-\\xa0June 2019\\xa0 (12 years 11 months)'),\n",
              " Document(metadata={'source': 'pdfs\\\\sarah_uran_resume.pdf', 'page': 2}, page_content='San Diego, California\\nHelped troops prepare for annual girl scout cookie sales. Secured younger girl\\ninvolvement and participation in activities as an older girl scout. Participated\\nin weekly girl scout outings and meetings. Provided information resources to\\nother girls. I also completed my Gold Award.\\nSan Diego Zoo Global\\nVolunteer\\nAugust 2014\\xa0-\\xa0May 2019\\xa0 (4 years 10 months)\\nI was in a program called Zoo Corps. It is a program open for 13 to 17 year'),\n",
              " Document(metadata={'source': 'pdfs\\\\sarah_uran_resume.pdf', 'page': 2}, page_content='olds to go into the zoo and public speak about sustainability, endangered\\nspecies, backyard habitats, and animal care.\\nSPAWAR\\nScientific Researcher \\nJuly 2017\\xa0-\\xa0January 2018\\xa0 (7 months)\\nPoint Loma, California\\nSPAWAR Navy Marine Ecology Consortium was the technical name to the\\ndepartment I was in. We researched an endangered bird that lives in San\\nDiego.\\nEducation\\nUC San Diego\\nBachelor of Science - BS,\\xa0Neurobiology and Neurosciences \\xa0·\\xa0(September\\n2021\\xa0-\\xa0June 2023)\\nGrossmont College\\n\\xa0 Page 3 of 4'),\n",
              " Document(metadata={'source': 'pdfs\\\\sarah_uran_resume.pdf', 'page': 3}, page_content='·\\xa0(2017\\xa0-\\xa02019)\\n\\xa0 Page 4 of 4')]"
            ]
          },
          "execution_count": 6,
          "metadata": {},
          "output_type": "execute_result"
        }
      ],
      "source": [
        "# mention splitter sometimes has spaces in the name\n",
        "text_chunks = text_splitter.split_documents(data)\n",
        "text_chunks # openai seems to be able to understand this even the there are a lot of escape characters"
      ]
    },
    {
      "cell_type": "code",
      "execution_count": 7,
      "metadata": {
        "colab": {
          "base_uri": "https://localhost:8080/"
        },
        "id": "aXnTz5sa6L7d",
        "outputId": "bd9d375a-d450-4bf4-d469-1fa5ebe01122"
      },
      "outputs": [
        {
          "data": {
            "text/plain": [
              "56"
            ]
          },
          "execution_count": 7,
          "metadata": {},
          "output_type": "execute_result"
        }
      ],
      "source": [
        "len(text_chunks)"
      ]
    },
    {
      "cell_type": "markdown",
      "metadata": {
        "id": "UJzcQCM96ZS-"
      },
      "source": [
        "## Download the Embeddings"
      ]
    },
    {
      "cell_type": "code",
      "execution_count": 13,
      "metadata": {
        "id": "G0BmUL5c6XQ2"
      },
      "outputs": [],
      "source": [
        "# import os\n",
        "\n",
        "# # this is not needed if you have the API key in a .env file\n",
        "# # os.environ[\"OPENAI_API_KEY\"] = \"your openai api key here\""
      ]
    },
    {
      "cell_type": "code",
      "execution_count": 20,
      "metadata": {
        "id": "4zPQYiNn6otd"
      },
      "outputs": [],
      "source": [
        "embeddings = OpenAIEmbeddings()"
      ]
    },
    {
      "cell_type": "code",
      "execution_count": 18,
      "metadata": {
        "id": "Gl4ZrxZm6orf"
      },
      "outputs": [
        {
          "data": {
            "text/plain": [
              "[-0.004707565065473318,\n",
              " -0.009346039965748787,\n",
              " -0.003011711174622178,\n",
              " -0.026028219610452652,\n",
              " -0.01612945646047592,\n",
              " 0.012071968987584114,\n",
              " 0.0011344950180500746,\n",
              " -0.013529147021472454,\n",
              " -0.01943323202431202,\n",
              " -0.00337914633564651]"
            ]
          },
          "execution_count": 18,
          "metadata": {},
          "output_type": "execute_result"
        }
      ],
      "source": [
        "result = embeddings.embed_query(\"How are you!\")\n",
        "result[:10]"
      ]
    },
    {
      "cell_type": "code",
      "execution_count": 19,
      "metadata": {
        "colab": {
          "base_uri": "https://localhost:8080/"
        },
        "id": "O0_dlP6c6yDm",
        "outputId": "c09ebb03-2457-4a2e-fb6a-ed05e88ba2a9"
      },
      "outputs": [
        {
          "data": {
            "text/plain": [
              "1536"
            ]
          },
          "execution_count": 19,
          "metadata": {},
          "output_type": "execute_result"
        }
      ],
      "source": [
        "len(result)"
      ]
    },
    {
      "cell_type": "markdown",
      "metadata": {
        "id": "nSuEdaLP7dvV"
      },
      "source": [
        "## Initializing the Pinecone"
      ]
    },
    {
      "cell_type": "code",
      "execution_count": 10,
      "metadata": {
        "id": "OoCbquCg65Q1"
      },
      "outputs": [],
      "source": [
        "import os\n",
        "\n",
        "PINECONE_API_KEY = os.environ.get('PINECONE_API_KEY')"
      ]
    },
    {
      "cell_type": "code",
      "execution_count": 11,
      "metadata": {
        "colab": {
          "base_uri": "https://localhost:8080/"
        },
        "id": "ZxX3o89_8F-W",
        "outputId": "499c6ce5-90ab-44d3-a5c7-01e2340335d0"
      },
      "outputs": [
        {
          "name": "stderr",
          "output_type": "stream",
          "text": [
            "c:\\swe\\code\\Complete-Generative-AI-Course-on-YouTube\\.venv\\Lib\\site-packages\\pinecone\\data\\index.py:1: TqdmWarning: IProgress not found. Please update jupyter and ipywidgets. See https://ipywidgets.readthedocs.io/en/stable/user_install.html\n",
            "  from tqdm.autonotebook import tqdm\n"
          ]
        }
      ],
      "source": [
        "# To create the index. Don't run this cell if you want to use the existing index.\n",
        "from pinecone import ServerlessSpec, Pinecone  \n",
        "import time\n",
        "\n",
        "pc = Pinecone(api_key=PINECONE_API_KEY)\n",
        "\n",
        "index_name = \"mytestindex\" # put in the name of your pinecone index here. When creating the index in pinecone.io, the Dimensions have to be the same as the result length. \n",
        "\n"
      ]
    },
    {
      "cell_type": "code",
      "execution_count": null,
      "metadata": {},
      "outputs": [],
      "source": [
        "# # To empty the index. DONT RUN THIS CELL IF YOU WANT TO KEEP THE INDEX\n",
        "# if index_name in pc.list_indexes().names():\n",
        "#     pc.delete_index(index_name)\n",
        "\n",
        "# pc.create_index(\n",
        "#     name=index_name,\n",
        "#     dimension=1536,\n",
        "#     metric=\"cosine\",\n",
        "#     spec=ServerlessSpec(cloud=\"aws\", region=\"us-east-1\"),\n",
        "# )\n",
        "# while not pc.describe_index(index_name).status[\"ready\"]:\n",
        "#     time.sleep(1)\n",
        "\n",
        "# index = pc.Index(index_name)"
      ]
    },
    {
      "cell_type": "markdown",
      "metadata": {
        "id": "ZKwc0Cr78pUl"
      },
      "source": [
        "## (DON'T RUN) Create Embeddings for each of the Text Chunk"
      ]
    },
    {
      "cell_type": "code",
      "execution_count": 18,
      "metadata": {},
      "outputs": [
        {
          "data": {
            "text/plain": [
              "<langchain_pinecone.vectorstores.PineconeVectorStore at 0x238855f9e50>"
            ]
          },
          "execution_count": 18,
          "metadata": {},
          "output_type": "execute_result"
        }
      ],
      "source": [
        "# insert chunks into index. DONT RUN THIS CELL IF YOU DONT WANT TO INSERT THE CHUNKS INTO THE INDEX\n",
        "from langchain_pinecone import PineconeVectorStore\n",
        "\n",
        "# embeddings is from openai. This uploads the embeddings to your index in pinecone.io. I guess Pinecone automatically uses the API key from .env file. This keeps adding embeddings to the index, so if you keep running this, there will be duplicates.\n",
        "docsearch = PineconeVectorStore.from_documents(\n",
        "    text_chunks, embeddings, index_name=index_name\n",
        ")\n",
        "docsearch"
      ]
    },
    {
      "cell_type": "markdown",
      "metadata": {
        "id": "l7ebhRfl9ueQ"
      },
      "source": [
        "## If you already have an index, you can load it like this"
      ]
    },
    {
      "cell_type": "code",
      "execution_count": 12,
      "metadata": {
        "colab": {
          "base_uri": "https://localhost:8080/"
        },
        "id": "ZuSHyhCM9vOl",
        "outputId": "337c3bcb-0f8e-49f9-b5da-9ee36f19e118"
      },
      "outputs": [
        {
          "data": {
            "text/plain": [
              "<langchain_pinecone.vectorstores.PineconeVectorStore at 0x23ae7f91b90>"
            ]
          },
          "execution_count": 12,
          "metadata": {},
          "output_type": "execute_result"
        }
      ],
      "source": [
        "from langchain_pinecone import PineconeVectorStore\n",
        "\n",
        "docsearch = PineconeVectorStore.from_existing_index(index_name, embeddings)\n",
        "\n",
        "docsearch"
      ]
    },
    {
      "cell_type": "markdown",
      "metadata": {
        "id": "PvS-Qi8l919d"
      },
      "source": [
        "## Similarity Search"
      ]
    },
    {
      "cell_type": "code",
      "execution_count": 13,
      "metadata": {
        "id": "i6LnkQgz-CpO"
      },
      "outputs": [
        {
          "data": {
            "text/plain": [
              "[Document(metadata={'page': 0.0, 'source': 'pdfs\\\\matthew_borger_resume.pdf'}, page_content='Contact\\n4565 Terrace Dr, San Diego, CA\\n92116\\n9095184216  (Mobile)\\nmatthew@borgerstudio.com\\nwww.linkedin.com/in/mborger\\n(LinkedIn)\\nTop Skills\\nMicroservices\\nInfrastructure Security\\nDjangoMatthew Borger\\nSenior Software Engineer with expertise in Software Infrastructure\\nand Genomic Analysis\\nSan Diego, California, United States\\nSummary\\nExperienced Software Engineer with a demonstrated history of\\nworking in the biotechnology industry. Skilled in Python, Java, C+'),\n",
              " Document(metadata={'page': 0.0, 'source': 'pdfs\\\\sarah_uran_resume.pdf'}, page_content='lab research with nine years deeply engaged in scientific\\ncommunication. My journey has delved into the intricate realms of\\nneurobiology and ecology, alongside meaningful contributions to\\nanimal welfare initiatives, including volunteering at the San Diego\\nZoo and collaborating with various nonprofits. Notably, my dedication\\nto environmental conservation earned me the prestigious Girl Scout\\nGold Award during an internship at the Water Conservation Garden.'),\n",
              " Document(metadata={'page': 1.0, 'source': 'pdfs\\\\sarah_uran_resume.pdf'}, page_content='Experience\\nLibyl Inc.\\nDirector of Business Development\\nDecember 2023\\xa0-\\xa0Present\\xa0 (7 months)\\nI spearhead business expansion initiatives while also managing and\\nmentoring college interns, fostering a collaborative and growth-oriented work\\nenvironment. My multifaceted role encompasses responsibilities from targeting\\npotential clients to ensuring revenue targets are met. With a focused approach\\non the pharmaceutical, biotech, and medical device sectors, I actively foster'),\n",
              " Document(metadata={'page': 2.0, 'source': 'pdfs\\\\sarah_uran_resume.pdf'}, page_content='olds to go into the zoo and public speak about sustainability, endangered\\nspecies, backyard habitats, and animal care.\\nSPAWAR\\nScientific Researcher \\nJuly 2017\\xa0-\\xa0January 2018\\xa0 (7 months)\\nPoint Loma, California\\nSPAWAR Navy Marine Ecology Consortium was the technical name to the\\ndepartment I was in. We researched an endangered bird that lives in San\\nDiego.\\nEducation\\nUC San Diego\\nBachelor of Science - BS,\\xa0Neurobiology and Neurosciences \\xa0·\\xa0(September\\n2021\\xa0-\\xa0June 2023)\\nGrossmont College\\n\\xa0 Page 3 of 4')]"
            ]
          },
          "execution_count": 13,
          "metadata": {},
          "output_type": "execute_result"
        }
      ],
      "source": [
        "query = \"What is Matthew Borger's experience?\"\n",
        "docs= docsearch.similarity_search(query, k=4)\n",
        "docs"
      ]
    },
    {
      "cell_type": "markdown",
      "metadata": {
        "id": "s979yBCI-U7g"
      },
      "source": [
        "## Creating a LLM Model Wrapper"
      ]
    },
    {
      "cell_type": "code",
      "execution_count": 14,
      "metadata": {
        "id": "zDoLPwtX-QLm"
      },
      "outputs": [],
      "source": [
        "### RAG bot\n",
        "import openai\n",
        "from langsmith import traceable  # Automatically looks at .env from os.environ to connect to langsmith\n",
        "from langsmith.wrappers import wrap_openai\n",
        "from langchain_core.retrievers import BaseRetriever\n",
        "\n",
        "class RagBot:\n",
        "\n",
        "    def __init__(self, retriever: BaseRetriever, model: str = \"gpt-4-turbo\"):\n",
        "        self._retriever = retriever\n",
        "        # Wrapping the client instruments the LLM\n",
        "        self._client = wrap_openai(openai.Client())\n",
        "        self._model = model\n",
        "\n",
        "    @traceable()\n",
        "    def retrieve_docs(self, question):\n",
        "        return self._retriever.invoke(question)\n",
        "\n",
        "    def format_docs(self, docs):\n",
        "        return \"\\n\\n\".join(\n",
        "            f\"Metadata: {doc.metadata}, Content:{str(doc.page_content)}\" for doc in docs\n",
        "        )  # need to explicitly separate state the metadata and content so ai won't hallucinate thinking andrew buensalida has experience in the jobs of other candidates\n",
        "\n",
        "    @traceable()\n",
        "    def invoke_llm(self, question, docs):\n",
        "        response = self._client.chat.completions.create(\n",
        "            model=self._model,\n",
        "            messages=[\n",
        "                {\n",
        "                    \"role\": \"system\",\n",
        "                    \"content\": f\"You are an assistant for question-answering tasks. Use the following pieces of retrieved context to answer the question. If you don't know the answer, just say that you don't know. Use three sentences maximum and keep the answer concise.\\nContext: {self.format_docs(docs)}.\\n\",\n",
        "                },\n",
        "                {\"role\": \"user\", \"content\": f'\\nQuestion: {question}.\\n'}\n",
        "            ],\n",
        "        )\n",
        "        # Evaluators will expect \"answer\" and \"contexts\"\n",
        "        return {\n",
        "            \"answer\": response.choices[0].message.content,\n",
        "            \"contexts\": [str(doc) for doc in docs],\n",
        "        }\n",
        "\n",
        "    @traceable()\n",
        "    def get_answer(self, question: str):\n",
        "        docs = self.retrieve_docs(question)\n",
        "        return self.invoke_llm(question, docs)\n",
        "\n",
        "\n",
        "rag_bot = RagBot(docsearch.as_retriever(    \n",
        "    search_kwargs={\n",
        "        \"k\":10 # how many chunks to return from vector store. If you use the default value of 4, it won't find that Andrew has experience in Python\n",
        "    }))"
      ]
    },
    {
      "cell_type": "markdown",
      "metadata": {
        "id": "omexyHti-de2"
      },
      "source": [
        "## Q/A"
      ]
    },
    {
      "cell_type": "code",
      "execution_count": 15,
      "metadata": {},
      "outputs": [
        {
          "data": {
            "text/plain": [
              "{'answer': 'Sarah Uran has extensive experience in scientific communication, business development, and research. She worked as a Scientific Researcher at SPAWAR, focusing on marine ecology, and as a Director of Business Development at Libyl Inc., targeting the pharmaceutical, biotech, and medical device sectors. Additionally, she has been involved in neurobiology research at UC San Diego, volunteered at the San Diego Zoo, and contributed to environmental conservation efforts.',\n",
              " 'contexts': [\"page_content='Contact\\nsarahelizabethuran@gmail.co\\nm\\nwww.linkedin.com/in/sarahuran\\n(LinkedIn)\\nTop Skills\\nBuild Strong Relationships\\nCRM Software\\nBusiness PlanningSarah Uran\\nScience Communicator | Director of Business Development\\n| Neurobiology | Ecology | Microscopy | Research Scientist |\\nBiotechnology Startups | Public Speaker\\nLa Jolla Shores, California, United States\\nSummary\\nI hold a Bachelor's degree in Neurobiology from the University\\nof California San Diego, blending two years of hands-on wet' metadata={'page': 0.0, 'source': 'pdfs\\\\\\\\sarah_uran_resume.pdf'}\",\n",
              "  \"page_content='lab research with nine years deeply engaged in scientific\\ncommunication. My journey has delved into the intricate realms of\\nneurobiology and ecology, alongside meaningful contributions to\\nanimal welfare initiatives, including volunteering at the San Diego\\nZoo and collaborating with various nonprofits. Notably, my dedication\\nto environmental conservation earned me the prestigious Girl Scout\\nGold Award during an internship at the Water Conservation Garden.' metadata={'page': 0.0, 'source': 'pdfs\\\\\\\\sarah_uran_resume.pdf'}\",\n",
              "  \"page_content='olds to go into the zoo and public speak about sustainability, endangered\\nspecies, backyard habitats, and animal care.\\nSPAWAR\\nScientific Researcher \\nJuly 2017\\xa0-\\xa0January 2018\\xa0 (7 months)\\nPoint Loma, California\\nSPAWAR Navy Marine Ecology Consortium was the technical name to the\\ndepartment I was in. We researched an endangered bird that lives in San\\nDiego.\\nEducation\\nUC San Diego\\nBachelor of Science - BS,\\xa0Neurobiology and Neurosciences \\xa0·\\xa0(September\\n2021\\xa0-\\xa0June 2023)\\nGrossmont College\\n\\xa0 Page 3 of 4' metadata={'page': 2.0, 'source': 'pdfs\\\\\\\\sarah_uran_resume.pdf'}\",\n",
              "  \"page_content='Experience\\nLibyl Inc.\\nDirector of Business Development\\nDecember 2023\\xa0-\\xa0Present\\xa0 (7 months)\\nI spearhead business expansion initiatives while also managing and\\nmentoring college interns, fostering a collaborative and growth-oriented work\\nenvironment. My multifaceted role encompasses responsibilities from targeting\\npotential clients to ensuring revenue targets are met. With a focused approach\\non the pharmaceutical, biotech, and medical device sectors, I actively foster' metadata={'page': 1.0, 'source': 'pdfs\\\\\\\\sarah_uran_resume.pdf'}\",\n",
              "  \"page_content='My expertise extends beyond the confines of laboratory equipment\\nto include the art of compelling storytelling. While I've mastered\\nmicroscopy techniques and crafted intricate fiber photometry and\\noptogenetic systems, I've also dedicated time to refining my public\\nspeaking skills through regular engagements with local communities.\\nThese engagements not only foster personal and professional\\ndevelopment but also underscore my commitment to knowledge\\ndissemination and community empowerment.' metadata={'page': 0.0, 'source': 'pdfs\\\\\\\\sarah_uran_resume.pdf'}\",\n",
              "  \"page_content='San Diego, California\\nHelped troops prepare for annual girl scout cookie sales. Secured younger girl\\ninvolvement and participation in activities as an older girl scout. Participated\\nin weekly girl scout outings and meetings. Provided information resources to\\nother girls. I also completed my Gold Award.\\nSan Diego Zoo Global\\nVolunteer\\nAugust 2014\\xa0-\\xa0May 2019\\xa0 (4 years 10 months)\\nI was in a program called Zoo Corps. It is a program open for 13 to 17 year' metadata={'page': 2.0, 'source': 'pdfs\\\\\\\\sarah_uran_resume.pdf'}\",\n",
              "  \"page_content='The Water Conservation Garden\\nEducation Intern\\nAugust 2017\\xa0-\\xa0February 2020\\xa0 (2 years 7 months)\\nEl Cajon, California, United States\\nEducate, Inform, and communicate with garden guests with the goal to teach\\nguests of all ages. Handled animals and plants while multitasking and spoke to\\nguests. Cash register work, answer phone calls, processed memberships on\\nSalesforce, and provided great customer service\\nGirl Scouts of the USA\\nMember\\nAugust 2006\\xa0-\\xa0June 2019\\xa0 (12 years 11 months)' metadata={'page': 2.0, 'source': 'pdfs\\\\\\\\sarah_uran_resume.pdf'}\",\n",
              "  \"page_content='microscopy, and presenting a research poster.\\nUC San Diego\\nStudent Researcher\\nOctober 2021\\xa0-\\xa0December 2022\\xa0 (1 year 3 months)\\nLa Jolla Shores, California, United States\\nResearched in the neuroscience Hnasko lab studying neurotransmitters\\nin the mesocorticolimbic pathway of the brain. Performed rodent handling,\\nperfusions, histology, immunohistochemistry, microscopy, data analysis, and\\npresentations.\\n\\xa0 Page 2 of 4' metadata={'page': 1.0, 'source': 'pdfs\\\\\\\\sarah_uran_resume.pdf'}\",\n",
              "  \"page_content='• Received Value Recognition Award in 2021 for ensuring a smooth migration\\nof our online applications to a new customer support portal\\n• Received Value Recognition Award in 2022 for modernizing an out of support\\ncomputation cluster and migrating it to the cloud\\nAmazon\\nSoftware Development Engineer\\nSeptember 2013\\xa0-\\xa0July 2015\\xa0 (1 year 11 months)\\nIrvine, CA\\nWork on developer services to support the Amazon Appstore.\\nPast projects:' metadata={'page': 1.0, 'source': 'pdfs\\\\\\\\matthew_borger_resume.pdf'}\",\n",
              "  \"page_content='the company to acquire new customers, enabled the sale of our product in\\nChina, creating several partnership deals worth $100m\\n• Worked closely with scientists to analyze their procedures and optimize their\\nexperimental scripting code in Perl to a unified platform suitable for outside\\ncustomer interaction\\n• Experience mentoring and managing direct reports to prioritize tickets and\\nmaintain company roadmap. Coached junior engineers with code reviews and' metadata={'page': 0.0, 'source': 'pdfs\\\\\\\\matthew_borger_resume.pdf'}\"]}"
            ]
          },
          "execution_count": 15,
          "metadata": {},
          "output_type": "execute_result"
        }
      ],
      "source": [
        "response = rag_bot.get_answer(\"What is sarah uran's experience\")\n",
        "response "
      ]
    },
    {
      "cell_type": "code",
      "execution_count": 23,
      "metadata": {},
      "outputs": [
        {
          "data": {
            "text/plain": [
              "{'answer': \"I don't know who has experience in Python based on the provided text.\",\n",
              " 'contexts': [\"page_content='the company to acquire new customers, enabled the sale of our product in\\nChina, creating several partnership deals worth $100m\\n• Worked closely with scientists to analyze their procedures and optimize their\\nexperimental scripting code in Perl to a unified platform suitable for outside\\ncustomer interaction\\n• Experience mentoring and managing direct reports to prioritize tickets and\\nmaintain company roadmap. Coached junior engineers with code reviews and' metadata={'page': 0.0, 'source': 'pdfs\\\\\\\\matthew_borger_resume.pdf'}\",\n",
              "  \"page_content='and India.\\n- Used Java, Spring, Hibernate, RPC, SOA, JSP, MVC\\nDeveloper Portal - Maintained the application ingestion workflow at\\ndeveloper.amazon.com/appsandservices. Team size of 20\\nincluding 2 QA engineers. Worked with remote teams in Seattle and India.\\n- Used Java, Spring, Hibernate, RPC, SOA, JSP, MVC\\nL-3 Communications\\nSoftware Engineer Intern\\nJune 2011\\xa0-\\xa0September 2012\\xa0 (1 year 4 months)\\nSan Diego, CA\\nDesigned and devloped frontend applications for interacting with Matlab/' metadata={'page': 1.0, 'source': 'pdfs\\\\\\\\matthew_borger_resume.pdf'}\"]}"
            ]
          },
          "execution_count": 23,
          "metadata": {},
          "output_type": "execute_result"
        }
      ],
      "source": [
        "# # Using hyperparameter k = 2, meaning max number of chunks to retrieve from the vector store. It does not find the answer, so you would have to use the hybrid keyword search + vector search on Pinecone\n",
        "# response = rag_bot.get_answer(\"Who has experience in Python?\")\n",
        "# response  # "
      ]
    },
    {
      "cell_type": "code",
      "execution_count": 19,
      "metadata": {},
      "outputs": [
        {
          "data": {
            "text/plain": [
              "{'answer': 'Walang impormasyon sa mga resume ni Matthew Borger at Andrew Buensalida na nagpapakitang may karanasan sila sa Python.',\n",
              " 'contexts': [\"page_content='the company to acquire new customers, enabled the sale of our product in\\nChina, creating several partnership deals worth $100m\\n• Worked closely with scientists to analyze their procedures and optimize their\\nexperimental scripting code in Perl to a unified platform suitable for outside\\ncustomer interaction\\n• Experience mentoring and managing direct reports to prioritize tickets and\\nmaintain company roadmap. Coached junior engineers with code reviews and' metadata={'page': 0.0, 'source': 'pdfs\\\\\\\\matthew_borger_resume.pdf'}\",\n",
              "  \"page_content='first Chinese customer through their regulatory approval of our software and\\ninstrumentation\\n\\xa0 Page 1 of 3' metadata={'page': 0.0, 'source': 'pdfs\\\\\\\\matthew_borger_resume.pdf'}\",\n",
              "  \"page_content='issues\\nquickly \\n●\\nStreamlined\\ndummy\\ndata\\ncreation\\nwith\\nOracle\\nSQL\\nscripts\\nand\\nDBeaver \\n●\\nAcquired\\ncertification\\nin\\ngovernment\\ncyber\\nsecurity\\nbest\\npractices\\nAutoscribe\\n–\\nSoftware\\nEngineer\\n.\\nSan\\nJose,\\nCA\\n4/20-6/22 \\n●\\nBuilt\\nand\\ndeployed\\nover\\n30+\\napps\\nwith\\na\\nvariety\\nof\\ntech\\nstacks \\n●\\nDecreased\\ndevelopment\\ntime\\nby\\n75%\\nby\\nmigrating\\nFirebase\\nfunctions\\nto\\na\\nNode/Express\\nserver \\n●\\nImplemented\\nconversation\\nworkflow\\nto\\nsave\\nmedical\\nand\\nemployee\\nactivities\\nto\\na\\nFirestore\\nnoSQL\\ndatabase \\n●\\nEnsured\\napp' metadata={'page': 1.0, 'source': 'pdfs\\\\\\\\Andrew_Buensalida_Resume.pdf'}\",\n",
              "  \"page_content='and India.\\n- Used Java, Spring, Hibernate, RPC, SOA, JSP, MVC\\nDeveloper Portal - Maintained the application ingestion workflow at\\ndeveloper.amazon.com/appsandservices. Team size of 20\\nincluding 2 QA engineers. Worked with remote teams in Seattle and India.\\n- Used Java, Spring, Hibernate, RPC, SOA, JSP, MVC\\nL-3 Communications\\nSoftware Engineer Intern\\nJune 2011\\xa0-\\xa0September 2012\\xa0 (1 year 4 months)\\nSan Diego, CA\\nDesigned and devloped frontend applications for interacting with Matlab/' metadata={'page': 1.0, 'source': 'pdfs\\\\\\\\matthew_borger_resume.pdf'}\",\n",
              "  \"page_content='Node,\\nDynamoDB,\\nSNS,\\nOracle\\nPL/SQL, \\nS3,\\nSASS,\\nBootstrap,\\nRedux,\\nServerless\\nFramework,\\nPDF-lib,\\nNode\\nmailer ,\\nJest,\\nSinon,\\nJenkins/Cloudbees, \\nGithub,\\nJira,\\nLucid\\nchart,\\nV isio,\\nElectronJs,\\nand\\nmore. \\n●\\nT aught\\njunior\\ndevelopers\\nbest\\npractices\\nsuch\\nas\\nDR Y ,\\nnaming\\nconventions,\\nDevOps\\nbranching\\nstrategies, \\ndebugging,\\ndocumentation,\\nsystem\\ndesign\\ndiagrams\\netc\\nto\\nachieve\\nthe\\nhighest\\ncoding\\nstandard' metadata={'page': 0.0, 'source': 'pdfs\\\\\\\\Andrew_Buensalida_Resume.pdf'}\",\n",
              "  \"page_content='olds to go into the zoo and public speak about sustainability, endangered\\nspecies, backyard habitats, and animal care.\\nSPAWAR\\nScientific Researcher \\nJuly 2017\\xa0-\\xa0January 2018\\xa0 (7 months)\\nPoint Loma, California\\nSPAWAR Navy Marine Ecology Consortium was the technical name to the\\ndepartment I was in. We researched an endangered bird that lives in San\\nDiego.\\nEducation\\nUC San Diego\\nBachelor of Science - BS,\\xa0Neurobiology and Neurosciences \\xa0·\\xa0(September\\n2021\\xa0-\\xa0June 2023)\\nGrossmont College\\n\\xa0 Page 3 of 4' metadata={'page': 2.0, 'source': 'pdfs\\\\\\\\sarah_uran_resume.pdf'}\",\n",
              "  \"page_content='React\\nT able,\\nReact\\nT esting\\nLibrary ,\\nReact,\\nRedis,\\nRedux,\\nResponsive,\\nScss,\\nSelenium,\\nSequelize,\\nServerless \\nFramework,\\nSinon,\\nSocket.io,\\nSpring\\nBoot,\\nSqlite,\\nSsl,\\nStripe,\\nSwagger ,\\nT ailwind,\\nT wilio,\\nT ypeorm,\\nT ypescript,\\nUser \\nAuthentication,\\nV isio,\\nV ue,\\nW eb\\nScraping,\\nW ebsockets,\\nW ordpress,\\nY up,\\nand\\nmore…\\nProfessional\\nExperience\\nPersonal\\nProjects\\n–\\nSoftware\\nEngineer .\\nSan\\nDiego,\\nCA\\n5/23-Present \\n●\\nT ook\\ninitiative\\nin\\nbuilding\\nand\\ndeploying\\nmultiple\\napps\\nwith\\na\\nvariety\\nof\\ntech' metadata={'page': 0.0, 'source': 'pdfs\\\\\\\\Andrew_Buensalida_Resume.pdf'}\",\n",
              "  \"page_content='+ and Hibernate. Strong engineering professional graduated from\\nUniversity of California, San Diego. \\nExperience\\nAgena Bioscience\\nSenior Software Engineer\\nJuly 2015\\xa0-\\xa0March 2024\\xa0 (8 years 9 months)\\nSan Diego, CA\\nDeveloped genomic analysis software and instrumentation controls conforming\\nto FDA In-vitro diagnostic, CE-IVD (European Union) and NMPA (China’s\\nFDA) guidelines.\\n• Designed and built new software stack to meet regulatory guidelines allowing' metadata={'page': 0.0, 'source': 'pdfs\\\\\\\\matthew_borger_resume.pdf'}\",\n",
              "  \"page_content='A n d r e w\\nB u e n s a l i d a\\nPortfolio:\\nwww .anhonestobserver .com\\n●\\n661-964-9268\\n●\\nSan\\nDiego,\\nCA \\nandrewcbuensalida@gmail.com\\n●\\nlinkedin.com/in/andrewcbuensalida\\n●\\ngithub.com/andrewcbuensalida\\nSummary\\nFormer\\nDepartment\\nof\\nHomeland\\nSecurity\\nLead,\\nCurrent\\nHigh-producing,\\nCertified\\nFull-Stack\\nDevOps,\\nReact, \\nNodeJs,\\nA WS\\nSolutions\\nArchitect,\\nand\\nDatabase\\nSoftware\\nEngineer\\nwith\\nover\\n100+\\nproduction\\ngrade\\napps\\nand\\nover \\n4\\nyears\\nof\\nexperience\\nT echnical\\nSkills\\nAmazon\\nW eb\\nServices,\\nAndroid,\\nApache' metadata={'page': 0.0, 'source': 'pdfs\\\\\\\\Andrew_Buensalida_Resume.pdf'}\",\n",
              "  \"page_content='Colleges\\nSan\\nDiego,\\nCA\\n6/17-4/19 \\n●\\n4.0/4.0\\nscience\\nGP A \\n●\\nDean’ s\\nList \\nUniversity\\nof\\nCalifornia,\\nSanta\\nBarbara\\nSanta\\nBarbara,\\nCA\\n9/07-1/09 \\nDe\\nLaSalle\\nUniversity ,\\nComputer\\nScience\\nManila,\\nPH\\n6/04-1/05' metadata={'page': 1.0, 'source': 'pdfs\\\\\\\\Andrew_Buensalida_Resume.pdf'}\"]}"
            ]
          },
          "execution_count": 19,
          "metadata": {},
          "output_type": "execute_result"
        }
      ],
      "source": [
        "# With k = 10, it finds the answer. Interesting that most of the chunks don't even contain the word \"Python\". Keyword search should be used in conjunction with vector search for this use case since it is more precise.\n",
        "response = rag_bot.get_answer(\"sino may experience sa python?\")\n",
        "response"
      ]
    },
    {
      "cell_type": "code",
      "execution_count": 103,
      "metadata": {
        "colab": {
          "base_uri": "https://localhost:8080/",
          "height": 283
        },
        "id": "mdnCaS9o-swH",
        "outputId": "c4d2230c-f6a6-4c14-b85d-3e3e622a8663"
      },
      "outputs": [
        {
          "name": "stdout",
          "output_type": "stream",
          "text": [
            "Answer: {'answer': \"Both Matthew Borger and Andrew Buensalida have experience as software engineers. Matthew Borger's resume shows a history of roles, including Senior Software Engineer at Agena Bioscience and Software Development Engineer at Amazon. Andrew Buensalida's resume lists experience as a Software Engineer, including working on projects with a variety of tech stacks.\", 'contexts': [\"page_content='and India.\\\\n- Used Java, Spring, Hibernate, RPC, SOA, JSP, MVC\\\\nDeveloper Portal - Maintained the application ingestion workflow at\\\\ndeveloper.amazon.com/appsandservices. Team size of 20\\\\nincluding 2 QA engineers. Worked with remote teams in Seattle and India.\\\\n- Used Java, Spring, Hibernate, RPC, SOA, JSP, MVC\\\\nL-3 Communications\\\\nSoftware Engineer Intern\\\\nJune 2011\\\\xa0-\\\\xa0September 2012\\\\xa0 (1 year 4 months)\\\\nSan Diego, CA\\\\nDesigned and devloped frontend applications for interacting with Matlab/' metadata={'page': 1.0, 'source': 'pdfs\\\\\\\\matthew_borger_resume.pdf'}\", \"page_content='• Received Value Recognition Award in 2021 for ensuring a smooth migration\\\\nof our online applications to a new customer support portal\\\\n• Received Value Recognition Award in 2022 for modernizing an out of support\\\\ncomputation cluster and migrating it to the cloud\\\\nAmazon\\\\nSoftware Development Engineer\\\\nSeptember 2013\\\\xa0-\\\\xa0July 2015\\\\xa0 (1 year 11 months)\\\\nIrvine, CA\\\\nWork on developer services to support the Amazon Appstore.\\\\nPast projects:' metadata={'page': 1.0, 'source': 'pdfs\\\\\\\\matthew_borger_resume.pdf'}\", \"page_content='Node,\\\\nDynamoDB,\\\\nSNS,\\\\nOracle\\\\nPL/SQL, \\\\nS3,\\\\nSASS,\\\\nBootstrap,\\\\nRedux,\\\\nServerless\\\\nFramework,\\\\nPDF-lib,\\\\nNode\\\\nmailer ,\\\\nJest,\\\\nSinon,\\\\nJenkins/Cloudbees, \\\\nGithub,\\\\nJira,\\\\nLucid\\\\nchart,\\\\nV isio,\\\\nElectronJs,\\\\nand\\\\nmore. \\\\n●\\\\nT aught\\\\njunior\\\\ndevelopers\\\\nbest\\\\npractices\\\\nsuch\\\\nas\\\\nDR Y ,\\\\nnaming\\\\nconventions,\\\\nDevOps\\\\nbranching\\\\nstrategies, \\\\ndebugging,\\\\ndocumentation,\\\\nsystem\\\\ndesign\\\\ndiagrams\\\\netc\\\\nto\\\\nachieve\\\\nthe\\\\nhighest\\\\ncoding\\\\nstandard' metadata={'page': 0.0, 'source': 'pdfs\\\\\\\\Andrew_Buensalida_Resume.pdf'}\", \"page_content='regular training which increased development velocity\\\\n• Coordinated work with remote team in Romania and local contractors to keep\\\\nproject deliverables and utilize specialist resources not available within the\\\\ncompany\\\\n• Used Java, Spring Boot, Hibernate, React, Azure, C++\\\\n• Promoted from Engineer II to III in 2017\\\\n• Promoted from Engineer III to Senior in 2019\\\\n• Received Value Recognition Award in 2020 for delivering and supporting our' metadata={'page': 0.0, 'source': 'pdfs\\\\\\\\matthew_borger_resume.pdf'}\", \"page_content='issues\\\\nquickly \\\\n●\\\\nStreamlined\\\\ndummy\\\\ndata\\\\ncreation\\\\nwith\\\\nOracle\\\\nSQL\\\\nscripts\\\\nand\\\\nDBeaver \\\\n●\\\\nAcquired\\\\ncertification\\\\nin\\\\ngovernment\\\\ncyber\\\\nsecurity\\\\nbest\\\\npractices\\\\nAutoscribe\\\\n–\\\\nSoftware\\\\nEngineer\\\\n.\\\\nSan\\\\nJose,\\\\nCA\\\\n4/20-6/22 \\\\n●\\\\nBuilt\\\\nand\\\\ndeployed\\\\nover\\\\n30+\\\\napps\\\\nwith\\\\na\\\\nvariety\\\\nof\\\\ntech\\\\nstacks \\\\n●\\\\nDecreased\\\\ndevelopment\\\\ntime\\\\nby\\\\n75%\\\\nby\\\\nmigrating\\\\nFirebase\\\\nfunctions\\\\nto\\\\na\\\\nNode/Express\\\\nserver \\\\n●\\\\nImplemented\\\\nconversation\\\\nworkflow\\\\nto\\\\nsave\\\\nmedical\\\\nand\\\\nemployee\\\\nactivities\\\\nto\\\\na\\\\nFirestore\\\\nnoSQL\\\\ndatabase \\\\n●\\\\nEnsured\\\\napp' metadata={'page': 1.0, 'source': 'pdfs\\\\\\\\Andrew_Buensalida_Resume.pdf'}\", \"page_content='+ and Hibernate. Strong engineering professional graduated from\\\\nUniversity of California, San Diego. \\\\nExperience\\\\nAgena Bioscience\\\\nSenior Software Engineer\\\\nJuly 2015\\\\xa0-\\\\xa0March 2024\\\\xa0 (8 years 9 months)\\\\nSan Diego, CA\\\\nDeveloped genomic analysis software and instrumentation controls conforming\\\\nto FDA In-vitro diagnostic, CE-IVD (European Union) and NMPA (China’s\\\\nFDA) guidelines.\\\\n• Designed and built new software stack to meet regulatory guidelines allowing' metadata={'page': 0.0, 'source': 'pdfs\\\\\\\\matthew_borger_resume.pdf'}\", \"page_content='UC San Diego\\\\nCSE Tutor\\\\nSeptember 2010\\\\xa0-\\\\xa0March 2011\\\\xa0 (7 months)\\\\nSan Diego, CA\\\\nAssisted in teaching lab sections, led group discussions during lecture and\\\\nhosted open lab hours for students to come for assistance.\\\\nEducation\\\\nUniversity of California, San Diego\\\\nComputer Engineering\\\\xa0 \\\\xa0·\\\\xa0(2009\\\\xa0-\\\\xa02013)\\\\n\\\\xa0 Page 3 of 3' metadata={'page': 2.0, 'source': 'pdfs\\\\\\\\matthew_borger_resume.pdf'}\", \"page_content='Past projects:\\\\nMobile Analytics - Built a REST api for managing your AWS Mobile Analytics\\\\naccount. Team size of 16 including one test engineer.\\\\n- Used Java, Spring, Hibernate, REST, RPC, SOA\\\\nLive App Testing - Built a system to publish Android applications through\\\\nAmazon’s production system while restricting access to\\\\nonly the people the developer had invited to test. Team size of 6 including one\\\\nQA engineer. Worked with remote teams in Seattle\\\\nand India.' metadata={'page': 1.0, 'source': 'pdfs\\\\\\\\matthew_borger_resume.pdf'}\", \"page_content='Google\\\\nAds,\\\\nGoogle\\\\nAssistant,\\\\nGoogle\\\\nCloud\\\\nPlatform,\\\\nGraphql,\\\\nHandlebars,\\\\nHeroku,\\\\nHostgator ,\\\\nHtml/css, \\\\nJava,\\\\nJavascript,\\\\nJenkins,\\\\nJest,\\\\nJquery ,\\\\nJwt,\\\\nKubernetes,\\\\nLinux,\\\\nLucid\\\\nChart,\\\\nLucidchart,\\\\nMaterial\\\\nUi,\\\\nMaven,\\\\nMinio, \\\\nMongodb,\\\\nMongoose,\\\\nMs\\\\nSql\\\\nServer ,\\\\nMvc,\\\\nMysql,\\\\nNeo4j,\\\\nNestJs,\\\\nNginx,\\\\nNgrok,\\\\nNodejs,\\\\nNodemailer ,\\\\nOracle\\\\nDb,\\\\nPdf-lib, \\\\nPhp,\\\\nPostgres,\\\\nPuppeteer ,\\\\nPython,\\\\nRabbitmq,\\\\nReact\\\\nFinancial\\\\nCharts,\\\\nReact\\\\nHook\\\\nForm,\\\\nReact\\\\nNative,\\\\nReact\\\\nNavigation, \\\\nReact\\\\nRouter ,\\\\nReact\\\\nT able,\\\\nReact' metadata={'page': 0.0, 'source': 'pdfs\\\\\\\\Andrew_Buensalida_Resume.pdf'}\", \"page_content='Simulink simulations of various injuries. The product team was 12 Medical/\\\\nEngineering PhDs with 2 software developers.\\\\nProjects included:\\\\n\\\\xa0 Page 2 of 3' metadata={'page': 1.0, 'source': 'pdfs\\\\\\\\matthew_borger_resume.pdf'}\"]}\n",
            "Answer: {'answer': 'Based on the provided resumes, none of the excerpts specifically mention experience in Python.', 'contexts': [\"page_content='the company to acquire new customers, enabled the sale of our product in\\\\nChina, creating several partnership deals worth $100m\\\\n• Worked closely with scientists to analyze their procedures and optimize their\\\\nexperimental scripting code in Perl to a unified platform suitable for outside\\\\ncustomer interaction\\\\n• Experience mentoring and managing direct reports to prioritize tickets and\\\\nmaintain company roadmap. Coached junior engineers with code reviews and' metadata={'page': 0.0, 'source': 'pdfs\\\\\\\\matthew_borger_resume.pdf'}\", \"page_content='and India.\\\\n- Used Java, Spring, Hibernate, RPC, SOA, JSP, MVC\\\\nDeveloper Portal - Maintained the application ingestion workflow at\\\\ndeveloper.amazon.com/appsandservices. Team size of 20\\\\nincluding 2 QA engineers. Worked with remote teams in Seattle and India.\\\\n- Used Java, Spring, Hibernate, RPC, SOA, JSP, MVC\\\\nL-3 Communications\\\\nSoftware Engineer Intern\\\\nJune 2011\\\\xa0-\\\\xa0September 2012\\\\xa0 (1 year 4 months)\\\\nSan Diego, CA\\\\nDesigned and devloped frontend applications for interacting with Matlab/' metadata={'page': 1.0, 'source': 'pdfs\\\\\\\\matthew_borger_resume.pdf'}\", \"page_content='issues\\\\nquickly \\\\n●\\\\nStreamlined\\\\ndummy\\\\ndata\\\\ncreation\\\\nwith\\\\nOracle\\\\nSQL\\\\nscripts\\\\nand\\\\nDBeaver \\\\n●\\\\nAcquired\\\\ncertification\\\\nin\\\\ngovernment\\\\ncyber\\\\nsecurity\\\\nbest\\\\npractices\\\\nAutoscribe\\\\n–\\\\nSoftware\\\\nEngineer\\\\n.\\\\nSan\\\\nJose,\\\\nCA\\\\n4/20-6/22 \\\\n●\\\\nBuilt\\\\nand\\\\ndeployed\\\\nover\\\\n30+\\\\napps\\\\nwith\\\\na\\\\nvariety\\\\nof\\\\ntech\\\\nstacks \\\\n●\\\\nDecreased\\\\ndevelopment\\\\ntime\\\\nby\\\\n75%\\\\nby\\\\nmigrating\\\\nFirebase\\\\nfunctions\\\\nto\\\\na\\\\nNode/Express\\\\nserver \\\\n●\\\\nImplemented\\\\nconversation\\\\nworkflow\\\\nto\\\\nsave\\\\nmedical\\\\nand\\\\nemployee\\\\nactivities\\\\nto\\\\na\\\\nFirestore\\\\nnoSQL\\\\ndatabase \\\\n●\\\\nEnsured\\\\napp' metadata={'page': 1.0, 'source': 'pdfs\\\\\\\\Andrew_Buensalida_Resume.pdf'}\", \"page_content='+ and Hibernate. Strong engineering professional graduated from\\\\nUniversity of California, San Diego. \\\\nExperience\\\\nAgena Bioscience\\\\nSenior Software Engineer\\\\nJuly 2015\\\\xa0-\\\\xa0March 2024\\\\xa0 (8 years 9 months)\\\\nSan Diego, CA\\\\nDeveloped genomic analysis software and instrumentation controls conforming\\\\nto FDA In-vitro diagnostic, CE-IVD (European Union) and NMPA (China’s\\\\nFDA) guidelines.\\\\n• Designed and built new software stack to meet regulatory guidelines allowing' metadata={'page': 0.0, 'source': 'pdfs\\\\\\\\matthew_borger_resume.pdf'}\", \"page_content='React\\\\nT able,\\\\nReact\\\\nT esting\\\\nLibrary ,\\\\nReact,\\\\nRedis,\\\\nRedux,\\\\nResponsive,\\\\nScss,\\\\nSelenium,\\\\nSequelize,\\\\nServerless \\\\nFramework,\\\\nSinon,\\\\nSocket.io,\\\\nSpring\\\\nBoot,\\\\nSqlite,\\\\nSsl,\\\\nStripe,\\\\nSwagger ,\\\\nT ailwind,\\\\nT wilio,\\\\nT ypeorm,\\\\nT ypescript,\\\\nUser \\\\nAuthentication,\\\\nV isio,\\\\nV ue,\\\\nW eb\\\\nScraping,\\\\nW ebsockets,\\\\nW ordpress,\\\\nY up,\\\\nand\\\\nmore…\\\\nProfessional\\\\nExperience\\\\nPersonal\\\\nProjects\\\\n–\\\\nSoftware\\\\nEngineer .\\\\nSan\\\\nDiego,\\\\nCA\\\\n5/23-Present \\\\n●\\\\nT ook\\\\ninitiative\\\\nin\\\\nbuilding\\\\nand\\\\ndeploying\\\\nmultiple\\\\napps\\\\nwith\\\\na\\\\nvariety\\\\nof\\\\ntech' metadata={'page': 0.0, 'source': 'pdfs\\\\\\\\Andrew_Buensalida_Resume.pdf'}\", \"page_content='Node,\\\\nDynamoDB,\\\\nSNS,\\\\nOracle\\\\nPL/SQL, \\\\nS3,\\\\nSASS,\\\\nBootstrap,\\\\nRedux,\\\\nServerless\\\\nFramework,\\\\nPDF-lib,\\\\nNode\\\\nmailer ,\\\\nJest,\\\\nSinon,\\\\nJenkins/Cloudbees, \\\\nGithub,\\\\nJira,\\\\nLucid\\\\nchart,\\\\nV isio,\\\\nElectronJs,\\\\nand\\\\nmore. \\\\n●\\\\nT aught\\\\njunior\\\\ndevelopers\\\\nbest\\\\npractices\\\\nsuch\\\\nas\\\\nDR Y ,\\\\nnaming\\\\nconventions,\\\\nDevOps\\\\nbranching\\\\nstrategies, \\\\ndebugging,\\\\ndocumentation,\\\\nsystem\\\\ndesign\\\\ndiagrams\\\\netc\\\\nto\\\\nachieve\\\\nthe\\\\nhighest\\\\ncoding\\\\nstandard' metadata={'page': 0.0, 'source': 'pdfs\\\\\\\\Andrew_Buensalida_Resume.pdf'}\", \"page_content='Experience\\\\nLibyl Inc.\\\\nDirector of Business Development\\\\nDecember 2023\\\\xa0-\\\\xa0Present\\\\xa0 (7 months)\\\\nI spearhead business expansion initiatives while also managing and\\\\nmentoring college interns, fostering a collaborative and growth-oriented work\\\\nenvironment. My multifaceted role encompasses responsibilities from targeting\\\\npotential clients to ensuring revenue targets are met. With a focused approach\\\\non the pharmaceutical, biotech, and medical device sectors, I actively foster' metadata={'page': 1.0, 'source': 'pdfs\\\\\\\\sarah_uran_resume.pdf'}\", \"page_content='Past projects:\\\\nMobile Analytics - Built a REST api for managing your AWS Mobile Analytics\\\\naccount. Team size of 16 including one test engineer.\\\\n- Used Java, Spring, Hibernate, REST, RPC, SOA\\\\nLive App Testing - Built a system to publish Android applications through\\\\nAmazon’s production system while restricting access to\\\\nonly the people the developer had invited to test. Team size of 6 including one\\\\nQA engineer. Worked with remote teams in Seattle\\\\nand India.' metadata={'page': 1.0, 'source': 'pdfs\\\\\\\\matthew_borger_resume.pdf'}\", \"page_content='A n d r e w\\\\nB u e n s a l i d a\\\\nPortfolio:\\\\nwww .anhonestobserver .com\\\\n●\\\\n661-964-9268\\\\n●\\\\nSan\\\\nDiego,\\\\nCA \\\\nandrewcbuensalida@gmail.com\\\\n●\\\\nlinkedin.com/in/andrewcbuensalida\\\\n●\\\\ngithub.com/andrewcbuensalida\\\\nSummary\\\\nFormer\\\\nDepartment\\\\nof\\\\nHomeland\\\\nSecurity\\\\nLead,\\\\nCurrent\\\\nHigh-producing,\\\\nCertified\\\\nFull-Stack\\\\nDevOps,\\\\nReact, \\\\nNodeJs,\\\\nA WS\\\\nSolutions\\\\nArchitect,\\\\nand\\\\nDatabase\\\\nSoftware\\\\nEngineer\\\\nwith\\\\nover\\\\n100+\\\\nproduction\\\\ngrade\\\\napps\\\\nand\\\\nover \\\\n4\\\\nyears\\\\nof\\\\nexperience\\\\nT echnical\\\\nSkills\\\\nAmazon\\\\nW eb\\\\nServices,\\\\nAndroid,\\\\nApache' metadata={'page': 0.0, 'source': 'pdfs\\\\\\\\Andrew_Buensalida_Resume.pdf'}\", \"page_content='Stripe,\\\\nand\\\\nmore.\\\\nV arious\\\\nstart-ups\\\\n–\\\\nFounder\\\\n.\\\\nInternational\\\\n1/09-6/17 \\\\n●\\\\nV entured\\\\ninto\\\\nmultiple\\\\nbusinesses\\\\nsuch\\\\nas\\\\nEscape\\\\nRooms,\\\\nRestaurants,\\\\nOnline\\\\nsales,\\\\nT ennis,\\\\nMusic\\\\nProduction\\\\nEducation\\\\nMIT\\\\n(Massachusetts\\\\nInstitute\\\\nof\\\\nT echnology)\\\\nData\\\\nEngineering,\\\\nBoston,\\\\nMA\\\\n03/2024 \\\\nA WS\\\\nSolutions\\\\nArchitect\\\\nAssociate\\\\nhttps://www .credly .com/badges/ca03d53d-ebf3-4b3c-8d46-9aafbca87f5a/public_url \\\\nFront-end\\\\nDevelopment\\\\nCertificate\\\\nW3\\\\nSchools\\\\nhttps://verify .w3schools.com/1OC1C530WR \\\\nReact\\\\nCertificate' metadata={'page': 1.0, 'source': 'pdfs\\\\\\\\Andrew_Buensalida_Resume.pdf'}\"]}\n",
            "Exiting\n"
          ]
        },
        {
          "ename": "NameError",
          "evalue": "name 'sys' is not defined",
          "output_type": "error",
          "traceback": [
            "\u001b[1;31m---------------------------------------------------------------------------\u001b[0m",
            "\u001b[1;31mNameError\u001b[0m                                 Traceback (most recent call last)",
            "Cell \u001b[1;32mIn[103], line 6\u001b[0m\n\u001b[0;32m      4\u001b[0m \u001b[38;5;28;01mif\u001b[39;00m user_input \u001b[38;5;241m==\u001b[39m \u001b[38;5;124m'\u001b[39m\u001b[38;5;124mexit\u001b[39m\u001b[38;5;124m'\u001b[39m:\n\u001b[0;32m      5\u001b[0m   \u001b[38;5;28mprint\u001b[39m(\u001b[38;5;124m'\u001b[39m\u001b[38;5;124mExiting\u001b[39m\u001b[38;5;124m'\u001b[39m)\n\u001b[1;32m----> 6\u001b[0m   \u001b[43msys\u001b[49m\u001b[38;5;241m.\u001b[39mexit()\n\u001b[0;32m      7\u001b[0m \u001b[38;5;28;01mif\u001b[39;00m user_input \u001b[38;5;241m==\u001b[39m \u001b[38;5;124m'\u001b[39m\u001b[38;5;124m'\u001b[39m:\n\u001b[0;32m      8\u001b[0m   \u001b[38;5;28;01mcontinue\u001b[39;00m\n",
            "\u001b[1;31mNameError\u001b[0m: name 'sys' is not defined"
          ]
        }
      ],
      "source": [
        "# This is just to make it a cli app.\n",
        "import sys\n",
        "\n",
        "while True:\n",
        "  user_input = input(f\"Input Prompt: \")\n",
        "  if user_input == 'exit':\n",
        "    print('Exiting')\n",
        "    sys.exit()\n",
        "  if user_input == '':\n",
        "    continue\n",
        "  result = rag_bot.get_answer(user_input)\n",
        "  print(f\"Answer: {result}\")"
      ]
    },
    {
      "cell_type": "markdown",
      "metadata": {},
      "source": [
        "# Evaluate \n",
        "There are at least 4 types of RAG eval that users are typically interested in.\n",
        "\n",
        "1. Response vs reference answer\n",
        "2. Response vs input\n",
        "3. Response vs retrieved docs\n",
        "4. Retrieved docs vs input\n"
      ]
    },
    {
      "cell_type": "markdown",
      "metadata": {},
      "source": [
        "## Response vs reference answer\n",
        "- Goal: Measure \"how similar/correct is the RAG chain answer, relative to a ground-truth answer\"\n",
        "- Mode: Uses ground truth (reference) answer supplied through a dataset\n",
        "- Judge: Use LLM-as-judge to assess answer correctness."
      ]
    },
    {
      "cell_type": "code",
      "execution_count": 18,
      "metadata": {},
      "outputs": [],
      "source": [
        "def predict_rag_answer(example: dict):\n",
        "    \"\"\"Use this for answer evaluation\"\"\"\n",
        "    response = rag_bot.get_answer(example[\"input_question\"])\n",
        "    return {\"answer\": response[\"answer\"]}\n",
        "\n",
        "\n",
        "def predict_rag_answer_with_context(example: dict):\n",
        "    \"\"\"Use this for evaluation of retrieved documents and hallucinations\"\"\"\n",
        "    response = rag_bot.get_answer(example[\"input_question\"])\n",
        "    return {\"answer\": response[\"answer\"], \"contexts\": response[\"contexts\"]}"
      ]
    },
    {
      "cell_type": "code",
      "execution_count": 19,
      "metadata": {},
      "outputs": [],
      "source": [
        "from langchain import hub\n",
        "from langchain_openai import ChatOpenAI\n",
        "\n",
        "# Grade prompt\n",
        "grade_prompt_answer_accuracy = prompt = hub.pull(\"langchain-ai/rag-answer-vs-reference\")\n",
        "\n",
        "def answer_evaluator(run, example) -> dict:\n",
        "    \"\"\"\n",
        "    A simple evaluator for RAG answer accuracy\n",
        "    \"\"\"\n",
        "\n",
        "    # Get question, ground truth answer, RAG chain answer\n",
        "    input_question = example.inputs[\"input_question\"]\n",
        "    reference = example.outputs[\"output_answer\"]\n",
        "    prediction = run.outputs[\"answer\"]\n",
        "\n",
        "    # LLM grader. Should use a different llm for grading\n",
        "    llm = ChatOpenAI(model=\"gpt-4-turbo\", temperature=0)\n",
        "\n",
        "    # Structured prompt\n",
        "    answer_grader = grade_prompt_answer_accuracy | llm\n",
        "\n",
        "    # Run evaluator\n",
        "    score = answer_grader.invoke(\n",
        "        {\n",
        "            \"question\": input_question,\n",
        "            \"correct_answer\": reference, # reference answer we manually give it\n",
        "            \"student_answer\": prediction,\n",
        "        }\n",
        "    )\n",
        "    score = score[\"Score\"]\n",
        "\n",
        "    return {\"key\": \"answer_v_reference_score\", \"score\": score}"
      ]
    },
    {
      "cell_type": "code",
      "execution_count": 20,
      "metadata": {},
      "outputs": [
        {
          "name": "stdout",
          "output_type": "stream",
          "text": [
            "View the evaluation results for experiment: 'rag-answer-v-reference-a68c2076' at:\n",
            "https://smith.langchain.com/o/5341ccb2-58d1-5290-8bf4-a5471787b8e5/datasets/9fd354aa-ba8c-4650-a5a3-52b835ab0f50/compare?selectedSessions=67ddeb8f-903d-4d1a-ab73-4742c7c2610d\n",
            "\n",
            "\n"
          ]
        },
        {
          "name": "stderr",
          "output_type": "stream",
          "text": [
            "3it [00:11,  3.86s/it]\n"
          ]
        },
        {
          "data": {
            "text/plain": [
              "<ExperimentResults rag-answer-v-reference-a68c2076>"
            ]
          },
          "execution_count": 20,
          "metadata": {},
          "output_type": "execute_result"
        }
      ],
      "source": [
        "from langsmith.evaluation import evaluate\n",
        "\n",
        "### Dataset name\n",
        "dataset_name = \"resume-dataset\"  # I created this dataset with examples in https://smith.langchain.com\n",
        "\n",
        "# running this will run a new experiment in langsmith ui\n",
        "experiment_results = evaluate(\n",
        "    predict_rag_answer_with_context,\n",
        "    data=dataset_name,\n",
        "    evaluators=[answer_evaluator],\n",
        "    experiment_prefix=\"rag-answer-v-reference\",\n",
        "    metadata={\"version\": \"resume context, gpt-4-0125-preview\"},\n",
        ")\n",
        "experiment_results"
      ]
    },
    {
      "cell_type": "code",
      "execution_count": null,
      "metadata": {},
      "outputs": [],
      "source": [
        "# Instead of creating a dataset in the ui, you can create it in code\n",
        "from langsmith import Client\n",
        "\n",
        "client = Client()\n",
        "\n",
        "# Define dataset: these are your test cases\n",
        "dataset_name = \"example-dataset\"\n",
        "dataset = client.create_dataset(dataset_name)\n",
        "client.create_examples(\n",
        "    inputs=[\n",
        "        {\"input_question\": \"What is LangChain?\"},\n",
        "        {\"input_question\": \"What is LangSmith?\"},\n",
        "        {\"input_question\": \"What is OpenAI?\"},\n",
        "        {\"input_question\": \"What is Google?\"},\n",
        "        {\"input_question\": \"What is Mistral?\"},\n",
        "    ],\n",
        "    outputs=[\n",
        "        {\"output_answer\": \"A framework for building LLM applications\"},\n",
        "        {\"output_answer\": \"A platform for observing and evaluating LLM applications\"},\n",
        "        {\"output_answer\": \"A company that creates Large Language Models\"},\n",
        "        {\"output_answer\": \"A technology company known for search\"},\n",
        "        {\"output_answer\": \"A company that creates Large Language Models\"},\n",
        "    ],\n",
        "    dataset_id=dataset.id,\n",
        ")"
      ]
    }
  ],
  "metadata": {
    "colab": {
      "provenance": []
    },
    "kernelspec": {
      "display_name": ".venv",
      "language": "python",
      "name": "python3"
    },
    "language_info": {
      "codemirror_mode": {
        "name": "ipython",
        "version": 3
      },
      "file_extension": ".py",
      "mimetype": "text/x-python",
      "name": "python",
      "nbconvert_exporter": "python",
      "pygments_lexer": "ipython3",
      "version": "3.12.4"
    }
  },
  "nbformat": 4,
  "nbformat_minor": 0
}
